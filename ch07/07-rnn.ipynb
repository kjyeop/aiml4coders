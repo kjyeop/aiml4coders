{
  "cells": [
    {
      "cell_type": "markdown",
      "metadata": {
        "id": "e9w8FGeOkvTX"
      },
      "source": [
        "# 7장. 자연어 처리를 위한 순환 신경망"
      ]
    },
    {
      "cell_type": "markdown",
      "metadata": {
        "id": "Y6qI5csekvTa"
      },
      "source": [
        "<table class=\"tfo-notebook-buttons\" align=\"left\">\n",
        "  <td>\n",
        "    <a target=\"_blank\" href=\"https://nbviewer.jupyter.org/github/rickiepark/aiml4coders/blob/main/ch07/07-rnn.ipynb\"><img src=\"https://jupyter.org/assets/share.png\" width=\"61\" />주피터 노트북 뷰어로 보기</a>\n",
        "  </td>\n",
        "  <td>\n",
        "    <a target=\"_blank\" href=\"https://colab.research.google.com/github/rickiepark/aiml4coders/blob/main/ch07/07-rnn.ipynb\"><img src=\"https://www.tensorflow.org/images/colab_logo_32px.png\" />구글 코랩(Colab)에서 실행하기</a>\n",
        "  </td>\n",
        "</table>"
      ]
    },
    {
      "cell_type": "code",
      "execution_count": 1,
      "metadata": {
        "id": "qN-MyJ5hkvTb"
      },
      "outputs": [],
      "source": [
        "# 노트북이 코랩에서 실행 중인지 체크합니다.\n",
        "import sys\n",
        "if 'google.colab' in sys.modules:\n",
        "    !wget -q https://github.com/rickiepark/aiml4coders/raw/main/ch05/sarcasm.json\n",
        "    !mkdir ../ch05\n",
        "    !mv sarcasm.json ../ch05"
      ]
    },
    {
      "cell_type": "markdown",
      "metadata": {
        "id": "nPz0mCbgkvTc"
      },
      "source": [
        "## RNN으로 텍스트 분류기 만들기"
      ]
    },
    {
      "cell_type": "code",
      "execution_count": 2,
      "metadata": {
        "id": "-yID99gEkvTc"
      },
      "outputs": [],
      "source": [
        "import json\n",
        "from tensorflow.keras.preprocessing.text import Tokenizer\n",
        "from tensorflow.keras.preprocessing.sequence import pad_sequences\n",
        "from bs4 import BeautifulSoup\n",
        "import string\n",
        "import tensorflow as tf"
      ]
    },
    {
      "cell_type": "code",
      "execution_count": 3,
      "metadata": {
        "id": "1-wOMl6TkvTc"
      },
      "outputs": [],
      "source": [
        "stopwords = [\"a\", \"about\", \"above\", \"after\", \"again\", \"against\", \"all\", \"am\", \"an\", \"and\", \"any\", \"are\", \"as\", \"at\",\n",
        "             \"be\", \"because\", \"been\", \"before\", \"being\", \"below\", \"between\", \"both\", \"but\", \"by\", \"could\", \"did\", \"do\",\n",
        "             \"does\", \"doing\", \"down\", \"during\", \"each\", \"few\", \"for\", \"from\", \"further\", \"had\", \"has\", \"have\", \"having\",\n",
        "             \"he\", \"hed\", \"hes\", \"her\", \"here\", \"heres\", \"hers\", \"herself\", \"him\", \"himself\", \"his\", \"how\",\n",
        "             \"hows\", \"i\", \"id\", \"ill\", \"im\", \"ive\", \"if\", \"in\", \"into\", \"is\", \"it\", \"its\", \"itself\",\n",
        "             \"lets\", \"me\", \"more\", \"most\", \"my\", \"myself\", \"nor\", \"of\", \"on\", \"once\", \"only\", \"or\", \"other\", \"ought\",\n",
        "             \"our\", \"ours\", \"ourselves\", \"out\", \"over\", \"own\", \"same\", \"she\", \"shed\", \"shell\", \"shes\", \"should\",\n",
        "             \"so\", \"some\", \"such\", \"than\", \"that\", \"thats\", \"the\", \"their\", \"theirs\", \"them\", \"themselves\", \"then\",\n",
        "             \"there\", \"theres\", \"these\", \"they\", \"theyd\", \"theyll\", \"theyre\", \"theyve\", \"this\", \"those\", \"through\",\n",
        "             \"to\", \"too\", \"under\", \"until\", \"up\", \"very\", \"was\", \"we\", \"wed\", \"well\", \"were\", \"weve\", \"were\",\n",
        "             \"what\", \"whats\", \"when\", \"whens\", \"where\", \"wheres\", \"which\", \"while\", \"who\", \"whos\", \"whom\", \"why\",\n",
        "             \"whys\", \"with\", \"would\", \"you\", \"youd\", \"youll\", \"youre\", \"youve\", \"your\", \"yours\", \"yourself\",\n",
        "             \"yourselves\"]\n",
        "\n",
        "table = str.maketrans('', '', string.punctuation)"
      ]
    },
    {
      "cell_type": "code",
      "execution_count": 4,
      "metadata": {
        "id": "nR8C9dY_kvTd"
      },
      "outputs": [],
      "source": [
        "with open(\"../ch05/sarcasm.json\", 'r') as f:\n",
        "    datastore = json.load(f)\n",
        "\n",
        "sentences = [] \n",
        "labels = []\n",
        "urls = []\n",
        "for item in datastore:\n",
        "    sentence = item['headline'].lower()\n",
        "    sentence = sentence.replace(\",\", \" , \")\n",
        "    sentence = sentence.replace(\".\", \" . \")\n",
        "    sentence = sentence.replace(\"-\", \" - \")\n",
        "    sentence = sentence.replace(\"/\", \" / \")\n",
        "    soup = BeautifulSoup(sentence)\n",
        "    sentence = soup.get_text()\n",
        "    words = sentence.split()\n",
        "    filtered_sentence = \"\"\n",
        "    for word in words:\n",
        "        word = word.translate(table)\n",
        "        if word not in stopwords:\n",
        "            filtered_sentence = filtered_sentence + word + \" \"\n",
        "    sentences.append(filtered_sentence)\n",
        "    labels.append(item['is_sarcastic'])\n",
        "    urls.append(item['article_link'])"
      ]
    },
    {
      "cell_type": "code",
      "execution_count": 5,
      "metadata": {
        "id": "WkotjgtskvTd"
      },
      "outputs": [],
      "source": [
        "vocab_size = 20000\n",
        "embedding_dim = 64\n",
        "max_length = 100\n",
        "trunc_type='post'\n",
        "padding_type='post'\n",
        "oov_tok = \"<OOV>\"\n",
        "training_size = 23000"
      ]
    },
    {
      "cell_type": "code",
      "execution_count": 6,
      "metadata": {
        "id": "GASt0tGYkvTe"
      },
      "outputs": [],
      "source": [
        "training_sentences = sentences[0:training_size]\n",
        "testing_sentences = sentences[training_size:]\n",
        "training_labels = labels[0:training_size]\n",
        "testing_labels = labels[training_size:]"
      ]
    },
    {
      "cell_type": "code",
      "execution_count": 7,
      "metadata": {
        "id": "2hAoEJZ9kvTe"
      },
      "outputs": [],
      "source": [
        "tokenizer = Tokenizer(num_words=vocab_size, oov_token=oov_tok)\n",
        "tokenizer.fit_on_texts(training_sentences)\n",
        "\n",
        "word_index = tokenizer.word_index\n",
        "\n",
        "training_sequences = tokenizer.texts_to_sequences(training_sentences)\n",
        "training_padded = pad_sequences(training_sequences, maxlen=max_length, \n",
        "                                padding=padding_type, truncating=trunc_type)\n",
        "\n",
        "testing_sequences = tokenizer.texts_to_sequences(testing_sentences)\n",
        "testing_padded = pad_sequences(testing_sequences, maxlen=max_length, \n",
        "                               padding=padding_type, truncating=trunc_type)"
      ]
    },
    {
      "cell_type": "code",
      "execution_count": 8,
      "metadata": {
        "id": "zjX8ygpMkvTf"
      },
      "outputs": [],
      "source": [
        "import numpy as np\n",
        "\n",
        "training_padded = np.array(training_padded)\n",
        "training_labels = np.array(training_labels)\n",
        "testing_padded = np.array(testing_padded)\n",
        "testing_labels = np.array(testing_labels)"
      ]
    },
    {
      "cell_type": "code",
      "execution_count": 9,
      "metadata": {
        "id": "yUlpQJGUkvTf"
      },
      "outputs": [],
      "source": [
        "model = tf.keras.Sequential([\n",
        "    tf.keras.layers.Embedding(vocab_size, embedding_dim),\n",
        "    tf.keras.layers.Bidirectional(tf.keras.layers.LSTM(embedding_dim)),\n",
        "    tf.keras.layers.Dense(24, activation='relu'),\n",
        "    tf.keras.layers.Dense(1, activation='sigmoid')\n",
        "])\n",
        "adam = tf.keras.optimizers.Adam(learning_rate=0.00001, \n",
        "                                beta_1=0.9, beta_2=0.999, amsgrad=False)\n",
        "model.compile(loss='binary_crossentropy', \n",
        "              optimizer=adam, metrics=['accuracy'])"
      ]
    },
    {
      "cell_type": "code",
      "execution_count": 10,
      "metadata": {
        "id": "FstldcUgkvTf",
        "outputId": "a958bc20-d6ae-48c9-bd9a-8cc1c93fd3dd",
        "colab": {
          "base_uri": "https://localhost:8080/"
        }
      },
      "outputs": [
        {
          "output_type": "stream",
          "name": "stdout",
          "text": [
            "Model: \"sequential\"\n",
            "_________________________________________________________________\n",
            " Layer (type)                Output Shape              Param #   \n",
            "=================================================================\n",
            " embedding (Embedding)       (None, None, 64)          1280000   \n",
            "                                                                 \n",
            " bidirectional (Bidirectiona  (None, 128)              66048     \n",
            " l)                                                              \n",
            "                                                                 \n",
            " dense (Dense)               (None, 24)                3096      \n",
            "                                                                 \n",
            " dense_1 (Dense)             (None, 1)                 25        \n",
            "                                                                 \n",
            "=================================================================\n",
            "Total params: 1,349,169\n",
            "Trainable params: 1,349,169\n",
            "Non-trainable params: 0\n",
            "_________________________________________________________________\n"
          ]
        }
      ],
      "source": [
        "model.summary()"
      ]
    },
    {
      "cell_type": "code",
      "execution_count": 11,
      "metadata": {
        "id": "ZyhNxYFLkvTg",
        "outputId": "4c1f9bc5-6398-44b5-e104-ee90b971b4b4",
        "colab": {
          "base_uri": "https://localhost:8080/"
        }
      },
      "outputs": [
        {
          "output_type": "stream",
          "name": "stdout",
          "text": [
            "Epoch 1/30\n",
            "719/719 [==============================] - 18s 13ms/step - loss: 0.6889 - accuracy: 0.5602 - val_loss: 0.6843 - val_accuracy: 0.5700\n",
            "Epoch 2/30\n",
            "719/719 [==============================] - 9s 12ms/step - loss: 0.6834 - accuracy: 0.5596 - val_loss: 0.6792 - val_accuracy: 0.5700\n",
            "Epoch 3/30\n",
            "719/719 [==============================] - 9s 12ms/step - loss: 0.6792 - accuracy: 0.5596 - val_loss: 0.6743 - val_accuracy: 0.5700\n",
            "Epoch 4/30\n",
            "719/719 [==============================] - 9s 12ms/step - loss: 0.6726 - accuracy: 0.5597 - val_loss: 0.6661 - val_accuracy: 0.5708\n",
            "Epoch 5/30\n",
            "719/719 [==============================] - 9s 13ms/step - loss: 0.6592 - accuracy: 0.5858 - val_loss: 0.6475 - val_accuracy: 0.6317\n",
            "Epoch 6/30\n",
            "719/719 [==============================] - 9s 12ms/step - loss: 0.6311 - accuracy: 0.6703 - val_loss: 0.6175 - val_accuracy: 0.6759\n",
            "Epoch 7/30\n",
            "719/719 [==============================] - 9s 12ms/step - loss: 0.6007 - accuracy: 0.7008 - val_loss: 0.5938 - val_accuracy: 0.7048\n",
            "Epoch 8/30\n",
            "719/719 [==============================] - 9s 12ms/step - loss: 0.5713 - accuracy: 0.7244 - val_loss: 0.5754 - val_accuracy: 0.7193\n",
            "Epoch 9/30\n",
            "719/719 [==============================] - 9s 12ms/step - loss: 0.5399 - accuracy: 0.7477 - val_loss: 0.5463 - val_accuracy: 0.7468\n",
            "Epoch 10/30\n",
            "719/719 [==============================] - 9s 12ms/step - loss: 0.5058 - accuracy: 0.7696 - val_loss: 0.5184 - val_accuracy: 0.7600\n",
            "Epoch 11/30\n",
            "719/719 [==============================] - 9s 12ms/step - loss: 0.4718 - accuracy: 0.7931 - val_loss: 0.4945 - val_accuracy: 0.7716\n",
            "Epoch 12/30\n",
            "719/719 [==============================] - 9s 12ms/step - loss: 0.4385 - accuracy: 0.8133 - val_loss: 0.4762 - val_accuracy: 0.7778\n",
            "Epoch 13/30\n",
            "719/719 [==============================] - 9s 12ms/step - loss: 0.4094 - accuracy: 0.8275 - val_loss: 0.4645 - val_accuracy: 0.7822\n",
            "Epoch 14/30\n",
            "719/719 [==============================] - 9s 12ms/step - loss: 0.3852 - accuracy: 0.8390 - val_loss: 0.4536 - val_accuracy: 0.7892\n",
            "Epoch 15/30\n",
            "719/719 [==============================] - 9s 12ms/step - loss: 0.3659 - accuracy: 0.8494 - val_loss: 0.4462 - val_accuracy: 0.7910\n",
            "Epoch 16/30\n",
            "719/719 [==============================] - 9s 12ms/step - loss: 0.3500 - accuracy: 0.8572 - val_loss: 0.4427 - val_accuracy: 0.7948\n",
            "Epoch 17/30\n",
            "719/719 [==============================] - 9s 12ms/step - loss: 0.3356 - accuracy: 0.8649 - val_loss: 0.4404 - val_accuracy: 0.7951\n",
            "Epoch 18/30\n",
            "719/719 [==============================] - 9s 12ms/step - loss: 0.3233 - accuracy: 0.8693 - val_loss: 0.4367 - val_accuracy: 0.7983\n",
            "Epoch 19/30\n",
            "719/719 [==============================] - 9s 12ms/step - loss: 0.3106 - accuracy: 0.8749 - val_loss: 0.4372 - val_accuracy: 0.7937\n",
            "Epoch 20/30\n",
            "719/719 [==============================] - 9s 12ms/step - loss: 0.2992 - accuracy: 0.8813 - val_loss: 0.4329 - val_accuracy: 0.8029\n",
            "Epoch 21/30\n",
            "719/719 [==============================] - 9s 12ms/step - loss: 0.2890 - accuracy: 0.8860 - val_loss: 0.4336 - val_accuracy: 0.8010\n",
            "Epoch 22/30\n",
            "719/719 [==============================] - 9s 12ms/step - loss: 0.2781 - accuracy: 0.8922 - val_loss: 0.4314 - val_accuracy: 0.8053\n",
            "Epoch 23/30\n",
            "719/719 [==============================] - 8s 12ms/step - loss: 0.2680 - accuracy: 0.8971 - val_loss: 0.4308 - val_accuracy: 0.8064\n",
            "Epoch 24/30\n",
            "719/719 [==============================] - 9s 12ms/step - loss: 0.2585 - accuracy: 0.9003 - val_loss: 0.4346 - val_accuracy: 0.8035\n",
            "Epoch 25/30\n",
            "719/719 [==============================] - 9s 12ms/step - loss: 0.2504 - accuracy: 0.9038 - val_loss: 0.4295 - val_accuracy: 0.8083\n",
            "Epoch 26/30\n",
            "719/719 [==============================] - 9s 12ms/step - loss: 0.2407 - accuracy: 0.9099 - val_loss: 0.4327 - val_accuracy: 0.8102\n",
            "Epoch 27/30\n",
            "719/719 [==============================] - 9s 12ms/step - loss: 0.2322 - accuracy: 0.9122 - val_loss: 0.4331 - val_accuracy: 0.8107\n",
            "Epoch 28/30\n",
            "719/719 [==============================] - 9s 12ms/step - loss: 0.2239 - accuracy: 0.9162 - val_loss: 0.4371 - val_accuracy: 0.8040\n",
            "Epoch 29/30\n",
            "719/719 [==============================] - 9s 12ms/step - loss: 0.2163 - accuracy: 0.9188 - val_loss: 0.4379 - val_accuracy: 0.8075\n",
            "Epoch 30/30\n",
            "719/719 [==============================] - 9s 12ms/step - loss: 0.2083 - accuracy: 0.9220 - val_loss: 0.4403 - val_accuracy: 0.8083\n"
          ]
        }
      ],
      "source": [
        "num_epochs = 30\n",
        "history = model.fit(training_padded, training_labels, epochs=num_epochs, \n",
        "                    validation_data=(testing_padded, testing_labels))"
      ]
    },
    {
      "cell_type": "code",
      "execution_count": 12,
      "metadata": {
        "id": "im5S8gDIkvTg",
        "outputId": "75491c97-e09c-4bb0-b735-69c36cb88407",
        "colab": {
          "base_uri": "https://localhost:8080/",
          "height": 279
        }
      },
      "outputs": [
        {
          "output_type": "display_data",
          "data": {
            "text/plain": [
              "<Figure size 432x288 with 1 Axes>"
            ],
            "image/png": "[encoded data removed]"
          },
          "metadata": {
            "needs_background": "light"
          }
        }
      ],
      "source": [
        "import matplotlib.pyplot as plt\n",
        "\n",
        "plt.plot(history.history['accuracy'])\n",
        "plt.plot(history.history['val_accuracy'])\n",
        "plt.xlabel('epochs')\n",
        "plt.ylabel('accuracy')\n",
        "plt.legend(['accuracy', 'val_accuracy'])\n",
        "plt.show()"
      ]
    },
    {
      "cell_type": "code",
      "execution_count": 13,
      "metadata": {
        "id": "W8Hzs6szkvTg",
        "outputId": "c2ffdfff-92f2-48c1-f69d-55c18fe3923f",
        "colab": {
          "base_uri": "https://localhost:8080/",
          "height": 279
        }
      },
      "outputs": [
        {
          "output_type": "display_data",
          "data": {
            "text/plain": [
              "<Figure size 432x288 with 1 Axes>"
            ],
            "image/png": "[encoded data removed]"
          },
          "metadata": {
            "needs_background": "light"
          }
        }
      ],
      "source": [
        "plt.plot(history.history['loss'])\n",
        "plt.plot(history.history['val_loss'])\n",
        "plt.xlabel('epochs')\n",
        "plt.ylabel('loss')\n",
        "plt.legend(['loss', 'val_loss'])\n",
        "plt.show()"
      ]
    },
    {
      "cell_type": "markdown",
      "metadata": {
        "id": "W-E9kyPlkvTg"
      },
      "source": [
        "### 스태킹 LSTM"
      ]
    },
    {
      "cell_type": "code",
      "execution_count": 14,
      "metadata": {
        "id": "hlOnkIAMkvTh"
      },
      "outputs": [],
      "source": [
        "model = tf.keras.Sequential([\n",
        "    tf.keras.layers.Embedding(vocab_size, embedding_dim),\n",
        "    tf.keras.layers.Bidirectional(tf.keras.layers.LSTM(embedding_dim, \n",
        "                                                       return_sequences=True)),\n",
        "    tf.keras.layers.Bidirectional(tf.keras.layers.LSTM(embedding_dim)),\n",
        "    tf.keras.layers.Dense(24, activation='relu'),\n",
        "    tf.keras.layers.Dense(1, activation='sigmoid')\n",
        "])\n",
        "\n",
        "adam = tf.keras.optimizers.Adam(learning_rate=0.00001, \n",
        "                                beta_1=0.9, beta_2=0.999, amsgrad=False)\n",
        "model.compile(loss='binary_crossentropy', \n",
        "              optimizer=adam, metrics=['accuracy'])"
      ]
    },
    {
      "cell_type": "code",
      "execution_count": 15,
      "metadata": {
        "id": "kHuIFGc8kvTh",
        "outputId": "ac2e2c18-097f-4893-fc04-94c7c6e25b5d",
        "colab": {
          "base_uri": "https://localhost:8080/"
        }
      },
      "outputs": [
        {
          "output_type": "stream",
          "name": "stdout",
          "text": [
            "Model: \"sequential_1\"\n",
            "_________________________________________________________________\n",
            " Layer (type)                Output Shape              Param #   \n",
            "=================================================================\n",
            " embedding_1 (Embedding)     (None, None, 64)          1280000   \n",
            "                                                                 \n",
            " bidirectional_1 (Bidirectio  (None, None, 128)        66048     \n",
            " nal)                                                            \n",
            "                                                                 \n",
            " bidirectional_2 (Bidirectio  (None, 128)              98816     \n",
            " nal)                                                            \n",
            "                                                                 \n",
            " dense_2 (Dense)             (None, 24)                3096      \n",
            "                                                                 \n",
            " dense_3 (Dense)             (None, 1)                 25        \n",
            "                                                                 \n",
            "=================================================================\n",
            "Total params: 1,447,985\n",
            "Trainable params: 1,447,985\n",
            "Non-trainable params: 0\n",
            "_________________________________________________________________\n"
          ]
        }
      ],
      "source": [
        "model.summary()"
      ]
    },
    {
      "cell_type": "code",
      "execution_count": 16,
      "metadata": {
        "id": "cm_3vKQkkvTh",
        "outputId": "88b2820c-7d7d-4bcc-f665-4524075d30b7",
        "colab": {
          "base_uri": "https://localhost:8080/"
        }
      },
      "outputs": [
        {
          "output_type": "stream",
          "name": "stdout",
          "text": [
            "Epoch 1/30\n",
            "719/719 [==============================] - 21s 22ms/step - loss: 0.6876 - accuracy: 0.5596 - val_loss: 0.6820 - val_accuracy: 0.5700\n",
            "Epoch 2/30\n",
            "719/719 [==============================] - 15s 21ms/step - loss: 0.6833 - accuracy: 0.5596 - val_loss: 0.6793 - val_accuracy: 0.5700\n",
            "Epoch 3/30\n",
            "719/719 [==============================] - 15s 20ms/step - loss: 0.6792 - accuracy: 0.5596 - val_loss: 0.6726 - val_accuracy: 0.5700\n",
            "Epoch 4/30\n",
            "719/719 [==============================] - 15s 21ms/step - loss: 0.6610 - accuracy: 0.5931 - val_loss: 0.6382 - val_accuracy: 0.6697\n",
            "Epoch 5/30\n",
            "719/719 [==============================] - 15s 20ms/step - loss: 0.5896 - accuracy: 0.7015 - val_loss: 0.5579 - val_accuracy: 0.7177\n",
            "Epoch 6/30\n",
            "719/719 [==============================] - 14s 20ms/step - loss: 0.4824 - accuracy: 0.7731 - val_loss: 0.5010 - val_accuracy: 0.7587\n",
            "Epoch 7/30\n",
            "719/719 [==============================] - 15s 20ms/step - loss: 0.4113 - accuracy: 0.8149 - val_loss: 0.4861 - val_accuracy: 0.7711\n",
            "Epoch 8/30\n",
            "719/719 [==============================] - 15s 20ms/step - loss: 0.3756 - accuracy: 0.8373 - val_loss: 0.4803 - val_accuracy: 0.7733\n",
            "Epoch 9/30\n",
            "719/719 [==============================] - 15s 20ms/step - loss: 0.3485 - accuracy: 0.8537 - val_loss: 0.4697 - val_accuracy: 0.7778\n",
            "Epoch 10/30\n",
            "719/719 [==============================] - 14s 20ms/step - loss: 0.3256 - accuracy: 0.8649 - val_loss: 0.4701 - val_accuracy: 0.7824\n",
            "Epoch 11/30\n",
            "719/719 [==============================] - 15s 21ms/step - loss: 0.3042 - accuracy: 0.8769 - val_loss: 0.4700 - val_accuracy: 0.7857\n",
            "Epoch 12/30\n",
            "719/719 [==============================] - 15s 21ms/step - loss: 0.2856 - accuracy: 0.8851 - val_loss: 0.4929 - val_accuracy: 0.7741\n",
            "Epoch 13/30\n",
            "719/719 [==============================] - 15s 21ms/step - loss: 0.2675 - accuracy: 0.8940 - val_loss: 0.4802 - val_accuracy: 0.7924\n",
            "Epoch 14/30\n",
            "719/719 [==============================] - 15s 21ms/step - loss: 0.2502 - accuracy: 0.9048 - val_loss: 0.4823 - val_accuracy: 0.7937\n",
            "Epoch 15/30\n",
            "719/719 [==============================] - 15s 20ms/step - loss: 0.2357 - accuracy: 0.9112 - val_loss: 0.4932 - val_accuracy: 0.7951\n",
            "Epoch 16/30\n",
            "719/719 [==============================] - 15s 21ms/step - loss: 0.2203 - accuracy: 0.9196 - val_loss: 0.5055 - val_accuracy: 0.7900\n",
            "Epoch 17/30\n",
            "719/719 [==============================] - 15s 20ms/step - loss: 0.2067 - accuracy: 0.9256 - val_loss: 0.5065 - val_accuracy: 0.7937\n",
            "Epoch 18/30\n",
            "719/719 [==============================] - 15s 20ms/step - loss: 0.1942 - accuracy: 0.9320 - val_loss: 0.5255 - val_accuracy: 0.7924\n",
            "Epoch 19/30\n",
            "719/719 [==============================] - 15s 20ms/step - loss: 0.1815 - accuracy: 0.9375 - val_loss: 0.5383 - val_accuracy: 0.7943\n",
            "Epoch 20/30\n",
            "719/719 [==============================] - 15s 20ms/step - loss: 0.1705 - accuracy: 0.9430 - val_loss: 0.5453 - val_accuracy: 0.7937\n",
            "Epoch 21/30\n",
            "719/719 [==============================] - 15s 21ms/step - loss: 0.1590 - accuracy: 0.9481 - val_loss: 0.5652 - val_accuracy: 0.7924\n",
            "Epoch 22/30\n",
            "719/719 [==============================] - 15s 20ms/step - loss: 0.1487 - accuracy: 0.9536 - val_loss: 0.5843 - val_accuracy: 0.7862\n",
            "Epoch 23/30\n",
            "719/719 [==============================] - 15s 20ms/step - loss: 0.1390 - accuracy: 0.9570 - val_loss: 0.5962 - val_accuracy: 0.7897\n",
            "Epoch 24/30\n",
            "719/719 [==============================] - 15s 20ms/step - loss: 0.1300 - accuracy: 0.9615 - val_loss: 0.6113 - val_accuracy: 0.7894\n",
            "Epoch 25/30\n",
            "719/719 [==============================] - 15s 20ms/step - loss: 0.1209 - accuracy: 0.9660 - val_loss: 0.6391 - val_accuracy: 0.7897\n",
            "Epoch 26/30\n",
            "719/719 [==============================] - 15s 20ms/step - loss: 0.1127 - accuracy: 0.9690 - val_loss: 0.6450 - val_accuracy: 0.7889\n",
            "Epoch 27/30\n",
            "719/719 [==============================] - 15s 20ms/step - loss: 0.1063 - accuracy: 0.9712 - val_loss: 0.6677 - val_accuracy: 0.7905\n",
            "Epoch 28/30\n",
            "719/719 [==============================] - 15s 20ms/step - loss: 0.0978 - accuracy: 0.9747 - val_loss: 0.6931 - val_accuracy: 0.7884\n",
            "Epoch 29/30\n",
            "719/719 [==============================] - 15s 20ms/step - loss: 0.0918 - accuracy: 0.9767 - val_loss: 0.7157 - val_accuracy: 0.7835\n",
            "Epoch 30/30\n",
            "719/719 [==============================] - 15s 20ms/step - loss: 0.0850 - accuracy: 0.9795 - val_loss: 0.7287 - val_accuracy: 0.7857\n"
          ]
        }
      ],
      "source": [
        "num_epochs = 30\n",
        "history = model.fit(training_padded, training_labels, epochs=num_epochs, \n",
        "                    validation_data=(testing_padded, testing_labels))"
      ]
    },
    {
      "cell_type": "code",
      "execution_count": 17,
      "metadata": {
        "id": "KioHcjrWkvTh",
        "outputId": "0f21cc61-756f-4a29-ceda-d3f74dee7925",
        "colab": {
          "base_uri": "https://localhost:8080/",
          "height": 283
        }
      },
      "outputs": [
        {
          "output_type": "display_data",
          "data": {
            "text/plain": [
              "<Figure size 432x288 with 1 Axes>"
            ],
            "image/png": "[encoded data removed]"
          },
          "metadata": {
            "needs_background": "light"
          }
        }
      ],
      "source": [
        "plt.plot(history.history['accuracy'])\n",
        "plt.plot(history.history['val_accuracy'])\n",
        "plt.xlabel('epochs')\n",
        "plt.ylabel('accuracy')\n",
        "plt.legend(['accuracy', 'val_accuracy'])\n",
        "plt.show()"
      ]
    },
    {
      "cell_type": "code",
      "execution_count": 18,
      "metadata": {
        "id": "JFrkmj8GkvTi",
        "outputId": "2e52cf6d-a4d9-4c72-bd7b-b5cd22df4cf7",
        "colab": {
          "base_uri": "https://localhost:8080/",
          "height": 279
        }
      },
      "outputs": [
        {
          "output_type": "display_data",
          "data": {
            "text/plain": [
              "<Figure size 432x288 with 1 Axes>"
            ],
            "image/png": "[encoded data removed]"
          },
          "metadata": {
            "needs_background": "light"
          }
        }
      ],
      "source": [
        "plt.plot(history.history['loss'])\n",
        "plt.plot(history.history['val_loss'])\n",
        "plt.xlabel('epochs')\n",
        "plt.ylabel('loss')\n",
        "plt.legend(['loss', 'val_loss'])\n",
        "plt.show()"
      ]
    },
    {
      "cell_type": "markdown",
      "metadata": {
        "id": "4RMXtYJMkvTi"
      },
      "source": [
        "#### 스태킹 LSTM 최적화하기"
      ]
    },
    {
      "cell_type": "code",
      "execution_count": 19,
      "metadata": {
        "id": "HbB83GZEkvTi"
      },
      "outputs": [],
      "source": [
        "model = tf.keras.Sequential([\n",
        "    tf.keras.layers.Embedding(vocab_size, embedding_dim),\n",
        "    tf.keras.layers.Bidirectional(tf.keras.layers.LSTM(embedding_dim, \n",
        "                                                       return_sequences=True)),\n",
        "    tf.keras.layers.Bidirectional(tf.keras.layers.LSTM(embedding_dim)),\n",
        "    tf.keras.layers.Dense(24, activation='relu'),\n",
        "    tf.keras.layers.Dense(1, activation='sigmoid')\n",
        "])\n",
        "\n",
        "adam = tf.keras.optimizers.Adam(learning_rate=0.000008, \n",
        "                                beta_1=0.9, beta_2=0.999, amsgrad=False)\n",
        "model.compile(loss='binary_crossentropy',\n",
        "              optimizer=adam,metrics=['accuracy'])"
      ]
    },
    {
      "cell_type": "code",
      "execution_count": 20,
      "metadata": {
        "id": "b9i-XUIokvTi",
        "outputId": "ede36ca6-92b1-4573-b139-698c23451ea7",
        "colab": {
          "base_uri": "https://localhost:8080/"
        }
      },
      "outputs": [
        {
          "output_type": "stream",
          "name": "stdout",
          "text": [
            "Epoch 1/30\n",
            "719/719 [==============================] - 21s 22ms/step - loss: 0.6883 - accuracy: 0.5590 - val_loss: 0.6828 - val_accuracy: 0.5700\n",
            "Epoch 2/30\n",
            "719/719 [==============================] - 15s 20ms/step - loss: 0.6831 - accuracy: 0.5596 - val_loss: 0.6791 - val_accuracy: 0.5700\n",
            "Epoch 3/30\n",
            "719/719 [==============================] - 14s 20ms/step - loss: 0.6799 - accuracy: 0.5596 - val_loss: 0.6750 - val_accuracy: 0.5700\n",
            "Epoch 4/30\n",
            "719/719 [==============================] - 14s 20ms/step - loss: 0.6726 - accuracy: 0.5646 - val_loss: 0.6629 - val_accuracy: 0.6007\n",
            "Epoch 5/30\n",
            "719/719 [==============================] - 14s 20ms/step - loss: 0.6369 - accuracy: 0.6529 - val_loss: 0.6036 - val_accuracy: 0.6889\n",
            "Epoch 6/30\n",
            "719/719 [==============================] - 15s 20ms/step - loss: 0.5299 - accuracy: 0.7423 - val_loss: 0.5091 - val_accuracy: 0.7536\n",
            "Epoch 7/30\n",
            "719/719 [==============================] - 14s 20ms/step - loss: 0.4495 - accuracy: 0.7949 - val_loss: 0.4920 - val_accuracy: 0.7619\n",
            "Epoch 8/30\n",
            "719/719 [==============================] - 14s 20ms/step - loss: 0.4129 - accuracy: 0.8180 - val_loss: 0.4902 - val_accuracy: 0.7671\n",
            "Epoch 9/30\n",
            "719/719 [==============================] - 14s 20ms/step - loss: 0.3856 - accuracy: 0.8333 - val_loss: 0.4787 - val_accuracy: 0.7676\n",
            "Epoch 10/30\n",
            "719/719 [==============================] - 15s 20ms/step - loss: 0.3624 - accuracy: 0.8456 - val_loss: 0.4748 - val_accuracy: 0.7714\n",
            "Epoch 11/30\n",
            "719/719 [==============================] - 15s 20ms/step - loss: 0.3420 - accuracy: 0.8570 - val_loss: 0.4748 - val_accuracy: 0.7768\n",
            "Epoch 12/30\n",
            "719/719 [==============================] - 14s 20ms/step - loss: 0.3233 - accuracy: 0.8675 - val_loss: 0.4737 - val_accuracy: 0.7784\n",
            "Epoch 13/30\n",
            "719/719 [==============================] - 14s 20ms/step - loss: 0.3054 - accuracy: 0.8759 - val_loss: 0.4755 - val_accuracy: 0.7816\n",
            "Epoch 14/30\n",
            "719/719 [==============================] - 14s 20ms/step - loss: 0.2899 - accuracy: 0.8854 - val_loss: 0.4734 - val_accuracy: 0.7835\n",
            "Epoch 15/30\n",
            "719/719 [==============================] - 14s 20ms/step - loss: 0.2739 - accuracy: 0.8920 - val_loss: 0.4793 - val_accuracy: 0.7889\n",
            "Epoch 16/30\n",
            "719/719 [==============================] - 14s 20ms/step - loss: 0.2591 - accuracy: 0.8997 - val_loss: 0.4781 - val_accuracy: 0.7881\n",
            "Epoch 17/30\n",
            "719/719 [==============================] - 14s 20ms/step - loss: 0.2448 - accuracy: 0.9072 - val_loss: 0.4850 - val_accuracy: 0.7889\n",
            "Epoch 18/30\n",
            "719/719 [==============================] - 14s 20ms/step - loss: 0.2317 - accuracy: 0.9136 - val_loss: 0.4908 - val_accuracy: 0.7951\n",
            "Epoch 19/30\n",
            "719/719 [==============================] - 15s 20ms/step - loss: 0.2187 - accuracy: 0.9208 - val_loss: 0.5092 - val_accuracy: 0.7940\n",
            "Epoch 20/30\n",
            "719/719 [==============================] - 14s 20ms/step - loss: 0.2079 - accuracy: 0.9247 - val_loss: 0.5086 - val_accuracy: 0.7975\n",
            "Epoch 21/30\n",
            "719/719 [==============================] - 15s 20ms/step - loss: 0.1959 - accuracy: 0.9313 - val_loss: 0.5144 - val_accuracy: 0.7981\n",
            "Epoch 22/30\n",
            "719/719 [==============================] - 15s 20ms/step - loss: 0.1851 - accuracy: 0.9361 - val_loss: 0.5313 - val_accuracy: 0.8016\n",
            "Epoch 23/30\n",
            "719/719 [==============================] - 15s 21ms/step - loss: 0.1757 - accuracy: 0.9409 - val_loss: 0.5395 - val_accuracy: 0.8032\n",
            "Epoch 24/30\n",
            "719/719 [==============================] - 14s 20ms/step - loss: 0.1655 - accuracy: 0.9447 - val_loss: 0.5532 - val_accuracy: 0.8013\n",
            "Epoch 25/30\n",
            "719/719 [==============================] - 14s 20ms/step - loss: 0.1563 - accuracy: 0.9491 - val_loss: 0.5658 - val_accuracy: 0.7994\n",
            "Epoch 26/30\n",
            "719/719 [==============================] - 14s 20ms/step - loss: 0.1481 - accuracy: 0.9533 - val_loss: 0.5842 - val_accuracy: 0.7967\n",
            "Epoch 27/30\n",
            "719/719 [==============================] - 14s 20ms/step - loss: 0.1392 - accuracy: 0.9567 - val_loss: 0.6038 - val_accuracy: 0.7964\n",
            "Epoch 28/30\n",
            "719/719 [==============================] - 14s 20ms/step - loss: 0.1316 - accuracy: 0.9603 - val_loss: 0.6152 - val_accuracy: 0.7962\n",
            "Epoch 29/30\n",
            "719/719 [==============================] - 14s 20ms/step - loss: 0.1238 - accuracy: 0.9640 - val_loss: 0.6345 - val_accuracy: 0.7994\n",
            "Epoch 30/30\n",
            "719/719 [==============================] - 15s 20ms/step - loss: 0.1167 - accuracy: 0.9666 - val_loss: 0.6511 - val_accuracy: 0.7962\n"
          ]
        }
      ],
      "source": [
        "num_epochs = 30\n",
        "history = model.fit(training_padded, training_labels, epochs=num_epochs, \n",
        "                    validation_data=(testing_padded, testing_labels))"
      ]
    },
    {
      "cell_type": "code",
      "execution_count": 21,
      "metadata": {
        "id": "K2To8UN8kvTi",
        "outputId": "1b0d5dc6-a3a0-4160-b82a-613a519f0f51",
        "colab": {
          "base_uri": "https://localhost:8080/",
          "height": 279
        }
      },
      "outputs": [
        {
          "output_type": "display_data",
          "data": {
            "text/plain": [
              "<Figure size 432x288 with 1 Axes>"
            ],
            "image/png": "[encoded data removed]"
          },
          "metadata": {
            "needs_background": "light"
          }
        }
      ],
      "source": [
        "plt.plot(history.history['accuracy'])\n",
        "plt.plot(history.history['val_accuracy'])\n",
        "plt.xlabel('epochs')\n",
        "plt.ylabel('accuracy')\n",
        "plt.legend(['accuracy', 'val_accuracy'])\n",
        "plt.show()"
      ]
    },
    {
      "cell_type": "code",
      "execution_count": 22,
      "metadata": {
        "id": "BWmMtESUkvTj",
        "outputId": "bf312361-1f10-420c-b92d-8ee2c274d2ed",
        "colab": {
          "base_uri": "https://localhost:8080/",
          "height": 279
        }
      },
      "outputs": [
        {
          "output_type": "display_data",
          "data": {
            "text/plain": [
              "<Figure size 432x288 with 1 Axes>"
            ],
            "image/png": "[encoded data removed]"
          },
          "metadata": {
            "needs_background": "light"
          }
        }
      ],
      "source": [
        "plt.plot(history.history['loss'])\n",
        "plt.plot(history.history['val_loss'])\n",
        "plt.xlabel('epochs')\n",
        "plt.ylabel('loss')\n",
        "plt.legend(['loss', 'val_loss'])\n",
        "plt.show()"
      ]
    },
    {
      "cell_type": "markdown",
      "metadata": {
        "id": "z8xr3eIrkvTj"
      },
      "source": [
        "#### 드롭아웃 사용하기"
      ]
    },
    {
      "cell_type": "code",
      "execution_count": 23,
      "metadata": {
        "id": "X8bYn4_ukvTj"
      },
      "outputs": [],
      "source": [
        "model = tf.keras.Sequential([\n",
        "    tf.keras.layers.Embedding(vocab_size, embedding_dim),\n",
        "    tf.keras.layers.Bidirectional(tf.keras.layers.LSTM(\n",
        "        embedding_dim, return_sequences=True, dropout=0.2)),\n",
        "    tf.keras.layers.Bidirectional(tf.keras.layers.LSTM(embedding_dim,\n",
        "                                                       dropout=0.2)),\n",
        "    tf.keras.layers.Dense(24, activation='relu'),\n",
        "    tf.keras.layers.Dense(1, activation='sigmoid')\n",
        "])\n",
        "\n",
        "adam = tf.keras.optimizers.Adam(learning_rate=0.000008, \n",
        "                                beta_1=0.9, beta_2=0.999, amsgrad=False)\n",
        "model.compile(loss='binary_crossentropy',\n",
        "              optimizer=adam,metrics=['accuracy'])"
      ]
    },
    {
      "cell_type": "code",
      "execution_count": 24,
      "metadata": {
        "id": "sgm5FgTMkvTj",
        "outputId": "3b5d7bbf-2b22-4c73-eff5-dfa42536a574",
        "colab": {
          "base_uri": "https://localhost:8080/"
        }
      },
      "outputs": [
        {
          "output_type": "stream",
          "name": "stdout",
          "text": [
            "Epoch 1/30\n",
            "719/719 [==============================] - 21s 22ms/step - loss: 0.6897 - accuracy: 0.5490 - val_loss: 0.6847 - val_accuracy: 0.5700\n",
            "Epoch 2/30\n",
            "719/719 [==============================] - 15s 20ms/step - loss: 0.6848 - accuracy: 0.5596 - val_loss: 0.6810 - val_accuracy: 0.5700\n",
            "Epoch 3/30\n",
            "719/719 [==============================] - 15s 21ms/step - loss: 0.6816 - accuracy: 0.5596 - val_loss: 0.6770 - val_accuracy: 0.5700\n",
            "Epoch 4/30\n",
            "719/719 [==============================] - 15s 20ms/step - loss: 0.6752 - accuracy: 0.5599 - val_loss: 0.6666 - val_accuracy: 0.5713\n",
            "Epoch 5/30\n",
            "719/719 [==============================] - 15s 21ms/step - loss: 0.6427 - accuracy: 0.6299 - val_loss: 0.6048 - val_accuracy: 0.6870\n",
            "Epoch 6/30\n",
            "719/719 [==============================] - 15s 20ms/step - loss: 0.5482 - accuracy: 0.7253 - val_loss: 0.5241 - val_accuracy: 0.7366\n",
            "Epoch 7/30\n",
            "719/719 [==============================] - 15s 21ms/step - loss: 0.4837 - accuracy: 0.7703 - val_loss: 0.4995 - val_accuracy: 0.7552\n",
            "Epoch 8/30\n",
            "719/719 [==============================] - 15s 20ms/step - loss: 0.4569 - accuracy: 0.7871 - val_loss: 0.4886 - val_accuracy: 0.7641\n",
            "Epoch 9/30\n",
            "719/719 [==============================] - 15s 21ms/step - loss: 0.4312 - accuracy: 0.8035 - val_loss: 0.4786 - val_accuracy: 0.7692\n",
            "Epoch 10/30\n",
            "719/719 [==============================] - 15s 20ms/step - loss: 0.4123 - accuracy: 0.8131 - val_loss: 0.4718 - val_accuracy: 0.7768\n",
            "Epoch 11/30\n",
            "719/719 [==============================] - 15s 21ms/step - loss: 0.3970 - accuracy: 0.8223 - val_loss: 0.4654 - val_accuracy: 0.7805\n",
            "Epoch 12/30\n",
            "719/719 [==============================] - 15s 21ms/step - loss: 0.3795 - accuracy: 0.8295 - val_loss: 0.4610 - val_accuracy: 0.7838\n",
            "Epoch 13/30\n",
            "719/719 [==============================] - 15s 21ms/step - loss: 0.3667 - accuracy: 0.8389 - val_loss: 0.4574 - val_accuracy: 0.7878\n",
            "Epoch 14/30\n",
            "719/719 [==============================] - 15s 21ms/step - loss: 0.3525 - accuracy: 0.8463 - val_loss: 0.4590 - val_accuracy: 0.7881\n",
            "Epoch 15/30\n",
            "719/719 [==============================] - 15s 21ms/step - loss: 0.3407 - accuracy: 0.8559 - val_loss: 0.4560 - val_accuracy: 0.7932\n",
            "Epoch 16/30\n",
            "719/719 [==============================] - 15s 21ms/step - loss: 0.3279 - accuracy: 0.8607 - val_loss: 0.4557 - val_accuracy: 0.7935\n",
            "Epoch 17/30\n",
            "719/719 [==============================] - 15s 21ms/step - loss: 0.3176 - accuracy: 0.8649 - val_loss: 0.4519 - val_accuracy: 0.7970\n",
            "Epoch 18/30\n",
            "719/719 [==============================] - 15s 21ms/step - loss: 0.3070 - accuracy: 0.8729 - val_loss: 0.4508 - val_accuracy: 0.7986\n",
            "Epoch 19/30\n",
            "719/719 [==============================] - 15s 21ms/step - loss: 0.2957 - accuracy: 0.8787 - val_loss: 0.4549 - val_accuracy: 0.7927\n",
            "Epoch 20/30\n",
            "719/719 [==============================] - 15s 21ms/step - loss: 0.2895 - accuracy: 0.8783 - val_loss: 0.4493 - val_accuracy: 0.7983\n",
            "Epoch 21/30\n",
            "719/719 [==============================] - 15s 21ms/step - loss: 0.2805 - accuracy: 0.8830 - val_loss: 0.4516 - val_accuracy: 0.7981\n",
            "Epoch 22/30\n",
            "719/719 [==============================] - 15s 21ms/step - loss: 0.2684 - accuracy: 0.8908 - val_loss: 0.4580 - val_accuracy: 0.7975\n",
            "Epoch 23/30\n",
            "719/719 [==============================] - 15s 21ms/step - loss: 0.2629 - accuracy: 0.8927 - val_loss: 0.4582 - val_accuracy: 0.7994\n",
            "Epoch 24/30\n",
            "719/719 [==============================] - 15s 21ms/step - loss: 0.2551 - accuracy: 0.8952 - val_loss: 0.4605 - val_accuracy: 0.8029\n",
            "Epoch 25/30\n",
            "719/719 [==============================] - 15s 21ms/step - loss: 0.2495 - accuracy: 0.8979 - val_loss: 0.4624 - val_accuracy: 0.8043\n",
            "Epoch 26/30\n",
            "719/719 [==============================] - 15s 21ms/step - loss: 0.2434 - accuracy: 0.9000 - val_loss: 0.4611 - val_accuracy: 0.8043\n",
            "Epoch 27/30\n",
            "719/719 [==============================] - 15s 20ms/step - loss: 0.2339 - accuracy: 0.9063 - val_loss: 0.4684 - val_accuracy: 0.7978\n",
            "Epoch 28/30\n",
            "719/719 [==============================] - 15s 20ms/step - loss: 0.2274 - accuracy: 0.9095 - val_loss: 0.4739 - val_accuracy: 0.8026\n",
            "Epoch 29/30\n",
            "719/719 [==============================] - 15s 21ms/step - loss: 0.2261 - accuracy: 0.9098 - val_loss: 0.4710 - val_accuracy: 0.8029\n",
            "Epoch 30/30\n",
            "719/719 [==============================] - 15s 21ms/step - loss: 0.2175 - accuracy: 0.9133 - val_loss: 0.4785 - val_accuracy: 0.7981\n"
          ]
        }
      ],
      "source": [
        "num_epochs = 30\n",
        "history = model.fit(training_padded, training_labels, epochs=num_epochs, \n",
        "                    validation_data=(testing_padded, testing_labels))"
      ]
    },
    {
      "cell_type": "code",
      "execution_count": 25,
      "metadata": {
        "id": "L7bdr8WXkvTj",
        "outputId": "62ca6962-7422-4ed9-9264-b3bd50e38cce",
        "colab": {
          "base_uri": "https://localhost:8080/",
          "height": 279
        }
      },
      "outputs": [
        {
          "output_type": "display_data",
          "data": {
            "text/plain": [
              "<Figure size 432x288 with 1 Axes>"
            ],
            "image/png": "[encoded data removed]"
          },
          "metadata": {
            "needs_background": "light"
          }
        }
      ],
      "source": [
        "plt.plot(history.history['accuracy'])\n",
        "plt.plot(history.history['val_accuracy'])\n",
        "plt.xlabel('epochs')\n",
        "plt.ylabel('accuracy')\n",
        "plt.legend(['accuracy', 'val_accuracy'])\n",
        "plt.show()"
      ]
    },
    {
      "cell_type": "code",
      "execution_count": 26,
      "metadata": {
        "id": "pfnaanbbkvTj",
        "outputId": "21456071-0d05-49cc-93ad-207e088d7e93",
        "colab": {
          "base_uri": "https://localhost:8080/",
          "height": 279
        }
      },
      "outputs": [
        {
          "output_type": "display_data",
          "data": {
            "text/plain": [
              "<Figure size 432x288 with 1 Axes>"
            ],
            "image/png": "[encoded data removed]"
          },
          "metadata": {
            "needs_background": "light"
          }
        }
      ],
      "source": [
        "plt.plot(history.history['loss'])\n",
        "plt.plot(history.history['val_loss'])\n",
        "plt.xlabel('epochs')\n",
        "plt.ylabel('loss')\n",
        "plt.legend(['loss', 'val_loss'])\n",
        "plt.show()"
      ]
    },
    {
      "cell_type": "markdown",
      "metadata": {
        "id": "W5M3scKikvTk"
      },
      "source": [
        "## RNN에 사전 훈련된 임베딩 사용하기"
      ]
    },
    {
      "cell_type": "code",
      "execution_count": 27,
      "metadata": {
        "id": "akStKXEzkvTk",
        "outputId": "6a44dd1c-6b52-4231-c678-92013dd4affa",
        "colab": {
          "base_uri": "https://localhost:8080/"
        }
      },
      "outputs": [
        {
          "output_type": "stream",
          "name": "stdout",
          "text": [
            "--2022-07-07 03:20:42--  https://bit.ly/3i9taLA\n",
            "Resolving bit.ly (bit.ly)... 67.199.248.11, 67.199.248.10\n",
            "Connecting to bit.ly (bit.ly)|67.199.248.11|:443... connected.\n",
            "HTTP request sent, awaiting response... 301 Moved Permanently\n",
            "Location: https://tensorflowkorea.files.wordpress.com/2022/03/glove.twitter.27b.25d.txt.zip [following]\n",
            "--2022-07-07 03:20:42--  https://tensorflowkorea.files.wordpress.com/2022/03/glove.twitter.27b.25d.txt.zip\n",
            "Resolving tensorflowkorea.files.wordpress.com (tensorflowkorea.files.wordpress.com)... 192.0.72.18, 192.0.72.19\n",
            "Connecting to tensorflowkorea.files.wordpress.com (tensorflowkorea.files.wordpress.com)|192.0.72.18|:443... connected.\n",
            "HTTP request sent, awaiting response... 200 OK\n",
            "Length: 109906941 (105M) [application/zip]\n",
            "Saving to: ‘glove.zip’\n",
            "\n",
            "glove.zip           100%[===================>] 104.81M  83.3MB/s    in 1.3s    \n",
            "\n",
            "2022-07-07 03:20:44 (83.3 MB/s) - ‘glove.zip’ saved [109906941/109906941]\n",
            "\n"
          ]
        }
      ],
      "source": [
        "!wget https://bit.ly/3i9taLA -O glove.zip"
      ]
    },
    {
      "cell_type": "code",
      "execution_count": 28,
      "metadata": {
        "id": "Sm54-w4_kvTk"
      },
      "outputs": [],
      "source": [
        "# GloVe 임베딩 압축 풀기\n",
        "import os\n",
        "import zipfile\n",
        "local_zip = 'glove.zip'\n",
        "zip_ref = zipfile.ZipFile(local_zip, 'r')\n",
        "zip_ref.extractall('glove')\n",
        "zip_ref.close()"
      ]
    },
    {
      "cell_type": "code",
      "execution_count": 29,
      "metadata": {
        "id": "oKXU3HMvkvTk"
      },
      "outputs": [],
      "source": [
        "glove_embeddings = dict()\n",
        "f = open('glove/glove.twitter.27B.25d.txt')\n",
        "for line in f:\n",
        "    values = line.split()\n",
        "    word = values[0]\n",
        "    coefs = np.asarray(values[1:], dtype='float32')\n",
        "    glove_embeddings[word] = coefs\n",
        "f.close()"
      ]
    },
    {
      "cell_type": "code",
      "execution_count": 30,
      "metadata": {
        "id": "Gkb8AYvXkvTk",
        "outputId": "d53d1d9e-4fcb-4769-d7ed-298a248f54ee",
        "colab": {
          "base_uri": "https://localhost:8080/"
        }
      },
      "outputs": [
        {
          "output_type": "execute_result",
          "data": {
            "text/plain": [
              "array([-1.2158  , -0.74924 ,  0.91941 ,  0.72985 , -0.12917 , -0.19555 ,\n",
              "        1.2365  , -0.77196 ,  0.85161 ,  0.11922 ,  0.16816 ,  0.33334 ,\n",
              "       -2.0845  , -0.53471 ,  0.013538,  0.18178 ,  1.2831  ,  0.089331,\n",
              "        0.57264 ,  0.50694 ,  0.27134 ,  0.66504 ,  0.54097 , -0.58377 ,\n",
              "        0.67097 ], dtype=float32)"
            ]
          },
          "metadata": {},
          "execution_count": 30
        }
      ],
      "source": [
        "glove_embeddings['frog']"
      ]
    },
    {
      "cell_type": "code",
      "execution_count": 31,
      "metadata": {
        "id": "451AgqJ0kvTk"
      },
      "outputs": [],
      "source": [
        "vocab_size = 13200\n",
        "embedding_dim = 25\n",
        "max_length = 50\n",
        "trunc_type='post'\n",
        "padding_type='post'\n",
        "oov_tok = \"<OOV>\"\n",
        "training_size = 23000"
      ]
    },
    {
      "cell_type": "code",
      "execution_count": 32,
      "metadata": {
        "id": "Md6JuRrqkvTk"
      },
      "outputs": [],
      "source": [
        "training_sentences = sentences[0:training_size]\n",
        "testing_sentences = sentences[training_size:]\n",
        "training_labels = labels[0:training_size]\n",
        "testing_labels = labels[training_size:]"
      ]
    },
    {
      "cell_type": "code",
      "execution_count": 33,
      "metadata": {
        "id": "b84A6i4FkvTl"
      },
      "outputs": [],
      "source": [
        "tokenizer = Tokenizer(num_words=vocab_size, oov_token=oov_tok)\n",
        "tokenizer.fit_on_texts(training_sentences)\n",
        "\n",
        "word_index = tokenizer.word_index\n",
        "\n",
        "training_sequences = tokenizer.texts_to_sequences(training_sentences)\n",
        "training_padded = pad_sequences(training_sequences, maxlen=max_length, \n",
        "                                padding=padding_type, truncating=trunc_type)\n",
        "\n",
        "testing_sequences = tokenizer.texts_to_sequences(testing_sentences)\n",
        "testing_padded = pad_sequences(testing_sequences, maxlen=max_length, \n",
        "                               padding=padding_type, truncating=trunc_type)"
      ]
    },
    {
      "cell_type": "code",
      "execution_count": 34,
      "metadata": {
        "id": "aejjaJv9kvTl"
      },
      "outputs": [],
      "source": [
        "xs=[]\n",
        "ys=[]\n",
        "cumulative_y=[]\n",
        "total_y=0\n",
        "for word, index in tokenizer.word_index.items():\n",
        "    xs.append(index)\n",
        "    if glove_embeddings.get(word) is not None:\n",
        "        total_y = total_y + 1\n",
        "        ys.append(1)\n",
        "    else:\n",
        "        ys.append(0)\n",
        "    cumulative_y.append(total_y / index)"
      ]
    },
    {
      "cell_type": "code",
      "execution_count": 35,
      "metadata": {
        "id": "w_FHYToNkvTl",
        "outputId": "0f1593f8-c500-4fe1-ef01-ae19ef7660d4",
        "colab": {
          "base_uri": "https://localhost:8080/",
          "height": 157
        }
      },
      "outputs": [
        {
          "output_type": "display_data",
          "data": {
            "text/plain": [
              "<Figure size 864x144 with 1 Axes>"
            ],
            "image/png": "[encoded data removed]"
          },
          "metadata": {
            "needs_background": "light"
          }
        }
      ],
      "source": [
        "fig, ax = plt.subplots(figsize=(12,2))\n",
        "ax.spines['top'].set_visible(False)\n",
        "\n",
        "plt.margins(x=0, y=None, tight=True)\n",
        "#plt.axis([13000, 14000, 0, 1])\n",
        "plt.fill(ys)\n",
        "plt.show()"
      ]
    },
    {
      "cell_type": "code",
      "execution_count": 36,
      "metadata": {
        "id": "u_H25aQnkvTl",
        "outputId": "7c61dff8-3fb1-4392-b29b-48e01e1944ce",
        "colab": {
          "base_uri": "https://localhost:8080/",
          "height": 265
        }
      },
      "outputs": [
        {
          "output_type": "display_data",
          "data": {
            "text/plain": [
              "<Figure size 432x288 with 1 Axes>"
            ],
            "image/png": "[encoded data removed]"
          },
          "metadata": {
            "needs_background": "light"
          }
        }
      ],
      "source": [
        "plt.plot(xs, cumulative_y)\n",
        "plt.axis([0, 25000, .915, .985])\n",
        "plt.show()"
      ]
    },
    {
      "cell_type": "code",
      "execution_count": 37,
      "metadata": {
        "id": "CXDRfiXYkvTl"
      },
      "outputs": [],
      "source": [
        "embedding_matrix = np.zeros((vocab_size, embedding_dim))\n",
        "for word, index in tokenizer.word_index.items():\n",
        "    if index > vocab_size - 1:\n",
        "        break\n",
        "    else:\n",
        "        embedding_vector = glove_embeddings.get(word)\n",
        "        if embedding_vector is not None:\n",
        "            embedding_matrix[index] = embedding_vector"
      ]
    },
    {
      "cell_type": "code",
      "execution_count": 38,
      "metadata": {
        "id": "1MJ9ZPyFkvTl"
      },
      "outputs": [],
      "source": [
        "import numpy as np\n",
        "\n",
        "training_padded = np.array(training_padded)\n",
        "training_labels = np.array(training_labels)\n",
        "testing_padded = np.array(testing_padded)\n",
        "testing_labels = np.array(testing_labels)"
      ]
    },
    {
      "cell_type": "code",
      "execution_count": 39,
      "metadata": {
        "id": "gerdzanDkvTl"
      },
      "outputs": [],
      "source": [
        "model = tf.keras.Sequential([\n",
        "    tf.keras.layers.Embedding(vocab_size, embedding_dim, \n",
        "                              weights=[embedding_matrix], trainable=False),\n",
        "    tf.keras.layers.Bidirectional(tf.keras.layers.LSTM(embedding_dim, \n",
        "                                                       return_sequences=True)),\n",
        "    tf.keras.layers.Bidirectional(tf.keras.layers.LSTM(embedding_dim)),\n",
        "    tf.keras.layers.Dense(24, activation='relu'),\n",
        "    tf.keras.layers.Dense(1, activation='sigmoid')\n",
        "])\n",
        "adam = tf.keras.optimizers.Adam(learning_rate=0.00001, \n",
        "                                beta_1=0.9, beta_2=0.999, amsgrad=False)\n",
        "model.compile(loss='binary_crossentropy',optimizer=adam, metrics=['accuracy'])"
      ]
    },
    {
      "cell_type": "code",
      "execution_count": 40,
      "metadata": {
        "id": "i7SKY75ikvTm",
        "outputId": "7aa9f73e-7512-42ff-fda7-288da3442e74",
        "colab": {
          "base_uri": "https://localhost:8080/"
        }
      },
      "outputs": [
        {
          "output_type": "stream",
          "name": "stdout",
          "text": [
            "Epoch 1/30\n",
            "719/719 [==============================] - 16s 16ms/step - loss: 0.6878 - accuracy: 0.5607 - val_loss: 0.6824 - val_accuracy: 0.5910\n",
            "Epoch 2/30\n",
            "719/719 [==============================] - 10s 14ms/step - loss: 0.6773 - accuracy: 0.5908 - val_loss: 0.6733 - val_accuracy: 0.5907\n",
            "Epoch 3/30\n",
            "719/719 [==============================] - 10s 14ms/step - loss: 0.6667 - accuracy: 0.6083 - val_loss: 0.6625 - val_accuracy: 0.6220\n",
            "Epoch 4/30\n",
            "719/719 [==============================] - 10s 15ms/step - loss: 0.6535 - accuracy: 0.6394 - val_loss: 0.6496 - val_accuracy: 0.6436\n",
            "Epoch 5/30\n",
            "719/719 [==============================] - 10s 14ms/step - loss: 0.6385 - accuracy: 0.6588 - val_loss: 0.6360 - val_accuracy: 0.6541\n",
            "Epoch 6/30\n",
            "719/719 [==============================] - 10s 14ms/step - loss: 0.6238 - accuracy: 0.6693 - val_loss: 0.6238 - val_accuracy: 0.6581\n",
            "Epoch 7/30\n",
            "719/719 [==============================] - 10s 14ms/step - loss: 0.6114 - accuracy: 0.6757 - val_loss: 0.6138 - val_accuracy: 0.6695\n",
            "Epoch 8/30\n",
            "719/719 [==============================] - 10s 14ms/step - loss: 0.6020 - accuracy: 0.6812 - val_loss: 0.6063 - val_accuracy: 0.6765\n",
            "Epoch 9/30\n",
            "719/719 [==============================] - 10s 14ms/step - loss: 0.5952 - accuracy: 0.6848 - val_loss: 0.6013 - val_accuracy: 0.6832\n",
            "Epoch 10/30\n",
            "719/719 [==============================] - 10s 14ms/step - loss: 0.5905 - accuracy: 0.6887 - val_loss: 0.5967 - val_accuracy: 0.6872\n",
            "Epoch 11/30\n",
            "719/719 [==============================] - 10s 14ms/step - loss: 0.5870 - accuracy: 0.6919 - val_loss: 0.5936 - val_accuracy: 0.6889\n",
            "Epoch 12/30\n",
            "719/719 [==============================] - 10s 14ms/step - loss: 0.5841 - accuracy: 0.6964 - val_loss: 0.5912 - val_accuracy: 0.6932\n",
            "Epoch 13/30\n",
            "719/719 [==============================] - 10s 14ms/step - loss: 0.5816 - accuracy: 0.6974 - val_loss: 0.5887 - val_accuracy: 0.6910\n",
            "Epoch 14/30\n",
            "719/719 [==============================] - 10s 14ms/step - loss: 0.5793 - accuracy: 0.6998 - val_loss: 0.5866 - val_accuracy: 0.6956\n",
            "Epoch 15/30\n",
            "719/719 [==============================] - 10s 14ms/step - loss: 0.5773 - accuracy: 0.7011 - val_loss: 0.5845 - val_accuracy: 0.6951\n",
            "Epoch 16/30\n",
            "719/719 [==============================] - 11s 15ms/step - loss: 0.5753 - accuracy: 0.7032 - val_loss: 0.5827 - val_accuracy: 0.6953\n",
            "Epoch 17/30\n",
            "719/719 [==============================] - 10s 15ms/step - loss: 0.5733 - accuracy: 0.7043 - val_loss: 0.5806 - val_accuracy: 0.6978\n",
            "Epoch 18/30\n",
            "719/719 [==============================] - 10s 14ms/step - loss: 0.5713 - accuracy: 0.7068 - val_loss: 0.5787 - val_accuracy: 0.6991\n",
            "Epoch 19/30\n",
            "719/719 [==============================] - 10s 14ms/step - loss: 0.5695 - accuracy: 0.7082 - val_loss: 0.5768 - val_accuracy: 0.7015\n",
            "Epoch 20/30\n",
            "719/719 [==============================] - 10s 14ms/step - loss: 0.5676 - accuracy: 0.7090 - val_loss: 0.5748 - val_accuracy: 0.7021\n",
            "Epoch 21/30\n",
            "719/719 [==============================] - 10s 14ms/step - loss: 0.5658 - accuracy: 0.7099 - val_loss: 0.5730 - val_accuracy: 0.7026\n",
            "Epoch 22/30\n",
            "719/719 [==============================] - 10s 14ms/step - loss: 0.5639 - accuracy: 0.7116 - val_loss: 0.5712 - val_accuracy: 0.7010\n",
            "Epoch 23/30\n",
            "719/719 [==============================] - 10s 14ms/step - loss: 0.5622 - accuracy: 0.7122 - val_loss: 0.5694 - val_accuracy: 0.7026\n",
            "Epoch 24/30\n",
            "719/719 [==============================] - 10s 14ms/step - loss: 0.5604 - accuracy: 0.7147 - val_loss: 0.5675 - val_accuracy: 0.7042\n",
            "Epoch 25/30\n",
            "719/719 [==============================] - 10s 14ms/step - loss: 0.5585 - accuracy: 0.7156 - val_loss: 0.5658 - val_accuracy: 0.7056\n",
            "Epoch 26/30\n",
            "719/719 [==============================] - 10s 14ms/step - loss: 0.5568 - accuracy: 0.7177 - val_loss: 0.5641 - val_accuracy: 0.7083\n",
            "Epoch 27/30\n",
            "719/719 [==============================] - 10s 14ms/step - loss: 0.5549 - accuracy: 0.7191 - val_loss: 0.5626 - val_accuracy: 0.7123\n",
            "Epoch 28/30\n",
            "719/719 [==============================] - 10s 14ms/step - loss: 0.5532 - accuracy: 0.7202 - val_loss: 0.5612 - val_accuracy: 0.7150\n",
            "Epoch 29/30\n",
            "719/719 [==============================] - 10s 14ms/step - loss: 0.5516 - accuracy: 0.7212 - val_loss: 0.5592 - val_accuracy: 0.7145\n",
            "Epoch 30/30\n",
            "719/719 [==============================] - 10s 14ms/step - loss: 0.5498 - accuracy: 0.7236 - val_loss: 0.5585 - val_accuracy: 0.7150\n"
          ]
        }
      ],
      "source": [
        "num_epochs = 30\n",
        "history = model.fit(training_padded, training_labels, epochs=num_epochs, \n",
        "                    validation_data=(testing_padded, testing_labels))"
      ]
    },
    {
      "cell_type": "code",
      "execution_count": 41,
      "metadata": {
        "scrolled": true,
        "id": "3jc1OJ_lkvTm",
        "outputId": "6903d59f-4feb-4a9f-8df4-30a6c83a72be",
        "colab": {
          "base_uri": "https://localhost:8080/",
          "height": 279
        }
      },
      "outputs": [
        {
          "output_type": "display_data",
          "data": {
            "text/plain": [
              "<Figure size 432x288 with 1 Axes>"
            ],
            "image/png": "[encoded data removed]"
          },
          "metadata": {
            "needs_background": "light"
          }
        }
      ],
      "source": [
        "plt.plot(history.history['accuracy'])\n",
        "plt.plot(history.history['val_accuracy'])\n",
        "plt.xlabel('epochs')\n",
        "plt.ylabel('accuracy')\n",
        "plt.legend(['accuracy', 'val_accuracy'])\n",
        "plt.show()"
      ]
    },
    {
      "cell_type": "code",
      "execution_count": 42,
      "metadata": {
        "id": "wMPdYuCekvTo",
        "outputId": "ae767780-94b7-4d18-f9b8-4916d793a283",
        "colab": {
          "base_uri": "https://localhost:8080/",
          "height": 279
        }
      },
      "outputs": [
        {
          "output_type": "display_data",
          "data": {
            "text/plain": [
              "<Figure size 432x288 with 1 Axes>"
            ],
            "image/png": "[encoded data removed]"
          },
          "metadata": {
            "needs_background": "light"
          }
        }
      ],
      "source": [
        "plt.plot(history.history['loss'])\n",
        "plt.plot(history.history['val_loss'])\n",
        "plt.xlabel('epochs')\n",
        "plt.ylabel('loss')\n",
        "plt.legend(['loss', 'val_loss'])\n",
        "plt.show()"
      ]
    },
    {
      "cell_type": "code",
      "execution_count": 43,
      "metadata": {
        "id": "Dt0b4EhKkvTo",
        "outputId": "43259166-6696-4d29-afb6-cf0d97ba6b45",
        "colab": {
          "base_uri": "https://localhost:8080/"
        }
      },
      "outputs": [
        {
          "output_type": "stream",
          "name": "stdout",
          "text": [
            "Epoch 1/150\n",
            "719/719 [==============================] - 16s 16ms/step - loss: 0.6834 - accuracy: 0.5605 - val_loss: 0.6793 - val_accuracy: 0.5708\n",
            "Epoch 2/150\n",
            "719/719 [==============================] - 10s 14ms/step - loss: 0.6746 - accuracy: 0.5753 - val_loss: 0.6706 - val_accuracy: 0.5907\n",
            "Epoch 3/150\n",
            "719/719 [==============================] - 10s 14ms/step - loss: 0.6634 - accuracy: 0.6098 - val_loss: 0.6597 - val_accuracy: 0.6207\n",
            "Epoch 4/150\n",
            "719/719 [==============================] - 10s 14ms/step - loss: 0.6497 - accuracy: 0.6388 - val_loss: 0.6474 - val_accuracy: 0.6349\n",
            "Epoch 5/150\n",
            "719/719 [==============================] - 10s 14ms/step - loss: 0.6361 - accuracy: 0.6523 - val_loss: 0.6358 - val_accuracy: 0.6417\n",
            "Epoch 6/150\n",
            "719/719 [==============================] - 10s 14ms/step - loss: 0.6253 - accuracy: 0.6586 - val_loss: 0.6273 - val_accuracy: 0.6468\n",
            "Epoch 7/150\n",
            "719/719 [==============================] - 10s 14ms/step - loss: 0.6174 - accuracy: 0.6641 - val_loss: 0.6207 - val_accuracy: 0.6511\n",
            "Epoch 8/150\n",
            "719/719 [==============================] - 10s 14ms/step - loss: 0.6116 - accuracy: 0.6678 - val_loss: 0.6157 - val_accuracy: 0.6579\n",
            "Epoch 9/150\n",
            "719/719 [==============================] - 10s 14ms/step - loss: 0.6070 - accuracy: 0.6717 - val_loss: 0.6113 - val_accuracy: 0.6651\n",
            "Epoch 10/150\n",
            "719/719 [==============================] - 10s 14ms/step - loss: 0.6030 - accuracy: 0.6749 - val_loss: 0.6074 - val_accuracy: 0.6668\n",
            "Epoch 11/150\n",
            "719/719 [==============================] - 10s 14ms/step - loss: 0.5994 - accuracy: 0.6797 - val_loss: 0.6037 - val_accuracy: 0.6738\n",
            "Epoch 12/150\n",
            "719/719 [==============================] - 10s 14ms/step - loss: 0.5962 - accuracy: 0.6832 - val_loss: 0.6004 - val_accuracy: 0.6783\n",
            "Epoch 13/150\n",
            "719/719 [==============================] - 10s 14ms/step - loss: 0.5932 - accuracy: 0.6866 - val_loss: 0.5974 - val_accuracy: 0.6816\n",
            "Epoch 14/150\n",
            "719/719 [==============================] - 10s 14ms/step - loss: 0.5904 - accuracy: 0.6887 - val_loss: 0.5946 - val_accuracy: 0.6867\n",
            "Epoch 15/150\n",
            "719/719 [==============================] - 10s 14ms/step - loss: 0.5878 - accuracy: 0.6926 - val_loss: 0.5922 - val_accuracy: 0.6894\n",
            "Epoch 16/150\n",
            "719/719 [==============================] - 10s 14ms/step - loss: 0.5855 - accuracy: 0.6951 - val_loss: 0.5897 - val_accuracy: 0.6924\n",
            "Epoch 17/150\n",
            "719/719 [==============================] - 10s 14ms/step - loss: 0.5832 - accuracy: 0.6972 - val_loss: 0.5874 - val_accuracy: 0.6945\n",
            "Epoch 18/150\n",
            "719/719 [==============================] - 10s 14ms/step - loss: 0.5810 - accuracy: 0.6990 - val_loss: 0.5853 - val_accuracy: 0.6986\n",
            "Epoch 19/150\n",
            "719/719 [==============================] - 10s 14ms/step - loss: 0.5789 - accuracy: 0.7020 - val_loss: 0.5835 - val_accuracy: 0.6999\n",
            "Epoch 20/150\n",
            "719/719 [==============================] - 10s 14ms/step - loss: 0.5771 - accuracy: 0.7028 - val_loss: 0.5815 - val_accuracy: 0.6999\n",
            "Epoch 21/150\n",
            "719/719 [==============================] - 10s 14ms/step - loss: 0.5752 - accuracy: 0.7049 - val_loss: 0.5796 - val_accuracy: 0.7029\n",
            "Epoch 22/150\n",
            "719/719 [==============================] - 10s 14ms/step - loss: 0.5734 - accuracy: 0.7061 - val_loss: 0.5780 - val_accuracy: 0.7048\n",
            "Epoch 23/150\n",
            "719/719 [==============================] - 10s 14ms/step - loss: 0.5716 - accuracy: 0.7079 - val_loss: 0.5764 - val_accuracy: 0.7034\n",
            "Epoch 24/150\n",
            "719/719 [==============================] - 10s 14ms/step - loss: 0.5700 - accuracy: 0.7085 - val_loss: 0.5747 - val_accuracy: 0.7056\n",
            "Epoch 25/150\n",
            "719/719 [==============================] - 10s 14ms/step - loss: 0.5683 - accuracy: 0.7105 - val_loss: 0.5733 - val_accuracy: 0.7064\n",
            "Epoch 26/150\n",
            "719/719 [==============================] - 10s 14ms/step - loss: 0.5667 - accuracy: 0.7127 - val_loss: 0.5718 - val_accuracy: 0.7083\n",
            "Epoch 27/150\n",
            "719/719 [==============================] - 10s 14ms/step - loss: 0.5651 - accuracy: 0.7135 - val_loss: 0.5702 - val_accuracy: 0.7069\n",
            "Epoch 28/150\n",
            "719/719 [==============================] - 10s 14ms/step - loss: 0.5635 - accuracy: 0.7143 - val_loss: 0.5689 - val_accuracy: 0.7048\n",
            "Epoch 29/150\n",
            "719/719 [==============================] - 10s 14ms/step - loss: 0.5620 - accuracy: 0.7164 - val_loss: 0.5672 - val_accuracy: 0.7077\n",
            "Epoch 30/150\n",
            "719/719 [==============================] - 11s 15ms/step - loss: 0.5606 - accuracy: 0.7162 - val_loss: 0.5660 - val_accuracy: 0.7064\n",
            "Epoch 31/150\n",
            "719/719 [==============================] - 10s 14ms/step - loss: 0.5590 - accuracy: 0.7178 - val_loss: 0.5653 - val_accuracy: 0.7075\n",
            "Epoch 32/150\n",
            "719/719 [==============================] - 10s 14ms/step - loss: 0.5577 - accuracy: 0.7186 - val_loss: 0.5638 - val_accuracy: 0.7102\n",
            "Epoch 33/150\n",
            "719/719 [==============================] - 10s 14ms/step - loss: 0.5562 - accuracy: 0.7207 - val_loss: 0.5623 - val_accuracy: 0.7126\n",
            "Epoch 34/150\n",
            "719/719 [==============================] - 10s 14ms/step - loss: 0.5548 - accuracy: 0.7207 - val_loss: 0.5609 - val_accuracy: 0.7145\n",
            "Epoch 35/150\n",
            "719/719 [==============================] - 10s 14ms/step - loss: 0.5535 - accuracy: 0.7233 - val_loss: 0.5595 - val_accuracy: 0.7147\n",
            "Epoch 36/150\n",
            "719/719 [==============================] - 10s 14ms/step - loss: 0.5521 - accuracy: 0.7243 - val_loss: 0.5584 - val_accuracy: 0.7174\n",
            "Epoch 37/150\n",
            "719/719 [==============================] - 10s 14ms/step - loss: 0.5508 - accuracy: 0.7250 - val_loss: 0.5575 - val_accuracy: 0.7156\n",
            "Epoch 38/150\n",
            "719/719 [==============================] - 10s 14ms/step - loss: 0.5496 - accuracy: 0.7260 - val_loss: 0.5563 - val_accuracy: 0.7174\n",
            "Epoch 39/150\n",
            "719/719 [==============================] - 10s 14ms/step - loss: 0.5482 - accuracy: 0.7289 - val_loss: 0.5555 - val_accuracy: 0.7153\n",
            "Epoch 40/150\n",
            "719/719 [==============================] - 10s 14ms/step - loss: 0.5471 - accuracy: 0.7288 - val_loss: 0.5538 - val_accuracy: 0.7207\n",
            "Epoch 41/150\n",
            "719/719 [==============================] - 10s 14ms/step - loss: 0.5459 - accuracy: 0.7288 - val_loss: 0.5529 - val_accuracy: 0.7204\n",
            "Epoch 42/150\n",
            "719/719 [==============================] - 10s 14ms/step - loss: 0.5447 - accuracy: 0.7305 - val_loss: 0.5518 - val_accuracy: 0.7215\n",
            "Epoch 43/150\n",
            "719/719 [==============================] - 10s 14ms/step - loss: 0.5436 - accuracy: 0.7312 - val_loss: 0.5508 - val_accuracy: 0.7209\n",
            "Epoch 44/150\n",
            "719/719 [==============================] - 10s 14ms/step - loss: 0.5425 - accuracy: 0.7316 - val_loss: 0.5499 - val_accuracy: 0.7220\n",
            "Epoch 45/150\n",
            "719/719 [==============================] - 10s 14ms/step - loss: 0.5413 - accuracy: 0.7317 - val_loss: 0.5490 - val_accuracy: 0.7231\n",
            "Epoch 46/150\n",
            "719/719 [==============================] - 10s 14ms/step - loss: 0.5403 - accuracy: 0.7327 - val_loss: 0.5480 - val_accuracy: 0.7218\n",
            "Epoch 47/150\n",
            "719/719 [==============================] - 10s 14ms/step - loss: 0.5391 - accuracy: 0.7340 - val_loss: 0.5472 - val_accuracy: 0.7266\n",
            "Epoch 48/150\n",
            "719/719 [==============================] - 10s 14ms/step - loss: 0.5382 - accuracy: 0.7339 - val_loss: 0.5459 - val_accuracy: 0.7261\n",
            "Epoch 49/150\n",
            "719/719 [==============================] - 10s 14ms/step - loss: 0.5370 - accuracy: 0.7353 - val_loss: 0.5453 - val_accuracy: 0.7223\n",
            "Epoch 50/150\n",
            "719/719 [==============================] - 10s 14ms/step - loss: 0.5360 - accuracy: 0.7368 - val_loss: 0.5443 - val_accuracy: 0.7266\n",
            "Epoch 51/150\n",
            "719/719 [==============================] - 10s 14ms/step - loss: 0.5350 - accuracy: 0.7375 - val_loss: 0.5435 - val_accuracy: 0.7258\n",
            "Epoch 52/150\n",
            "719/719 [==============================] - 10s 14ms/step - loss: 0.5341 - accuracy: 0.7372 - val_loss: 0.5423 - val_accuracy: 0.7266\n",
            "Epoch 53/150\n",
            "719/719 [==============================] - 10s 14ms/step - loss: 0.5331 - accuracy: 0.7392 - val_loss: 0.5419 - val_accuracy: 0.7253\n",
            "Epoch 54/150\n",
            "719/719 [==============================] - 10s 14ms/step - loss: 0.5321 - accuracy: 0.7382 - val_loss: 0.5419 - val_accuracy: 0.7242\n",
            "Epoch 55/150\n",
            "719/719 [==============================] - 10s 14ms/step - loss: 0.5312 - accuracy: 0.7396 - val_loss: 0.5401 - val_accuracy: 0.7272\n",
            "Epoch 56/150\n",
            "719/719 [==============================] - 10s 14ms/step - loss: 0.5303 - accuracy: 0.7403 - val_loss: 0.5391 - val_accuracy: 0.7290\n",
            "Epoch 57/150\n",
            "719/719 [==============================] - 10s 14ms/step - loss: 0.5293 - accuracy: 0.7407 - val_loss: 0.5387 - val_accuracy: 0.7282\n",
            "Epoch 58/150\n",
            "719/719 [==============================] - 10s 14ms/step - loss: 0.5285 - accuracy: 0.7419 - val_loss: 0.5377 - val_accuracy: 0.7290\n",
            "Epoch 59/150\n",
            "719/719 [==============================] - 10s 14ms/step - loss: 0.5275 - accuracy: 0.7430 - val_loss: 0.5368 - val_accuracy: 0.7274\n",
            "Epoch 60/150\n",
            "719/719 [==============================] - 10s 14ms/step - loss: 0.5267 - accuracy: 0.7429 - val_loss: 0.5363 - val_accuracy: 0.7312\n",
            "Epoch 61/150\n",
            "719/719 [==============================] - 10s 14ms/step - loss: 0.5257 - accuracy: 0.7428 - val_loss: 0.5356 - val_accuracy: 0.7298\n",
            "Epoch 62/150\n",
            "719/719 [==============================] - 10s 14ms/step - loss: 0.5247 - accuracy: 0.7455 - val_loss: 0.5347 - val_accuracy: 0.7296\n",
            "Epoch 63/150\n",
            "719/719 [==============================] - 10s 14ms/step - loss: 0.5241 - accuracy: 0.7447 - val_loss: 0.5340 - val_accuracy: 0.7307\n",
            "Epoch 64/150\n",
            "719/719 [==============================] - 10s 14ms/step - loss: 0.5232 - accuracy: 0.7437 - val_loss: 0.5328 - val_accuracy: 0.7293\n",
            "Epoch 65/150\n",
            "719/719 [==============================] - 10s 14ms/step - loss: 0.5224 - accuracy: 0.7448 - val_loss: 0.5327 - val_accuracy: 0.7317\n",
            "Epoch 66/150\n",
            "719/719 [==============================] - 10s 14ms/step - loss: 0.5216 - accuracy: 0.7457 - val_loss: 0.5317 - val_accuracy: 0.7320\n",
            "Epoch 67/150\n",
            "719/719 [==============================] - 10s 14ms/step - loss: 0.5207 - accuracy: 0.7458 - val_loss: 0.5307 - val_accuracy: 0.7307\n",
            "Epoch 68/150\n",
            "719/719 [==============================] - 10s 14ms/step - loss: 0.5197 - accuracy: 0.7464 - val_loss: 0.5301 - val_accuracy: 0.7307\n",
            "Epoch 69/150\n",
            "719/719 [==============================] - 10s 14ms/step - loss: 0.5190 - accuracy: 0.7463 - val_loss: 0.5297 - val_accuracy: 0.7339\n",
            "Epoch 70/150\n",
            "719/719 [==============================] - 10s 14ms/step - loss: 0.5182 - accuracy: 0.7477 - val_loss: 0.5288 - val_accuracy: 0.7339\n",
            "Epoch 71/150\n",
            "719/719 [==============================] - 10s 14ms/step - loss: 0.5175 - accuracy: 0.7481 - val_loss: 0.5280 - val_accuracy: 0.7331\n",
            "Epoch 72/150\n",
            "719/719 [==============================] - 10s 14ms/step - loss: 0.5167 - accuracy: 0.7480 - val_loss: 0.5273 - val_accuracy: 0.7342\n",
            "Epoch 73/150\n",
            "719/719 [==============================] - 10s 14ms/step - loss: 0.5158 - accuracy: 0.7493 - val_loss: 0.5269 - val_accuracy: 0.7342\n",
            "Epoch 74/150\n",
            "719/719 [==============================] - 10s 14ms/step - loss: 0.5150 - accuracy: 0.7487 - val_loss: 0.5265 - val_accuracy: 0.7360\n",
            "Epoch 75/150\n",
            "719/719 [==============================] - 10s 14ms/step - loss: 0.5142 - accuracy: 0.7495 - val_loss: 0.5254 - val_accuracy: 0.7371\n",
            "Epoch 76/150\n",
            "719/719 [==============================] - 10s 14ms/step - loss: 0.5134 - accuracy: 0.7495 - val_loss: 0.5248 - val_accuracy: 0.7366\n",
            "Epoch 77/150\n",
            "719/719 [==============================] - 10s 15ms/step - loss: 0.5127 - accuracy: 0.7504 - val_loss: 0.5244 - val_accuracy: 0.7377\n",
            "Epoch 78/150\n",
            "719/719 [==============================] - 10s 14ms/step - loss: 0.5119 - accuracy: 0.7515 - val_loss: 0.5242 - val_accuracy: 0.7369\n",
            "Epoch 79/150\n",
            "719/719 [==============================] - 10s 14ms/step - loss: 0.5112 - accuracy: 0.7514 - val_loss: 0.5232 - val_accuracy: 0.7393\n",
            "Epoch 80/150\n",
            "719/719 [==============================] - 10s 14ms/step - loss: 0.5104 - accuracy: 0.7519 - val_loss: 0.5224 - val_accuracy: 0.7398\n",
            "Epoch 81/150\n",
            "719/719 [==============================] - 10s 14ms/step - loss: 0.5098 - accuracy: 0.7520 - val_loss: 0.5219 - val_accuracy: 0.7398\n",
            "Epoch 82/150\n",
            "719/719 [==============================] - 10s 14ms/step - loss: 0.5090 - accuracy: 0.7530 - val_loss: 0.5207 - val_accuracy: 0.7393\n",
            "Epoch 83/150\n",
            "719/719 [==============================] - 10s 14ms/step - loss: 0.5081 - accuracy: 0.7540 - val_loss: 0.5206 - val_accuracy: 0.7412\n",
            "Epoch 84/150\n",
            "719/719 [==============================] - 10s 14ms/step - loss: 0.5074 - accuracy: 0.7537 - val_loss: 0.5199 - val_accuracy: 0.7422\n",
            "Epoch 85/150\n",
            "719/719 [==============================] - 10s 14ms/step - loss: 0.5070 - accuracy: 0.7538 - val_loss: 0.5190 - val_accuracy: 0.7428\n",
            "Epoch 86/150\n",
            "719/719 [==============================] - 10s 14ms/step - loss: 0.5061 - accuracy: 0.7550 - val_loss: 0.5183 - val_accuracy: 0.7433\n",
            "Epoch 87/150\n",
            "719/719 [==============================] - 10s 14ms/step - loss: 0.5053 - accuracy: 0.7550 - val_loss: 0.5178 - val_accuracy: 0.7417\n",
            "Epoch 88/150\n",
            "719/719 [==============================] - 11s 15ms/step - loss: 0.5047 - accuracy: 0.7550 - val_loss: 0.5171 - val_accuracy: 0.7420\n",
            "Epoch 89/150\n",
            "719/719 [==============================] - 10s 14ms/step - loss: 0.5039 - accuracy: 0.7567 - val_loss: 0.5164 - val_accuracy: 0.7433\n",
            "Epoch 90/150\n",
            "719/719 [==============================] - 10s 14ms/step - loss: 0.5032 - accuracy: 0.7561 - val_loss: 0.5164 - val_accuracy: 0.7447\n",
            "Epoch 91/150\n",
            "719/719 [==============================] - 10s 14ms/step - loss: 0.5027 - accuracy: 0.7564 - val_loss: 0.5151 - val_accuracy: 0.7444\n",
            "Epoch 92/150\n",
            "719/719 [==============================] - 10s 14ms/step - loss: 0.5019 - accuracy: 0.7577 - val_loss: 0.5151 - val_accuracy: 0.7447\n",
            "Epoch 93/150\n",
            "719/719 [==============================] - 10s 14ms/step - loss: 0.5012 - accuracy: 0.7575 - val_loss: 0.5142 - val_accuracy: 0.7455\n",
            "Epoch 94/150\n",
            "719/719 [==============================] - 10s 14ms/step - loss: 0.5005 - accuracy: 0.7580 - val_loss: 0.5140 - val_accuracy: 0.7436\n",
            "Epoch 95/150\n",
            "719/719 [==============================] - 10s 14ms/step - loss: 0.4999 - accuracy: 0.7593 - val_loss: 0.5133 - val_accuracy: 0.7474\n",
            "Epoch 96/150\n",
            "719/719 [==============================] - 10s 14ms/step - loss: 0.4991 - accuracy: 0.7595 - val_loss: 0.5138 - val_accuracy: 0.7476\n",
            "Epoch 97/150\n",
            "719/719 [==============================] - 10s 14ms/step - loss: 0.4985 - accuracy: 0.7593 - val_loss: 0.5130 - val_accuracy: 0.7484\n",
            "Epoch 98/150\n",
            "719/719 [==============================] - 10s 14ms/step - loss: 0.4976 - accuracy: 0.7597 - val_loss: 0.5113 - val_accuracy: 0.7463\n",
            "Epoch 99/150\n",
            "719/719 [==============================] - 10s 14ms/step - loss: 0.4973 - accuracy: 0.7606 - val_loss: 0.5108 - val_accuracy: 0.7476\n",
            "Epoch 100/150\n",
            "719/719 [==============================] - 10s 15ms/step - loss: 0.4965 - accuracy: 0.7607 - val_loss: 0.5109 - val_accuracy: 0.7474\n",
            "Epoch 101/150\n",
            "719/719 [==============================] - 10s 14ms/step - loss: 0.4959 - accuracy: 0.7606 - val_loss: 0.5104 - val_accuracy: 0.7493\n",
            "Epoch 102/150\n",
            "719/719 [==============================] - 10s 14ms/step - loss: 0.4952 - accuracy: 0.7617 - val_loss: 0.5093 - val_accuracy: 0.7493\n",
            "Epoch 103/150\n",
            "719/719 [==============================] - 11s 15ms/step - loss: 0.4946 - accuracy: 0.7628 - val_loss: 0.5086 - val_accuracy: 0.7476\n",
            "Epoch 104/150\n",
            "719/719 [==============================] - 11s 15ms/step - loss: 0.4939 - accuracy: 0.7625 - val_loss: 0.5087 - val_accuracy: 0.7503\n",
            "Epoch 105/150\n",
            "719/719 [==============================] - 10s 14ms/step - loss: 0.4933 - accuracy: 0.7636 - val_loss: 0.5084 - val_accuracy: 0.7503\n",
            "Epoch 106/150\n",
            "719/719 [==============================] - 10s 15ms/step - loss: 0.4929 - accuracy: 0.7634 - val_loss: 0.5073 - val_accuracy: 0.7501\n",
            "Epoch 107/150\n",
            "719/719 [==============================] - 10s 14ms/step - loss: 0.4921 - accuracy: 0.7636 - val_loss: 0.5073 - val_accuracy: 0.7514\n",
            "Epoch 108/150\n",
            "719/719 [==============================] - 11s 15ms/step - loss: 0.4915 - accuracy: 0.7643 - val_loss: 0.5067 - val_accuracy: 0.7514\n",
            "Epoch 109/150\n",
            "719/719 [==============================] - 10s 14ms/step - loss: 0.4911 - accuracy: 0.7637 - val_loss: 0.5064 - val_accuracy: 0.7522\n",
            "Epoch 110/150\n",
            "719/719 [==============================] - 10s 14ms/step - loss: 0.4903 - accuracy: 0.7644 - val_loss: 0.5057 - val_accuracy: 0.7511\n",
            "Epoch 111/150\n",
            "719/719 [==============================] - 10s 14ms/step - loss: 0.4897 - accuracy: 0.7657 - val_loss: 0.5054 - val_accuracy: 0.7528\n",
            "Epoch 112/150\n",
            "719/719 [==============================] - 11s 15ms/step - loss: 0.4890 - accuracy: 0.7651 - val_loss: 0.5046 - val_accuracy: 0.7530\n",
            "Epoch 113/150\n",
            "719/719 [==============================] - 10s 14ms/step - loss: 0.4886 - accuracy: 0.7657 - val_loss: 0.5066 - val_accuracy: 0.7538\n",
            "Epoch 114/150\n",
            "719/719 [==============================] - 10s 14ms/step - loss: 0.4882 - accuracy: 0.7660 - val_loss: 0.5037 - val_accuracy: 0.7533\n",
            "Epoch 115/150\n",
            "719/719 [==============================] - 10s 14ms/step - loss: 0.4876 - accuracy: 0.7663 - val_loss: 0.5029 - val_accuracy: 0.7547\n",
            "Epoch 116/150\n",
            "719/719 [==============================] - 10s 14ms/step - loss: 0.4868 - accuracy: 0.7667 - val_loss: 0.5042 - val_accuracy: 0.7544\n",
            "Epoch 117/150\n",
            "719/719 [==============================] - 11s 15ms/step - loss: 0.4864 - accuracy: 0.7670 - val_loss: 0.5041 - val_accuracy: 0.7520\n",
            "Epoch 118/150\n",
            "719/719 [==============================] - 11s 15ms/step - loss: 0.4858 - accuracy: 0.7675 - val_loss: 0.5029 - val_accuracy: 0.7552\n",
            "Epoch 119/150\n",
            "719/719 [==============================] - 10s 15ms/step - loss: 0.4852 - accuracy: 0.7680 - val_loss: 0.5015 - val_accuracy: 0.7549\n",
            "Epoch 120/150\n",
            "719/719 [==============================] - 10s 15ms/step - loss: 0.4847 - accuracy: 0.7671 - val_loss: 0.5039 - val_accuracy: 0.7576\n",
            "Epoch 121/150\n",
            "719/719 [==============================] - 10s 14ms/step - loss: 0.4844 - accuracy: 0.7678 - val_loss: 0.5010 - val_accuracy: 0.7533\n",
            "Epoch 122/150\n",
            "719/719 [==============================] - 10s 15ms/step - loss: 0.4837 - accuracy: 0.7691 - val_loss: 0.5007 - val_accuracy: 0.7538\n",
            "Epoch 123/150\n",
            "719/719 [==============================] - 10s 14ms/step - loss: 0.4831 - accuracy: 0.7683 - val_loss: 0.5009 - val_accuracy: 0.7587\n",
            "Epoch 124/150\n",
            "719/719 [==============================] - 10s 15ms/step - loss: 0.4828 - accuracy: 0.7690 - val_loss: 0.5000 - val_accuracy: 0.7571\n",
            "Epoch 125/150\n",
            "719/719 [==============================] - 10s 14ms/step - loss: 0.4821 - accuracy: 0.7701 - val_loss: 0.4994 - val_accuracy: 0.7573\n",
            "Epoch 126/150\n",
            "719/719 [==============================] - 10s 15ms/step - loss: 0.4817 - accuracy: 0.7703 - val_loss: 0.5000 - val_accuracy: 0.7563\n",
            "Epoch 127/150\n",
            "719/719 [==============================] - 11s 15ms/step - loss: 0.4811 - accuracy: 0.7700 - val_loss: 0.4994 - val_accuracy: 0.7573\n",
            "Epoch 128/150\n",
            "719/719 [==============================] - 10s 14ms/step - loss: 0.4807 - accuracy: 0.7712 - val_loss: 0.5001 - val_accuracy: 0.7568\n",
            "Epoch 129/150\n",
            "719/719 [==============================] - 10s 14ms/step - loss: 0.4801 - accuracy: 0.7708 - val_loss: 0.4987 - val_accuracy: 0.7549\n",
            "Epoch 130/150\n",
            "719/719 [==============================] - 10s 15ms/step - loss: 0.4797 - accuracy: 0.7710 - val_loss: 0.4980 - val_accuracy: 0.7563\n",
            "Epoch 131/150\n",
            "719/719 [==============================] - 10s 15ms/step - loss: 0.4790 - accuracy: 0.7720 - val_loss: 0.4983 - val_accuracy: 0.7525\n",
            "Epoch 132/150\n",
            "719/719 [==============================] - 10s 14ms/step - loss: 0.4787 - accuracy: 0.7720 - val_loss: 0.4978 - val_accuracy: 0.7544\n",
            "Epoch 133/150\n",
            "719/719 [==============================] - 11s 15ms/step - loss: 0.4782 - accuracy: 0.7722 - val_loss: 0.4975 - val_accuracy: 0.7541\n",
            "Epoch 134/150\n",
            "719/719 [==============================] - 10s 14ms/step - loss: 0.4778 - accuracy: 0.7723 - val_loss: 0.4966 - val_accuracy: 0.7536\n",
            "Epoch 135/150\n",
            "719/719 [==============================] - 10s 15ms/step - loss: 0.4773 - accuracy: 0.7725 - val_loss: 0.4967 - val_accuracy: 0.7579\n",
            "Epoch 136/150\n",
            "719/719 [==============================] - 10s 14ms/step - loss: 0.4767 - accuracy: 0.7739 - val_loss: 0.4961 - val_accuracy: 0.7544\n",
            "Epoch 137/150\n",
            "719/719 [==============================] - 10s 15ms/step - loss: 0.4762 - accuracy: 0.7720 - val_loss: 0.4956 - val_accuracy: 0.7557\n",
            "Epoch 138/150\n",
            "719/719 [==============================] - 11s 15ms/step - loss: 0.4758 - accuracy: 0.7737 - val_loss: 0.4959 - val_accuracy: 0.7568\n",
            "Epoch 139/150\n",
            "719/719 [==============================] - 10s 14ms/step - loss: 0.4754 - accuracy: 0.7739 - val_loss: 0.4955 - val_accuracy: 0.7568\n",
            "Epoch 140/150\n",
            "719/719 [==============================] - 10s 15ms/step - loss: 0.4750 - accuracy: 0.7743 - val_loss: 0.4953 - val_accuracy: 0.7595\n",
            "Epoch 141/150\n",
            "719/719 [==============================] - 10s 15ms/step - loss: 0.4743 - accuracy: 0.7749 - val_loss: 0.4947 - val_accuracy: 0.7582\n",
            "Epoch 142/150\n",
            "719/719 [==============================] - 11s 15ms/step - loss: 0.4740 - accuracy: 0.7755 - val_loss: 0.4952 - val_accuracy: 0.7587\n",
            "Epoch 143/150\n",
            "719/719 [==============================] - 10s 15ms/step - loss: 0.4736 - accuracy: 0.7760 - val_loss: 0.4944 - val_accuracy: 0.7598\n",
            "Epoch 144/150\n",
            "719/719 [==============================] - 10s 15ms/step - loss: 0.4729 - accuracy: 0.7760 - val_loss: 0.4953 - val_accuracy: 0.7598\n",
            "Epoch 145/150\n",
            "719/719 [==============================] - 11s 15ms/step - loss: 0.4726 - accuracy: 0.7743 - val_loss: 0.4939 - val_accuracy: 0.7590\n",
            "Epoch 146/150\n",
            "719/719 [==============================] - 11s 15ms/step - loss: 0.4721 - accuracy: 0.7758 - val_loss: 0.4936 - val_accuracy: 0.7584\n",
            "Epoch 147/150\n",
            "719/719 [==============================] - 10s 15ms/step - loss: 0.4715 - accuracy: 0.7770 - val_loss: 0.4932 - val_accuracy: 0.7600\n",
            "Epoch 148/150\n",
            "719/719 [==============================] - 10s 14ms/step - loss: 0.4712 - accuracy: 0.7762 - val_loss: 0.4927 - val_accuracy: 0.7595\n",
            "Epoch 149/150\n",
            "719/719 [==============================] - 10s 15ms/step - loss: 0.4708 - accuracy: 0.7767 - val_loss: 0.4926 - val_accuracy: 0.7609\n",
            "Epoch 150/150\n",
            "719/719 [==============================] - 10s 14ms/step - loss: 0.4704 - accuracy: 0.7775 - val_loss: 0.4928 - val_accuracy: 0.7592\n"
          ]
        }
      ],
      "source": [
        "model = tf.keras.Sequential([\n",
        "    tf.keras.layers.Embedding(vocab_size, embedding_dim, \n",
        "                              weights=[embedding_matrix], trainable=False),\n",
        "    tf.keras.layers.Bidirectional(tf.keras.layers.LSTM(embedding_dim, \n",
        "                                                       return_sequences=True)),\n",
        "    tf.keras.layers.Bidirectional(tf.keras.layers.LSTM(embedding_dim)),\n",
        "    tf.keras.layers.Dense(24, activation='relu'),\n",
        "    tf.keras.layers.Dense(1, activation='sigmoid')\n",
        "])\n",
        "adam = tf.keras.optimizers.Adam(learning_rate=0.00001, \n",
        "                                beta_1=0.9, beta_2=0.999, amsgrad=False)\n",
        "model.compile(loss='binary_crossentropy',optimizer=adam, metrics=['accuracy'])\n",
        "\n",
        "num_epochs = 150\n",
        "history = model.fit(training_padded, training_labels, epochs=num_epochs, \n",
        "                    validation_data=(testing_padded, testing_labels))"
      ]
    },
    {
      "cell_type": "code",
      "execution_count": 44,
      "metadata": {
        "scrolled": true,
        "id": "EGFoXkQbkvTo",
        "outputId": "08bbcf0b-a6d8-4438-e581-71519e5e5a5f",
        "colab": {
          "base_uri": "https://localhost:8080/",
          "height": 279
        }
      },
      "outputs": [
        {
          "output_type": "display_data",
          "data": {
            "text/plain": [
              "<Figure size 432x288 with 1 Axes>"
            ],
            "image/png": "[encoded data removed]"
          },
          "metadata": {
            "needs_background": "light"
          }
        }
      ],
      "source": [
        "plt.plot(history.history['accuracy'])\n",
        "plt.plot(history.history['val_accuracy'])\n",
        "plt.xlabel('epochs')\n",
        "plt.ylabel('accuracy')\n",
        "plt.legend(['accuracy', 'val_accuracy'])\n",
        "plt.show()"
      ]
    },
    {
      "cell_type": "code",
      "execution_count": 45,
      "metadata": {
        "id": "DXkJ1hEUkvTo",
        "outputId": "45cd2ca1-e9e6-4145-a6e0-eb6d33d40cae",
        "colab": {
          "base_uri": "https://localhost:8080/",
          "height": 279
        }
      },
      "outputs": [
        {
          "output_type": "display_data",
          "data": {
            "text/plain": [
              "<Figure size 432x288 with 1 Axes>"
            ],
            "image/png": "[encoded data removed]"
          },
          "metadata": {
            "needs_background": "light"
          }
        }
      ],
      "source": [
        "plt.plot(history.history['loss'])\n",
        "plt.plot(history.history['val_loss'])\n",
        "plt.xlabel('epochs')\n",
        "plt.ylabel('loss')\n",
        "plt.legend(['loss', 'val_loss'])\n",
        "plt.show()"
      ]
    },
    {
      "cell_type": "code",
      "execution_count": 46,
      "metadata": {
        "id": "6dRmDzdvkvTo",
        "outputId": "b102cb42-a5e1-47f2-fe43-c2ea169cc27d",
        "colab": {
          "base_uri": "https://localhost:8080/"
        }
      },
      "outputs": [
        {
          "output_type": "stream",
          "name": "stdout",
          "text": [
            "[[0.59354866]\n",
            " [0.08031139]\n",
            " [0.77666056]\n",
            " [0.83346194]]\n"
          ]
        }
      ],
      "source": [
        "test_sentences = [\"It Was, For, Uh, Medical Reasons, Says Doctor To Boris Johnson, Explaining Why They Had To Give Him Haircut\",\n",
        "                  \"It's a beautiful sunny day\",\n",
        "                  \"I lived in Ireland, so in High School they made me learn to speak and write in Gaelic\",\n",
        "                  \"Census Foot Soldiers Swarm Neighborhoods, Kick Down Doors To Tally Household Sizes\"]\n",
        "\n",
        "sequences = tokenizer.texts_to_sequences(test_sentences)\n",
        "padded = pad_sequences(sequences, maxlen=max_length, \n",
        "                       padding=padding_type, truncating=trunc_type)\n",
        "predictions = model.predict(padded)\n",
        "print(predictions)"
      ]
    }
  ],
  "metadata": {
    "kernelspec": {
      "display_name": "Python 3 (ipykernel)",
      "language": "python",
      "name": "python3"
    },
    "language_info": {
      "codemirror_mode": {
        "name": "ipython",
        "version": 3
      },
      "file_extension": ".py",
      "mimetype": "text/x-python",
      "name": "python",
      "nbconvert_exporter": "python",
      "pygments_lexer": "ipython3",
      "version": "3.7.3"
    },
    "colab": {
      "name": "07-rnn.ipynb",
      "provenance": []
    },
    "accelerator": "GPU",
    "gpuClass": "standard"
  },
  "nbformat": 4,
  "nbformat_minor": 0
}