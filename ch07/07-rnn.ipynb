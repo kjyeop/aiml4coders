{
  "cells": [
    {
      "cell_type": "markdown",
      "metadata": {
        "id": "e9w8FGeOkvTX"
      },
      "source": [
        "# 7장. 자연어 처리를 위한 순환 신경망"
      ]
    },
    {
      "cell_type": "markdown",
      "metadata": {
        "id": "Y6qI5csekvTa"
      },
      "source": [
        "<table class=\"tfo-notebook-buttons\" align=\"left\">\n",
        "  <td>\n",
        "    <a target=\"_blank\" href=\"https://nbviewer.jupyter.org/github/rickiepark/aiml4coders/blob/main/ch07/07-rnn.ipynb\"><img src=\"https://jupyter.org/assets/share.png\" width=\"61\" />주피터 노트북 뷰어로 보기</a>\n",
        "  </td>\n",
        "  <td>\n",
        "    <a target=\"_blank\" href=\"https://colab.research.google.com/github/rickiepark/aiml4coders/blob/main/ch07/07-rnn.ipynb\"><img src=\"https://www.tensorflow.org/images/colab_logo_32px.png\" />구글 코랩(Colab)에서 실행하기</a>\n",
        "  </td>\n",
        "</table>"
      ]
    },
    {
      "cell_type": "code",
      "execution_count": 1,
      "metadata": {
        "id": "qN-MyJ5hkvTb"
      },
      "outputs": [],
      "source": [
        "# 노트북이 코랩에서 실행 중인지 체크합니다.\n",
        "import sys\n",
        "if 'google.colab' in sys.modules:\n",
        "    !wget -q https://github.com/rickiepark/aiml4coders/raw/main/ch05/sarcasm.json\n",
        "    !mkdir ../ch05\n",
        "    !mv sarcasm.json ../ch05"
      ]
    },
    {
      "cell_type": "markdown",
      "metadata": {
        "id": "nPz0mCbgkvTc"
      },
      "source": [
        "## RNN으로 텍스트 분류기 만들기"
      ]
    },
    {
      "cell_type": "code",
      "execution_count": 2,
      "metadata": {
        "id": "-yID99gEkvTc"
      },
      "outputs": [],
      "source": [
        "import json\n",
        "from tensorflow.keras.preprocessing.text import Tokenizer\n",
        "from tensorflow.keras.preprocessing.sequence import pad_sequences\n",
        "from bs4 import BeautifulSoup\n",
        "import string\n",
        "import tensorflow as tf"
      ]
    },
    {
      "cell_type": "code",
      "execution_count": 3,
      "metadata": {
        "id": "1-wOMl6TkvTc"
      },
      "outputs": [],
      "source": [
        "stopwords = [\"a\", \"about\", \"above\", \"after\", \"again\", \"against\", \"all\", \"am\", \"an\", \"and\", \"any\", \"are\", \"as\", \"at\",\n",
        "             \"be\", \"because\", \"been\", \"before\", \"being\", \"below\", \"between\", \"both\", \"but\", \"by\", \"could\", \"did\", \"do\",\n",
        "             \"does\", \"doing\", \"down\", \"during\", \"each\", \"few\", \"for\", \"from\", \"further\", \"had\", \"has\", \"have\", \"having\",\n",
        "             \"he\", \"hed\", \"hes\", \"her\", \"here\", \"heres\", \"hers\", \"herself\", \"him\", \"himself\", \"his\", \"how\",\n",
        "             \"hows\", \"i\", \"id\", \"ill\", \"im\", \"ive\", \"if\", \"in\", \"into\", \"is\", \"it\", \"its\", \"itself\",\n",
        "             \"lets\", \"me\", \"more\", \"most\", \"my\", \"myself\", \"nor\", \"of\", \"on\", \"once\", \"only\", \"or\", \"other\", \"ought\",\n",
        "             \"our\", \"ours\", \"ourselves\", \"out\", \"over\", \"own\", \"same\", \"she\", \"shed\", \"shell\", \"shes\", \"should\",\n",
        "             \"so\", \"some\", \"such\", \"than\", \"that\", \"thats\", \"the\", \"their\", \"theirs\", \"them\", \"themselves\", \"then\",\n",
        "             \"there\", \"theres\", \"these\", \"they\", \"theyd\", \"theyll\", \"theyre\", \"theyve\", \"this\", \"those\", \"through\",\n",
        "             \"to\", \"too\", \"under\", \"until\", \"up\", \"very\", \"was\", \"we\", \"wed\", \"well\", \"were\", \"weve\", \"were\",\n",
        "             \"what\", \"whats\", \"when\", \"whens\", \"where\", \"wheres\", \"which\", \"while\", \"who\", \"whos\", \"whom\", \"why\",\n",
        "             \"whys\", \"with\", \"would\", \"you\", \"youd\", \"youll\", \"youre\", \"youve\", \"your\", \"yours\", \"yourself\",\n",
        "             \"yourselves\"]\n",
        "\n",
        "table = str.maketrans('', '', string.punctuation)"
      ]
    },
    {
      "cell_type": "code",
      "execution_count": 4,
      "metadata": {
        "id": "nR8C9dY_kvTd"
      },
      "outputs": [],
      "source": [
        "with open(\"../ch05/sarcasm.json\", 'r') as f:\n",
        "    datastore = json.load(f)\n",
        "\n",
        "sentences = [] \n",
        "labels = []\n",
        "urls = []\n",
        "for item in datastore:\n",
        "    sentence = item['headline'].lower()\n",
        "    sentence = sentence.replace(\",\", \" , \")\n",
        "    sentence = sentence.replace(\".\", \" . \")\n",
        "    sentence = sentence.replace(\"-\", \" - \")\n",
        "    sentence = sentence.replace(\"/\", \" / \")\n",
        "    soup = BeautifulSoup(sentence)\n",
        "    sentence = soup.get_text()\n",
        "    words = sentence.split()\n",
        "    filtered_sentence = \"\"\n",
        "    for word in words:\n",
        "        word = word.translate(table)\n",
        "        if word not in stopwords:\n",
        "            filtered_sentence = filtered_sentence + word + \" \"\n",
        "    sentences.append(filtered_sentence)\n",
        "    labels.append(item['is_sarcastic'])\n",
        "    urls.append(item['article_link'])"
      ]
    },
    {
      "cell_type": "code",
      "execution_count": 5,
      "metadata": {
        "id": "WkotjgtskvTd"
      },
      "outputs": [],
      "source": [
        "vocab_size = 20000\n",
        "embedding_dim = 64\n",
        "max_length = 100\n",
        "trunc_type='post'\n",
        "padding_type='post'\n",
        "oov_tok = \"<OOV>\"\n",
        "training_size = 23000"
      ]
    },
    {
      "cell_type": "code",
      "execution_count": 6,
      "metadata": {
        "id": "GASt0tGYkvTe"
      },
      "outputs": [],
      "source": [
        "training_sentences = sentences[0:training_size]\n",
        "testing_sentences = sentences[training_size:]\n",
        "training_labels = labels[0:training_size]\n",
        "testing_labels = labels[training_size:]"
      ]
    },
    {
      "cell_type": "code",
      "execution_count": 7,
      "metadata": {
        "id": "2hAoEJZ9kvTe"
      },
      "outputs": [],
      "source": [
        "tokenizer = Tokenizer(num_words=vocab_size, oov_token=oov_tok)\n",
        "tokenizer.fit_on_texts(training_sentences)\n",
        "\n",
        "word_index = tokenizer.word_index\n",
        "\n",
        "training_sequences = tokenizer.texts_to_sequences(training_sentences)\n",
        "training_padded = pad_sequences(training_sequences, maxlen=max_length, \n",
        "                                padding=padding_type, truncating=trunc_type)\n",
        "\n",
        "testing_sequences = tokenizer.texts_to_sequences(testing_sentences)\n",
        "testing_padded = pad_sequences(testing_sequences, maxlen=max_length, \n",
        "                               padding=padding_type, truncating=trunc_type)"
      ]
    },
    {
      "cell_type": "code",
      "execution_count": 8,
      "metadata": {
        "id": "zjX8ygpMkvTf"
      },
      "outputs": [],
      "source": [
        "import numpy as np\n",
        "\n",
        "training_padded = np.array(training_padded)\n",
        "training_labels = np.array(training_labels)\n",
        "testing_padded = np.array(testing_padded)\n",
        "testing_labels = np.array(testing_labels)"
      ]
    },
    {
      "cell_type": "code",
      "execution_count": 9,
      "metadata": {
        "id": "yUlpQJGUkvTf"
      },
      "outputs": [],
      "source": [
        "model = tf.keras.Sequential([\n",
        "    tf.keras.layers.Embedding(vocab_size, embedding_dim),\n",
        "    tf.keras.layers.Bidirectional(tf.keras.layers.LSTM(embedding_dim)),\n",
        "    tf.keras.layers.Dense(24, activation='relu'),\n",
        "    tf.keras.layers.Dense(1, activation='sigmoid')\n",
        "])\n",
        "adam = tf.keras.optimizers.Adam(learning_rate=0.00001, \n",
        "                                beta_1=0.9, beta_2=0.999, amsgrad=False)\n",
        "model.compile(loss='binary_crossentropy', \n",
        "              optimizer=adam, metrics=['accuracy'])"
      ]
    },
    {
      "cell_type": "code",
      "execution_count": 10,
      "metadata": {
        "id": "FstldcUgkvTf",
        "outputId": "3bf1d405-2a2b-42ef-e9c9-a21261e8c6c2",
        "colab": {
          "base_uri": "https://localhost:8080/"
        }
      },
      "outputs": [
        {
          "output_type": "stream",
          "name": "stdout",
          "text": [
            "Model: \"sequential\"\n",
            "_________________________________________________________________\n",
            " Layer (type)                Output Shape              Param #   \n",
            "=================================================================\n",
            " embedding (Embedding)       (None, None, 64)          1280000   \n",
            "                                                                 \n",
            " bidirectional (Bidirectiona  (None, 128)              66048     \n",
            " l)                                                              \n",
            "                                                                 \n",
            " dense (Dense)               (None, 24)                3096      \n",
            "                                                                 \n",
            " dense_1 (Dense)             (None, 1)                 25        \n",
            "                                                                 \n",
            "=================================================================\n",
            "Total params: 1,349,169\n",
            "Trainable params: 1,349,169\n",
            "Non-trainable params: 0\n",
            "_________________________________________________________________\n"
          ]
        }
      ],
      "source": [
        "model.summary()"
      ]
    },
    {
      "cell_type": "code",
      "execution_count": 11,
      "metadata": {
        "id": "ZyhNxYFLkvTg",
        "outputId": "5c3391bb-ee94-4aac-87ff-8d6ea27b1d41",
        "colab": {
          "base_uri": "https://localhost:8080/"
        }
      },
      "outputs": [
        {
          "output_type": "stream",
          "name": "stdout",
          "text": [
            "Epoch 1/30\n",
            "719/719 [==============================] - 21s 15ms/step - loss: 0.6896 - accuracy: 0.5483 - val_loss: 0.6849 - val_accuracy: 0.5700\n",
            "Epoch 2/30\n",
            "719/719 [==============================] - 10s 14ms/step - loss: 0.6834 - accuracy: 0.5596 - val_loss: 0.6791 - val_accuracy: 0.5700\n",
            "Epoch 3/30\n",
            "719/719 [==============================] - 10s 14ms/step - loss: 0.6779 - accuracy: 0.5596 - val_loss: 0.6731 - val_accuracy: 0.5700\n",
            "Epoch 4/30\n",
            "719/719 [==============================] - 10s 14ms/step - loss: 0.6700 - accuracy: 0.5610 - val_loss: 0.6640 - val_accuracy: 0.5737\n",
            "Epoch 5/30\n",
            "719/719 [==============================] - 10s 14ms/step - loss: 0.6567 - accuracy: 0.5905 - val_loss: 0.6488 - val_accuracy: 0.6484\n",
            "Epoch 6/30\n",
            "719/719 [==============================] - 10s 14ms/step - loss: 0.6304 - accuracy: 0.6745 - val_loss: 0.6175 - val_accuracy: 0.6832\n",
            "Epoch 7/30\n",
            "719/719 [==============================] - 11s 15ms/step - loss: 0.5962 - accuracy: 0.7044 - val_loss: 0.6002 - val_accuracy: 0.6913\n",
            "Epoch 8/30\n",
            "719/719 [==============================] - 10s 14ms/step - loss: 0.5682 - accuracy: 0.7236 - val_loss: 0.5742 - val_accuracy: 0.7166\n",
            "Epoch 9/30\n",
            "719/719 [==============================] - 10s 14ms/step - loss: 0.5422 - accuracy: 0.7418 - val_loss: 0.5516 - val_accuracy: 0.7342\n",
            "Epoch 10/30\n",
            "719/719 [==============================] - 11s 15ms/step - loss: 0.5149 - accuracy: 0.7629 - val_loss: 0.5318 - val_accuracy: 0.7468\n",
            "Epoch 11/30\n",
            "719/719 [==============================] - 10s 14ms/step - loss: 0.4884 - accuracy: 0.7797 - val_loss: 0.5155 - val_accuracy: 0.7538\n",
            "Epoch 12/30\n",
            "719/719 [==============================] - 11s 15ms/step - loss: 0.4625 - accuracy: 0.7949 - val_loss: 0.4958 - val_accuracy: 0.7609\n",
            "Epoch 13/30\n",
            "719/719 [==============================] - 11s 15ms/step - loss: 0.4365 - accuracy: 0.8107 - val_loss: 0.4811 - val_accuracy: 0.7697\n",
            "Epoch 14/30\n",
            "719/719 [==============================] - 10s 14ms/step - loss: 0.4122 - accuracy: 0.8237 - val_loss: 0.4707 - val_accuracy: 0.7738\n",
            "Epoch 15/30\n",
            "719/719 [==============================] - 10s 14ms/step - loss: 0.3897 - accuracy: 0.8357 - val_loss: 0.4592 - val_accuracy: 0.7808\n",
            "Epoch 16/30\n",
            "719/719 [==============================] - 10s 14ms/step - loss: 0.3698 - accuracy: 0.8463 - val_loss: 0.4513 - val_accuracy: 0.7840\n",
            "Epoch 17/30\n",
            "719/719 [==============================] - 10s 14ms/step - loss: 0.3531 - accuracy: 0.8543 - val_loss: 0.4460 - val_accuracy: 0.7873\n",
            "Epoch 18/30\n",
            "719/719 [==============================] - 10s 14ms/step - loss: 0.3379 - accuracy: 0.8608 - val_loss: 0.4448 - val_accuracy: 0.7859\n",
            "Epoch 19/30\n",
            "719/719 [==============================] - 10s 14ms/step - loss: 0.3248 - accuracy: 0.8673 - val_loss: 0.4422 - val_accuracy: 0.7905\n",
            "Epoch 20/30\n",
            "719/719 [==============================] - 10s 14ms/step - loss: 0.3121 - accuracy: 0.8729 - val_loss: 0.4374 - val_accuracy: 0.7919\n",
            "Epoch 21/30\n",
            "719/719 [==============================] - 10s 14ms/step - loss: 0.3001 - accuracy: 0.8787 - val_loss: 0.4366 - val_accuracy: 0.7940\n",
            "Epoch 22/30\n",
            "719/719 [==============================] - 10s 14ms/step - loss: 0.2888 - accuracy: 0.8837 - val_loss: 0.4346 - val_accuracy: 0.7929\n",
            "Epoch 23/30\n",
            "719/719 [==============================] - 10s 14ms/step - loss: 0.2783 - accuracy: 0.8889 - val_loss: 0.4338 - val_accuracy: 0.8005\n",
            "Epoch 24/30\n",
            "719/719 [==============================] - 10s 14ms/step - loss: 0.2680 - accuracy: 0.8943 - val_loss: 0.4345 - val_accuracy: 0.7986\n",
            "Epoch 25/30\n",
            "719/719 [==============================] - 10s 14ms/step - loss: 0.2582 - accuracy: 0.8977 - val_loss: 0.4361 - val_accuracy: 0.8008\n",
            "Epoch 26/30\n",
            "719/719 [==============================] - 10s 15ms/step - loss: 0.2493 - accuracy: 0.9023 - val_loss: 0.4367 - val_accuracy: 0.7994\n",
            "Epoch 27/30\n",
            "719/719 [==============================] - 10s 14ms/step - loss: 0.2402 - accuracy: 0.9066 - val_loss: 0.4397 - val_accuracy: 0.7983\n",
            "Epoch 28/30\n",
            "719/719 [==============================] - 10s 14ms/step - loss: 0.2319 - accuracy: 0.9090 - val_loss: 0.4382 - val_accuracy: 0.8008\n",
            "Epoch 29/30\n",
            "719/719 [==============================] - 10s 14ms/step - loss: 0.2238 - accuracy: 0.9137 - val_loss: 0.4412 - val_accuracy: 0.8032\n",
            "Epoch 30/30\n",
            "719/719 [==============================] - 10s 14ms/step - loss: 0.2162 - accuracy: 0.9170 - val_loss: 0.4422 - val_accuracy: 0.8032\n"
          ]
        }
      ],
      "source": [
        "num_epochs = 30\n",
        "history = model.fit(training_padded, training_labels, epochs=num_epochs, \n",
        "                    validation_data=(testing_padded, testing_labels))"
      ]
    },
    {
      "cell_type": "code",
      "execution_count": 12,
      "metadata": {
        "id": "im5S8gDIkvTg",
        "outputId": "52e9430a-3cfb-479f-8599-dcc872dba6fb",
        "colab": {
          "base_uri": "https://localhost:8080/",
          "height": 279
        }
      },
      "outputs": [
        {
          "output_type": "display_data",
          "data": {
            "text/plain": [
              "<Figure size 432x288 with 1 Axes>"
            ],
            "image/png": "[encoded data removed]"
          },
          "metadata": {
            "needs_background": "light"
          }
        }
      ],
      "source": [
        "import matplotlib.pyplot as plt\n",
        "\n",
        "plt.plot(history.history['accuracy'])\n",
        "plt.plot(history.history['val_accuracy'])\n",
        "plt.xlabel('epochs')\n",
        "plt.ylabel('accuracy')\n",
        "plt.legend(['accuracy', 'val_accuracy'])\n",
        "plt.show()"
      ]
    },
    {
      "cell_type": "code",
      "execution_count": 13,
      "metadata": {
        "id": "W8Hzs6szkvTg",
        "outputId": "c1048d8d-8eb7-41e1-f1cc-7212a629b5ab",
        "colab": {
          "base_uri": "https://localhost:8080/",
          "height": 279
        }
      },
      "outputs": [
        {
          "output_type": "display_data",
          "data": {
            "text/plain": [
              "<Figure size 432x288 with 1 Axes>"
            ],
            "image/png": "[encoded data removed]"
          },
          "metadata": {
            "needs_background": "light"
          }
        }
      ],
      "source": [
        "plt.plot(history.history['loss'])\n",
        "plt.plot(history.history['val_loss'])\n",
        "plt.xlabel('epochs')\n",
        "plt.ylabel('loss')\n",
        "plt.legend(['loss', 'val_loss'])\n",
        "plt.show()"
      ]
    },
    {
      "cell_type": "markdown",
      "metadata": {
        "id": "W-E9kyPlkvTg"
      },
      "source": [
        "### 스태킹 LSTM"
      ]
    },
    {
      "cell_type": "code",
      "execution_count": 14,
      "metadata": {
        "id": "hlOnkIAMkvTh"
      },
      "outputs": [],
      "source": [
        "model = tf.keras.Sequential([\n",
        "    tf.keras.layers.Embedding(vocab_size, embedding_dim),\n",
        "    tf.keras.layers.Bidirectional(tf.keras.layers.LSTM(embedding_dim, \n",
        "                                                       return_sequences=True)),\n",
        "    tf.keras.layers.Bidirectional(tf.keras.layers.LSTM(embedding_dim)),\n",
        "    tf.keras.layers.Dense(24, activation='relu'),\n",
        "    tf.keras.layers.Dense(1, activation='sigmoid')\n",
        "])\n",
        "\n",
        "adam = tf.keras.optimizers.Adam(learning_rate=0.00001, \n",
        "                                beta_1=0.9, beta_2=0.999, amsgrad=False)\n",
        "model.compile(loss='binary_crossentropy', \n",
        "              optimizer=adam, metrics=['accuracy'])"
      ]
    },
    {
      "cell_type": "code",
      "execution_count": 15,
      "metadata": {
        "id": "kHuIFGc8kvTh",
        "outputId": "2f984a86-c266-4b37-935b-4caa7b0d7b91",
        "colab": {
          "base_uri": "https://localhost:8080/"
        }
      },
      "outputs": [
        {
          "output_type": "stream",
          "name": "stdout",
          "text": [
            "Model: \"sequential_1\"\n",
            "_________________________________________________________________\n",
            " Layer (type)                Output Shape              Param #   \n",
            "=================================================================\n",
            " embedding_1 (Embedding)     (None, None, 64)          1280000   \n",
            "                                                                 \n",
            " bidirectional_1 (Bidirectio  (None, None, 128)        66048     \n",
            " nal)                                                            \n",
            "                                                                 \n",
            " bidirectional_2 (Bidirectio  (None, 128)              98816     \n",
            " nal)                                                            \n",
            "                                                                 \n",
            " dense_2 (Dense)             (None, 24)                3096      \n",
            "                                                                 \n",
            " dense_3 (Dense)             (None, 1)                 25        \n",
            "                                                                 \n",
            "=================================================================\n",
            "Total params: 1,447,985\n",
            "Trainable params: 1,447,985\n",
            "Non-trainable params: 0\n",
            "_________________________________________________________________\n"
          ]
        }
      ],
      "source": [
        "model.summary()"
      ]
    },
    {
      "cell_type": "code",
      "execution_count": 16,
      "metadata": {
        "id": "cm_3vKQkkvTh",
        "outputId": "ca62b25a-1a96-413d-9eff-fdb1f7552890",
        "colab": {
          "base_uri": "https://localhost:8080/"
        }
      },
      "outputs": [
        {
          "output_type": "stream",
          "name": "stdout",
          "text": [
            "Epoch 1/30\n",
            "719/719 [==============================] - 24s 26ms/step - loss: 0.6876 - accuracy: 0.5595 - val_loss: 0.6824 - val_accuracy: 0.5700\n",
            "Epoch 2/30\n",
            "719/719 [==============================] - 17s 24ms/step - loss: 0.6837 - accuracy: 0.5596 - val_loss: 0.6799 - val_accuracy: 0.5700\n",
            "Epoch 3/30\n",
            "719/719 [==============================] - 19s 27ms/step - loss: 0.6805 - accuracy: 0.5596 - val_loss: 0.6751 - val_accuracy: 0.5700\n",
            "Epoch 4/30\n",
            "719/719 [==============================] - 17s 24ms/step - loss: 0.6700 - accuracy: 0.5637 - val_loss: 0.6554 - val_accuracy: 0.6018\n",
            "Epoch 5/30\n",
            "719/719 [==============================] - 17s 24ms/step - loss: 0.6034 - accuracy: 0.6800 - val_loss: 0.5619 - val_accuracy: 0.7110\n",
            "Epoch 6/30\n",
            "719/719 [==============================] - 17s 24ms/step - loss: 0.4674 - accuracy: 0.7845 - val_loss: 0.4908 - val_accuracy: 0.7644\n",
            "Epoch 7/30\n",
            "719/719 [==============================] - 18s 25ms/step - loss: 0.4077 - accuracy: 0.8196 - val_loss: 0.4756 - val_accuracy: 0.7743\n",
            "Epoch 8/30\n",
            "719/719 [==============================] - 17s 24ms/step - loss: 0.3730 - accuracy: 0.8400 - val_loss: 0.4694 - val_accuracy: 0.7835\n",
            "Epoch 9/30\n",
            "719/719 [==============================] - 17s 24ms/step - loss: 0.3457 - accuracy: 0.8527 - val_loss: 0.4674 - val_accuracy: 0.7892\n",
            "Epoch 10/30\n",
            "719/719 [==============================] - 17s 24ms/step - loss: 0.3227 - accuracy: 0.8645 - val_loss: 0.4632 - val_accuracy: 0.7935\n",
            "Epoch 11/30\n",
            "719/719 [==============================] - 17s 24ms/step - loss: 0.3007 - accuracy: 0.8768 - val_loss: 0.4658 - val_accuracy: 0.7932\n",
            "Epoch 12/30\n",
            "719/719 [==============================] - 17s 24ms/step - loss: 0.2822 - accuracy: 0.8874 - val_loss: 0.4711 - val_accuracy: 0.7927\n",
            "Epoch 13/30\n",
            "719/719 [==============================] - 17s 24ms/step - loss: 0.2650 - accuracy: 0.8958 - val_loss: 0.4735 - val_accuracy: 0.7937\n",
            "Epoch 14/30\n",
            "719/719 [==============================] - 17s 24ms/step - loss: 0.2489 - accuracy: 0.9043 - val_loss: 0.4798 - val_accuracy: 0.7927\n",
            "Epoch 15/30\n",
            "719/719 [==============================] - 17s 24ms/step - loss: 0.2336 - accuracy: 0.9120 - val_loss: 0.4906 - val_accuracy: 0.7927\n",
            "Epoch 16/30\n",
            "719/719 [==============================] - 20s 27ms/step - loss: 0.2199 - accuracy: 0.9183 - val_loss: 0.5037 - val_accuracy: 0.7948\n",
            "Epoch 17/30\n",
            "719/719 [==============================] - 18s 25ms/step - loss: 0.2077 - accuracy: 0.9239 - val_loss: 0.5079 - val_accuracy: 0.7943\n",
            "Epoch 18/30\n",
            "719/719 [==============================] - 17s 24ms/step - loss: 0.1947 - accuracy: 0.9292 - val_loss: 0.5235 - val_accuracy: 0.7935\n",
            "Epoch 19/30\n",
            "719/719 [==============================] - 17s 24ms/step - loss: 0.1831 - accuracy: 0.9346 - val_loss: 0.5328 - val_accuracy: 0.7921\n",
            "Epoch 20/30\n",
            "719/719 [==============================] - 17s 24ms/step - loss: 0.1728 - accuracy: 0.9394 - val_loss: 0.5536 - val_accuracy: 0.7894\n",
            "Epoch 21/30\n",
            "719/719 [==============================] - 17s 24ms/step - loss: 0.1623 - accuracy: 0.9440 - val_loss: 0.5604 - val_accuracy: 0.7905\n",
            "Epoch 22/30\n",
            "719/719 [==============================] - 17s 24ms/step - loss: 0.1524 - accuracy: 0.9468 - val_loss: 0.5794 - val_accuracy: 0.7902\n",
            "Epoch 23/30\n",
            "719/719 [==============================] - 17s 24ms/step - loss: 0.1430 - accuracy: 0.9536 - val_loss: 0.5982 - val_accuracy: 0.7902\n",
            "Epoch 24/30\n",
            "719/719 [==============================] - 17s 24ms/step - loss: 0.1350 - accuracy: 0.9550 - val_loss: 0.6197 - val_accuracy: 0.7892\n",
            "Epoch 25/30\n",
            "719/719 [==============================] - 17s 24ms/step - loss: 0.1260 - accuracy: 0.9599 - val_loss: 0.6397 - val_accuracy: 0.7937\n",
            "Epoch 26/30\n",
            "719/719 [==============================] - 17s 24ms/step - loss: 0.1178 - accuracy: 0.9636 - val_loss: 0.6569 - val_accuracy: 0.7875\n",
            "Epoch 27/30\n",
            "719/719 [==============================] - 18s 25ms/step - loss: 0.1101 - accuracy: 0.9670 - val_loss: 0.6776 - val_accuracy: 0.7916\n",
            "Epoch 28/30\n",
            "719/719 [==============================] - 17s 24ms/step - loss: 0.1023 - accuracy: 0.9707 - val_loss: 0.6979 - val_accuracy: 0.7910\n",
            "Epoch 29/30\n",
            "719/719 [==============================] - 19s 27ms/step - loss: 0.0951 - accuracy: 0.9733 - val_loss: 0.7300 - val_accuracy: 0.7943\n",
            "Epoch 30/30\n",
            "719/719 [==============================] - 17s 24ms/step - loss: 0.0893 - accuracy: 0.9750 - val_loss: 0.7629 - val_accuracy: 0.7902\n"
          ]
        }
      ],
      "source": [
        "num_epochs = 30\n",
        "history = model.fit(training_padded, training_labels, epochs=num_epochs, \n",
        "                    validation_data=(testing_padded, testing_labels))"
      ]
    },
    {
      "cell_type": "code",
      "execution_count": 17,
      "metadata": {
        "id": "KioHcjrWkvTh",
        "outputId": "596ea9c8-a145-4fa5-8281-fb2f6146c857",
        "colab": {
          "base_uri": "https://localhost:8080/",
          "height": 279
        }
      },
      "outputs": [
        {
          "output_type": "display_data",
          "data": {
            "text/plain": [
              "<Figure size 432x288 with 1 Axes>"
            ],
            "image/png": "[encoded data removed]"
          },
          "metadata": {
            "needs_background": "light"
          }
        }
      ],
      "source": [
        "plt.plot(history.history['accuracy'])\n",
        "plt.plot(history.history['val_accuracy'])\n",
        "plt.xlabel('epochs')\n",
        "plt.ylabel('accuracy')\n",
        "plt.legend(['accuracy', 'val_accuracy'])\n",
        "plt.show()"
      ]
    },
    {
      "cell_type": "code",
      "execution_count": 18,
      "metadata": {
        "id": "JFrkmj8GkvTi",
        "outputId": "a6d40125-1c02-4969-e2c9-634a69f531d0",
        "colab": {
          "base_uri": "https://localhost:8080/",
          "height": 279
        }
      },
      "outputs": [
        {
          "output_type": "display_data",
          "data": {
            "text/plain": [
              "<Figure size 432x288 with 1 Axes>"
            ],
            "image/png": "[encoded data removed]"
          },
          "metadata": {
            "needs_background": "light"
          }
        }
      ],
      "source": [
        "plt.plot(history.history['loss'])\n",
        "plt.plot(history.history['val_loss'])\n",
        "plt.xlabel('epochs')\n",
        "plt.ylabel('loss')\n",
        "plt.legend(['loss', 'val_loss'])\n",
        "plt.show()"
      ]
    },
    {
      "cell_type": "markdown",
      "metadata": {
        "id": "4RMXtYJMkvTi"
      },
      "source": [
        "#### 스태킹 LSTM 최적화하기"
      ]
    },
    {
      "cell_type": "code",
      "execution_count": 19,
      "metadata": {
        "id": "HbB83GZEkvTi"
      },
      "outputs": [],
      "source": [
        "model = tf.keras.Sequential([\n",
        "    tf.keras.layers.Embedding(vocab_size, embedding_dim),\n",
        "    tf.keras.layers.Bidirectional(tf.keras.layers.LSTM(embedding_dim, \n",
        "                                                       return_sequences=True)),\n",
        "    tf.keras.layers.Bidirectional(tf.keras.layers.LSTM(embedding_dim)),\n",
        "    tf.keras.layers.Dense(24, activation='relu'),\n",
        "    tf.keras.layers.Dense(1, activation='sigmoid')\n",
        "])\n",
        "\n",
        "adam = tf.keras.optimizers.Adam(learning_rate=0.000008, \n",
        "                                beta_1=0.9, beta_2=0.999, amsgrad=False)\n",
        "model.compile(loss='binary_crossentropy',\n",
        "              optimizer=adam,metrics=['accuracy'])"
      ]
    },
    {
      "cell_type": "code",
      "execution_count": 20,
      "metadata": {
        "id": "b9i-XUIokvTi",
        "outputId": "c10150de-b021-4002-a860-f2e1fbe2ca03",
        "colab": {
          "base_uri": "https://localhost:8080/"
        }
      },
      "outputs": [
        {
          "output_type": "stream",
          "name": "stdout",
          "text": [
            "Epoch 1/30\n",
            "719/719 [==============================] - 24s 27ms/step - loss: 0.6891 - accuracy: 0.5510 - val_loss: 0.6839 - val_accuracy: 0.5700\n",
            "Epoch 2/30\n",
            "719/719 [==============================] - 17s 24ms/step - loss: 0.6841 - accuracy: 0.5596 - val_loss: 0.6805 - val_accuracy: 0.5700\n",
            "Epoch 3/30\n",
            "719/719 [==============================] - 17s 24ms/step - loss: 0.6816 - accuracy: 0.5596 - val_loss: 0.6774 - val_accuracy: 0.5700\n",
            "Epoch 4/30\n",
            "719/719 [==============================] - 17s 24ms/step - loss: 0.6766 - accuracy: 0.5600 - val_loss: 0.6707 - val_accuracy: 0.5735\n",
            "Epoch 5/30\n",
            "719/719 [==============================] - 17s 24ms/step - loss: 0.6576 - accuracy: 0.6067 - val_loss: 0.6387 - val_accuracy: 0.6616\n",
            "Epoch 6/30\n",
            "719/719 [==============================] - 18s 25ms/step - loss: 0.6019 - accuracy: 0.6915 - val_loss: 0.5754 - val_accuracy: 0.7080\n",
            "Epoch 7/30\n",
            "719/719 [==============================] - 17s 24ms/step - loss: 0.5131 - accuracy: 0.7550 - val_loss: 0.5090 - val_accuracy: 0.7498\n",
            "Epoch 8/30\n",
            "719/719 [==============================] - 17s 24ms/step - loss: 0.4442 - accuracy: 0.7984 - val_loss: 0.4944 - val_accuracy: 0.7619\n",
            "Epoch 9/30\n",
            "719/719 [==============================] - 17s 24ms/step - loss: 0.4058 - accuracy: 0.8211 - val_loss: 0.4817 - val_accuracy: 0.7711\n",
            "Epoch 10/30\n",
            "719/719 [==============================] - 17s 24ms/step - loss: 0.3772 - accuracy: 0.8364 - val_loss: 0.4740 - val_accuracy: 0.7743\n",
            "Epoch 11/30\n",
            "719/719 [==============================] - 17s 24ms/step - loss: 0.3551 - accuracy: 0.8490 - val_loss: 0.4774 - val_accuracy: 0.7743\n",
            "Epoch 12/30\n",
            "719/719 [==============================] - 19s 27ms/step - loss: 0.3355 - accuracy: 0.8589 - val_loss: 0.4714 - val_accuracy: 0.7827\n",
            "Epoch 13/30\n",
            "719/719 [==============================] - 17s 24ms/step - loss: 0.3177 - accuracy: 0.8691 - val_loss: 0.4668 - val_accuracy: 0.7824\n",
            "Epoch 14/30\n",
            "719/719 [==============================] - 17s 24ms/step - loss: 0.3008 - accuracy: 0.8764 - val_loss: 0.4670 - val_accuracy: 0.7892\n",
            "Epoch 15/30\n",
            "719/719 [==============================] - 17s 24ms/step - loss: 0.2851 - accuracy: 0.8845 - val_loss: 0.4679 - val_accuracy: 0.7921\n",
            "Epoch 16/30\n",
            "719/719 [==============================] - 18s 25ms/step - loss: 0.2702 - accuracy: 0.8919 - val_loss: 0.4794 - val_accuracy: 0.7884\n",
            "Epoch 17/30\n",
            "719/719 [==============================] - 17s 24ms/step - loss: 0.2559 - accuracy: 0.8996 - val_loss: 0.4889 - val_accuracy: 0.7827\n",
            "Epoch 18/30\n",
            "719/719 [==============================] - 17s 24ms/step - loss: 0.2438 - accuracy: 0.9070 - val_loss: 0.4794 - val_accuracy: 0.8005\n",
            "Epoch 19/30\n",
            "719/719 [==============================] - 17s 24ms/step - loss: 0.2305 - accuracy: 0.9142 - val_loss: 0.4930 - val_accuracy: 0.7892\n",
            "Epoch 20/30\n",
            "719/719 [==============================] - 17s 24ms/step - loss: 0.2187 - accuracy: 0.9185 - val_loss: 0.4930 - val_accuracy: 0.7991\n",
            "Epoch 21/30\n",
            "719/719 [==============================] - 17s 24ms/step - loss: 0.2071 - accuracy: 0.9242 - val_loss: 0.5036 - val_accuracy: 0.7986\n",
            "Epoch 22/30\n",
            "719/719 [==============================] - 17s 24ms/step - loss: 0.1969 - accuracy: 0.9303 - val_loss: 0.5161 - val_accuracy: 0.7959\n",
            "Epoch 23/30\n",
            "719/719 [==============================] - 17s 24ms/step - loss: 0.1857 - accuracy: 0.9341 - val_loss: 0.5251 - val_accuracy: 0.7975\n",
            "Epoch 24/30\n",
            "719/719 [==============================] - 17s 24ms/step - loss: 0.1762 - accuracy: 0.9398 - val_loss: 0.5356 - val_accuracy: 0.7981\n",
            "Epoch 25/30\n",
            "719/719 [==============================] - 17s 24ms/step - loss: 0.1673 - accuracy: 0.9435 - val_loss: 0.5473 - val_accuracy: 0.7981\n",
            "Epoch 26/30\n",
            "719/719 [==============================] - 20s 28ms/step - loss: 0.1583 - accuracy: 0.9470 - val_loss: 0.5582 - val_accuracy: 0.7946\n",
            "Epoch 27/30\n",
            "719/719 [==============================] - 17s 24ms/step - loss: 0.1501 - accuracy: 0.9506 - val_loss: 0.5701 - val_accuracy: 0.7962\n",
            "Epoch 28/30\n",
            "719/719 [==============================] - 17s 24ms/step - loss: 0.1416 - accuracy: 0.9548 - val_loss: 0.5891 - val_accuracy: 0.7964\n",
            "Epoch 29/30\n",
            "719/719 [==============================] - 17s 24ms/step - loss: 0.1343 - accuracy: 0.9577 - val_loss: 0.6043 - val_accuracy: 0.7948\n",
            "Epoch 30/30\n",
            "719/719 [==============================] - 17s 24ms/step - loss: 0.1266 - accuracy: 0.9605 - val_loss: 0.6154 - val_accuracy: 0.7954\n"
          ]
        }
      ],
      "source": [
        "num_epochs = 30\n",
        "history = model.fit(training_padded, training_labels, epochs=num_epochs, \n",
        "                    validation_data=(testing_padded, testing_labels))"
      ]
    },
    {
      "cell_type": "code",
      "execution_count": 21,
      "metadata": {
        "id": "K2To8UN8kvTi",
        "outputId": "5a3f5a73-e32f-4927-dd4e-fcf826e05a7d",
        "colab": {
          "base_uri": "https://localhost:8080/",
          "height": 279
        }
      },
      "outputs": [
        {
          "output_type": "display_data",
          "data": {
            "text/plain": [
              "<Figure size 432x288 with 1 Axes>"
            ],
            "image/png": "[encoded data removed]"
          },
          "metadata": {
            "needs_background": "light"
          }
        }
      ],
      "source": [
        "plt.plot(history.history['accuracy'])\n",
        "plt.plot(history.history['val_accuracy'])\n",
        "plt.xlabel('epochs')\n",
        "plt.ylabel('accuracy')\n",
        "plt.legend(['accuracy', 'val_accuracy'])\n",
        "plt.show()"
      ]
    },
    {
      "cell_type": "code",
      "execution_count": 22,
      "metadata": {
        "id": "BWmMtESUkvTj",
        "outputId": "eba08f33-bfb3-4c30-8aa2-c5d6efca8448",
        "colab": {
          "base_uri": "https://localhost:8080/",
          "height": 279
        }
      },
      "outputs": [
        {
          "output_type": "display_data",
          "data": {
            "text/plain": [
              "<Figure size 432x288 with 1 Axes>"
            ],
            "image/png": "[encoded data removed]"
          },
          "metadata": {
            "needs_background": "light"
          }
        }
      ],
      "source": [
        "plt.plot(history.history['loss'])\n",
        "plt.plot(history.history['val_loss'])\n",
        "plt.xlabel('epochs')\n",
        "plt.ylabel('loss')\n",
        "plt.legend(['loss', 'val_loss'])\n",
        "plt.show()"
      ]
    },
    {
      "cell_type": "markdown",
      "metadata": {
        "id": "z8xr3eIrkvTj"
      },
      "source": [
        "#### 드롭아웃 사용하기"
      ]
    },
    {
      "cell_type": "code",
      "execution_count": 23,
      "metadata": {
        "id": "X8bYn4_ukvTj"
      },
      "outputs": [],
      "source": [
        "model = tf.keras.Sequential([\n",
        "    tf.keras.layers.Embedding(vocab_size, embedding_dim),\n",
        "    tf.keras.layers.Bidirectional(tf.keras.layers.LSTM(\n",
        "        embedding_dim, return_sequences=True, dropout=0.2)),\n",
        "    tf.keras.layers.Bidirectional(tf.keras.layers.LSTM(embedding_dim,\n",
        "                                                       dropout=0.2)),\n",
        "    tf.keras.layers.Dense(24, activation='relu'),\n",
        "    tf.keras.layers.Dense(1, activation='sigmoid')\n",
        "])\n",
        "\n",
        "adam = tf.keras.optimizers.Adam(learning_rate=0.000008, \n",
        "                                beta_1=0.9, beta_2=0.999, amsgrad=False)\n",
        "model.compile(loss='binary_crossentropy',\n",
        "              optimizer=adam,metrics=['accuracy'])"
      ]
    },
    {
      "cell_type": "code",
      "execution_count": 24,
      "metadata": {
        "id": "sgm5FgTMkvTj",
        "outputId": "759205a9-ce92-4ac0-e8eb-e76717449ef3",
        "colab": {
          "base_uri": "https://localhost:8080/"
        }
      },
      "outputs": [
        {
          "output_type": "stream",
          "name": "stdout",
          "text": [
            "Epoch 1/30\n",
            "719/719 [==============================] - 24s 26ms/step - loss: 0.6879 - accuracy: 0.5595 - val_loss: 0.6824 - val_accuracy: 0.5700\n",
            "Epoch 2/30\n",
            "719/719 [==============================] - 17s 24ms/step - loss: 0.6838 - accuracy: 0.5596 - val_loss: 0.6801 - val_accuracy: 0.5700\n",
            "Epoch 3/30\n",
            "719/719 [==============================] - 17s 24ms/step - loss: 0.6820 - accuracy: 0.5596 - val_loss: 0.6779 - val_accuracy: 0.5700\n",
            "Epoch 4/30\n",
            "719/719 [==============================] - 17s 24ms/step - loss: 0.6789 - accuracy: 0.5596 - val_loss: 0.6738 - val_accuracy: 0.5700\n",
            "Epoch 5/30\n",
            "719/719 [==============================] - 17s 24ms/step - loss: 0.6715 - accuracy: 0.5640 - val_loss: 0.6623 - val_accuracy: 0.6153\n",
            "Epoch 6/30\n",
            "719/719 [==============================] - 18s 25ms/step - loss: 0.6419 - accuracy: 0.6510 - val_loss: 0.6190 - val_accuracy: 0.6775\n",
            "Epoch 7/30\n",
            "719/719 [==============================] - 18s 25ms/step - loss: 0.5902 - accuracy: 0.7047 - val_loss: 0.5686 - val_accuracy: 0.7112\n",
            "Epoch 8/30\n",
            "719/719 [==============================] - 17s 24ms/step - loss: 0.5293 - accuracy: 0.7481 - val_loss: 0.5314 - val_accuracy: 0.7420\n",
            "Epoch 9/30\n",
            "719/719 [==============================] - 17s 24ms/step - loss: 0.4875 - accuracy: 0.7741 - val_loss: 0.5118 - val_accuracy: 0.7573\n",
            "Epoch 10/30\n",
            "719/719 [==============================] - 19s 27ms/step - loss: 0.4572 - accuracy: 0.7933 - val_loss: 0.4910 - val_accuracy: 0.7697\n",
            "Epoch 11/30\n",
            "719/719 [==============================] - 17s 24ms/step - loss: 0.4302 - accuracy: 0.8088 - val_loss: 0.4844 - val_accuracy: 0.7751\n",
            "Epoch 12/30\n",
            "719/719 [==============================] - 17s 24ms/step - loss: 0.4058 - accuracy: 0.8226 - val_loss: 0.4727 - val_accuracy: 0.7781\n",
            "Epoch 13/30\n",
            "719/719 [==============================] - 17s 24ms/step - loss: 0.3890 - accuracy: 0.8314 - val_loss: 0.4676 - val_accuracy: 0.7846\n",
            "Epoch 14/30\n",
            "719/719 [==============================] - 17s 24ms/step - loss: 0.3745 - accuracy: 0.8393 - val_loss: 0.4615 - val_accuracy: 0.7846\n",
            "Epoch 15/30\n",
            "719/719 [==============================] - 17s 24ms/step - loss: 0.3629 - accuracy: 0.8436 - val_loss: 0.4570 - val_accuracy: 0.7878\n",
            "Epoch 16/30\n",
            "719/719 [==============================] - 17s 24ms/step - loss: 0.3475 - accuracy: 0.8537 - val_loss: 0.4544 - val_accuracy: 0.7919\n",
            "Epoch 17/30\n",
            "719/719 [==============================] - 18s 25ms/step - loss: 0.3378 - accuracy: 0.8583 - val_loss: 0.4507 - val_accuracy: 0.7921\n",
            "Epoch 18/30\n",
            "719/719 [==============================] - 17s 24ms/step - loss: 0.3274 - accuracy: 0.8640 - val_loss: 0.4501 - val_accuracy: 0.7932\n",
            "Epoch 19/30\n",
            "719/719 [==============================] - 17s 24ms/step - loss: 0.3148 - accuracy: 0.8721 - val_loss: 0.4484 - val_accuracy: 0.7948\n",
            "Epoch 20/30\n",
            "719/719 [==============================] - 17s 24ms/step - loss: 0.3041 - accuracy: 0.8741 - val_loss: 0.4478 - val_accuracy: 0.7999\n",
            "Epoch 21/30\n",
            "719/719 [==============================] - 17s 24ms/step - loss: 0.2977 - accuracy: 0.8781 - val_loss: 0.4478 - val_accuracy: 0.8016\n",
            "Epoch 22/30\n",
            "719/719 [==============================] - 17s 24ms/step - loss: 0.2857 - accuracy: 0.8837 - val_loss: 0.4514 - val_accuracy: 0.8035\n",
            "Epoch 23/30\n",
            "719/719 [==============================] - 18s 25ms/step - loss: 0.2809 - accuracy: 0.8870 - val_loss: 0.4498 - val_accuracy: 0.8056\n",
            "Epoch 24/30\n",
            "719/719 [==============================] - 20s 27ms/step - loss: 0.2734 - accuracy: 0.8908 - val_loss: 0.4492 - val_accuracy: 0.8061\n",
            "Epoch 25/30\n",
            "719/719 [==============================] - 17s 24ms/step - loss: 0.2630 - accuracy: 0.8930 - val_loss: 0.4501 - val_accuracy: 0.8075\n",
            "Epoch 26/30\n",
            "719/719 [==============================] - 18s 25ms/step - loss: 0.2581 - accuracy: 0.8987 - val_loss: 0.4514 - val_accuracy: 0.8080\n",
            "Epoch 27/30\n",
            "719/719 [==============================] - 18s 25ms/step - loss: 0.2488 - accuracy: 0.9021 - val_loss: 0.4501 - val_accuracy: 0.8051\n",
            "Epoch 28/30\n",
            "719/719 [==============================] - 17s 24ms/step - loss: 0.2433 - accuracy: 0.9037 - val_loss: 0.4562 - val_accuracy: 0.8070\n",
            "Epoch 29/30\n",
            "719/719 [==============================] - 17s 24ms/step - loss: 0.2366 - accuracy: 0.9060 - val_loss: 0.4583 - val_accuracy: 0.8075\n",
            "Epoch 30/30\n",
            "719/719 [==============================] - 17s 24ms/step - loss: 0.2307 - accuracy: 0.9093 - val_loss: 0.4640 - val_accuracy: 0.8075\n"
          ]
        }
      ],
      "source": [
        "num_epochs = 30\n",
        "history = model.fit(training_padded, training_labels, epochs=num_epochs, \n",
        "                    validation_data=(testing_padded, testing_labels))"
      ]
    },
    {
      "cell_type": "code",
      "execution_count": 25,
      "metadata": {
        "id": "L7bdr8WXkvTj",
        "outputId": "10f48d9f-63de-4936-e82e-c6c2627ac1e5",
        "colab": {
          "base_uri": "https://localhost:8080/",
          "height": 279
        }
      },
      "outputs": [
        {
          "output_type": "display_data",
          "data": {
            "text/plain": [
              "<Figure size 432x288 with 1 Axes>"
            ],
            "image/png": "[encoded data removed]"
          },
          "metadata": {
            "needs_background": "light"
          }
        }
      ],
      "source": [
        "plt.plot(history.history['accuracy'])\n",
        "plt.plot(history.history['val_accuracy'])\n",
        "plt.xlabel('epochs')\n",
        "plt.ylabel('accuracy')\n",
        "plt.legend(['accuracy', 'val_accuracy'])\n",
        "plt.show()"
      ]
    },
    {
      "cell_type": "code",
      "execution_count": 26,
      "metadata": {
        "id": "pfnaanbbkvTj",
        "outputId": "a12a3173-3c1b-4847-dfea-ff507cc92a5a",
        "colab": {
          "base_uri": "https://localhost:8080/",
          "height": 279
        }
      },
      "outputs": [
        {
          "output_type": "display_data",
          "data": {
            "text/plain": [
              "<Figure size 432x288 with 1 Axes>"
            ],
            "image/png": "[encoded data removed]"
          },
          "metadata": {
            "needs_background": "light"
          }
        }
      ],
      "source": [
        "plt.plot(history.history['loss'])\n",
        "plt.plot(history.history['val_loss'])\n",
        "plt.xlabel('epochs')\n",
        "plt.ylabel('loss')\n",
        "plt.legend(['loss', 'val_loss'])\n",
        "plt.show()"
      ]
    },
    {
      "cell_type": "markdown",
      "metadata": {
        "id": "W5M3scKikvTk"
      },
      "source": [
        "## RNN에 사전 훈련된 임베딩 사용하기"
      ]
    },
    {
      "cell_type": "code",
      "execution_count": 27,
      "metadata": {
        "id": "akStKXEzkvTk",
        "outputId": "0cbdeff0-497c-44f7-ef80-adb79546db1d",
        "colab": {
          "base_uri": "https://localhost:8080/"
        }
      },
      "outputs": [
        {
          "output_type": "stream",
          "name": "stdout",
          "text": [
            "--2023-01-05 06:14:24--  https://bit.ly/3i9taLA\n",
            "Resolving bit.ly (bit.ly)... 67.199.248.10, 67.199.248.11\n",
            "Connecting to bit.ly (bit.ly)|67.199.248.10|:443... connected.\n",
            "HTTP request sent, awaiting response... 301 Moved Permanently\n",
            "Location: https://tensorflowkorea.files.wordpress.com/2022/03/glove.twitter.27b.25d.txt.zip [following]\n",
            "--2023-01-05 06:14:24--  https://tensorflowkorea.files.wordpress.com/2022/03/glove.twitter.27b.25d.txt.zip\n",
            "Resolving tensorflowkorea.files.wordpress.com (tensorflowkorea.files.wordpress.com)... 192.0.72.18, 192.0.72.19\n",
            "Connecting to tensorflowkorea.files.wordpress.com (tensorflowkorea.files.wordpress.com)|192.0.72.18|:443... connected.\n",
            "HTTP request sent, awaiting response... 200 OK\n",
            "Length: 109906941 (105M) [application/zip]\n",
            "Saving to: ‘glove.zip’\n",
            "\n",
            "glove.zip           100%[===================>] 104.81M   103MB/s    in 1.0s    \n",
            "\n",
            "2023-01-05 06:14:25 (103 MB/s) - ‘glove.zip’ saved [109906941/109906941]\n",
            "\n"
          ]
        }
      ],
      "source": [
        "!wget https://bit.ly/3i9taLA -O glove.zip"
      ]
    },
    {
      "cell_type": "code",
      "execution_count": 28,
      "metadata": {
        "id": "Sm54-w4_kvTk"
      },
      "outputs": [],
      "source": [
        "# GloVe 임베딩 압축 풀기\n",
        "import os\n",
        "import zipfile\n",
        "local_zip = 'glove.zip'\n",
        "zip_ref = zipfile.ZipFile(local_zip, 'r')\n",
        "zip_ref.extractall('glove')\n",
        "zip_ref.close()"
      ]
    },
    {
      "cell_type": "code",
      "execution_count": 29,
      "metadata": {
        "id": "oKXU3HMvkvTk"
      },
      "outputs": [],
      "source": [
        "glove_embeddings = dict()\n",
        "f = open('glove/glove.twitter.27B.25d.txt')\n",
        "for line in f:\n",
        "    values = line.split()\n",
        "    word = values[0]\n",
        "    coefs = np.asarray(values[1:], dtype='float32')\n",
        "    glove_embeddings[word] = coefs\n",
        "f.close()"
      ]
    },
    {
      "cell_type": "code",
      "execution_count": 30,
      "metadata": {
        "id": "Gkb8AYvXkvTk",
        "outputId": "7ab2c427-d917-46bb-9e9d-38c254400cbf",
        "colab": {
          "base_uri": "https://localhost:8080/"
        }
      },
      "outputs": [
        {
          "output_type": "execute_result",
          "data": {
            "text/plain": [
              "array([-1.2158  , -0.74924 ,  0.91941 ,  0.72985 , -0.12917 , -0.19555 ,\n",
              "        1.2365  , -0.77196 ,  0.85161 ,  0.11922 ,  0.16816 ,  0.33334 ,\n",
              "       -2.0845  , -0.53471 ,  0.013538,  0.18178 ,  1.2831  ,  0.089331,\n",
              "        0.57264 ,  0.50694 ,  0.27134 ,  0.66504 ,  0.54097 , -0.58377 ,\n",
              "        0.67097 ], dtype=float32)"
            ]
          },
          "metadata": {},
          "execution_count": 30
        }
      ],
      "source": [
        "glove_embeddings['frog']"
      ]
    },
    {
      "cell_type": "code",
      "execution_count": 31,
      "metadata": {
        "id": "451AgqJ0kvTk"
      },
      "outputs": [],
      "source": [
        "vocab_size = 13200\n",
        "embedding_dim = 25\n",
        "max_length = 50\n",
        "trunc_type='post'\n",
        "padding_type='post'\n",
        "oov_tok = \"<OOV>\"\n",
        "training_size = 23000"
      ]
    },
    {
      "cell_type": "code",
      "execution_count": 32,
      "metadata": {
        "id": "Md6JuRrqkvTk"
      },
      "outputs": [],
      "source": [
        "training_sentences = sentences[0:training_size]\n",
        "testing_sentences = sentences[training_size:]\n",
        "training_labels = labels[0:training_size]\n",
        "testing_labels = labels[training_size:]"
      ]
    },
    {
      "cell_type": "code",
      "execution_count": 33,
      "metadata": {
        "id": "b84A6i4FkvTl"
      },
      "outputs": [],
      "source": [
        "tokenizer = Tokenizer(num_words=vocab_size, oov_token=oov_tok)\n",
        "tokenizer.fit_on_texts(training_sentences)\n",
        "\n",
        "word_index = tokenizer.word_index\n",
        "\n",
        "training_sequences = tokenizer.texts_to_sequences(training_sentences)\n",
        "training_padded = pad_sequences(training_sequences, maxlen=max_length, \n",
        "                                padding=padding_type, truncating=trunc_type)\n",
        "\n",
        "testing_sequences = tokenizer.texts_to_sequences(testing_sentences)\n",
        "testing_padded = pad_sequences(testing_sequences, maxlen=max_length, \n",
        "                               padding=padding_type, truncating=trunc_type)"
      ]
    },
    {
      "cell_type": "code",
      "execution_count": 34,
      "metadata": {
        "id": "aejjaJv9kvTl"
      },
      "outputs": [],
      "source": [
        "xs=[]\n",
        "ys=[]\n",
        "cumulative_y=[]\n",
        "total_y=0\n",
        "for word, index in tokenizer.word_index.items():\n",
        "    xs.append(index)\n",
        "    if glove_embeddings.get(word) is not None:\n",
        "        total_y = total_y + 1\n",
        "        ys.append(1)\n",
        "    else:\n",
        "        ys.append(0)\n",
        "    cumulative_y.append(total_y / index)"
      ]
    },
    {
      "cell_type": "code",
      "execution_count": 35,
      "metadata": {
        "id": "w_FHYToNkvTl",
        "outputId": "b508a2c5-246c-4169-9587-241ca14e3ca9",
        "colab": {
          "base_uri": "https://localhost:8080/",
          "height": 157
        }
      },
      "outputs": [
        {
          "output_type": "display_data",
          "data": {
            "text/plain": [
              "<Figure size 864x144 with 1 Axes>"
            ],
            "image/png": "[encoded data removed]"
          },
          "metadata": {
            "needs_background": "light"
          }
        }
      ],
      "source": [
        "fig, ax = plt.subplots(figsize=(12,2))\n",
        "ax.spines['top'].set_visible(False)\n",
        "\n",
        "plt.margins(x=0, y=None, tight=True)\n",
        "#plt.axis([13000, 14000, 0, 1])\n",
        "plt.fill(ys)\n",
        "plt.show()"
      ]
    },
    {
      "cell_type": "code",
      "execution_count": 36,
      "metadata": {
        "id": "u_H25aQnkvTl",
        "outputId": "12943112-5aec-4fda-d0e4-afd137dba7c9",
        "colab": {
          "base_uri": "https://localhost:8080/",
          "height": 265
        }
      },
      "outputs": [
        {
          "output_type": "display_data",
          "data": {
            "text/plain": [
              "<Figure size 432x288 with 1 Axes>"
            ],
            "image/png": "[encoded data removed]"
          },
          "metadata": {
            "needs_background": "light"
          }
        }
      ],
      "source": [
        "plt.plot(xs, cumulative_y)\n",
        "plt.axis([0, 25000, .915, .985])\n",
        "plt.show()"
      ]
    },
    {
      "cell_type": "code",
      "execution_count": 37,
      "metadata": {
        "id": "CXDRfiXYkvTl"
      },
      "outputs": [],
      "source": [
        "embedding_matrix = np.zeros((vocab_size, embedding_dim))\n",
        "for word, index in tokenizer.word_index.items():\n",
        "    if index > vocab_size - 1:\n",
        "        break\n",
        "    else:\n",
        "        embedding_vector = glove_embeddings.get(word)\n",
        "        if embedding_vector is not None:\n",
        "            embedding_matrix[index] = embedding_vector"
      ]
    },
    {
      "cell_type": "code",
      "execution_count": 38,
      "metadata": {
        "id": "1MJ9ZPyFkvTl"
      },
      "outputs": [],
      "source": [
        "import numpy as np\n",
        "\n",
        "training_padded = np.array(training_padded)\n",
        "training_labels = np.array(training_labels)\n",
        "testing_padded = np.array(testing_padded)\n",
        "testing_labels = np.array(testing_labels)"
      ]
    },
    {
      "cell_type": "code",
      "execution_count": 39,
      "metadata": {
        "id": "gerdzanDkvTl"
      },
      "outputs": [],
      "source": [
        "model = tf.keras.Sequential([\n",
        "    tf.keras.layers.Embedding(vocab_size, embedding_dim, \n",
        "                              weights=[embedding_matrix], trainable=False),\n",
        "    tf.keras.layers.Bidirectional(tf.keras.layers.LSTM(embedding_dim, \n",
        "                                                       return_sequences=True)),\n",
        "    tf.keras.layers.Bidirectional(tf.keras.layers.LSTM(embedding_dim)),\n",
        "    tf.keras.layers.Dense(24, activation='relu'),\n",
        "    tf.keras.layers.Dense(1, activation='sigmoid')\n",
        "])\n",
        "adam = tf.keras.optimizers.Adam(learning_rate=0.00001, \n",
        "                                beta_1=0.9, beta_2=0.999, amsgrad=False)\n",
        "model.compile(loss='binary_crossentropy',optimizer=adam, metrics=['accuracy'])"
      ]
    },
    {
      "cell_type": "code",
      "execution_count": 40,
      "metadata": {
        "id": "i7SKY75ikvTm",
        "outputId": "3d7184ce-4de5-443c-9ce4-659dc6b74901",
        "colab": {
          "base_uri": "https://localhost:8080/"
        }
      },
      "outputs": [
        {
          "output_type": "stream",
          "name": "stdout",
          "text": [
            "Epoch 1/30\n",
            "719/719 [==============================] - 18s 18ms/step - loss: 0.6855 - accuracy: 0.5669 - val_loss: 0.6814 - val_accuracy: 0.5735\n",
            "Epoch 2/30\n",
            "719/719 [==============================] - 11s 16ms/step - loss: 0.6762 - accuracy: 0.5794 - val_loss: 0.6725 - val_accuracy: 0.5967\n",
            "Epoch 3/30\n",
            "719/719 [==============================] - 11s 16ms/step - loss: 0.6653 - accuracy: 0.6150 - val_loss: 0.6610 - val_accuracy: 0.6320\n",
            "Epoch 4/30\n",
            "719/719 [==============================] - 11s 16ms/step - loss: 0.6504 - accuracy: 0.6422 - val_loss: 0.6461 - val_accuracy: 0.6476\n",
            "Epoch 5/30\n",
            "719/719 [==============================] - 11s 16ms/step - loss: 0.6333 - accuracy: 0.6590 - val_loss: 0.6312 - val_accuracy: 0.6517\n",
            "Epoch 6/30\n",
            "719/719 [==============================] - 11s 16ms/step - loss: 0.6192 - accuracy: 0.6670 - val_loss: 0.6204 - val_accuracy: 0.6611\n",
            "Epoch 7/30\n",
            "719/719 [==============================] - 11s 16ms/step - loss: 0.6103 - accuracy: 0.6712 - val_loss: 0.6136 - val_accuracy: 0.6649\n",
            "Epoch 8/30\n",
            "719/719 [==============================] - 11s 16ms/step - loss: 0.6047 - accuracy: 0.6752 - val_loss: 0.6087 - val_accuracy: 0.6684\n",
            "Epoch 9/30\n",
            "719/719 [==============================] - 11s 16ms/step - loss: 0.6005 - accuracy: 0.6791 - val_loss: 0.6048 - val_accuracy: 0.6732\n",
            "Epoch 10/30\n",
            "719/719 [==============================] - 12s 17ms/step - loss: 0.5969 - accuracy: 0.6814 - val_loss: 0.6019 - val_accuracy: 0.6762\n",
            "Epoch 11/30\n",
            "719/719 [==============================] - 11s 16ms/step - loss: 0.5940 - accuracy: 0.6856 - val_loss: 0.5984 - val_accuracy: 0.6824\n",
            "Epoch 12/30\n",
            "719/719 [==============================] - 13s 18ms/step - loss: 0.5910 - accuracy: 0.6889 - val_loss: 0.5956 - val_accuracy: 0.6870\n",
            "Epoch 13/30\n",
            "719/719 [==============================] - 11s 16ms/step - loss: 0.5882 - accuracy: 0.6916 - val_loss: 0.5931 - val_accuracy: 0.6897\n",
            "Epoch 14/30\n",
            "719/719 [==============================] - 11s 16ms/step - loss: 0.5857 - accuracy: 0.6922 - val_loss: 0.5906 - val_accuracy: 0.6899\n",
            "Epoch 15/30\n",
            "719/719 [==============================] - 11s 16ms/step - loss: 0.5833 - accuracy: 0.6950 - val_loss: 0.5884 - val_accuracy: 0.6924\n",
            "Epoch 16/30\n",
            "719/719 [==============================] - 11s 16ms/step - loss: 0.5810 - accuracy: 0.6959 - val_loss: 0.5858 - val_accuracy: 0.6983\n",
            "Epoch 17/30\n",
            "719/719 [==============================] - 11s 16ms/step - loss: 0.5788 - accuracy: 0.6983 - val_loss: 0.5838 - val_accuracy: 0.6991\n",
            "Epoch 18/30\n",
            "719/719 [==============================] - 11s 16ms/step - loss: 0.5766 - accuracy: 0.7013 - val_loss: 0.5816 - val_accuracy: 0.7010\n",
            "Epoch 19/30\n",
            "719/719 [==============================] - 11s 16ms/step - loss: 0.5745 - accuracy: 0.7037 - val_loss: 0.5797 - val_accuracy: 0.7010\n",
            "Epoch 20/30\n",
            "719/719 [==============================] - 11s 16ms/step - loss: 0.5725 - accuracy: 0.7058 - val_loss: 0.5779 - val_accuracy: 0.7023\n",
            "Epoch 21/30\n",
            "719/719 [==============================] - 11s 16ms/step - loss: 0.5707 - accuracy: 0.7068 - val_loss: 0.5760 - val_accuracy: 0.7056\n",
            "Epoch 22/30\n",
            "719/719 [==============================] - 11s 16ms/step - loss: 0.5688 - accuracy: 0.7105 - val_loss: 0.5742 - val_accuracy: 0.7050\n",
            "Epoch 23/30\n",
            "719/719 [==============================] - 11s 16ms/step - loss: 0.5669 - accuracy: 0.7098 - val_loss: 0.5726 - val_accuracy: 0.7083\n",
            "Epoch 24/30\n",
            "719/719 [==============================] - 11s 16ms/step - loss: 0.5652 - accuracy: 0.7117 - val_loss: 0.5704 - val_accuracy: 0.7064\n",
            "Epoch 25/30\n",
            "719/719 [==============================] - 12s 16ms/step - loss: 0.5635 - accuracy: 0.7136 - val_loss: 0.5689 - val_accuracy: 0.7096\n",
            "Epoch 26/30\n",
            "719/719 [==============================] - 11s 16ms/step - loss: 0.5618 - accuracy: 0.7143 - val_loss: 0.5675 - val_accuracy: 0.7053\n",
            "Epoch 27/30\n",
            "719/719 [==============================] - 11s 16ms/step - loss: 0.5602 - accuracy: 0.7170 - val_loss: 0.5659 - val_accuracy: 0.7083\n",
            "Epoch 28/30\n",
            "719/719 [==============================] - 11s 16ms/step - loss: 0.5585 - accuracy: 0.7171 - val_loss: 0.5644 - val_accuracy: 0.7099\n",
            "Epoch 29/30\n",
            "719/719 [==============================] - 11s 16ms/step - loss: 0.5570 - accuracy: 0.7198 - val_loss: 0.5630 - val_accuracy: 0.7067\n",
            "Epoch 30/30\n",
            "719/719 [==============================] - 11s 16ms/step - loss: 0.5554 - accuracy: 0.7192 - val_loss: 0.5613 - val_accuracy: 0.7126\n"
          ]
        }
      ],
      "source": [
        "num_epochs = 30\n",
        "history = model.fit(training_padded, training_labels, epochs=num_epochs, \n",
        "                    validation_data=(testing_padded, testing_labels))"
      ]
    },
    {
      "cell_type": "code",
      "execution_count": 41,
      "metadata": {
        "scrolled": true,
        "id": "3jc1OJ_lkvTm",
        "outputId": "b94010d0-3ba3-4bac-f46b-19435a8f6432",
        "colab": {
          "base_uri": "https://localhost:8080/",
          "height": 279
        }
      },
      "outputs": [
        {
          "output_type": "display_data",
          "data": {
            "text/plain": [
              "<Figure size 432x288 with 1 Axes>"
            ],
            "image/png": "[encoded data removed]"
          },
          "metadata": {
            "needs_background": "light"
          }
        }
      ],
      "source": [
        "plt.plot(history.history['accuracy'])\n",
        "plt.plot(history.history['val_accuracy'])\n",
        "plt.xlabel('epochs')\n",
        "plt.ylabel('accuracy')\n",
        "plt.legend(['accuracy', 'val_accuracy'])\n",
        "plt.show()"
      ]
    },
    {
      "cell_type": "code",
      "execution_count": 42,
      "metadata": {
        "id": "wMPdYuCekvTo",
        "outputId": "d17e7f28-cb1d-469c-a409-9ce3bedc82db",
        "colab": {
          "base_uri": "https://localhost:8080/",
          "height": 279
        }
      },
      "outputs": [
        {
          "output_type": "display_data",
          "data": {
            "text/plain": [
              "<Figure size 432x288 with 1 Axes>"
            ],
            "image/png": "[encoded data removed]"
          },
          "metadata": {
            "needs_background": "light"
          }
        }
      ],
      "source": [
        "plt.plot(history.history['loss'])\n",
        "plt.plot(history.history['val_loss'])\n",
        "plt.xlabel('epochs')\n",
        "plt.ylabel('loss')\n",
        "plt.legend(['loss', 'val_loss'])\n",
        "plt.show()"
      ]
    },
    {
      "cell_type": "code",
      "execution_count": 43,
      "metadata": {
        "id": "Dt0b4EhKkvTo",
        "outputId": "0c4009d1-66b1-410a-c96e-a82b0742768f",
        "colab": {
          "base_uri": "https://localhost:8080/"
        }
      },
      "outputs": [
        {
          "output_type": "stream",
          "name": "stdout",
          "text": [
            "Epoch 1/150\n",
            "719/719 [==============================] - 18s 17ms/step - loss: 0.6922 - accuracy: 0.5418 - val_loss: 0.6876 - val_accuracy: 0.5700\n",
            "Epoch 2/150\n",
            "719/719 [==============================] - 11s 16ms/step - loss: 0.6857 - accuracy: 0.5596 - val_loss: 0.6806 - val_accuracy: 0.5697\n",
            "Epoch 3/150\n",
            "719/719 [==============================] - 13s 18ms/step - loss: 0.6756 - accuracy: 0.5652 - val_loss: 0.6669 - val_accuracy: 0.5886\n",
            "Epoch 4/150\n",
            "719/719 [==============================] - 11s 16ms/step - loss: 0.6505 - accuracy: 0.6202 - val_loss: 0.6371 - val_accuracy: 0.6382\n",
            "Epoch 5/150\n",
            "719/719 [==============================] - 11s 15ms/step - loss: 0.6263 - accuracy: 0.6521 - val_loss: 0.6249 - val_accuracy: 0.6525\n",
            "Epoch 6/150\n",
            "719/719 [==============================] - 11s 16ms/step - loss: 0.6172 - accuracy: 0.6584 - val_loss: 0.6181 - val_accuracy: 0.6635\n",
            "Epoch 7/150\n",
            "719/719 [==============================] - 11s 16ms/step - loss: 0.6115 - accuracy: 0.6642 - val_loss: 0.6127 - val_accuracy: 0.6713\n",
            "Epoch 8/150\n",
            "719/719 [==============================] - 11s 16ms/step - loss: 0.6069 - accuracy: 0.6700 - val_loss: 0.6085 - val_accuracy: 0.6751\n",
            "Epoch 9/150\n",
            "719/719 [==============================] - 11s 16ms/step - loss: 0.6030 - accuracy: 0.6738 - val_loss: 0.6045 - val_accuracy: 0.6775\n",
            "Epoch 10/150\n",
            "719/719 [==============================] - 12s 16ms/step - loss: 0.5996 - accuracy: 0.6780 - val_loss: 0.6006 - val_accuracy: 0.6827\n",
            "Epoch 11/150\n",
            "719/719 [==============================] - 11s 16ms/step - loss: 0.5964 - accuracy: 0.6817 - val_loss: 0.5976 - val_accuracy: 0.6867\n",
            "Epoch 12/150\n",
            "719/719 [==============================] - 11s 16ms/step - loss: 0.5935 - accuracy: 0.6841 - val_loss: 0.5944 - val_accuracy: 0.6926\n",
            "Epoch 13/150\n",
            "719/719 [==============================] - 11s 16ms/step - loss: 0.5906 - accuracy: 0.6867 - val_loss: 0.5918 - val_accuracy: 0.6945\n",
            "Epoch 14/150\n",
            "719/719 [==============================] - 11s 15ms/step - loss: 0.5879 - accuracy: 0.6897 - val_loss: 0.5890 - val_accuracy: 0.6972\n",
            "Epoch 15/150\n",
            "719/719 [==============================] - 11s 16ms/step - loss: 0.5854 - accuracy: 0.6927 - val_loss: 0.5865 - val_accuracy: 0.7010\n",
            "Epoch 16/150\n",
            "719/719 [==============================] - 11s 16ms/step - loss: 0.5830 - accuracy: 0.6946 - val_loss: 0.5838 - val_accuracy: 0.6994\n",
            "Epoch 17/150\n",
            "719/719 [==============================] - 11s 16ms/step - loss: 0.5805 - accuracy: 0.6963 - val_loss: 0.5816 - val_accuracy: 0.7010\n",
            "Epoch 18/150\n",
            "719/719 [==============================] - 11s 15ms/step - loss: 0.5782 - accuracy: 0.6986 - val_loss: 0.5794 - val_accuracy: 0.7007\n",
            "Epoch 19/150\n",
            "719/719 [==============================] - 11s 15ms/step - loss: 0.5760 - accuracy: 0.7014 - val_loss: 0.5776 - val_accuracy: 0.6999\n",
            "Epoch 20/150\n",
            "719/719 [==============================] - 11s 16ms/step - loss: 0.5738 - accuracy: 0.7030 - val_loss: 0.5752 - val_accuracy: 0.7023\n",
            "Epoch 21/150\n",
            "719/719 [==============================] - 11s 15ms/step - loss: 0.5717 - accuracy: 0.7057 - val_loss: 0.5734 - val_accuracy: 0.7029\n",
            "Epoch 22/150\n",
            "719/719 [==============================] - 11s 15ms/step - loss: 0.5697 - accuracy: 0.7068 - val_loss: 0.5712 - val_accuracy: 0.7037\n",
            "Epoch 23/150\n",
            "719/719 [==============================] - 11s 16ms/step - loss: 0.5676 - accuracy: 0.7090 - val_loss: 0.5697 - val_accuracy: 0.7042\n",
            "Epoch 24/150\n",
            "719/719 [==============================] - 11s 16ms/step - loss: 0.5657 - accuracy: 0.7108 - val_loss: 0.5676 - val_accuracy: 0.7083\n",
            "Epoch 25/150\n",
            "719/719 [==============================] - 13s 18ms/step - loss: 0.5636 - accuracy: 0.7138 - val_loss: 0.5660 - val_accuracy: 0.7085\n",
            "Epoch 26/150\n",
            "719/719 [==============================] - 12s 16ms/step - loss: 0.5618 - accuracy: 0.7137 - val_loss: 0.5641 - val_accuracy: 0.7099\n",
            "Epoch 27/150\n",
            "719/719 [==============================] - 11s 16ms/step - loss: 0.5600 - accuracy: 0.7157 - val_loss: 0.5625 - val_accuracy: 0.7142\n",
            "Epoch 28/150\n",
            "719/719 [==============================] - 11s 16ms/step - loss: 0.5582 - accuracy: 0.7167 - val_loss: 0.5606 - val_accuracy: 0.7126\n",
            "Epoch 29/150\n",
            "719/719 [==============================] - 11s 16ms/step - loss: 0.5563 - accuracy: 0.7187 - val_loss: 0.5592 - val_accuracy: 0.7150\n",
            "Epoch 30/150\n",
            "719/719 [==============================] - 11s 15ms/step - loss: 0.5546 - accuracy: 0.7197 - val_loss: 0.5583 - val_accuracy: 0.7153\n",
            "Epoch 31/150\n",
            "719/719 [==============================] - 11s 16ms/step - loss: 0.5529 - accuracy: 0.7196 - val_loss: 0.5558 - val_accuracy: 0.7161\n",
            "Epoch 32/150\n",
            "719/719 [==============================] - 11s 15ms/step - loss: 0.5511 - accuracy: 0.7227 - val_loss: 0.5550 - val_accuracy: 0.7183\n",
            "Epoch 33/150\n",
            "719/719 [==============================] - 11s 16ms/step - loss: 0.5494 - accuracy: 0.7239 - val_loss: 0.5525 - val_accuracy: 0.7183\n",
            "Epoch 34/150\n",
            "719/719 [==============================] - 11s 16ms/step - loss: 0.5477 - accuracy: 0.7253 - val_loss: 0.5510 - val_accuracy: 0.7226\n",
            "Epoch 35/150\n",
            "719/719 [==============================] - 11s 16ms/step - loss: 0.5461 - accuracy: 0.7266 - val_loss: 0.5496 - val_accuracy: 0.7212\n",
            "Epoch 36/150\n",
            "719/719 [==============================] - 11s 16ms/step - loss: 0.5444 - accuracy: 0.7277 - val_loss: 0.5481 - val_accuracy: 0.7212\n",
            "Epoch 37/150\n",
            "719/719 [==============================] - 11s 16ms/step - loss: 0.5427 - accuracy: 0.7295 - val_loss: 0.5461 - val_accuracy: 0.7242\n",
            "Epoch 38/150\n",
            "719/719 [==============================] - 11s 16ms/step - loss: 0.5413 - accuracy: 0.7291 - val_loss: 0.5446 - val_accuracy: 0.7272\n",
            "Epoch 39/150\n",
            "719/719 [==============================] - 11s 16ms/step - loss: 0.5396 - accuracy: 0.7300 - val_loss: 0.5435 - val_accuracy: 0.7261\n",
            "Epoch 40/150\n",
            "719/719 [==============================] - 11s 16ms/step - loss: 0.5382 - accuracy: 0.7329 - val_loss: 0.5420 - val_accuracy: 0.7290\n",
            "Epoch 41/150\n",
            "719/719 [==============================] - 11s 16ms/step - loss: 0.5365 - accuracy: 0.7327 - val_loss: 0.5413 - val_accuracy: 0.7277\n",
            "Epoch 42/150\n",
            "719/719 [==============================] - 11s 16ms/step - loss: 0.5351 - accuracy: 0.7335 - val_loss: 0.5412 - val_accuracy: 0.7277\n",
            "Epoch 43/150\n",
            "719/719 [==============================] - 11s 16ms/step - loss: 0.5338 - accuracy: 0.7340 - val_loss: 0.5380 - val_accuracy: 0.7320\n",
            "Epoch 44/150\n",
            "719/719 [==============================] - 11s 16ms/step - loss: 0.5322 - accuracy: 0.7359 - val_loss: 0.5364 - val_accuracy: 0.7325\n",
            "Epoch 45/150\n",
            "719/719 [==============================] - 11s 16ms/step - loss: 0.5310 - accuracy: 0.7357 - val_loss: 0.5352 - val_accuracy: 0.7331\n",
            "Epoch 46/150\n",
            "719/719 [==============================] - 11s 16ms/step - loss: 0.5295 - accuracy: 0.7380 - val_loss: 0.5343 - val_accuracy: 0.7334\n",
            "Epoch 47/150\n",
            "719/719 [==============================] - 11s 16ms/step - loss: 0.5282 - accuracy: 0.7383 - val_loss: 0.5327 - val_accuracy: 0.7342\n",
            "Epoch 48/150\n",
            "719/719 [==============================] - 12s 16ms/step - loss: 0.5272 - accuracy: 0.7389 - val_loss: 0.5319 - val_accuracy: 0.7347\n",
            "Epoch 49/150\n",
            "719/719 [==============================] - 11s 16ms/step - loss: 0.5259 - accuracy: 0.7398 - val_loss: 0.5308 - val_accuracy: 0.7342\n",
            "Epoch 50/150\n",
            "719/719 [==============================] - 11s 16ms/step - loss: 0.5249 - accuracy: 0.7410 - val_loss: 0.5301 - val_accuracy: 0.7336\n",
            "Epoch 51/150\n",
            "719/719 [==============================] - 13s 18ms/step - loss: 0.5236 - accuracy: 0.7414 - val_loss: 0.5292 - val_accuracy: 0.7334\n",
            "Epoch 52/150\n",
            "719/719 [==============================] - 11s 16ms/step - loss: 0.5223 - accuracy: 0.7423 - val_loss: 0.5283 - val_accuracy: 0.7382\n",
            "Epoch 53/150\n",
            "719/719 [==============================] - 11s 16ms/step - loss: 0.5213 - accuracy: 0.7426 - val_loss: 0.5267 - val_accuracy: 0.7360\n",
            "Epoch 54/150\n",
            "719/719 [==============================] - 11s 16ms/step - loss: 0.5206 - accuracy: 0.7436 - val_loss: 0.5258 - val_accuracy: 0.7350\n",
            "Epoch 55/150\n",
            "719/719 [==============================] - 11s 16ms/step - loss: 0.5193 - accuracy: 0.7442 - val_loss: 0.5252 - val_accuracy: 0.7347\n",
            "Epoch 56/150\n",
            "719/719 [==============================] - 11s 15ms/step - loss: 0.5183 - accuracy: 0.7454 - val_loss: 0.5241 - val_accuracy: 0.7344\n",
            "Epoch 57/150\n",
            "719/719 [==============================] - 11s 16ms/step - loss: 0.5173 - accuracy: 0.7458 - val_loss: 0.5239 - val_accuracy: 0.7366\n",
            "Epoch 58/150\n",
            "719/719 [==============================] - 11s 16ms/step - loss: 0.5163 - accuracy: 0.7462 - val_loss: 0.5222 - val_accuracy: 0.7382\n",
            "Epoch 59/150\n",
            "719/719 [==============================] - 11s 16ms/step - loss: 0.5153 - accuracy: 0.7458 - val_loss: 0.5223 - val_accuracy: 0.7374\n",
            "Epoch 60/150\n",
            "719/719 [==============================] - 11s 16ms/step - loss: 0.5145 - accuracy: 0.7472 - val_loss: 0.5212 - val_accuracy: 0.7387\n",
            "Epoch 61/150\n",
            "719/719 [==============================] - 11s 16ms/step - loss: 0.5136 - accuracy: 0.7475 - val_loss: 0.5199 - val_accuracy: 0.7387\n",
            "Epoch 62/150\n",
            "719/719 [==============================] - 11s 16ms/step - loss: 0.5128 - accuracy: 0.7487 - val_loss: 0.5191 - val_accuracy: 0.7390\n",
            "Epoch 63/150\n",
            "719/719 [==============================] - 12s 17ms/step - loss: 0.5115 - accuracy: 0.7493 - val_loss: 0.5208 - val_accuracy: 0.7385\n",
            "Epoch 64/150\n",
            "719/719 [==============================] - 11s 16ms/step - loss: 0.5110 - accuracy: 0.7488 - val_loss: 0.5180 - val_accuracy: 0.7390\n",
            "Epoch 65/150\n",
            "719/719 [==============================] - 12s 16ms/step - loss: 0.5101 - accuracy: 0.7497 - val_loss: 0.5171 - val_accuracy: 0.7409\n",
            "Epoch 66/150\n",
            "719/719 [==============================] - 12s 16ms/step - loss: 0.5091 - accuracy: 0.7514 - val_loss: 0.5170 - val_accuracy: 0.7396\n",
            "Epoch 67/150\n",
            "719/719 [==============================] - 11s 16ms/step - loss: 0.5083 - accuracy: 0.7507 - val_loss: 0.5156 - val_accuracy: 0.7420\n",
            "Epoch 68/150\n",
            "719/719 [==============================] - 12s 16ms/step - loss: 0.5075 - accuracy: 0.7527 - val_loss: 0.5151 - val_accuracy: 0.7439\n",
            "Epoch 69/150\n",
            "719/719 [==============================] - 11s 16ms/step - loss: 0.5068 - accuracy: 0.7526 - val_loss: 0.5144 - val_accuracy: 0.7398\n",
            "Epoch 70/150\n",
            "719/719 [==============================] - 12s 16ms/step - loss: 0.5055 - accuracy: 0.7527 - val_loss: 0.5158 - val_accuracy: 0.7422\n",
            "Epoch 71/150\n",
            "719/719 [==============================] - 11s 16ms/step - loss: 0.5054 - accuracy: 0.7521 - val_loss: 0.5129 - val_accuracy: 0.7414\n",
            "Epoch 72/150\n",
            "719/719 [==============================] - 12s 16ms/step - loss: 0.5045 - accuracy: 0.7537 - val_loss: 0.5138 - val_accuracy: 0.7455\n",
            "Epoch 73/150\n",
            "719/719 [==============================] - 13s 18ms/step - loss: 0.5039 - accuracy: 0.7523 - val_loss: 0.5118 - val_accuracy: 0.7441\n",
            "Epoch 74/150\n",
            "719/719 [==============================] - 11s 16ms/step - loss: 0.5030 - accuracy: 0.7541 - val_loss: 0.5117 - val_accuracy: 0.7409\n",
            "Epoch 75/150\n",
            "719/719 [==============================] - 11s 16ms/step - loss: 0.5023 - accuracy: 0.7540 - val_loss: 0.5109 - val_accuracy: 0.7414\n",
            "Epoch 76/150\n",
            "719/719 [==============================] - 11s 16ms/step - loss: 0.5016 - accuracy: 0.7553 - val_loss: 0.5103 - val_accuracy: 0.7444\n",
            "Epoch 77/150\n",
            "719/719 [==============================] - 12s 17ms/step - loss: 0.5009 - accuracy: 0.7564 - val_loss: 0.5102 - val_accuracy: 0.7455\n",
            "Epoch 78/150\n",
            "719/719 [==============================] - 12s 16ms/step - loss: 0.5001 - accuracy: 0.7558 - val_loss: 0.5091 - val_accuracy: 0.7455\n",
            "Epoch 79/150\n",
            "719/719 [==============================] - 12s 16ms/step - loss: 0.4993 - accuracy: 0.7555 - val_loss: 0.5101 - val_accuracy: 0.7436\n",
            "Epoch 80/150\n",
            "719/719 [==============================] - 12s 16ms/step - loss: 0.4988 - accuracy: 0.7570 - val_loss: 0.5097 - val_accuracy: 0.7420\n",
            "Epoch 81/150\n",
            "719/719 [==============================] - 12s 16ms/step - loss: 0.4981 - accuracy: 0.7563 - val_loss: 0.5082 - val_accuracy: 0.7447\n",
            "Epoch 82/150\n",
            "719/719 [==============================] - 11s 16ms/step - loss: 0.4974 - accuracy: 0.7578 - val_loss: 0.5074 - val_accuracy: 0.7493\n",
            "Epoch 83/150\n",
            "719/719 [==============================] - 11s 16ms/step - loss: 0.4971 - accuracy: 0.7571 - val_loss: 0.5066 - val_accuracy: 0.7487\n",
            "Epoch 84/150\n",
            "719/719 [==============================] - 12s 16ms/step - loss: 0.4961 - accuracy: 0.7585 - val_loss: 0.5064 - val_accuracy: 0.7474\n",
            "Epoch 85/150\n",
            "719/719 [==============================] - 11s 16ms/step - loss: 0.4957 - accuracy: 0.7586 - val_loss: 0.5058 - val_accuracy: 0.7484\n",
            "Epoch 86/150\n",
            "719/719 [==============================] - 11s 16ms/step - loss: 0.4951 - accuracy: 0.7587 - val_loss: 0.5057 - val_accuracy: 0.7471\n",
            "Epoch 87/150\n",
            "719/719 [==============================] - 11s 16ms/step - loss: 0.4945 - accuracy: 0.7591 - val_loss: 0.5051 - val_accuracy: 0.7476\n",
            "Epoch 88/150\n",
            "719/719 [==============================] - 11s 16ms/step - loss: 0.4936 - accuracy: 0.7587 - val_loss: 0.5057 - val_accuracy: 0.7484\n",
            "Epoch 89/150\n",
            "719/719 [==============================] - 11s 16ms/step - loss: 0.4929 - accuracy: 0.7592 - val_loss: 0.5082 - val_accuracy: 0.7474\n",
            "Epoch 90/150\n",
            "719/719 [==============================] - 11s 16ms/step - loss: 0.4925 - accuracy: 0.7603 - val_loss: 0.5037 - val_accuracy: 0.7493\n",
            "Epoch 91/150\n",
            "719/719 [==============================] - 11s 16ms/step - loss: 0.4920 - accuracy: 0.7603 - val_loss: 0.5031 - val_accuracy: 0.7511\n",
            "Epoch 92/150\n",
            "719/719 [==============================] - 12s 16ms/step - loss: 0.4914 - accuracy: 0.7603 - val_loss: 0.5021 - val_accuracy: 0.7498\n",
            "Epoch 93/150\n",
            "719/719 [==============================] - 12s 16ms/step - loss: 0.4907 - accuracy: 0.7614 - val_loss: 0.5026 - val_accuracy: 0.7503\n",
            "Epoch 94/150\n",
            "719/719 [==============================] - 11s 16ms/step - loss: 0.4902 - accuracy: 0.7619 - val_loss: 0.5018 - val_accuracy: 0.7503\n",
            "Epoch 95/150\n",
            "719/719 [==============================] - 11s 16ms/step - loss: 0.4897 - accuracy: 0.7604 - val_loss: 0.5014 - val_accuracy: 0.7506\n",
            "Epoch 96/150\n",
            "719/719 [==============================] - 11s 16ms/step - loss: 0.4891 - accuracy: 0.7620 - val_loss: 0.5012 - val_accuracy: 0.7517\n",
            "Epoch 97/150\n",
            "719/719 [==============================] - 12s 17ms/step - loss: 0.4884 - accuracy: 0.7625 - val_loss: 0.5008 - val_accuracy: 0.7487\n",
            "Epoch 98/150\n",
            "719/719 [==============================] - 13s 18ms/step - loss: 0.4878 - accuracy: 0.7637 - val_loss: 0.5002 - val_accuracy: 0.7522\n",
            "Epoch 99/150\n",
            "719/719 [==============================] - 11s 16ms/step - loss: 0.4876 - accuracy: 0.7635 - val_loss: 0.5004 - val_accuracy: 0.7525\n",
            "Epoch 100/150\n",
            "719/719 [==============================] - 11s 16ms/step - loss: 0.4868 - accuracy: 0.7641 - val_loss: 0.4997 - val_accuracy: 0.7501\n",
            "Epoch 101/150\n",
            "719/719 [==============================] - 11s 16ms/step - loss: 0.4862 - accuracy: 0.7639 - val_loss: 0.5006 - val_accuracy: 0.7452\n",
            "Epoch 102/150\n",
            "719/719 [==============================] - 11s 16ms/step - loss: 0.4859 - accuracy: 0.7634 - val_loss: 0.4985 - val_accuracy: 0.7528\n",
            "Epoch 103/150\n",
            "719/719 [==============================] - 11s 16ms/step - loss: 0.4853 - accuracy: 0.7647 - val_loss: 0.4983 - val_accuracy: 0.7520\n",
            "Epoch 104/150\n",
            "719/719 [==============================] - 11s 16ms/step - loss: 0.4848 - accuracy: 0.7636 - val_loss: 0.4976 - val_accuracy: 0.7501\n",
            "Epoch 105/150\n",
            "719/719 [==============================] - 11s 16ms/step - loss: 0.4842 - accuracy: 0.7653 - val_loss: 0.4967 - val_accuracy: 0.7517\n",
            "Epoch 106/150\n",
            "719/719 [==============================] - 11s 16ms/step - loss: 0.4837 - accuracy: 0.7644 - val_loss: 0.4971 - val_accuracy: 0.7536\n",
            "Epoch 107/150\n",
            "719/719 [==============================] - 11s 16ms/step - loss: 0.4832 - accuracy: 0.7660 - val_loss: 0.4967 - val_accuracy: 0.7514\n",
            "Epoch 108/150\n",
            "719/719 [==============================] - 11s 16ms/step - loss: 0.4826 - accuracy: 0.7660 - val_loss: 0.4978 - val_accuracy: 0.7533\n",
            "Epoch 109/150\n",
            "719/719 [==============================] - 11s 16ms/step - loss: 0.4822 - accuracy: 0.7656 - val_loss: 0.4970 - val_accuracy: 0.7501\n",
            "Epoch 110/150\n",
            "719/719 [==============================] - 11s 16ms/step - loss: 0.4818 - accuracy: 0.7668 - val_loss: 0.4952 - val_accuracy: 0.7509\n",
            "Epoch 111/150\n",
            "719/719 [==============================] - 11s 16ms/step - loss: 0.4810 - accuracy: 0.7668 - val_loss: 0.4961 - val_accuracy: 0.7514\n",
            "Epoch 112/150\n",
            "719/719 [==============================] - 11s 16ms/step - loss: 0.4805 - accuracy: 0.7673 - val_loss: 0.4954 - val_accuracy: 0.7525\n",
            "Epoch 113/150\n",
            "719/719 [==============================] - 11s 16ms/step - loss: 0.4800 - accuracy: 0.7670 - val_loss: 0.4948 - val_accuracy: 0.7530\n",
            "Epoch 114/150\n",
            "719/719 [==============================] - 11s 16ms/step - loss: 0.4797 - accuracy: 0.7684 - val_loss: 0.4944 - val_accuracy: 0.7525\n",
            "Epoch 115/150\n",
            "719/719 [==============================] - 12s 17ms/step - loss: 0.4792 - accuracy: 0.7687 - val_loss: 0.4942 - val_accuracy: 0.7522\n",
            "Epoch 116/150\n",
            "719/719 [==============================] - 11s 16ms/step - loss: 0.4788 - accuracy: 0.7687 - val_loss: 0.4948 - val_accuracy: 0.7528\n",
            "Epoch 117/150\n",
            "719/719 [==============================] - 11s 16ms/step - loss: 0.4782 - accuracy: 0.7693 - val_loss: 0.4931 - val_accuracy: 0.7538\n",
            "Epoch 118/150\n",
            "719/719 [==============================] - 11s 16ms/step - loss: 0.4778 - accuracy: 0.7693 - val_loss: 0.4939 - val_accuracy: 0.7528\n",
            "Epoch 119/150\n",
            "719/719 [==============================] - 11s 16ms/step - loss: 0.4773 - accuracy: 0.7696 - val_loss: 0.4928 - val_accuracy: 0.7517\n",
            "Epoch 120/150\n",
            "719/719 [==============================] - 12s 16ms/step - loss: 0.4768 - accuracy: 0.7702 - val_loss: 0.4923 - val_accuracy: 0.7520\n",
            "Epoch 121/150\n",
            "719/719 [==============================] - 13s 18ms/step - loss: 0.4763 - accuracy: 0.7709 - val_loss: 0.4914 - val_accuracy: 0.7538\n",
            "Epoch 122/150\n",
            "719/719 [==============================] - 11s 16ms/step - loss: 0.4759 - accuracy: 0.7706 - val_loss: 0.4917 - val_accuracy: 0.7522\n",
            "Epoch 123/150\n",
            "719/719 [==============================] - 11s 16ms/step - loss: 0.4754 - accuracy: 0.7718 - val_loss: 0.4920 - val_accuracy: 0.7525\n",
            "Epoch 124/150\n",
            "719/719 [==============================] - 12s 16ms/step - loss: 0.4752 - accuracy: 0.7711 - val_loss: 0.4921 - val_accuracy: 0.7530\n",
            "Epoch 125/150\n",
            "719/719 [==============================] - 11s 16ms/step - loss: 0.4744 - accuracy: 0.7725 - val_loss: 0.4909 - val_accuracy: 0.7541\n",
            "Epoch 126/150\n",
            "719/719 [==============================] - 11s 16ms/step - loss: 0.4740 - accuracy: 0.7713 - val_loss: 0.4905 - val_accuracy: 0.7547\n",
            "Epoch 127/150\n",
            "719/719 [==============================] - 11s 16ms/step - loss: 0.4738 - accuracy: 0.7726 - val_loss: 0.4895 - val_accuracy: 0.7541\n",
            "Epoch 128/150\n",
            "719/719 [==============================] - 11s 16ms/step - loss: 0.4729 - accuracy: 0.7727 - val_loss: 0.4898 - val_accuracy: 0.7552\n",
            "Epoch 129/150\n",
            "719/719 [==============================] - 11s 16ms/step - loss: 0.4723 - accuracy: 0.7735 - val_loss: 0.4909 - val_accuracy: 0.7541\n",
            "Epoch 130/150\n",
            "719/719 [==============================] - 12s 16ms/step - loss: 0.4722 - accuracy: 0.7740 - val_loss: 0.4902 - val_accuracy: 0.7536\n",
            "Epoch 131/150\n",
            "719/719 [==============================] - 11s 16ms/step - loss: 0.4718 - accuracy: 0.7749 - val_loss: 0.4901 - val_accuracy: 0.7555\n",
            "Epoch 132/150\n",
            "719/719 [==============================] - 11s 16ms/step - loss: 0.4715 - accuracy: 0.7748 - val_loss: 0.4885 - val_accuracy: 0.7555\n",
            "Epoch 133/150\n",
            "719/719 [==============================] - 11s 16ms/step - loss: 0.4710 - accuracy: 0.7743 - val_loss: 0.4882 - val_accuracy: 0.7541\n",
            "Epoch 134/150\n",
            "719/719 [==============================] - 12s 16ms/step - loss: 0.4706 - accuracy: 0.7744 - val_loss: 0.4880 - val_accuracy: 0.7557\n",
            "Epoch 135/150\n",
            "719/719 [==============================] - 12s 16ms/step - loss: 0.4699 - accuracy: 0.7745 - val_loss: 0.4882 - val_accuracy: 0.7552\n",
            "Epoch 136/150\n",
            "719/719 [==============================] - 12s 16ms/step - loss: 0.4699 - accuracy: 0.7743 - val_loss: 0.4872 - val_accuracy: 0.7552\n",
            "Epoch 137/150\n",
            "719/719 [==============================] - 12s 16ms/step - loss: 0.4694 - accuracy: 0.7754 - val_loss: 0.4885 - val_accuracy: 0.7533\n",
            "Epoch 138/150\n",
            "719/719 [==============================] - 11s 16ms/step - loss: 0.4688 - accuracy: 0.7753 - val_loss: 0.4865 - val_accuracy: 0.7555\n",
            "Epoch 139/150\n",
            "719/719 [==============================] - 11s 16ms/step - loss: 0.4683 - accuracy: 0.7764 - val_loss: 0.4880 - val_accuracy: 0.7547\n",
            "Epoch 140/150\n",
            "719/719 [==============================] - 12s 16ms/step - loss: 0.4681 - accuracy: 0.7771 - val_loss: 0.4862 - val_accuracy: 0.7565\n",
            "Epoch 141/150\n",
            "719/719 [==============================] - 11s 16ms/step - loss: 0.4680 - accuracy: 0.7761 - val_loss: 0.4863 - val_accuracy: 0.7560\n",
            "Epoch 142/150\n",
            "719/719 [==============================] - 12s 16ms/step - loss: 0.4672 - accuracy: 0.7752 - val_loss: 0.4855 - val_accuracy: 0.7560\n",
            "Epoch 143/150\n",
            "719/719 [==============================] - 13s 18ms/step - loss: 0.4669 - accuracy: 0.7764 - val_loss: 0.4856 - val_accuracy: 0.7563\n",
            "Epoch 144/150\n",
            "719/719 [==============================] - 11s 16ms/step - loss: 0.4664 - accuracy: 0.7779 - val_loss: 0.4863 - val_accuracy: 0.7555\n",
            "Epoch 145/150\n",
            "719/719 [==============================] - 12s 17ms/step - loss: 0.4661 - accuracy: 0.7767 - val_loss: 0.4880 - val_accuracy: 0.7530\n",
            "Epoch 146/150\n",
            "719/719 [==============================] - 11s 16ms/step - loss: 0.4658 - accuracy: 0.7762 - val_loss: 0.4857 - val_accuracy: 0.7571\n",
            "Epoch 147/150\n",
            "719/719 [==============================] - 11s 16ms/step - loss: 0.4652 - accuracy: 0.7777 - val_loss: 0.4852 - val_accuracy: 0.7571\n",
            "Epoch 148/150\n",
            "719/719 [==============================] - 11s 16ms/step - loss: 0.4651 - accuracy: 0.7777 - val_loss: 0.4840 - val_accuracy: 0.7579\n",
            "Epoch 149/150\n",
            "719/719 [==============================] - 11s 16ms/step - loss: 0.4642 - accuracy: 0.7781 - val_loss: 0.4843 - val_accuracy: 0.7557\n",
            "Epoch 150/150\n",
            "719/719 [==============================] - 12s 16ms/step - loss: 0.4640 - accuracy: 0.7782 - val_loss: 0.4839 - val_accuracy: 0.7565\n"
          ]
        }
      ],
      "source": [
        "model = tf.keras.Sequential([\n",
        "    tf.keras.layers.Embedding(vocab_size, embedding_dim, \n",
        "                              weights=[embedding_matrix], trainable=False),\n",
        "    tf.keras.layers.Bidirectional(tf.keras.layers.LSTM(embedding_dim, \n",
        "                                                       return_sequences=True)),\n",
        "    tf.keras.layers.Bidirectional(tf.keras.layers.LSTM(embedding_dim)),\n",
        "    tf.keras.layers.Dense(24, activation='relu'),\n",
        "    tf.keras.layers.Dense(1, activation='sigmoid')\n",
        "])\n",
        "adam = tf.keras.optimizers.Adam(learning_rate=0.00001, \n",
        "                                beta_1=0.9, beta_2=0.999, amsgrad=False)\n",
        "model.compile(loss='binary_crossentropy',optimizer=adam, metrics=['accuracy'])\n",
        "\n",
        "num_epochs = 150\n",
        "history = model.fit(training_padded, training_labels, epochs=num_epochs, \n",
        "                    validation_data=(testing_padded, testing_labels))"
      ]
    },
    {
      "cell_type": "code",
      "execution_count": 44,
      "metadata": {
        "scrolled": true,
        "id": "EGFoXkQbkvTo",
        "outputId": "69fe6cd2-2201-428e-d0e9-222e678bdea4",
        "colab": {
          "base_uri": "https://localhost:8080/",
          "height": 279
        }
      },
      "outputs": [
        {
          "output_type": "display_data",
          "data": {
            "text/plain": [
              "<Figure size 432x288 with 1 Axes>"
            ],
            "image/png": "[encoded data removed]"
          },
          "metadata": {
            "needs_background": "light"
          }
        }
      ],
      "source": [
        "plt.plot(history.history['accuracy'])\n",
        "plt.plot(history.history['val_accuracy'])\n",
        "plt.xlabel('epochs')\n",
        "plt.ylabel('accuracy')\n",
        "plt.legend(['accuracy', 'val_accuracy'])\n",
        "plt.show()"
      ]
    },
    {
      "cell_type": "code",
      "execution_count": 45,
      "metadata": {
        "id": "DXkJ1hEUkvTo",
        "outputId": "4a13a583-186b-4def-c40a-34a09ddcb2e4",
        "colab": {
          "base_uri": "https://localhost:8080/",
          "height": 280
        }
      },
      "outputs": [
        {
          "output_type": "display_data",
          "data": {
            "text/plain": [
              "<Figure size 432x288 with 1 Axes>"
            ],
            "image/png": "[encoded data removed]"
          },
          "metadata": {
            "needs_background": "light"
          }
        }
      ],
      "source": [
        "plt.plot(history.history['loss'])\n",
        "plt.plot(history.history['val_loss'])\n",
        "plt.xlabel('epochs')\n",
        "plt.ylabel('loss')\n",
        "plt.legend(['loss', 'val_loss'])\n",
        "plt.show()"
      ]
    },
    {
      "cell_type": "code",
      "execution_count": 46,
      "metadata": {
        "id": "6dRmDzdvkvTo",
        "outputId": "268de535-c2f1-4d1f-e266-740bd89d8159",
        "colab": {
          "base_uri": "https://localhost:8080/"
        }
      },
      "outputs": [
        {
          "output_type": "stream",
          "name": "stdout",
          "text": [
            "1/1 [==============================] - 1s 1s/step\n",
            "[[0.79484975]\n",
            " [0.05374813]\n",
            " [0.90637976]\n",
            " [0.73468477]]\n"
          ]
        }
      ],
      "source": [
        "test_sentences = [\"It Was, For, Uh, Medical Reasons, Says Doctor To Boris Johnson, Explaining Why They Had To Give Him Haircut\",\n",
        "                  \"It's a beautiful sunny day\",\n",
        "                  \"I lived in Ireland, so in High School they made me learn to speak and write in Gaelic\",\n",
        "                  \"Census Foot Soldiers Swarm Neighborhoods, Kick Down Doors To Tally Household Sizes\"]\n",
        "\n",
        "sequences = tokenizer.texts_to_sequences(test_sentences)\n",
        "padded = pad_sequences(sequences, maxlen=max_length, \n",
        "                       padding=padding_type, truncating=trunc_type)\n",
        "predictions = model.predict(padded)\n",
        "print(predictions)"
      ]
    }
  ],
  "metadata": {
    "kernelspec": {
      "display_name": "Python 3 (ipykernel)",
      "language": "python",
      "name": "python3"
    },
    "language_info": {
      "codemirror_mode": {
        "name": "ipython",
        "version": 3
      },
      "file_extension": ".py",
      "mimetype": "text/x-python",
      "name": "python",
      "nbconvert_exporter": "python",
      "pygments_lexer": "ipython3",
      "version": "3.7.3"
    },
    "colab": {
      "name": "07-rnn.ipynb",
      "provenance": []
    },
    "accelerator": "GPU",
    "gpuClass": "standard"
  },
  "nbformat": 4,
  "nbformat_minor": 0
}