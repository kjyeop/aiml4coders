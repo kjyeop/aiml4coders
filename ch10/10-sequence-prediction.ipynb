{
  "cells": [
    {
      "cell_type": "markdown",
      "metadata": {
        "id": "-H8WfBOXZUXb"
      },
      "source": [
        "# 10장. 시퀀스를 예측하는 머신러닝 모델 만들기"
      ]
    },
    {
      "cell_type": "markdown",
      "metadata": {
        "id": "4CpMPr9AZUXf"
      },
      "source": [
        "<table class=\"tfo-notebook-buttons\" align=\"left\">\n",
        "  <td>\n",
        "    <a target=\"_blank\" href=\"https://nbviewer.jupyter.org/github/rickiepark/aiml4coders/blob/main/ch10/10-sequence-prediction.ipynb\"><img src=\"https://jupyter.org/assets/share.png\" width=\"61\" />주피터 노트북 뷰어로 보기</a>\n",
        "  </td>\n",
        "  <td>\n",
        "    <a target=\"_blank\" href=\"https://colab.research.google.com/github/rickiepark/aiml4coders/blob/main/ch10/10-sequence-prediction.ipynb\"><img src=\"https://www.tensorflow.org/images/colab_logo_32px.png\" />구글 코랩(Colab)에서 실행하기</a>\n",
        "  </td>\n",
        "</table>"
      ]
    },
    {
      "cell_type": "markdown",
      "metadata": {
        "id": "xR0W9x5tZUXg"
      },
      "source": [
        "## 윈도우 데이터셋 만들기"
      ]
    },
    {
      "cell_type": "code",
      "execution_count": 1,
      "metadata": {
        "id": "MuJSmqZnZUXg"
      },
      "outputs": [],
      "source": [
        "import tensorflow as tf\n",
        "import numpy as np\n",
        "import matplotlib.pyplot as plt"
      ]
    },
    {
      "cell_type": "code",
      "execution_count": 2,
      "metadata": {
        "id": "nT9ZG_NbZUXh",
        "outputId": "c2cd311c-4c17-4c94-aa65-dc777a057f6f",
        "colab": {
          "base_uri": "https://localhost:8080/"
        }
      },
      "outputs": [
        {
          "output_type": "stream",
          "name": "stdout",
          "text": [
            "[0 1 2 3 4]\n",
            "[1 2 3 4 5]\n",
            "[2 3 4 5 6]\n",
            "[3 4 5 6 7]\n",
            "[4 5 6 7 8]\n",
            "[5 6 7 8 9]\n"
          ]
        }
      ],
      "source": [
        "dataset = tf.data.Dataset.range(10)\n",
        "dataset = dataset.window(5, shift=1, drop_remainder=True)\n",
        "dataset = dataset.flat_map(lambda window: window.batch(5))\n",
        "for window in dataset:\n",
        "    print(window.numpy())"
      ]
    },
    {
      "cell_type": "code",
      "execution_count": 3,
      "metadata": {
        "id": "Aj61Ym1vZUXi",
        "outputId": "45032345-11e3-457f-9850-11fcf4719a89",
        "colab": {
          "base_uri": "https://localhost:8080/"
        }
      },
      "outputs": [
        {
          "output_type": "stream",
          "name": "stdout",
          "text": [
            "[0 1 2 3] [4]\n",
            "[1 2 3 4] [5]\n",
            "[2 3 4 5] [6]\n",
            "[3 4 5 6] [7]\n",
            "[4 5 6 7] [8]\n",
            "[5 6 7 8] [9]\n"
          ]
        }
      ],
      "source": [
        "dataset = tf.data.Dataset.range(10)\n",
        "dataset = dataset.window(5, shift=1, drop_remainder=True)\n",
        "dataset = dataset.flat_map(lambda window: window.batch(5))\n",
        "dataset = dataset.map(lambda window: (window[:-1], window[-1:]))\n",
        "for x,y in dataset:\n",
        "    print(x.numpy(), y.numpy())"
      ]
    },
    {
      "cell_type": "code",
      "execution_count": 4,
      "metadata": {
        "id": "F0sVhuurZUXi",
        "outputId": "174869c9-c7f4-4567-aec9-f4abaedf87af",
        "colab": {
          "base_uri": "https://localhost:8080/"
        }
      },
      "outputs": [
        {
          "output_type": "stream",
          "name": "stdout",
          "text": [
            "x =  [[0 1 2 3]\n",
            " [5 6 7 8]]\n",
            "y =  [[4]\n",
            " [9]]\n",
            "x =  [[2 3 4 5]\n",
            " [4 5 6 7]]\n",
            "y =  [[6]\n",
            " [8]]\n",
            "x =  [[3 4 5 6]\n",
            " [1 2 3 4]]\n",
            "y =  [[7]\n",
            " [5]]\n"
          ]
        }
      ],
      "source": [
        "dataset = tf.data.Dataset.range(10)\n",
        "dataset = dataset.window(5, shift=1, drop_remainder=True)\n",
        "dataset = dataset.flat_map(lambda window: window.batch(5))\n",
        "dataset = dataset.map(lambda window: (window[:-1], window[-1:]))\n",
        "dataset = dataset.shuffle(buffer_size=10)\n",
        "dataset = dataset.batch(2).prefetch(1)\n",
        "for x,y in dataset:\n",
        "    print(\"x = \", x.numpy())\n",
        "    print(\"y = \", y.numpy())"
      ]
    },
    {
      "cell_type": "markdown",
      "metadata": {
        "id": "47hCGQehZUXi"
      },
      "source": [
        "### 윈도우를 적용한 시계열 데이터셋 만들기"
      ]
    },
    {
      "cell_type": "code",
      "execution_count": 5,
      "metadata": {
        "id": "kQm1465nZUXj"
      },
      "outputs": [],
      "source": [
        "def trend(time, slope=0):\n",
        "    return slope * time\n",
        "\n",
        "def seasonal_pattern(season_time):\n",
        "    return np.where(season_time < 0.4,\n",
        "                    np.cos(season_time * 2 * np.pi),\n",
        "                    1 / np.exp(3 * season_time))\n",
        "\n",
        "def seasonality(time, period, amplitude=1, phase=0):\n",
        "    season_time = ((time + phase) % period) / period\n",
        "    return amplitude * seasonal_pattern(season_time)\n",
        "\n",
        "def noise(time, noise_level=1, seed=None):\n",
        "    rnd = np.random.RandomState(seed)\n",
        "    return rnd.randn(len(time)) * noise_level\n",
        "\n",
        "time = np.arange(4 * 365 + 1, dtype=\"float32\")\n",
        "series = trend(time, 0.1)\n",
        "baseline = 10\n",
        "amplitude = 20\n",
        "slope = 0.09\n",
        "noise_level = 5\n",
        "\n",
        "series = baseline + trend(time, slope) \n",
        "series += seasonality(time, period=365, amplitude=amplitude)\n",
        "series += noise(time, noise_level, seed=42)"
      ]
    },
    {
      "cell_type": "code",
      "execution_count": 6,
      "metadata": {
        "id": "tijfHtH6ZUXj"
      },
      "outputs": [],
      "source": [
        "def windowed_dataset(series, window_size, batch_size, shuffle_buffer):\n",
        "    dataset = tf.data.Dataset.from_tensor_slices(series)\n",
        "    dataset = dataset.window(window_size + 1, shift=1, drop_remainder=True)\n",
        "    dataset = dataset.flat_map(lambda window: window.batch(window_size + 1))\n",
        "    dataset = dataset.shuffle(shuffle_buffer).map(\n",
        "        lambda window: (window[:-1], window[-1])\n",
        "    )\n",
        "    dataset = dataset.batch(batch_size).prefetch(1)\n",
        "    return dataset"
      ]
    },
    {
      "cell_type": "code",
      "execution_count": 7,
      "metadata": {
        "id": "Si_Hjy23ZUXk"
      },
      "outputs": [],
      "source": [
        "split_time = 1000\n",
        "time_train = time[:split_time]\n",
        "x_train = series[:split_time]\n",
        "time_valid = time[split_time:]\n",
        "x_valid = series[split_time:]\n",
        "window_size = 20\n",
        "batch_size = 32\n",
        "shuffle_buffer_size = 1000\n",
        "dataset = windowed_dataset(x_train, window_size, batch_size, \n",
        "                           shuffle_buffer_size)"
      ]
    },
    {
      "cell_type": "code",
      "execution_count": 8,
      "metadata": {
        "id": "5-Mn_kEjZUXk",
        "outputId": "7fcd74d3-a312-4e23-f9c9-719d4e0b5386",
        "colab": {
          "base_uri": "https://localhost:8080/"
        }
      },
      "outputs": [
        {
          "output_type": "stream",
          "name": "stdout",
          "text": [
            "tf.Tensor(\n",
            "[[72.24871  68.916405 60.595913 54.29355  69.54091  62.10613  68.770195\n",
            "  54.506325 59.374046 62.28478  62.376335 59.76927  65.00738  56.423985\n",
            "  60.91463  62.088005 63.914345 64.75154  55.41734  53.2129  ]], shape=(1, 20), dtype=float32)\n",
            "tf.Tensor([67.11068], shape=(1,), dtype=float32)\n"
          ]
        }
      ],
      "source": [
        "dataset = windowed_dataset(series, window_size, 1, shuffle_buffer_size)\n",
        "for feature, label in dataset.take(1):\n",
        "    print(feature)\n",
        "    print(label)"
      ]
    },
    {
      "cell_type": "markdown",
      "metadata": {
        "id": "QwK1LutbZUXk"
      },
      "source": [
        "## DNN을 만들고 시퀀스 데이터로 훈련하기"
      ]
    },
    {
      "cell_type": "code",
      "execution_count": 9,
      "metadata": {
        "id": "mF-7MqUFZUXk"
      },
      "outputs": [],
      "source": [
        "dataset = windowed_dataset(x_train, window_size, \n",
        "                           batch_size, shuffle_buffer_size)\n",
        "\n",
        "model = tf.keras.models.Sequential([\n",
        "    tf.keras.layers.Dense(10, input_shape=[window_size], \n",
        "                          activation=\"relu\"), \n",
        "    tf.keras.layers.Dense(10, activation=\"relu\"), \n",
        "    tf.keras.layers.Dense(1)\n",
        "])"
      ]
    },
    {
      "cell_type": "code",
      "execution_count": 10,
      "metadata": {
        "id": "K_hrYnYEZUXl"
      },
      "outputs": [],
      "source": [
        "sgd = tf.keras.optimizers.SGD(learning_rate=1e-6, momentum=0.9)\n",
        "model.compile(loss=\"mse\",optimizer=sgd)"
      ]
    },
    {
      "cell_type": "code",
      "execution_count": 11,
      "metadata": {
        "id": "Rm0OA9VrZUXl",
        "outputId": "f7ee9ed3-ea16-4565-a208-58fc81538ba7",
        "colab": {
          "base_uri": "https://localhost:8080/"
        }
      },
      "outputs": [
        {
          "output_type": "stream",
          "name": "stdout",
          "text": [
            "Epoch 1/100\n",
            "31/31 [==============================] - 5s 29ms/step - loss: 511.1345\n",
            "Epoch 2/100\n",
            "31/31 [==============================] - 0s 4ms/step - loss: 66.6579\n",
            "Epoch 3/100\n",
            "31/31 [==============================] - 0s 5ms/step - loss: 53.4013\n",
            "Epoch 4/100\n",
            "31/31 [==============================] - 0s 5ms/step - loss: 52.1947\n",
            "Epoch 5/100\n",
            "31/31 [==============================] - 0s 5ms/step - loss: 51.3911\n",
            "Epoch 6/100\n",
            "31/31 [==============================] - 0s 6ms/step - loss: 50.5655\n",
            "Epoch 7/100\n",
            "31/31 [==============================] - 0s 6ms/step - loss: 49.6515\n",
            "Epoch 8/100\n",
            "31/31 [==============================] - 0s 5ms/step - loss: 50.3979\n",
            "Epoch 9/100\n",
            "31/31 [==============================] - 0s 6ms/step - loss: 48.6505\n",
            "Epoch 10/100\n",
            "31/31 [==============================] - 0s 6ms/step - loss: 48.3986\n",
            "Epoch 11/100\n",
            "31/31 [==============================] - 0s 4ms/step - loss: 47.8958\n",
            "Epoch 12/100\n",
            "31/31 [==============================] - 0s 4ms/step - loss: 47.5987\n",
            "Epoch 13/100\n",
            "31/31 [==============================] - 0s 3ms/step - loss: 47.1069\n",
            "Epoch 14/100\n",
            "31/31 [==============================] - 0s 3ms/step - loss: 46.9850\n",
            "Epoch 15/100\n",
            "31/31 [==============================] - 0s 3ms/step - loss: 46.5998\n",
            "Epoch 16/100\n",
            "31/31 [==============================] - 0s 3ms/step - loss: 47.1206\n",
            "Epoch 17/100\n",
            "31/31 [==============================] - 0s 3ms/step - loss: 45.9633\n",
            "Epoch 18/100\n",
            "31/31 [==============================] - 0s 3ms/step - loss: 45.7154\n",
            "Epoch 19/100\n",
            "31/31 [==============================] - 0s 3ms/step - loss: 46.1606\n",
            "Epoch 20/100\n",
            "31/31 [==============================] - 0s 3ms/step - loss: 45.7254\n",
            "Epoch 21/100\n",
            "31/31 [==============================] - 0s 3ms/step - loss: 45.5467\n",
            "Epoch 22/100\n",
            "31/31 [==============================] - 0s 3ms/step - loss: 46.3013\n",
            "Epoch 23/100\n",
            "31/31 [==============================] - 0s 3ms/step - loss: 43.9381\n",
            "Epoch 24/100\n",
            "31/31 [==============================] - 0s 3ms/step - loss: 44.2327\n",
            "Epoch 25/100\n",
            "31/31 [==============================] - 0s 3ms/step - loss: 43.4003\n",
            "Epoch 26/100\n",
            "31/31 [==============================] - 0s 3ms/step - loss: 43.2818\n",
            "Epoch 27/100\n",
            "31/31 [==============================] - 0s 3ms/step - loss: 43.4097\n",
            "Epoch 28/100\n",
            "31/31 [==============================] - 0s 3ms/step - loss: 43.0620\n",
            "Epoch 29/100\n",
            "31/31 [==============================] - 0s 3ms/step - loss: 43.0303\n",
            "Epoch 30/100\n",
            "31/31 [==============================] - 0s 3ms/step - loss: 42.5616\n",
            "Epoch 31/100\n",
            "31/31 [==============================] - 0s 3ms/step - loss: 42.4085\n",
            "Epoch 32/100\n",
            "31/31 [==============================] - 0s 3ms/step - loss: 42.3603\n",
            "Epoch 33/100\n",
            "31/31 [==============================] - 0s 3ms/step - loss: 42.3926\n",
            "Epoch 34/100\n",
            "31/31 [==============================] - 0s 3ms/step - loss: 42.9268\n",
            "Epoch 35/100\n",
            "31/31 [==============================] - 0s 3ms/step - loss: 42.6106\n",
            "Epoch 36/100\n",
            "31/31 [==============================] - 0s 3ms/step - loss: 42.1934\n",
            "Epoch 37/100\n",
            "31/31 [==============================] - 0s 3ms/step - loss: 41.5148\n",
            "Epoch 38/100\n",
            "31/31 [==============================] - 0s 3ms/step - loss: 41.9811\n",
            "Epoch 39/100\n",
            "31/31 [==============================] - 0s 2ms/step - loss: 41.4759\n",
            "Epoch 40/100\n",
            "31/31 [==============================] - 0s 3ms/step - loss: 40.8376\n",
            "Epoch 41/100\n",
            "31/31 [==============================] - 0s 2ms/step - loss: 41.0842\n",
            "Epoch 42/100\n",
            "31/31 [==============================] - 0s 3ms/step - loss: 40.9494\n",
            "Epoch 43/100\n",
            "31/31 [==============================] - 0s 3ms/step - loss: 40.5231\n",
            "Epoch 44/100\n",
            "31/31 [==============================] - 0s 3ms/step - loss: 40.4690\n",
            "Epoch 45/100\n",
            "31/31 [==============================] - 0s 3ms/step - loss: 40.4232\n",
            "Epoch 46/100\n",
            "31/31 [==============================] - 0s 3ms/step - loss: 40.8608\n",
            "Epoch 47/100\n",
            "31/31 [==============================] - 0s 3ms/step - loss: 40.1251\n",
            "Epoch 48/100\n",
            "31/31 [==============================] - 0s 3ms/step - loss: 40.3050\n",
            "Epoch 49/100\n",
            "31/31 [==============================] - 0s 3ms/step - loss: 39.6543\n",
            "Epoch 50/100\n",
            "31/31 [==============================] - 0s 3ms/step - loss: 39.9245\n",
            "Epoch 51/100\n",
            "31/31 [==============================] - 0s 3ms/step - loss: 39.8056\n",
            "Epoch 52/100\n",
            "31/31 [==============================] - 0s 3ms/step - loss: 39.7937\n",
            "Epoch 53/100\n",
            "31/31 [==============================] - 0s 3ms/step - loss: 39.5566\n",
            "Epoch 54/100\n",
            "31/31 [==============================] - 0s 3ms/step - loss: 39.7746\n",
            "Epoch 55/100\n",
            "31/31 [==============================] - 0s 3ms/step - loss: 39.8507\n",
            "Epoch 56/100\n",
            "31/31 [==============================] - 0s 2ms/step - loss: 39.8208\n",
            "Epoch 57/100\n",
            "31/31 [==============================] - 0s 3ms/step - loss: 38.8751\n",
            "Epoch 58/100\n",
            "31/31 [==============================] - 0s 3ms/step - loss: 39.7839\n",
            "Epoch 59/100\n",
            "31/31 [==============================] - 0s 3ms/step - loss: 40.6683\n",
            "Epoch 60/100\n",
            "31/31 [==============================] - 0s 3ms/step - loss: 38.6267\n",
            "Epoch 61/100\n",
            "31/31 [==============================] - 0s 3ms/step - loss: 38.7782\n",
            "Epoch 62/100\n",
            "31/31 [==============================] - 0s 3ms/step - loss: 39.2204\n",
            "Epoch 63/100\n",
            "31/31 [==============================] - 0s 3ms/step - loss: 40.0384\n",
            "Epoch 64/100\n",
            "31/31 [==============================] - 0s 3ms/step - loss: 38.4721\n",
            "Epoch 65/100\n",
            "31/31 [==============================] - 0s 3ms/step - loss: 39.0469\n",
            "Epoch 66/100\n",
            "31/31 [==============================] - 0s 3ms/step - loss: 38.2863\n",
            "Epoch 67/100\n",
            "31/31 [==============================] - 0s 3ms/step - loss: 38.0749\n",
            "Epoch 68/100\n",
            "31/31 [==============================] - 0s 3ms/step - loss: 38.1643\n",
            "Epoch 69/100\n",
            "31/31 [==============================] - 0s 2ms/step - loss: 37.8995\n",
            "Epoch 70/100\n",
            "31/31 [==============================] - 0s 3ms/step - loss: 38.2305\n",
            "Epoch 71/100\n",
            "31/31 [==============================] - 0s 3ms/step - loss: 37.9540\n",
            "Epoch 72/100\n",
            "31/31 [==============================] - 0s 3ms/step - loss: 37.8087\n",
            "Epoch 73/100\n",
            "31/31 [==============================] - 0s 3ms/step - loss: 38.6798\n",
            "Epoch 74/100\n",
            "31/31 [==============================] - 0s 3ms/step - loss: 38.0448\n",
            "Epoch 75/100\n",
            "31/31 [==============================] - 0s 3ms/step - loss: 37.8917\n",
            "Epoch 76/100\n",
            "31/31 [==============================] - 0s 3ms/step - loss: 37.7741\n",
            "Epoch 77/100\n",
            "31/31 [==============================] - 0s 3ms/step - loss: 40.3344\n",
            "Epoch 78/100\n",
            "31/31 [==============================] - 0s 3ms/step - loss: 38.7979\n",
            "Epoch 79/100\n",
            "31/31 [==============================] - 0s 3ms/step - loss: 37.8558\n",
            "Epoch 80/100\n",
            "31/31 [==============================] - 0s 3ms/step - loss: 37.4825\n",
            "Epoch 81/100\n",
            "31/31 [==============================] - 0s 3ms/step - loss: 38.6016\n",
            "Epoch 82/100\n",
            "31/31 [==============================] - 0s 3ms/step - loss: 38.0461\n",
            "Epoch 83/100\n",
            "31/31 [==============================] - 0s 3ms/step - loss: 37.3169\n",
            "Epoch 84/100\n",
            "31/31 [==============================] - 0s 3ms/step - loss: 37.3805\n",
            "Epoch 85/100\n",
            "31/31 [==============================] - 0s 3ms/step - loss: 37.0285\n",
            "Epoch 86/100\n",
            "31/31 [==============================] - 0s 3ms/step - loss: 36.8786\n",
            "Epoch 87/100\n",
            "31/31 [==============================] - 0s 3ms/step - loss: 38.1696\n",
            "Epoch 88/100\n",
            "31/31 [==============================] - 0s 3ms/step - loss: 36.9885\n",
            "Epoch 89/100\n",
            "31/31 [==============================] - 0s 3ms/step - loss: 37.3062\n",
            "Epoch 90/100\n",
            "31/31 [==============================] - 0s 3ms/step - loss: 37.1151\n",
            "Epoch 91/100\n",
            "31/31 [==============================] - 0s 2ms/step - loss: 36.6351\n",
            "Epoch 92/100\n",
            "31/31 [==============================] - 0s 3ms/step - loss: 36.9692\n",
            "Epoch 93/100\n",
            "31/31 [==============================] - 0s 3ms/step - loss: 36.5782\n",
            "Epoch 94/100\n",
            "31/31 [==============================] - 0s 3ms/step - loss: 36.7659\n",
            "Epoch 95/100\n",
            "31/31 [==============================] - 0s 3ms/step - loss: 37.0587\n",
            "Epoch 96/100\n",
            "31/31 [==============================] - 0s 3ms/step - loss: 36.7568\n",
            "Epoch 97/100\n",
            "31/31 [==============================] - 0s 3ms/step - loss: 36.7812\n",
            "Epoch 98/100\n",
            "31/31 [==============================] - 0s 3ms/step - loss: 37.3867\n",
            "Epoch 99/100\n",
            "31/31 [==============================] - 0s 3ms/step - loss: 36.5551\n",
            "Epoch 100/100\n",
            "31/31 [==============================] - 0s 3ms/step - loss: 36.5318\n"
          ]
        },
        {
          "output_type": "execute_result",
          "data": {
            "text/plain": [
              "<keras.callbacks.History at 0x7f5000549a90>"
            ]
          },
          "metadata": {},
          "execution_count": 11
        }
      ],
      "source": [
        "model.fit(dataset,epochs=100,verbose=1)"
      ]
    },
    {
      "cell_type": "markdown",
      "metadata": {
        "id": "vkYVSUe7ZUXl"
      },
      "source": [
        "## DNN의 결과 평가하기"
      ]
    },
    {
      "cell_type": "code",
      "execution_count": 12,
      "metadata": {
        "scrolled": true,
        "id": "ikLwDYaoZUXl",
        "outputId": "953fc263-2e33-4347-8b89-d85a3efbab86",
        "colab": {
          "base_uri": "https://localhost:8080/"
        }
      },
      "outputs": [
        {
          "output_type": "stream",
          "name": "stdout",
          "text": [
            "[109.170746 106.86935  102.61668   99.15634  105.95478  104.503876\n",
            " 107.08533  105.858284 108.00339  100.15279  109.4894   103.96404\n",
            " 113.426094  99.67773  111.87749  104.26137  100.08899  101.00105\n",
            " 101.893265 105.69048 ]\n"
          ]
        }
      ],
      "source": [
        "print(series[1000:1020])"
      ]
    },
    {
      "cell_type": "code",
      "execution_count": 13,
      "metadata": {
        "id": "0YDfSyQpZUXl",
        "outputId": "030740c4-e65d-4336-dfaa-c7cdec99dbdd",
        "colab": {
          "base_uri": "https://localhost:8080/"
        }
      },
      "outputs": [
        {
          "output_type": "stream",
          "name": "stdout",
          "text": [
            "106.258606\n"
          ]
        }
      ],
      "source": [
        "print(series[1020])"
      ]
    },
    {
      "cell_type": "code",
      "execution_count": 14,
      "metadata": {
        "id": "zwo9H3tIZUXl",
        "outputId": "478926e8-1850-4e4d-9b4c-f08472f691e4",
        "colab": {
          "base_uri": "https://localhost:8080/"
        }
      },
      "outputs": [
        {
          "output_type": "stream",
          "name": "stdout",
          "text": [
            "[[101.09997]]\n"
          ]
        }
      ],
      "source": [
        "print(model.predict(series[1000:1020][np.newaxis]))"
      ]
    },
    {
      "cell_type": "code",
      "execution_count": 15,
      "metadata": {
        "id": "Onj579-lZUXm",
        "outputId": "5f4a26b2-7ec9-40a1-b591-b60ee1b963cf",
        "colab": {
          "base_uri": "https://localhost:8080/"
        }
      },
      "outputs": [
        {
          "output_type": "stream",
          "name": "stdout",
          "text": [
            "[109.170746 106.86935  102.61668   99.15634  105.95478  104.503876\n",
            " 107.08533  105.858284 108.00339  100.15279  109.4894   103.96404\n",
            " 113.426094  99.67773  111.87749  104.26137  100.08899  101.00105\n",
            " 101.893265 105.69048 ]\n",
            "106.258606\n",
            "[[101.09997]]\n"
          ]
        }
      ],
      "source": [
        "start_point = 1000\n",
        "\n",
        "print(series[start_point:start_point+window_size])\n",
        "print(series[start_point+window_size])\n",
        "print(model.predict(\n",
        "      series[start_point:start_point+window_size][np.newaxis]))"
      ]
    },
    {
      "cell_type": "markdown",
      "metadata": {
        "id": "uNFXsQlmZUXm"
      },
      "source": [
        "## 전반적인 예측 살펴보기"
      ]
    },
    {
      "cell_type": "code",
      "execution_count": 16,
      "metadata": {
        "id": "qwYM35dFZUXm"
      },
      "outputs": [],
      "source": [
        "forecast = []\n",
        "for time in range(len(series) - window_size):\n",
        "    forecast.append(\n",
        "        model.predict(series[time:time + window_size][np.newaxis]))"
      ]
    },
    {
      "cell_type": "code",
      "execution_count": 17,
      "metadata": {
        "id": "N5Tfi33lZUXm"
      },
      "outputs": [],
      "source": [
        "forecast = forecast[split_time-window_size:]\n",
        "results = np.array(forecast)[:, 0, 0]"
      ]
    },
    {
      "cell_type": "code",
      "execution_count": 18,
      "metadata": {
        "id": "piCb2MwyZUXm"
      },
      "outputs": [],
      "source": [
        "def plot_series(time, series, format=\"-\", start=0, end=None):\n",
        "    plt.plot(time[start:end], series[start:end], format)\n",
        "    plt.xlabel(\"Time\")\n",
        "    plt.ylabel(\"Value\")\n",
        "    plt.grid(True)"
      ]
    },
    {
      "cell_type": "code",
      "execution_count": 19,
      "metadata": {
        "id": "GsiCb4ReZUXm",
        "outputId": "3cbe077d-879d-44cc-c2cc-fd77e549adb0",
        "colab": {
          "base_uri": "https://localhost:8080/",
          "height": 388
        }
      },
      "outputs": [
        {
          "output_type": "display_data",
          "data": {
            "text/plain": [
              "<Figure size 720x432 with 1 Axes>"
            ],
            "image/png": "[encoded data removed]"
          },
          "metadata": {
            "needs_background": "light"
          }
        }
      ],
      "source": [
        "plt.figure(figsize=(10, 6))\n",
        "\n",
        "plot_series(time_valid, x_valid)\n",
        "plot_series(time_valid, results)"
      ]
    },
    {
      "cell_type": "code",
      "execution_count": 20,
      "metadata": {
        "id": "2Ag9WtjsZUXn",
        "outputId": "6b601a9e-b444-46ce-90a5-72a41b9e7e2a",
        "colab": {
          "base_uri": "https://localhost:8080/"
        }
      },
      "outputs": [
        {
          "output_type": "execute_result",
          "data": {
            "text/plain": [
              "4.749307"
            ]
          },
          "metadata": {},
          "execution_count": 20
        }
      ],
      "source": [
        "tf.keras.metrics.mean_absolute_error(x_valid, results).numpy()"
      ]
    },
    {
      "cell_type": "markdown",
      "metadata": {
        "id": "uixKvxq9ZUXn"
      },
      "source": [
        "## 학습률 튜닝"
      ]
    },
    {
      "cell_type": "code",
      "execution_count": 21,
      "metadata": {
        "id": "cL-KmR1nZUXn"
      },
      "outputs": [],
      "source": [
        "lr_schedule = tf.keras.callbacks.LearningRateScheduler(\n",
        "    lambda epoch: 1e-8 * 10**(epoch / 20))"
      ]
    },
    {
      "cell_type": "code",
      "execution_count": 22,
      "metadata": {
        "id": "Tkun9_8MZUXn"
      },
      "outputs": [],
      "source": [
        "model = tf.keras.models.Sequential([\n",
        "    tf.keras.layers.Dense(10, input_shape=[window_size], \n",
        "                          activation=\"relu\"), \n",
        "    tf.keras.layers.Dense(10, activation=\"relu\"), \n",
        "    tf.keras.layers.Dense(1)\n",
        "])\n",
        "\n",
        "optimizer = tf.keras.optimizers.SGD(learning_rate=1e-8, momentum=0.9)\n",
        "model.compile(loss=\"mse\", optimizer=optimizer)\n",
        "history = model.fit(dataset, epochs=100, \n",
        "                    callbacks=[lr_schedule], verbose=0)"
      ]
    },
    {
      "cell_type": "code",
      "execution_count": 23,
      "metadata": {
        "id": "GVaQ5FhNZUXn",
        "outputId": "e500bef9-7cd8-49f0-e9cf-e77f2c7e85dc",
        "colab": {
          "base_uri": "https://localhost:8080/",
          "height": 273
        }
      },
      "outputs": [
        {
          "output_type": "display_data",
          "data": {
            "text/plain": [
              "<Figure size 432x288 with 1 Axes>"
            ],
            "image/png": "[encoded data removed]"
          },
          "metadata": {
            "needs_background": "light"
          }
        }
      ],
      "source": [
        "lrs = 1e-8 * (10 ** (np.arange(100) / 20))\n",
        "plt.semilogx(lrs, history.history[\"loss\"])\n",
        "plt.axis([1e-8, 1e-3, 0, 300])\n",
        "plt.show()"
      ]
    },
    {
      "cell_type": "markdown",
      "metadata": {
        "id": "mrdb_ClTZUXn"
      },
      "source": [
        "학습률 1e-6에서 다시 훈련"
      ]
    },
    {
      "cell_type": "code",
      "execution_count": 24,
      "metadata": {
        "id": "9WJXx3CVZUXn",
        "outputId": "cabf3eb1-b6a0-4ab0-ff47-2eddcdc8ecdd",
        "colab": {
          "base_uri": "https://localhost:8080/"
        }
      },
      "outputs": [
        {
          "output_type": "stream",
          "name": "stdout",
          "text": [
            "Epoch 1/100\n",
            "31/31 [==============================] - 0s 3ms/step - loss: 135.9877\n",
            "Epoch 2/100\n",
            "31/31 [==============================] - 0s 3ms/step - loss: 99.4179\n",
            "Epoch 3/100\n",
            "31/31 [==============================] - 0s 3ms/step - loss: 89.6484\n",
            "Epoch 4/100\n",
            "31/31 [==============================] - 0s 3ms/step - loss: 65.5818\n",
            "Epoch 5/100\n",
            "31/31 [==============================] - 0s 3ms/step - loss: 61.4722\n",
            "Epoch 6/100\n",
            "31/31 [==============================] - 0s 3ms/step - loss: 61.9541\n",
            "Epoch 7/100\n",
            "31/31 [==============================] - 0s 3ms/step - loss: 58.0160\n",
            "Epoch 8/100\n",
            "31/31 [==============================] - 0s 3ms/step - loss: 57.2566\n",
            "Epoch 9/100\n",
            "31/31 [==============================] - 0s 3ms/step - loss: 55.4221\n",
            "Epoch 10/100\n",
            "31/31 [==============================] - 0s 3ms/step - loss: 52.5384\n",
            "Epoch 11/100\n",
            "31/31 [==============================] - 0s 2ms/step - loss: 51.6107\n",
            "Epoch 12/100\n",
            "31/31 [==============================] - 0s 3ms/step - loss: 51.4909\n",
            "Epoch 13/100\n",
            "31/31 [==============================] - 0s 3ms/step - loss: 53.2988\n",
            "Epoch 14/100\n",
            "31/31 [==============================] - 0s 3ms/step - loss: 47.6176\n",
            "Epoch 15/100\n",
            "31/31 [==============================] - 0s 3ms/step - loss: 49.1941\n",
            "Epoch 16/100\n",
            "31/31 [==============================] - 0s 3ms/step - loss: 46.8669\n",
            "Epoch 17/100\n",
            "31/31 [==============================] - 0s 3ms/step - loss: 46.1211\n",
            "Epoch 18/100\n",
            "31/31 [==============================] - 0s 3ms/step - loss: 45.3011\n",
            "Epoch 19/100\n",
            "31/31 [==============================] - 0s 3ms/step - loss: 44.5790\n",
            "Epoch 20/100\n",
            "31/31 [==============================] - 0s 3ms/step - loss: 46.4728\n",
            "Epoch 21/100\n",
            "31/31 [==============================] - 0s 3ms/step - loss: 46.0709\n",
            "Epoch 22/100\n",
            "31/31 [==============================] - 0s 3ms/step - loss: 44.0531\n",
            "Epoch 23/100\n",
            "31/31 [==============================] - 0s 3ms/step - loss: 44.4927\n",
            "Epoch 24/100\n",
            "31/31 [==============================] - 0s 3ms/step - loss: 43.6644\n",
            "Epoch 25/100\n",
            "31/31 [==============================] - 0s 3ms/step - loss: 44.8026\n",
            "Epoch 26/100\n",
            "31/31 [==============================] - 0s 3ms/step - loss: 41.7876\n",
            "Epoch 27/100\n",
            "31/31 [==============================] - 0s 3ms/step - loss: 41.4339\n",
            "Epoch 28/100\n",
            "31/31 [==============================] - 0s 3ms/step - loss: 42.6385\n",
            "Epoch 29/100\n",
            "31/31 [==============================] - 0s 3ms/step - loss: 42.4056\n",
            "Epoch 30/100\n",
            "31/31 [==============================] - 0s 3ms/step - loss: 42.4695\n",
            "Epoch 31/100\n",
            "31/31 [==============================] - 0s 3ms/step - loss: 41.6286\n",
            "Epoch 32/100\n",
            "31/31 [==============================] - 0s 2ms/step - loss: 41.1570\n",
            "Epoch 33/100\n",
            "31/31 [==============================] - 0s 3ms/step - loss: 40.3760\n",
            "Epoch 34/100\n",
            "31/31 [==============================] - 0s 3ms/step - loss: 40.0108\n",
            "Epoch 35/100\n",
            "31/31 [==============================] - 0s 3ms/step - loss: 40.1327\n",
            "Epoch 36/100\n",
            "31/31 [==============================] - 0s 3ms/step - loss: 39.7141\n",
            "Epoch 37/100\n",
            "31/31 [==============================] - 0s 3ms/step - loss: 39.5959\n",
            "Epoch 38/100\n",
            "31/31 [==============================] - 0s 3ms/step - loss: 39.8013\n",
            "Epoch 39/100\n",
            "31/31 [==============================] - 0s 3ms/step - loss: 39.8330\n",
            "Epoch 40/100\n",
            "31/31 [==============================] - 0s 3ms/step - loss: 41.6591\n",
            "Epoch 41/100\n",
            "31/31 [==============================] - 0s 3ms/step - loss: 39.0359\n",
            "Epoch 42/100\n",
            "31/31 [==============================] - 0s 3ms/step - loss: 40.3237\n",
            "Epoch 43/100\n",
            "31/31 [==============================] - 0s 3ms/step - loss: 42.4696\n",
            "Epoch 44/100\n",
            "31/31 [==============================] - 0s 3ms/step - loss: 39.4492\n",
            "Epoch 45/100\n",
            "31/31 [==============================] - 0s 3ms/step - loss: 39.4221\n",
            "Epoch 46/100\n",
            "31/31 [==============================] - 0s 3ms/step - loss: 39.0420\n",
            "Epoch 47/100\n",
            "31/31 [==============================] - 0s 3ms/step - loss: 38.1221\n",
            "Epoch 48/100\n",
            "31/31 [==============================] - 0s 3ms/step - loss: 38.8765\n",
            "Epoch 49/100\n",
            "31/31 [==============================] - 0s 3ms/step - loss: 37.7474\n",
            "Epoch 50/100\n",
            "31/31 [==============================] - 0s 3ms/step - loss: 37.5398\n",
            "Epoch 51/100\n",
            "31/31 [==============================] - 0s 3ms/step - loss: 37.9025\n",
            "Epoch 52/100\n",
            "31/31 [==============================] - 0s 3ms/step - loss: 39.4235\n",
            "Epoch 53/100\n",
            "31/31 [==============================] - 0s 3ms/step - loss: 38.6212\n",
            "Epoch 54/100\n",
            "31/31 [==============================] - 0s 3ms/step - loss: 38.5292\n",
            "Epoch 55/100\n",
            "31/31 [==============================] - 0s 3ms/step - loss: 37.9456\n",
            "Epoch 56/100\n",
            "31/31 [==============================] - 0s 3ms/step - loss: 37.6483\n",
            "Epoch 57/100\n",
            "31/31 [==============================] - 0s 3ms/step - loss: 36.8757\n",
            "Epoch 58/100\n",
            "31/31 [==============================] - 0s 3ms/step - loss: 37.1858\n",
            "Epoch 59/100\n",
            "31/31 [==============================] - 0s 3ms/step - loss: 38.3820\n",
            "Epoch 60/100\n",
            "31/31 [==============================] - 0s 3ms/step - loss: 37.6029\n",
            "Epoch 61/100\n",
            "31/31 [==============================] - 0s 3ms/step - loss: 36.6240\n",
            "Epoch 62/100\n",
            "31/31 [==============================] - 0s 3ms/step - loss: 36.6172\n",
            "Epoch 63/100\n",
            "31/31 [==============================] - 0s 3ms/step - loss: 36.9982\n",
            "Epoch 64/100\n",
            "31/31 [==============================] - 0s 3ms/step - loss: 36.9411\n",
            "Epoch 65/100\n",
            "31/31 [==============================] - 0s 3ms/step - loss: 37.0725\n",
            "Epoch 66/100\n",
            "31/31 [==============================] - 0s 3ms/step - loss: 36.8628\n",
            "Epoch 67/100\n",
            "31/31 [==============================] - 0s 3ms/step - loss: 38.7405\n",
            "Epoch 68/100\n",
            "31/31 [==============================] - 0s 3ms/step - loss: 36.3940\n",
            "Epoch 69/100\n",
            "31/31 [==============================] - 0s 3ms/step - loss: 36.8849\n",
            "Epoch 70/100\n",
            "31/31 [==============================] - 0s 3ms/step - loss: 37.1316\n",
            "Epoch 71/100\n",
            "31/31 [==============================] - 0s 3ms/step - loss: 36.1595\n",
            "Epoch 72/100\n",
            "31/31 [==============================] - 0s 3ms/step - loss: 35.8620\n",
            "Epoch 73/100\n",
            "31/31 [==============================] - 0s 3ms/step - loss: 36.7089\n",
            "Epoch 74/100\n",
            "31/31 [==============================] - 0s 3ms/step - loss: 36.7890\n",
            "Epoch 75/100\n",
            "31/31 [==============================] - 0s 3ms/step - loss: 36.8734\n",
            "Epoch 76/100\n",
            "31/31 [==============================] - 0s 3ms/step - loss: 36.4312\n",
            "Epoch 77/100\n",
            "31/31 [==============================] - 0s 3ms/step - loss: 36.3175\n",
            "Epoch 78/100\n",
            "31/31 [==============================] - 0s 3ms/step - loss: 36.6649\n",
            "Epoch 79/100\n",
            "31/31 [==============================] - 0s 3ms/step - loss: 36.2231\n",
            "Epoch 80/100\n",
            "31/31 [==============================] - 0s 3ms/step - loss: 38.0773\n",
            "Epoch 81/100\n",
            "31/31 [==============================] - 0s 3ms/step - loss: 35.5272\n",
            "Epoch 82/100\n",
            "31/31 [==============================] - 0s 3ms/step - loss: 35.6697\n",
            "Epoch 83/100\n",
            "31/31 [==============================] - 0s 3ms/step - loss: 35.4210\n",
            "Epoch 84/100\n",
            "31/31 [==============================] - 0s 3ms/step - loss: 35.7330\n",
            "Epoch 85/100\n",
            "31/31 [==============================] - 0s 3ms/step - loss: 36.0582\n",
            "Epoch 86/100\n",
            "31/31 [==============================] - 0s 3ms/step - loss: 35.9277\n",
            "Epoch 87/100\n",
            "31/31 [==============================] - 0s 3ms/step - loss: 35.7748\n",
            "Epoch 88/100\n",
            "31/31 [==============================] - 0s 3ms/step - loss: 35.3837\n",
            "Epoch 89/100\n",
            "31/31 [==============================] - 0s 3ms/step - loss: 36.0806\n",
            "Epoch 90/100\n",
            "31/31 [==============================] - 0s 3ms/step - loss: 35.1133\n",
            "Epoch 91/100\n",
            "31/31 [==============================] - 0s 3ms/step - loss: 36.0638\n",
            "Epoch 92/100\n",
            "31/31 [==============================] - 0s 3ms/step - loss: 35.1644\n",
            "Epoch 93/100\n",
            "31/31 [==============================] - 0s 3ms/step - loss: 35.1321\n",
            "Epoch 94/100\n",
            "31/31 [==============================] - 0s 3ms/step - loss: 35.0037\n",
            "Epoch 95/100\n",
            "31/31 [==============================] - 0s 3ms/step - loss: 35.4001\n",
            "Epoch 96/100\n",
            "31/31 [==============================] - 0s 3ms/step - loss: 36.1470\n",
            "Epoch 97/100\n",
            "31/31 [==============================] - 0s 3ms/step - loss: 36.5825\n",
            "Epoch 98/100\n",
            "31/31 [==============================] - 0s 3ms/step - loss: 35.4730\n",
            "Epoch 99/100\n",
            "31/31 [==============================] - 0s 3ms/step - loss: 36.7878\n",
            "Epoch 100/100\n",
            "31/31 [==============================] - 0s 3ms/step - loss: 35.5775\n"
          ]
        },
        {
          "output_type": "execute_result",
          "data": {
            "text/plain": [
              "<keras.callbacks.History at 0x7f4f84ba7150>"
            ]
          },
          "metadata": {},
          "execution_count": 24
        }
      ],
      "source": [
        "model = tf.keras.models.Sequential([\n",
        "    tf.keras.layers.Dense(10, input_shape=[window_size], \n",
        "                          activation=\"relu\"), \n",
        "    tf.keras.layers.Dense(10, activation=\"relu\"), \n",
        "    tf.keras.layers.Dense(1)\n",
        "])\n",
        "\n",
        "sgd = tf.keras.optimizers.SGD(learning_rate=1e-6, momentum=0.9)\n",
        "model.compile(loss=\"mse\",optimizer=sgd)\n",
        "model.fit(dataset,epochs=100,verbose=1)"
      ]
    },
    {
      "cell_type": "code",
      "execution_count": 25,
      "metadata": {
        "id": "dUK5vMJTZUXn"
      },
      "outputs": [],
      "source": [
        "forecast = []\n",
        "for time in range(len(series) - window_size):\n",
        "    forecast.append(\n",
        "        model.predict(series[time:time + window_size][np.newaxis]))\n",
        "    \n",
        "forecast = forecast[split_time-window_size:]\n",
        "results = np.array(forecast)[:, 0, 0]"
      ]
    },
    {
      "cell_type": "code",
      "execution_count": 26,
      "metadata": {
        "id": "0dCaw_owZUXo",
        "outputId": "8d18668b-9ea2-4118-8fc0-ea8bc80e94a7",
        "colab": {
          "base_uri": "https://localhost:8080/",
          "height": 388
        }
      },
      "outputs": [
        {
          "output_type": "display_data",
          "data": {
            "text/plain": [
              "<Figure size 720x432 with 1 Axes>"
            ],
            "image/png": "[encoded data removed]"
          },
          "metadata": {
            "needs_background": "light"
          }
        }
      ],
      "source": [
        "plt.figure(figsize=(10, 6))\n",
        "\n",
        "plot_series(time_valid, x_valid)\n",
        "plot_series(time_valid, results)"
      ]
    },
    {
      "cell_type": "code",
      "execution_count": 27,
      "metadata": {
        "id": "BGka3Jm4ZUXo",
        "outputId": "1936c7cb-de34-44c7-ab20-6f1c6c027ba7",
        "colab": {
          "base_uri": "https://localhost:8080/"
        }
      },
      "outputs": [
        {
          "output_type": "execute_result",
          "data": {
            "text/plain": [
              "4.8276167"
            ]
          },
          "metadata": {},
          "execution_count": 27
        }
      ],
      "source": [
        "tf.keras.metrics.mean_absolute_error(x_valid, results).numpy()"
      ]
    },
    {
      "cell_type": "markdown",
      "metadata": {
        "id": "SjBcgGVsZUXo"
      },
      "source": [
        "## 케라스 튜너로 하이퍼파라미터 튜닝하기"
      ]
    },
    {
      "cell_type": "code",
      "execution_count": 28,
      "metadata": {
        "id": "HqwZQcm3ZUXo",
        "outputId": "2beb8b3d-dcd3-4380-85b7-e4e51665c1a4",
        "colab": {
          "base_uri": "https://localhost:8080/"
        }
      },
      "outputs": [
        {
          "output_type": "stream",
          "name": "stdout",
          "text": [
            "Looking in indexes: https://pypi.org/simple, https://us-python.pkg.dev/colab-wheels/public/simple/\n",
            "Collecting keras-tuner\n",
            "  Downloading keras_tuner-1.1.2-py3-none-any.whl (133 kB)\n",
            "\u001b[K     |████████████████████████████████| 133 kB 31.4 MB/s \n",
            "\u001b[?25hRequirement already satisfied: ipython in /usr/local/lib/python3.7/dist-packages (from keras-tuner) (5.5.0)\n",
            "Requirement already satisfied: packaging in /usr/local/lib/python3.7/dist-packages (from keras-tuner) (21.3)\n",
            "Requirement already satisfied: requests in /usr/local/lib/python3.7/dist-packages (from keras-tuner) (2.23.0)\n",
            "Requirement already satisfied: tensorboard in /usr/local/lib/python3.7/dist-packages (from keras-tuner) (2.8.0)\n",
            "Requirement already satisfied: numpy in /usr/local/lib/python3.7/dist-packages (from keras-tuner) (1.21.6)\n",
            "Collecting kt-legacy\n",
            "  Downloading kt_legacy-1.0.4-py3-none-any.whl (9.6 kB)\n",
            "Requirement already satisfied: setuptools>=18.5 in /usr/local/lib/python3.7/dist-packages (from ipython->keras-tuner) (57.4.0)\n",
            "Requirement already satisfied: simplegeneric>0.8 in /usr/local/lib/python3.7/dist-packages (from ipython->keras-tuner) (0.8.1)\n",
            "Requirement already satisfied: decorator in /usr/local/lib/python3.7/dist-packages (from ipython->keras-tuner) (4.4.2)\n",
            "Requirement already satisfied: traitlets>=4.2 in /usr/local/lib/python3.7/dist-packages (from ipython->keras-tuner) (5.1.1)\n",
            "Requirement already satisfied: pickleshare in /usr/local/lib/python3.7/dist-packages (from ipython->keras-tuner) (0.7.5)\n",
            "Requirement already satisfied: prompt-toolkit<2.0.0,>=1.0.4 in /usr/local/lib/python3.7/dist-packages (from ipython->keras-tuner) (1.0.18)\n",
            "Requirement already satisfied: pexpect in /usr/local/lib/python3.7/dist-packages (from ipython->keras-tuner) (4.8.0)\n",
            "Requirement already satisfied: pygments in /usr/local/lib/python3.7/dist-packages (from ipython->keras-tuner) (2.6.1)\n",
            "Requirement already satisfied: wcwidth in /usr/local/lib/python3.7/dist-packages (from prompt-toolkit<2.0.0,>=1.0.4->ipython->keras-tuner) (0.2.5)\n",
            "Requirement already satisfied: six>=1.9.0 in /usr/local/lib/python3.7/dist-packages (from prompt-toolkit<2.0.0,>=1.0.4->ipython->keras-tuner) (1.15.0)\n",
            "Requirement already satisfied: pyparsing!=3.0.5,>=2.0.2 in /usr/local/lib/python3.7/dist-packages (from packaging->keras-tuner) (3.0.9)\n",
            "Requirement already satisfied: ptyprocess>=0.5 in /usr/local/lib/python3.7/dist-packages (from pexpect->ipython->keras-tuner) (0.7.0)\n",
            "Requirement already satisfied: urllib3!=1.25.0,!=1.25.1,<1.26,>=1.21.1 in /usr/local/lib/python3.7/dist-packages (from requests->keras-tuner) (1.24.3)\n",
            "Requirement already satisfied: chardet<4,>=3.0.2 in /usr/local/lib/python3.7/dist-packages (from requests->keras-tuner) (3.0.4)\n",
            "Requirement already satisfied: idna<3,>=2.5 in /usr/local/lib/python3.7/dist-packages (from requests->keras-tuner) (2.10)\n",
            "Requirement already satisfied: certifi>=2017.4.17 in /usr/local/lib/python3.7/dist-packages (from requests->keras-tuner) (2022.6.15)\n",
            "Requirement already satisfied: google-auth-oauthlib<0.5,>=0.4.1 in /usr/local/lib/python3.7/dist-packages (from tensorboard->keras-tuner) (0.4.6)\n",
            "Requirement already satisfied: markdown>=2.6.8 in /usr/local/lib/python3.7/dist-packages (from tensorboard->keras-tuner) (3.3.7)\n",
            "Requirement already satisfied: tensorboard-plugin-wit>=1.6.0 in /usr/local/lib/python3.7/dist-packages (from tensorboard->keras-tuner) (1.8.1)\n",
            "Requirement already satisfied: grpcio>=1.24.3 in /usr/local/lib/python3.7/dist-packages (from tensorboard->keras-tuner) (1.46.3)\n",
            "Requirement already satisfied: protobuf>=3.6.0 in /usr/local/lib/python3.7/dist-packages (from tensorboard->keras-tuner) (3.17.3)\n",
            "Requirement already satisfied: google-auth<3,>=1.6.3 in /usr/local/lib/python3.7/dist-packages (from tensorboard->keras-tuner) (1.35.0)\n",
            "Requirement already satisfied: wheel>=0.26 in /usr/local/lib/python3.7/dist-packages (from tensorboard->keras-tuner) (0.37.1)\n",
            "Requirement already satisfied: werkzeug>=0.11.15 in /usr/local/lib/python3.7/dist-packages (from tensorboard->keras-tuner) (1.0.1)\n",
            "Requirement already satisfied: tensorboard-data-server<0.7.0,>=0.6.0 in /usr/local/lib/python3.7/dist-packages (from tensorboard->keras-tuner) (0.6.1)\n",
            "Requirement already satisfied: absl-py>=0.4 in /usr/local/lib/python3.7/dist-packages (from tensorboard->keras-tuner) (1.1.0)\n",
            "Requirement already satisfied: rsa<5,>=3.1.4 in /usr/local/lib/python3.7/dist-packages (from google-auth<3,>=1.6.3->tensorboard->keras-tuner) (4.8)\n",
            "Requirement already satisfied: cachetools<5.0,>=2.0.0 in /usr/local/lib/python3.7/dist-packages (from google-auth<3,>=1.6.3->tensorboard->keras-tuner) (4.2.4)\n",
            "Requirement already satisfied: pyasn1-modules>=0.2.1 in /usr/local/lib/python3.7/dist-packages (from google-auth<3,>=1.6.3->tensorboard->keras-tuner) (0.2.8)\n",
            "Requirement already satisfied: requests-oauthlib>=0.7.0 in /usr/local/lib/python3.7/dist-packages (from google-auth-oauthlib<0.5,>=0.4.1->tensorboard->keras-tuner) (1.3.1)\n",
            "Requirement already satisfied: importlib-metadata>=4.4 in /usr/local/lib/python3.7/dist-packages (from markdown>=2.6.8->tensorboard->keras-tuner) (4.11.4)\n",
            "Requirement already satisfied: typing-extensions>=3.6.4 in /usr/local/lib/python3.7/dist-packages (from importlib-metadata>=4.4->markdown>=2.6.8->tensorboard->keras-tuner) (4.1.1)\n",
            "Requirement already satisfied: zipp>=0.5 in /usr/local/lib/python3.7/dist-packages (from importlib-metadata>=4.4->markdown>=2.6.8->tensorboard->keras-tuner) (3.8.0)\n",
            "Requirement already satisfied: pyasn1<0.5.0,>=0.4.6 in /usr/local/lib/python3.7/dist-packages (from pyasn1-modules>=0.2.1->google-auth<3,>=1.6.3->tensorboard->keras-tuner) (0.4.8)\n",
            "Requirement already satisfied: oauthlib>=3.0.0 in /usr/local/lib/python3.7/dist-packages (from requests-oauthlib>=0.7.0->google-auth-oauthlib<0.5,>=0.4.1->tensorboard->keras-tuner) (3.2.0)\n",
            "Installing collected packages: kt-legacy, keras-tuner\n",
            "Successfully installed keras-tuner-1.1.2 kt-legacy-1.0.4\n"
          ]
        }
      ],
      "source": [
        "!pip install keras-tuner"
      ]
    },
    {
      "cell_type": "code",
      "execution_count": 29,
      "metadata": {
        "id": "eTx-jhwYZUXo"
      },
      "outputs": [],
      "source": [
        "def build_model(hp):\n",
        "    model = tf.keras.models.Sequential()\n",
        "    model.add(tf.keras.layers.Dense(\n",
        "        units=hp.Int('units', min_value=10, max_value=30, step=2), \n",
        "        activation='relu', input_shape=[window_size]))\n",
        "    model.add(tf.keras.layers.Dense(10, activation='relu'))\n",
        "    model.add(tf.keras.layers.Dense(1))\n",
        "    sgd = tf.keras.optimizers.SGD(\n",
        "        learning_rate=1e-6,\n",
        "        momentum=hp.Choice('momentum', values=[.9, .7, .5, .3]))\n",
        "    model.compile(loss=\"mse\", optimizer=sgd)\n",
        "    return model"
      ]
    },
    {
      "cell_type": "code",
      "execution_count": 30,
      "metadata": {
        "id": "fBAYa_BRZUXo"
      },
      "outputs": [],
      "source": [
        "from keras_tuner.tuners import RandomSearch"
      ]
    },
    {
      "cell_type": "code",
      "execution_count": 31,
      "metadata": {
        "id": "zzvdq0FuZUXp"
      },
      "outputs": [],
      "source": [
        "tuner = RandomSearch(build_model,\n",
        "                     objective='loss', max_trials=150, \n",
        "                     executions_per_trial=3, directory='my_dir', \n",
        "                     project_name='hello', overwrite=True)"
      ]
    },
    {
      "cell_type": "code",
      "execution_count": 32,
      "metadata": {
        "id": "ocdr7FnJZUXp",
        "outputId": "cb2e80d7-212b-4391-c440-afaf14050f6b",
        "colab": {
          "base_uri": "https://localhost:8080/"
        }
      },
      "outputs": [
        {
          "output_type": "stream",
          "name": "stdout",
          "text": [
            "INFO:tensorflow:Oracle triggered exit\n"
          ]
        }
      ],
      "source": [
        "tuner.search(dataset, epochs=100, verbose=0)"
      ]
    },
    {
      "cell_type": "code",
      "execution_count": 33,
      "metadata": {
        "id": "GzV2_fdNZUXp",
        "outputId": "a347d221-dacd-443c-ea02-e01cfe688ddf",
        "colab": {
          "base_uri": "https://localhost:8080/"
        }
      },
      "outputs": [
        {
          "output_type": "stream",
          "name": "stdout",
          "text": [
            "Results summary\n",
            "Results in my_dir/hello\n",
            "Showing 10 best trials\n",
            "<keras_tuner.engine.objective.Objective object at 0x7f4f84b319d0>\n",
            "Trial summary\n",
            "Hyperparameters:\n",
            "units: 26\n",
            "momentum: 0.9\n",
            "Score: 32.76700083414713\n",
            "Trial summary\n",
            "Hyperparameters:\n",
            "units: 28\n",
            "momentum: 0.9\n",
            "Score: 33.30956013997396\n",
            "Trial summary\n",
            "Hyperparameters:\n",
            "units: 22\n",
            "momentum: 0.9\n",
            "Score: 33.418782552083336\n",
            "Trial summary\n",
            "Hyperparameters:\n",
            "units: 30\n",
            "momentum: 0.9\n",
            "Score: 34.13211313883463\n",
            "Trial summary\n",
            "Hyperparameters:\n",
            "units: 24\n",
            "momentum: 0.9\n",
            "Score: 34.27630869547526\n",
            "Trial summary\n",
            "Hyperparameters:\n",
            "units: 12\n",
            "momentum: 0.9\n",
            "Score: 34.408800760904946\n",
            "Trial summary\n",
            "Hyperparameters:\n",
            "units: 14\n",
            "momentum: 0.9\n",
            "Score: 34.428000132242836\n",
            "Trial summary\n",
            "Hyperparameters:\n",
            "units: 20\n",
            "momentum: 0.9\n",
            "Score: 35.161539713541664\n",
            "Trial summary\n",
            "Hyperparameters:\n",
            "units: 28\n",
            "momentum: 0.7\n",
            "Score: 35.80314509073893\n",
            "Trial summary\n",
            "Hyperparameters:\n",
            "units: 24\n",
            "momentum: 0.5\n",
            "Score: 36.35617446899414\n"
          ]
        }
      ],
      "source": [
        "tuner.results_summary()"
      ]
    },
    {
      "cell_type": "code",
      "execution_count": 34,
      "metadata": {
        "id": "2oc3FS5EZUXp"
      },
      "outputs": [],
      "source": [
        "best_models = tuner.get_best_models(num_models=4)"
      ]
    },
    {
      "cell_type": "code",
      "execution_count": 35,
      "metadata": {
        "id": "r-3K7JoSZUXp"
      },
      "outputs": [],
      "source": [
        "model = best_models[0]\n",
        "\n",
        "forecast = []\n",
        "for time in range(len(series) - window_size):\n",
        "    forecast.append(\n",
        "        model.predict(series[time:time + window_size][np.newaxis]))\n",
        "    \n",
        "forecast = forecast[split_time-window_size:]\n",
        "results = np.array(forecast)[:, 0, 0]"
      ]
    },
    {
      "cell_type": "code",
      "execution_count": 36,
      "metadata": {
        "scrolled": true,
        "id": "4o7A_xkLZUXp",
        "outputId": "5cb64cf2-a335-4ee4-b920-3c86ac7e174d",
        "colab": {
          "base_uri": "https://localhost:8080/",
          "height": 388
        }
      },
      "outputs": [
        {
          "output_type": "display_data",
          "data": {
            "text/plain": [
              "<Figure size 720x432 with 1 Axes>"
            ],
            "image/png": "[encoded data removed]"
          },
          "metadata": {
            "needs_background": "light"
          }
        }
      ],
      "source": [
        "plt.figure(figsize=(10, 6))\n",
        "\n",
        "plot_series(time_valid, x_valid)\n",
        "plot_series(time_valid, results)"
      ]
    },
    {
      "cell_type": "code",
      "execution_count": 37,
      "metadata": {
        "id": "ITWU3P2JZUXp",
        "outputId": "d1dd3f88-34c2-45e5-b99d-5bcfefcb5975",
        "colab": {
          "base_uri": "https://localhost:8080/"
        }
      },
      "outputs": [
        {
          "output_type": "execute_result",
          "data": {
            "text/plain": [
              "4.801376"
            ]
          },
          "metadata": {},
          "execution_count": 37
        }
      ],
      "source": [
        "tf.keras.metrics.mean_absolute_error(x_valid, results).numpy()"
      ]
    }
  ],
  "metadata": {
    "kernelspec": {
      "display_name": "Python 3.7 on Backend.AI",
      "language": "python",
      "name": "python3"
    },
    "language_info": {
      "codemirror_mode": {
        "name": "ipython",
        "version": 3
      },
      "file_extension": ".py",
      "mimetype": "text/x-python",
      "name": "python",
      "nbconvert_exporter": "python",
      "pygments_lexer": "ipython3",
      "version": "3.7.7"
    },
    "colab": {
      "name": "10-sequence-prediction.ipynb",
      "provenance": []
    },
    "accelerator": "GPU",
    "gpuClass": "standard"
  },
  "nbformat": 4,
  "nbformat_minor": 0
}