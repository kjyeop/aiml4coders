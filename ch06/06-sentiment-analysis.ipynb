{
  "cells": [
    {
      "cell_type": "markdown",
      "metadata": {
        "id": "PSVlgaZagBM2"
      },
      "source": [
        "# 6장. 임베딩을 사용한 감성 프로그래밍"
      ]
    },
    {
      "cell_type": "markdown",
      "metadata": {
        "id": "TjtLgmQZgBM7"
      },
      "source": [
        "<table class=\"tfo-notebook-buttons\" align=\"left\">\n",
        "  <td>\n",
        "    <a target=\"_blank\" href=\"https://nbviewer.jupyter.org/github/rickiepark/aiml4coders/blob/main/ch06/06-sentiment-analysis.ipynb\"><img src=\"https://jupyter.org/assets/share.png\" width=\"61\" />주피터 노트북 뷰어로 보기</a>\n",
        "  </td>\n",
        "  <td>\n",
        "    <a target=\"_blank\" href=\"https://colab.research.google.com/github/rickiepark/aiml4coders/blob/main/ch06/06-sentiment-analysis.ipynb\"><img src=\"https://www.tensorflow.org/images/colab_logo_32px.png\" />구글 코랩(Colab)에서 실행하기</a>\n",
        "  </td>\n",
        "</table>"
      ]
    },
    {
      "cell_type": "code",
      "execution_count": 1,
      "metadata": {
        "id": "MEV9jigtgBM9"
      },
      "outputs": [],
      "source": [
        "# 노트북이 코랩에서 실행 중인지 체크합니다.\n",
        "import sys\n",
        "if 'google.colab' in sys.modules:\n",
        "    !wget -q https://github.com/rickiepark/aiml4coders/raw/main/ch05/sarcasm.json\n",
        "    !mkdir ../ch05\n",
        "    !mv sarcasm.json ../ch05"
      ]
    },
    {
      "cell_type": "markdown",
      "metadata": {
        "id": "j-IK6e5hgBNA"
      },
      "source": [
        "## Sarcasm 데이터셋 로딩 및 전처리"
      ]
    },
    {
      "cell_type": "code",
      "execution_count": 2,
      "metadata": {
        "id": "owXdVC99gBNB"
      },
      "outputs": [],
      "source": [
        "import json\n",
        "from tensorflow.keras.preprocessing.text import Tokenizer\n",
        "from tensorflow.keras.preprocessing.sequence import pad_sequences\n",
        "from bs4 import BeautifulSoup\n",
        "import string\n",
        "import tensorflow as tf"
      ]
    },
    {
      "cell_type": "code",
      "execution_count": 3,
      "metadata": {
        "id": "xiVxJWPugBNB"
      },
      "outputs": [],
      "source": [
        "stopwords = [\"a\", \"about\", \"above\", \"after\", \"again\", \"against\", \"all\", \"am\", \"an\", \"and\", \"any\", \"are\", \"as\", \"at\",\n",
        "             \"be\", \"because\", \"been\", \"before\", \"being\", \"below\", \"between\", \"both\", \"but\", \"by\", \"could\", \"did\", \"do\",\n",
        "             \"does\", \"doing\", \"down\", \"during\", \"each\", \"few\", \"for\", \"from\", \"further\", \"had\", \"has\", \"have\", \"having\",\n",
        "             \"he\", \"hed\", \"hes\", \"her\", \"here\", \"heres\", \"hers\", \"herself\", \"him\", \"himself\", \"his\", \"how\",\n",
        "             \"hows\", \"i\", \"id\", \"ill\", \"im\", \"ive\", \"if\", \"in\", \"into\", \"is\", \"it\", \"its\", \"itself\",\n",
        "             \"lets\", \"me\", \"more\", \"most\", \"my\", \"myself\", \"nor\", \"of\", \"on\", \"once\", \"only\", \"or\", \"other\", \"ought\",\n",
        "             \"our\", \"ours\", \"ourselves\", \"out\", \"over\", \"own\", \"same\", \"she\", \"shed\", \"shell\", \"shes\", \"should\",\n",
        "             \"so\", \"some\", \"such\", \"than\", \"that\", \"thats\", \"the\", \"their\", \"theirs\", \"them\", \"themselves\", \"then\",\n",
        "             \"there\", \"theres\", \"these\", \"they\", \"theyd\", \"theyll\", \"theyre\", \"theyve\", \"this\", \"those\", \"through\",\n",
        "             \"to\", \"too\", \"under\", \"until\", \"up\", \"very\", \"was\", \"we\", \"wed\", \"well\", \"were\", \"weve\", \"were\",\n",
        "             \"what\", \"whats\", \"when\", \"whens\", \"where\", \"wheres\", \"which\", \"while\", \"who\", \"whos\", \"whom\", \"why\",\n",
        "             \"whys\", \"with\", \"would\", \"you\", \"youd\", \"youll\", \"youre\", \"youve\", \"your\", \"yours\", \"yourself\",\n",
        "             \"yourselves\"]\n",
        "\n",
        "table = str.maketrans('', '', string.punctuation)"
      ]
    },
    {
      "cell_type": "code",
      "execution_count": 4,
      "metadata": {
        "id": "yBA7EgW0gBNC"
      },
      "outputs": [],
      "source": [
        "with open(\"../ch05/sarcasm.json\", 'r') as f:\n",
        "    datastore = json.load(f)\n",
        "\n",
        "sentences = [] \n",
        "labels = []\n",
        "urls = []\n",
        "for item in datastore:\n",
        "    sentence = item['headline'].lower()\n",
        "    sentence = sentence.replace(\",\", \" , \")\n",
        "    sentence = sentence.replace(\".\", \" . \")\n",
        "    sentence = sentence.replace(\"-\", \" - \")\n",
        "    sentence = sentence.replace(\"/\", \" / \")\n",
        "    soup = BeautifulSoup(sentence)\n",
        "    sentence = soup.get_text()\n",
        "    words = sentence.split()\n",
        "    filtered_sentence = \"\"\n",
        "    for word in words:\n",
        "        word = word.translate(table)\n",
        "        if word not in stopwords:\n",
        "            filtered_sentence = filtered_sentence + word + \" \"\n",
        "    sentences.append(filtered_sentence)\n",
        "    labels.append(item['is_sarcastic'])\n",
        "    urls.append(item['article_link'])"
      ]
    },
    {
      "cell_type": "code",
      "execution_count": 5,
      "metadata": {
        "id": "Jq5rgZr6gBNE"
      },
      "outputs": [],
      "source": [
        "vocab_size = 10000\n",
        "embedding_dim = 16\n",
        "max_length = 100\n",
        "trunc_type='post'\n",
        "padding_type='post'\n",
        "oov_tok = \"<OOV>\"\n",
        "training_size = 23000"
      ]
    },
    {
      "cell_type": "code",
      "execution_count": 6,
      "metadata": {
        "id": "-y_xR2OcgBNF"
      },
      "outputs": [],
      "source": [
        "training_sentences = sentences[0:training_size]\n",
        "testing_sentences = sentences[training_size:]\n",
        "training_labels = labels[0:training_size]\n",
        "testing_labels = labels[training_size:]"
      ]
    },
    {
      "cell_type": "code",
      "execution_count": 7,
      "metadata": {
        "id": "-h4FtvdCgBNG"
      },
      "outputs": [],
      "source": [
        "tokenizer = Tokenizer(num_words=vocab_size, oov_token=oov_tok)\n",
        "tokenizer.fit_on_texts(training_sentences)\n",
        "\n",
        "word_index = tokenizer.word_index\n",
        "\n",
        "training_sequences = tokenizer.texts_to_sequences(training_sentences)\n",
        "training_padded = pad_sequences(training_sequences, maxlen=max_length, padding=padding_type, truncating=trunc_type)\n",
        "\n",
        "testing_sequences = tokenizer.texts_to_sequences(testing_sentences)\n",
        "testing_padded = pad_sequences(testing_sequences, maxlen=max_length, padding=padding_type, truncating=trunc_type)"
      ]
    },
    {
      "cell_type": "markdown",
      "metadata": {
        "id": "ejp-3evHgBNG"
      },
      "source": [
        "## 텐서플로의 임베딩\n",
        "\n",
        "### 임베딩을 사용해 빈정거림 감지기 만들기"
      ]
    },
    {
      "cell_type": "code",
      "execution_count": 8,
      "metadata": {
        "id": "u6SQw5lJgBNH"
      },
      "outputs": [],
      "source": [
        "import numpy as np\n",
        "\n",
        "training_padded = np.array(training_padded)\n",
        "training_labels = np.array(training_labels)\n",
        "testing_padded = np.array(testing_padded)\n",
        "testing_labels = np.array(testing_labels)"
      ]
    },
    {
      "cell_type": "code",
      "execution_count": 9,
      "metadata": {
        "id": "Ie6mYqzJgBNH"
      },
      "outputs": [],
      "source": [
        "model = tf.keras.Sequential([\n",
        "    tf.keras.layers.Embedding(vocab_size, embedding_dim),\n",
        "    tf.keras.layers.GlobalAveragePooling1D(),\n",
        "    tf.keras.layers.Dense(24, activation='relu'),\n",
        "    tf.keras.layers.Dense(1, activation='sigmoid')\n",
        "])\n",
        "model.compile(loss='binary_crossentropy',\n",
        "              optimizer='adam',metrics=['accuracy'])"
      ]
    },
    {
      "cell_type": "code",
      "execution_count": 10,
      "metadata": {
        "id": "9Kfvepz4gBNI",
        "outputId": "6cb10bdb-5836-4d37-aba1-986f2a192a88",
        "colab": {
          "base_uri": "https://localhost:8080/"
        }
      },
      "outputs": [
        {
          "output_type": "stream",
          "name": "stdout",
          "text": [
            "Model: \"sequential\"\n",
            "_________________________________________________________________\n",
            " Layer (type)                Output Shape              Param #   \n",
            "=================================================================\n",
            " embedding (Embedding)       (None, None, 16)          160000    \n",
            "                                                                 \n",
            " global_average_pooling1d (G  (None, 16)               0         \n",
            " lobalAveragePooling1D)                                          \n",
            "                                                                 \n",
            " dense (Dense)               (None, 24)                408       \n",
            "                                                                 \n",
            " dense_1 (Dense)             (None, 1)                 25        \n",
            "                                                                 \n",
            "=================================================================\n",
            "Total params: 160,433\n",
            "Trainable params: 160,433\n",
            "Non-trainable params: 0\n",
            "_________________________________________________________________\n"
          ]
        }
      ],
      "source": [
        "model.summary()"
      ]
    },
    {
      "cell_type": "code",
      "execution_count": 11,
      "metadata": {
        "scrolled": true,
        "id": "CfKHYQnGgBNJ",
        "outputId": "204f569f-86ff-4284-e197-cbef0df90607",
        "colab": {
          "base_uri": "https://localhost:8080/"
        }
      },
      "outputs": [
        {
          "output_type": "stream",
          "name": "stdout",
          "text": [
            "Epoch 1/30\n",
            "719/719 [==============================] - 6s 4ms/step - loss: 0.6822 - accuracy: 0.5590 - val_loss: 0.6631 - val_accuracy: 0.5756\n",
            "Epoch 2/30\n",
            "719/719 [==============================] - 3s 4ms/step - loss: 0.5684 - accuracy: 0.7185 - val_loss: 0.4966 - val_accuracy: 0.7741\n",
            "Epoch 3/30\n",
            "719/719 [==============================] - 3s 4ms/step - loss: 0.4062 - accuracy: 0.8256 - val_loss: 0.4387 - val_accuracy: 0.7919\n",
            "Epoch 4/30\n",
            "719/719 [==============================] - 3s 4ms/step - loss: 0.3385 - accuracy: 0.8564 - val_loss: 0.4245 - val_accuracy: 0.8010\n",
            "Epoch 5/30\n",
            "719/719 [==============================] - 3s 4ms/step - loss: 0.2987 - accuracy: 0.8739 - val_loss: 0.4222 - val_accuracy: 0.8072\n",
            "Epoch 6/30\n",
            "719/719 [==============================] - 3s 4ms/step - loss: 0.2712 - accuracy: 0.8895 - val_loss: 0.4618 - val_accuracy: 0.7862\n",
            "Epoch 7/30\n",
            "719/719 [==============================] - 3s 4ms/step - loss: 0.2472 - accuracy: 0.8985 - val_loss: 0.4421 - val_accuracy: 0.8021\n",
            "Epoch 8/30\n",
            "719/719 [==============================] - 3s 4ms/step - loss: 0.2310 - accuracy: 0.9069 - val_loss: 0.4535 - val_accuracy: 0.8040\n",
            "Epoch 9/30\n",
            "719/719 [==============================] - 3s 4ms/step - loss: 0.2143 - accuracy: 0.9141 - val_loss: 0.4799 - val_accuracy: 0.8002\n",
            "Epoch 10/30\n",
            "719/719 [==============================] - 3s 4ms/step - loss: 0.2020 - accuracy: 0.9197 - val_loss: 0.4900 - val_accuracy: 0.7989\n",
            "Epoch 11/30\n",
            "719/719 [==============================] - 3s 4ms/step - loss: 0.1906 - accuracy: 0.9236 - val_loss: 0.5110 - val_accuracy: 0.7986\n",
            "Epoch 12/30\n",
            "719/719 [==============================] - 3s 4ms/step - loss: 0.1799 - accuracy: 0.9292 - val_loss: 0.5350 - val_accuracy: 0.8005\n",
            "Epoch 13/30\n",
            "719/719 [==============================] - 3s 4ms/step - loss: 0.1719 - accuracy: 0.9304 - val_loss: 0.5606 - val_accuracy: 0.7959\n",
            "Epoch 14/30\n",
            "719/719 [==============================] - 3s 4ms/step - loss: 0.1641 - accuracy: 0.9358 - val_loss: 0.6100 - val_accuracy: 0.7948\n",
            "Epoch 15/30\n",
            "719/719 [==============================] - 3s 4ms/step - loss: 0.1581 - accuracy: 0.9373 - val_loss: 0.6220 - val_accuracy: 0.7881\n",
            "Epoch 16/30\n",
            "719/719 [==============================] - 3s 5ms/step - loss: 0.1496 - accuracy: 0.9433 - val_loss: 0.6436 - val_accuracy: 0.7943\n",
            "Epoch 17/30\n",
            "719/719 [==============================] - 3s 5ms/step - loss: 0.1446 - accuracy: 0.9443 - val_loss: 0.6665 - val_accuracy: 0.7932\n",
            "Epoch 18/30\n",
            "719/719 [==============================] - 3s 4ms/step - loss: 0.1386 - accuracy: 0.9478 - val_loss: 0.7191 - val_accuracy: 0.7884\n",
            "Epoch 19/30\n",
            "719/719 [==============================] - 3s 4ms/step - loss: 0.1336 - accuracy: 0.9492 - val_loss: 0.7190 - val_accuracy: 0.7859\n",
            "Epoch 20/30\n",
            "719/719 [==============================] - 3s 4ms/step - loss: 0.1271 - accuracy: 0.9522 - val_loss: 0.7528 - val_accuracy: 0.7900\n",
            "Epoch 21/30\n",
            "719/719 [==============================] - 4s 5ms/step - loss: 0.1241 - accuracy: 0.9547 - val_loss: 0.7803 - val_accuracy: 0.7889\n",
            "Epoch 22/30\n",
            "719/719 [==============================] - 3s 4ms/step - loss: 0.1213 - accuracy: 0.9560 - val_loss: 0.8080 - val_accuracy: 0.7875\n",
            "Epoch 23/30\n",
            "719/719 [==============================] - 3s 4ms/step - loss: 0.1139 - accuracy: 0.9583 - val_loss: 0.8604 - val_accuracy: 0.7851\n",
            "Epoch 24/30\n",
            "719/719 [==============================] - 3s 4ms/step - loss: 0.1107 - accuracy: 0.9603 - val_loss: 0.8662 - val_accuracy: 0.7824\n",
            "Epoch 25/30\n",
            "719/719 [==============================] - 3s 4ms/step - loss: 0.1075 - accuracy: 0.9613 - val_loss: 0.9192 - val_accuracy: 0.7830\n",
            "Epoch 26/30\n",
            "719/719 [==============================] - 3s 4ms/step - loss: 0.1055 - accuracy: 0.9632 - val_loss: 0.9284 - val_accuracy: 0.7811\n",
            "Epoch 27/30\n",
            "719/719 [==============================] - 3s 4ms/step - loss: 0.1031 - accuracy: 0.9626 - val_loss: 0.9416 - val_accuracy: 0.7795\n",
            "Epoch 28/30\n",
            "719/719 [==============================] - 3s 4ms/step - loss: 0.0995 - accuracy: 0.9641 - val_loss: 0.9799 - val_accuracy: 0.7724\n",
            "Epoch 29/30\n",
            "719/719 [==============================] - 3s 4ms/step - loss: 0.0980 - accuracy: 0.9659 - val_loss: 0.9836 - val_accuracy: 0.7784\n",
            "Epoch 30/30\n",
            "719/719 [==============================] - 3s 4ms/step - loss: 0.0926 - accuracy: 0.9675 - val_loss: 1.0094 - val_accuracy: 0.7786\n"
          ]
        }
      ],
      "source": [
        "num_epochs = 30\n",
        "history = model.fit(training_padded, training_labels, epochs=num_epochs,\n",
        "                    validation_data=(testing_padded, testing_labels))"
      ]
    },
    {
      "cell_type": "code",
      "execution_count": 12,
      "metadata": {
        "id": "euOKD1lagBNJ",
        "outputId": "6e0d710f-93ef-44fe-ef6d-9d3ea1bbf4cb",
        "colab": {
          "base_uri": "https://localhost:8080/",
          "height": 279
        }
      },
      "outputs": [
        {
          "output_type": "display_data",
          "data": {
            "text/plain": [
              "<Figure size 432x288 with 1 Axes>"
            ],
            "image/png": "[encoded data removed]"
          },
          "metadata": {
            "needs_background": "light"
          }
        }
      ],
      "source": [
        "import matplotlib.pyplot as plt\n",
        "\n",
        "plt.plot(history.history['accuracy'])\n",
        "plt.plot(history.history['val_accuracy'])\n",
        "plt.xlabel('epochs')\n",
        "plt.ylabel('accuracy')\n",
        "plt.legend(['accuracy', 'val_accuracy'])\n",
        "plt.show()"
      ]
    },
    {
      "cell_type": "code",
      "execution_count": 13,
      "metadata": {
        "id": "nl07--uzgBNP",
        "outputId": "0ee0c68f-faaf-41f9-a9bd-acf085e20287",
        "colab": {
          "base_uri": "https://localhost:8080/",
          "height": 279
        }
      },
      "outputs": [
        {
          "output_type": "display_data",
          "data": {
            "text/plain": [
              "<Figure size 432x288 with 1 Axes>"
            ],
            "image/png": "[encoded data removed]"
          },
          "metadata": {
            "needs_background": "light"
          }
        }
      ],
      "source": [
        "plt.plot(history.history['loss'])\n",
        "plt.plot(history.history['val_loss'])\n",
        "plt.xlabel('epochs')\n",
        "plt.ylabel('loss')\n",
        "plt.legend(['loss', 'val_loss'])\n",
        "plt.show()"
      ]
    },
    {
      "cell_type": "markdown",
      "metadata": {
        "id": "1J8ozOTJgBNQ"
      },
      "source": [
        "### 언어 모델의 과대적합 줄이기\n",
        "\n",
        "#### 학습률 조정하기"
      ]
    },
    {
      "cell_type": "code",
      "execution_count": 14,
      "metadata": {
        "id": "iv6Azv_1gBNQ",
        "outputId": "f8f95f17-c632-4242-f516-bcec649a25a2",
        "colab": {
          "base_uri": "https://localhost:8080/"
        }
      },
      "outputs": [
        {
          "output_type": "stream",
          "name": "stdout",
          "text": [
            "Epoch 1/100\n",
            "719/719 [==============================] - 4s 4ms/step - loss: 0.6876 - accuracy: 0.5596 - val_loss: 0.6830 - val_accuracy: 0.5700\n",
            "Epoch 2/100\n",
            "719/719 [==============================] - 3s 4ms/step - loss: 0.6848 - accuracy: 0.5596 - val_loss: 0.6820 - val_accuracy: 0.5700\n",
            "Epoch 3/100\n",
            "719/719 [==============================] - 3s 4ms/step - loss: 0.6837 - accuracy: 0.5596 - val_loss: 0.6805 - val_accuracy: 0.5700\n",
            "Epoch 4/100\n",
            "719/719 [==============================] - 3s 4ms/step - loss: 0.6821 - accuracy: 0.5596 - val_loss: 0.6787 - val_accuracy: 0.5700\n",
            "Epoch 5/100\n",
            "719/719 [==============================] - 3s 4ms/step - loss: 0.6796 - accuracy: 0.5596 - val_loss: 0.6759 - val_accuracy: 0.5700\n",
            "Epoch 6/100\n",
            "719/719 [==============================] - 3s 4ms/step - loss: 0.6759 - accuracy: 0.5596 - val_loss: 0.6718 - val_accuracy: 0.5700\n",
            "Epoch 7/100\n",
            "719/719 [==============================] - 3s 4ms/step - loss: 0.6704 - accuracy: 0.5598 - val_loss: 0.6666 - val_accuracy: 0.5713\n",
            "Epoch 8/100\n",
            "719/719 [==============================] - 3s 4ms/step - loss: 0.6629 - accuracy: 0.5633 - val_loss: 0.6585 - val_accuracy: 0.5781\n",
            "Epoch 9/100\n",
            "719/719 [==============================] - 3s 4ms/step - loss: 0.6529 - accuracy: 0.5816 - val_loss: 0.6487 - val_accuracy: 0.6101\n",
            "Epoch 10/100\n",
            "719/719 [==============================] - 3s 4ms/step - loss: 0.6404 - accuracy: 0.6218 - val_loss: 0.6365 - val_accuracy: 0.6376\n",
            "Epoch 11/100\n",
            "719/719 [==============================] - 3s 4ms/step - loss: 0.6257 - accuracy: 0.6575 - val_loss: 0.6242 - val_accuracy: 0.6959\n",
            "Epoch 12/100\n",
            "719/719 [==============================] - 3s 4ms/step - loss: 0.6088 - accuracy: 0.6948 - val_loss: 0.6093 - val_accuracy: 0.7158\n",
            "Epoch 13/100\n",
            "719/719 [==============================] - 3s 4ms/step - loss: 0.5904 - accuracy: 0.7212 - val_loss: 0.5932 - val_accuracy: 0.7307\n",
            "Epoch 14/100\n",
            "719/719 [==============================] - 3s 4ms/step - loss: 0.5711 - accuracy: 0.7461 - val_loss: 0.5763 - val_accuracy: 0.7296\n",
            "Epoch 15/100\n",
            "719/719 [==============================] - 3s 4ms/step - loss: 0.5518 - accuracy: 0.7590 - val_loss: 0.5656 - val_accuracy: 0.7587\n",
            "Epoch 16/100\n",
            "719/719 [==============================] - 3s 4ms/step - loss: 0.5323 - accuracy: 0.7784 - val_loss: 0.5458 - val_accuracy: 0.7560\n",
            "Epoch 17/100\n",
            "719/719 [==============================] - 3s 4ms/step - loss: 0.5134 - accuracy: 0.7877 - val_loss: 0.5332 - val_accuracy: 0.7668\n",
            "Epoch 18/100\n",
            "719/719 [==============================] - 3s 4ms/step - loss: 0.4950 - accuracy: 0.7993 - val_loss: 0.5205 - val_accuracy: 0.7716\n",
            "Epoch 19/100\n",
            "719/719 [==============================] - 3s 4ms/step - loss: 0.4775 - accuracy: 0.8093 - val_loss: 0.5062 - val_accuracy: 0.7743\n",
            "Epoch 20/100\n",
            "719/719 [==============================] - 3s 4ms/step - loss: 0.4610 - accuracy: 0.8160 - val_loss: 0.4953 - val_accuracy: 0.7773\n",
            "Epoch 21/100\n",
            "719/719 [==============================] - 3s 4ms/step - loss: 0.4455 - accuracy: 0.8235 - val_loss: 0.4856 - val_accuracy: 0.7832\n",
            "Epoch 22/100\n",
            "719/719 [==============================] - 3s 4ms/step - loss: 0.4313 - accuracy: 0.8298 - val_loss: 0.4751 - val_accuracy: 0.7884\n",
            "Epoch 23/100\n",
            "719/719 [==============================] - 3s 4ms/step - loss: 0.4178 - accuracy: 0.8339 - val_loss: 0.4659 - val_accuracy: 0.7916\n",
            "Epoch 24/100\n",
            "719/719 [==============================] - 3s 4ms/step - loss: 0.4053 - accuracy: 0.8389 - val_loss: 0.4591 - val_accuracy: 0.7940\n",
            "Epoch 25/100\n",
            "719/719 [==============================] - 3s 4ms/step - loss: 0.3939 - accuracy: 0.8437 - val_loss: 0.4523 - val_accuracy: 0.7935\n",
            "Epoch 26/100\n",
            "719/719 [==============================] - 3s 4ms/step - loss: 0.3834 - accuracy: 0.8491 - val_loss: 0.4466 - val_accuracy: 0.7940\n",
            "Epoch 27/100\n",
            "719/719 [==============================] - 3s 4ms/step - loss: 0.3738 - accuracy: 0.8510 - val_loss: 0.4428 - val_accuracy: 0.7975\n",
            "Epoch 28/100\n",
            "719/719 [==============================] - 3s 4ms/step - loss: 0.3646 - accuracy: 0.8555 - val_loss: 0.4398 - val_accuracy: 0.7978\n",
            "Epoch 29/100\n",
            "719/719 [==============================] - 3s 4ms/step - loss: 0.3564 - accuracy: 0.8573 - val_loss: 0.4341 - val_accuracy: 0.7991\n",
            "Epoch 30/100\n",
            "719/719 [==============================] - 3s 4ms/step - loss: 0.3483 - accuracy: 0.8616 - val_loss: 0.4310 - val_accuracy: 0.7999\n",
            "Epoch 31/100\n",
            "719/719 [==============================] - 3s 4ms/step - loss: 0.3410 - accuracy: 0.8640 - val_loss: 0.4291 - val_accuracy: 0.8010\n",
            "Epoch 32/100\n",
            "719/719 [==============================] - 3s 4ms/step - loss: 0.3340 - accuracy: 0.8657 - val_loss: 0.4260 - val_accuracy: 0.7994\n",
            "Epoch 33/100\n",
            "719/719 [==============================] - 3s 4ms/step - loss: 0.3274 - accuracy: 0.8688 - val_loss: 0.4236 - val_accuracy: 0.8008\n",
            "Epoch 34/100\n",
            "719/719 [==============================] - 3s 4ms/step - loss: 0.3212 - accuracy: 0.8707 - val_loss: 0.4218 - val_accuracy: 0.8005\n",
            "Epoch 35/100\n",
            "719/719 [==============================] - 4s 5ms/step - loss: 0.3149 - accuracy: 0.8743 - val_loss: 0.4209 - val_accuracy: 0.8021\n",
            "Epoch 36/100\n",
            "719/719 [==============================] - 3s 4ms/step - loss: 0.3093 - accuracy: 0.8755 - val_loss: 0.4190 - val_accuracy: 0.8026\n",
            "Epoch 37/100\n",
            "719/719 [==============================] - 3s 4ms/step - loss: 0.3039 - accuracy: 0.8789 - val_loss: 0.4182 - val_accuracy: 0.8026\n",
            "Epoch 38/100\n",
            "719/719 [==============================] - 3s 4ms/step - loss: 0.2985 - accuracy: 0.8810 - val_loss: 0.4169 - val_accuracy: 0.8059\n",
            "Epoch 39/100\n",
            "719/719 [==============================] - 3s 4ms/step - loss: 0.2937 - accuracy: 0.8835 - val_loss: 0.4161 - val_accuracy: 0.8053\n",
            "Epoch 40/100\n",
            "719/719 [==============================] - 3s 4ms/step - loss: 0.2891 - accuracy: 0.8846 - val_loss: 0.4157 - val_accuracy: 0.8064\n",
            "Epoch 41/100\n",
            "719/719 [==============================] - 3s 4ms/step - loss: 0.2846 - accuracy: 0.8866 - val_loss: 0.4155 - val_accuracy: 0.8067\n",
            "Epoch 42/100\n",
            "719/719 [==============================] - 3s 4ms/step - loss: 0.2802 - accuracy: 0.8878 - val_loss: 0.4176 - val_accuracy: 0.8070\n",
            "Epoch 43/100\n",
            "719/719 [==============================] - 3s 4ms/step - loss: 0.2761 - accuracy: 0.8903 - val_loss: 0.4174 - val_accuracy: 0.8080\n",
            "Epoch 44/100\n",
            "719/719 [==============================] - 3s 4ms/step - loss: 0.2719 - accuracy: 0.8922 - val_loss: 0.4161 - val_accuracy: 0.8102\n",
            "Epoch 45/100\n",
            "719/719 [==============================] - 3s 4ms/step - loss: 0.2678 - accuracy: 0.8923 - val_loss: 0.4171 - val_accuracy: 0.8107\n",
            "Epoch 46/100\n",
            "719/719 [==============================] - 3s 4ms/step - loss: 0.2640 - accuracy: 0.8946 - val_loss: 0.4168 - val_accuracy: 0.8094\n",
            "Epoch 47/100\n",
            "719/719 [==============================] - 3s 4ms/step - loss: 0.2602 - accuracy: 0.8967 - val_loss: 0.4168 - val_accuracy: 0.8099\n",
            "Epoch 48/100\n",
            "719/719 [==============================] - 3s 4ms/step - loss: 0.2566 - accuracy: 0.8978 - val_loss: 0.4179 - val_accuracy: 0.8097\n",
            "Epoch 49/100\n",
            "719/719 [==============================] - 3s 4ms/step - loss: 0.2533 - accuracy: 0.9005 - val_loss: 0.4190 - val_accuracy: 0.8110\n",
            "Epoch 50/100\n",
            "719/719 [==============================] - 3s 4ms/step - loss: 0.2498 - accuracy: 0.9010 - val_loss: 0.4227 - val_accuracy: 0.8072\n",
            "Epoch 51/100\n",
            "719/719 [==============================] - 3s 4ms/step - loss: 0.2465 - accuracy: 0.9027 - val_loss: 0.4204 - val_accuracy: 0.8107\n",
            "Epoch 52/100\n",
            "719/719 [==============================] - 3s 4ms/step - loss: 0.2436 - accuracy: 0.9042 - val_loss: 0.4231 - val_accuracy: 0.8080\n",
            "Epoch 53/100\n",
            "719/719 [==============================] - 3s 4ms/step - loss: 0.2403 - accuracy: 0.9059 - val_loss: 0.4227 - val_accuracy: 0.8121\n",
            "Epoch 54/100\n",
            "719/719 [==============================] - 3s 4ms/step - loss: 0.2375 - accuracy: 0.9067 - val_loss: 0.4254 - val_accuracy: 0.8091\n",
            "Epoch 55/100\n",
            "719/719 [==============================] - 3s 4ms/step - loss: 0.2346 - accuracy: 0.9080 - val_loss: 0.4254 - val_accuracy: 0.8113\n",
            "Epoch 56/100\n",
            "719/719 [==============================] - 3s 4ms/step - loss: 0.2315 - accuracy: 0.9086 - val_loss: 0.4286 - val_accuracy: 0.8059\n",
            "Epoch 57/100\n",
            "719/719 [==============================] - 3s 4ms/step - loss: 0.2287 - accuracy: 0.9096 - val_loss: 0.4295 - val_accuracy: 0.8064\n",
            "Epoch 58/100\n",
            "719/719 [==============================] - 3s 4ms/step - loss: 0.2268 - accuracy: 0.9102 - val_loss: 0.4301 - val_accuracy: 0.8080\n",
            "Epoch 59/100\n",
            "719/719 [==============================] - 3s 4ms/step - loss: 0.2235 - accuracy: 0.9116 - val_loss: 0.4317 - val_accuracy: 0.8070\n",
            "Epoch 60/100\n",
            "719/719 [==============================] - 3s 4ms/step - loss: 0.2212 - accuracy: 0.9133 - val_loss: 0.4336 - val_accuracy: 0.8067\n",
            "Epoch 61/100\n",
            "719/719 [==============================] - 3s 4ms/step - loss: 0.2188 - accuracy: 0.9139 - val_loss: 0.4365 - val_accuracy: 0.8056\n",
            "Epoch 62/100\n",
            "719/719 [==============================] - 3s 4ms/step - loss: 0.2161 - accuracy: 0.9145 - val_loss: 0.4388 - val_accuracy: 0.8045\n",
            "Epoch 63/100\n",
            "719/719 [==============================] - 3s 4ms/step - loss: 0.2140 - accuracy: 0.9154 - val_loss: 0.4397 - val_accuracy: 0.8067\n",
            "Epoch 64/100\n",
            "719/719 [==============================] - 3s 4ms/step - loss: 0.2117 - accuracy: 0.9172 - val_loss: 0.4422 - val_accuracy: 0.8072\n",
            "Epoch 65/100\n",
            "719/719 [==============================] - 3s 4ms/step - loss: 0.2095 - accuracy: 0.9185 - val_loss: 0.4459 - val_accuracy: 0.8094\n",
            "Epoch 66/100\n",
            "719/719 [==============================] - 3s 4ms/step - loss: 0.2074 - accuracy: 0.9193 - val_loss: 0.4458 - val_accuracy: 0.8070\n",
            "Epoch 67/100\n",
            "719/719 [==============================] - 3s 4ms/step - loss: 0.2051 - accuracy: 0.9209 - val_loss: 0.4488 - val_accuracy: 0.8078\n",
            "Epoch 68/100\n",
            "719/719 [==============================] - 3s 4ms/step - loss: 0.2029 - accuracy: 0.9207 - val_loss: 0.4513 - val_accuracy: 0.8064\n",
            "Epoch 69/100\n",
            "719/719 [==============================] - 3s 4ms/step - loss: 0.2011 - accuracy: 0.9226 - val_loss: 0.4527 - val_accuracy: 0.8053\n",
            "Epoch 70/100\n",
            "719/719 [==============================] - 3s 4ms/step - loss: 0.1989 - accuracy: 0.9229 - val_loss: 0.4549 - val_accuracy: 0.8064\n",
            "Epoch 71/100\n",
            "719/719 [==============================] - 3s 4ms/step - loss: 0.1974 - accuracy: 0.9237 - val_loss: 0.4580 - val_accuracy: 0.8048\n",
            "Epoch 72/100\n",
            "719/719 [==============================] - 3s 4ms/step - loss: 0.1951 - accuracy: 0.9252 - val_loss: 0.4611 - val_accuracy: 0.8059\n",
            "Epoch 73/100\n",
            "719/719 [==============================] - 3s 4ms/step - loss: 0.1932 - accuracy: 0.9257 - val_loss: 0.4625 - val_accuracy: 0.8051\n",
            "Epoch 74/100\n",
            "719/719 [==============================] - 3s 4ms/step - loss: 0.1914 - accuracy: 0.9265 - val_loss: 0.4650 - val_accuracy: 0.8037\n",
            "Epoch 75/100\n",
            "719/719 [==============================] - 3s 4ms/step - loss: 0.1897 - accuracy: 0.9266 - val_loss: 0.4685 - val_accuracy: 0.8032\n",
            "Epoch 76/100\n",
            "719/719 [==============================] - 3s 4ms/step - loss: 0.1876 - accuracy: 0.9281 - val_loss: 0.4704 - val_accuracy: 0.8026\n",
            "Epoch 77/100\n",
            "719/719 [==============================] - 3s 4ms/step - loss: 0.1860 - accuracy: 0.9282 - val_loss: 0.4733 - val_accuracy: 0.8026\n",
            "Epoch 78/100\n",
            "719/719 [==============================] - 3s 4ms/step - loss: 0.1843 - accuracy: 0.9298 - val_loss: 0.4762 - val_accuracy: 0.8021\n",
            "Epoch 79/100\n",
            "719/719 [==============================] - 3s 4ms/step - loss: 0.1828 - accuracy: 0.9302 - val_loss: 0.4790 - val_accuracy: 0.8008\n",
            "Epoch 80/100\n",
            "719/719 [==============================] - 3s 4ms/step - loss: 0.1809 - accuracy: 0.9312 - val_loss: 0.4820 - val_accuracy: 0.7994\n",
            "Epoch 81/100\n",
            "719/719 [==============================] - 3s 4ms/step - loss: 0.1791 - accuracy: 0.9319 - val_loss: 0.4871 - val_accuracy: 0.8016\n",
            "Epoch 82/100\n",
            "719/719 [==============================] - 3s 4ms/step - loss: 0.1778 - accuracy: 0.9327 - val_loss: 0.4890 - val_accuracy: 0.8016\n",
            "Epoch 83/100\n",
            "719/719 [==============================] - 3s 4ms/step - loss: 0.1760 - accuracy: 0.9331 - val_loss: 0.4913 - val_accuracy: 0.7989\n",
            "Epoch 84/100\n",
            "719/719 [==============================] - 3s 4ms/step - loss: 0.1745 - accuracy: 0.9338 - val_loss: 0.4945 - val_accuracy: 0.8002\n",
            "Epoch 85/100\n",
            "719/719 [==============================] - 3s 4ms/step - loss: 0.1730 - accuracy: 0.9348 - val_loss: 0.5002 - val_accuracy: 0.8040\n",
            "Epoch 86/100\n",
            "719/719 [==============================] - 3s 4ms/step - loss: 0.1713 - accuracy: 0.9352 - val_loss: 0.5011 - val_accuracy: 0.7989\n",
            "Epoch 87/100\n",
            "719/719 [==============================] - 5s 7ms/step - loss: 0.1700 - accuracy: 0.9361 - val_loss: 0.5046 - val_accuracy: 0.8005\n",
            "Epoch 88/100\n",
            "719/719 [==============================] - 3s 4ms/step - loss: 0.1684 - accuracy: 0.9367 - val_loss: 0.5097 - val_accuracy: 0.8040\n",
            "Epoch 89/100\n",
            "719/719 [==============================] - 3s 4ms/step - loss: 0.1671 - accuracy: 0.9376 - val_loss: 0.5117 - val_accuracy: 0.8002\n",
            "Epoch 90/100\n",
            "719/719 [==============================] - 3s 4ms/step - loss: 0.1659 - accuracy: 0.9384 - val_loss: 0.5161 - val_accuracy: 0.8002\n",
            "Epoch 91/100\n",
            "719/719 [==============================] - 3s 4ms/step - loss: 0.1642 - accuracy: 0.9387 - val_loss: 0.5186 - val_accuracy: 0.8008\n",
            "Epoch 92/100\n",
            "719/719 [==============================] - 3s 4ms/step - loss: 0.1630 - accuracy: 0.9390 - val_loss: 0.5221 - val_accuracy: 0.7999\n",
            "Epoch 93/100\n",
            "719/719 [==============================] - 3s 4ms/step - loss: 0.1616 - accuracy: 0.9397 - val_loss: 0.5252 - val_accuracy: 0.7994\n",
            "Epoch 94/100\n",
            "719/719 [==============================] - 3s 4ms/step - loss: 0.1602 - accuracy: 0.9409 - val_loss: 0.5290 - val_accuracy: 0.7983\n",
            "Epoch 95/100\n",
            "719/719 [==============================] - 3s 4ms/step - loss: 0.1589 - accuracy: 0.9406 - val_loss: 0.5323 - val_accuracy: 0.7975\n",
            "Epoch 96/100\n",
            "719/719 [==============================] - 4s 5ms/step - loss: 0.1576 - accuracy: 0.9422 - val_loss: 0.5361 - val_accuracy: 0.7972\n",
            "Epoch 97/100\n",
            "719/719 [==============================] - 3s 4ms/step - loss: 0.1565 - accuracy: 0.9421 - val_loss: 0.5398 - val_accuracy: 0.7975\n",
            "Epoch 98/100\n",
            "719/719 [==============================] - 3s 4ms/step - loss: 0.1550 - accuracy: 0.9428 - val_loss: 0.5453 - val_accuracy: 0.7972\n",
            "Epoch 99/100\n",
            "719/719 [==============================] - 3s 4ms/step - loss: 0.1539 - accuracy: 0.9426 - val_loss: 0.5474 - val_accuracy: 0.7962\n",
            "Epoch 100/100\n",
            "719/719 [==============================] - 3s 4ms/step - loss: 0.1526 - accuracy: 0.9436 - val_loss: 0.5512 - val_accuracy: 0.7959\n"
          ]
        }
      ],
      "source": [
        "model = tf.keras.Sequential([\n",
        "    tf.keras.layers.Embedding(vocab_size, embedding_dim),\n",
        "    tf.keras.layers.GlobalAveragePooling1D(),\n",
        "    tf.keras.layers.Dense(24, activation='relu'),\n",
        "    tf.keras.layers.Dense(1, activation='sigmoid')\n",
        "])\n",
        "\n",
        "adam = tf.keras.optimizers.Adam(learning_rate=0.0001, \n",
        "                               beta_1=0.9, beta_2=0.999, amsgrad=False)\n",
        "model.compile(loss='binary_crossentropy',\n",
        "              optimizer=adam, metrics=['accuracy'])\n",
        "\n",
        "history = model.fit(training_padded, training_labels, epochs=100,\n",
        "                    validation_data=(testing_padded, testing_labels))"
      ]
    },
    {
      "cell_type": "code",
      "execution_count": 15,
      "metadata": {
        "id": "kYFAAwy5gBNR",
        "outputId": "3eb66b13-7e05-4dec-998d-c61c087c6c2e",
        "colab": {
          "base_uri": "https://localhost:8080/",
          "height": 279
        }
      },
      "outputs": [
        {
          "output_type": "display_data",
          "data": {
            "text/plain": [
              "<Figure size 432x288 with 1 Axes>"
            ],
            "image/png": "[encoded data removed]"
          },
          "metadata": {
            "needs_background": "light"
          }
        }
      ],
      "source": [
        "plt.plot(history.history['accuracy'])\n",
        "plt.plot(history.history['val_accuracy'])\n",
        "plt.xlabel('epochs')\n",
        "plt.ylabel('accuracy')\n",
        "plt.legend(['accuracy', 'val_accuracy'])\n",
        "plt.show()"
      ]
    },
    {
      "cell_type": "code",
      "execution_count": 16,
      "metadata": {
        "id": "ZWL3on-jgBNR",
        "outputId": "67d0b038-e66e-40d7-ef29-530bbd1900ff",
        "colab": {
          "base_uri": "https://localhost:8080/",
          "height": 279
        }
      },
      "outputs": [
        {
          "output_type": "display_data",
          "data": {
            "text/plain": [
              "<Figure size 432x288 with 1 Axes>"
            ],
            "image/png": "[encoded data removed]"
          },
          "metadata": {
            "needs_background": "light"
          }
        }
      ],
      "source": [
        "plt.plot(history.history['loss'])\n",
        "plt.plot(history.history['val_loss'])\n",
        "plt.xlabel('epochs')\n",
        "plt.ylabel('loss')\n",
        "plt.legend(['loss', 'val_loss'])\n",
        "plt.show()"
      ]
    },
    {
      "cell_type": "markdown",
      "metadata": {
        "id": "DjSNkgrfgBNR"
      },
      "source": [
        "#### 어휘 사전 크기 바꾸기"
      ]
    },
    {
      "cell_type": "code",
      "execution_count": null,
      "metadata": {
        "id": "C8YSmQ4dgBNS"
      },
      "outputs": [],
      "source": [
        "wc=tokenizer.word_counts\n",
        "# 출력이 길어 노트북에서 제외함\n",
        "print(wc)"
      ]
    },
    {
      "cell_type": "code",
      "execution_count": null,
      "metadata": {
        "id": "J93xnfI0gBNS"
      },
      "outputs": [],
      "source": [
        "from collections import OrderedDict\n",
        "newlist = (OrderedDict(sorted(wc.items(), key=lambda t: t[1], reverse=True)))\n",
        "# 출력이 길어 노트북에서 제외함\n",
        "print(newlist)"
      ]
    },
    {
      "cell_type": "code",
      "execution_count": 19,
      "metadata": {
        "id": "zoun09otgBNS",
        "outputId": "2c4b19a3-27ed-4180-a3f8-ef0ae6493a97",
        "colab": {
          "base_uri": "https://localhost:8080/",
          "height": 265
        }
      },
      "outputs": [
        {
          "output_type": "display_data",
          "data": {
            "text/plain": [
              "<Figure size 432x288 with 1 Axes>"
            ],
            "image/png": "[encoded data removed]"
          },
          "metadata": {
            "needs_background": "light"
          }
        }
      ],
      "source": [
        "xs=[]\n",
        "ys=[]\n",
        "curr_x = 1\n",
        "for item in newlist:\n",
        "  xs.append(curr_x)\n",
        "  curr_x=curr_x+1\n",
        "  ys.append(newlist[item])\n",
        "\n",
        "plt.plot(xs,ys)\n",
        "plt.show()"
      ]
    },
    {
      "cell_type": "code",
      "execution_count": 20,
      "metadata": {
        "scrolled": true,
        "id": "9Vqch1llgBNT",
        "outputId": "0f976d0b-862f-48a3-82c5-c824d1226ab9",
        "colab": {
          "base_uri": "https://localhost:8080/",
          "height": 269
        }
      },
      "outputs": [
        {
          "output_type": "display_data",
          "data": {
            "text/plain": [
              "<Figure size 432x288 with 1 Axes>"
            ],
            "image/png": "[encoded data removed]"
          },
          "metadata": {
            "needs_background": "light"
          }
        }
      ],
      "source": [
        "plt.plot(xs,ys)\n",
        "plt.axis([300,10000,0,100])\n",
        "plt.show()"
      ]
    },
    {
      "cell_type": "code",
      "execution_count": 21,
      "metadata": {
        "id": "dKbPZRNigBNT"
      },
      "outputs": [],
      "source": [
        "vocab_size = 2000"
      ]
    },
    {
      "cell_type": "code",
      "execution_count": 22,
      "metadata": {
        "id": "-WO_CH0MgBNT"
      },
      "outputs": [],
      "source": [
        "tokenizer = Tokenizer(num_words=vocab_size, oov_token=oov_tok)\n",
        "tokenizer.fit_on_texts(training_sentences)\n",
        "\n",
        "word_index = tokenizer.word_index\n",
        "\n",
        "training_sequences = tokenizer.texts_to_sequences(training_sentences)\n",
        "training_padded = pad_sequences(training_sequences, maxlen=max_length, padding=padding_type, truncating=trunc_type)\n",
        "\n",
        "testing_sequences = tokenizer.texts_to_sequences(testing_sentences)\n",
        "testing_padded = pad_sequences(testing_sequences, maxlen=max_length, padding=padding_type, truncating=trunc_type)"
      ]
    },
    {
      "cell_type": "code",
      "execution_count": 23,
      "metadata": {
        "id": "c5T1qrDwgBNT"
      },
      "outputs": [],
      "source": [
        "training_padded = np.array(training_padded)\n",
        "training_labels = np.array(training_labels)\n",
        "testing_padded = np.array(testing_padded)\n",
        "testing_labels = np.array(testing_labels)"
      ]
    },
    {
      "cell_type": "code",
      "execution_count": 24,
      "metadata": {
        "id": "1D6wKPDWgBNU"
      },
      "outputs": [],
      "source": [
        "model = tf.keras.Sequential([\n",
        "    tf.keras.layers.Embedding(vocab_size, embedding_dim),\n",
        "    tf.keras.layers.GlobalAveragePooling1D(),\n",
        "    tf.keras.layers.Dense(24, activation='relu'),\n",
        "    tf.keras.layers.Dense(1, activation='sigmoid')\n",
        "])\n",
        "model.compile(loss='binary_crossentropy',\n",
        "              optimizer='adam',metrics=['accuracy'])"
      ]
    },
    {
      "cell_type": "code",
      "execution_count": 25,
      "metadata": {
        "scrolled": true,
        "id": "l1PMAQ-jgBNU",
        "outputId": "ab1e7f29-2eec-491a-e066-a2032942b8ac",
        "colab": {
          "base_uri": "https://localhost:8080/"
        }
      },
      "outputs": [
        {
          "output_type": "stream",
          "name": "stdout",
          "text": [
            "Epoch 1/30\n",
            "719/719 [==============================] - 4s 4ms/step - loss: 0.6825 - accuracy: 0.5581 - val_loss: 0.6631 - val_accuracy: 0.5716\n",
            "Epoch 2/30\n",
            "719/719 [==============================] - 3s 4ms/step - loss: 0.5755 - accuracy: 0.6999 - val_loss: 0.5162 - val_accuracy: 0.7412\n",
            "Epoch 3/30\n",
            "719/719 [==============================] - 3s 4ms/step - loss: 0.4658 - accuracy: 0.7781 - val_loss: 0.4768 - val_accuracy: 0.7611\n",
            "Epoch 4/30\n",
            "719/719 [==============================] - 3s 4ms/step - loss: 0.4322 - accuracy: 0.7931 - val_loss: 0.4634 - val_accuracy: 0.7727\n",
            "Epoch 5/30\n",
            "719/719 [==============================] - 3s 4ms/step - loss: 0.4182 - accuracy: 0.8007 - val_loss: 0.4610 - val_accuracy: 0.7733\n",
            "Epoch 6/30\n",
            "719/719 [==============================] - 3s 4ms/step - loss: 0.4098 - accuracy: 0.8040 - val_loss: 0.4709 - val_accuracy: 0.7657\n",
            "Epoch 7/30\n",
            "719/719 [==============================] - 3s 4ms/step - loss: 0.4051 - accuracy: 0.8071 - val_loss: 0.4677 - val_accuracy: 0.7773\n",
            "Epoch 8/30\n",
            "719/719 [==============================] - 3s 4ms/step - loss: 0.4014 - accuracy: 0.8084 - val_loss: 0.4644 - val_accuracy: 0.7770\n",
            "Epoch 9/30\n",
            "719/719 [==============================] - 3s 4ms/step - loss: 0.4006 - accuracy: 0.8062 - val_loss: 0.4678 - val_accuracy: 0.7738\n",
            "Epoch 10/30\n",
            "719/719 [==============================] - 3s 4ms/step - loss: 0.3952 - accuracy: 0.8118 - val_loss: 0.4661 - val_accuracy: 0.7765\n",
            "Epoch 11/30\n",
            "719/719 [==============================] - 3s 4ms/step - loss: 0.3958 - accuracy: 0.8101 - val_loss: 0.4683 - val_accuracy: 0.7776\n",
            "Epoch 12/30\n",
            "719/719 [==============================] - 3s 4ms/step - loss: 0.3933 - accuracy: 0.8127 - val_loss: 0.4696 - val_accuracy: 0.7749\n",
            "Epoch 13/30\n",
            "719/719 [==============================] - 3s 4ms/step - loss: 0.3944 - accuracy: 0.8103 - val_loss: 0.4715 - val_accuracy: 0.7792\n",
            "Epoch 14/30\n",
            "719/719 [==============================] - 3s 4ms/step - loss: 0.3920 - accuracy: 0.8123 - val_loss: 0.4829 - val_accuracy: 0.7633\n",
            "Epoch 15/30\n",
            "719/719 [==============================] - 3s 4ms/step - loss: 0.3925 - accuracy: 0.8139 - val_loss: 0.4737 - val_accuracy: 0.7741\n",
            "Epoch 16/30\n",
            "719/719 [==============================] - 3s 4ms/step - loss: 0.3900 - accuracy: 0.8145 - val_loss: 0.4736 - val_accuracy: 0.7746\n",
            "Epoch 17/30\n",
            "719/719 [==============================] - 3s 4ms/step - loss: 0.3908 - accuracy: 0.8140 - val_loss: 0.4742 - val_accuracy: 0.7751\n",
            "Epoch 18/30\n",
            "719/719 [==============================] - 3s 4ms/step - loss: 0.3900 - accuracy: 0.8153 - val_loss: 0.4730 - val_accuracy: 0.7776\n",
            "Epoch 19/30\n",
            "719/719 [==============================] - 3s 4ms/step - loss: 0.3906 - accuracy: 0.8156 - val_loss: 0.4728 - val_accuracy: 0.7751\n",
            "Epoch 20/30\n",
            "719/719 [==============================] - 3s 4ms/step - loss: 0.3895 - accuracy: 0.8166 - val_loss: 0.4744 - val_accuracy: 0.7741\n",
            "Epoch 21/30\n",
            "719/719 [==============================] - 3s 4ms/step - loss: 0.3906 - accuracy: 0.8139 - val_loss: 0.4757 - val_accuracy: 0.7733\n",
            "Epoch 22/30\n",
            "719/719 [==============================] - 3s 4ms/step - loss: 0.3888 - accuracy: 0.8146 - val_loss: 0.4741 - val_accuracy: 0.7741\n",
            "Epoch 23/30\n",
            "719/719 [==============================] - 3s 4ms/step - loss: 0.3894 - accuracy: 0.8154 - val_loss: 0.4792 - val_accuracy: 0.7703\n",
            "Epoch 24/30\n",
            "719/719 [==============================] - 3s 4ms/step - loss: 0.3895 - accuracy: 0.8141 - val_loss: 0.4749 - val_accuracy: 0.7743\n",
            "Epoch 25/30\n",
            "719/719 [==============================] - 3s 4ms/step - loss: 0.3896 - accuracy: 0.8169 - val_loss: 0.4750 - val_accuracy: 0.7741\n",
            "Epoch 26/30\n",
            "719/719 [==============================] - 3s 4ms/step - loss: 0.3884 - accuracy: 0.8144 - val_loss: 0.4755 - val_accuracy: 0.7727\n",
            "Epoch 27/30\n",
            "719/719 [==============================] - 3s 4ms/step - loss: 0.3896 - accuracy: 0.8144 - val_loss: 0.4761 - val_accuracy: 0.7738\n",
            "Epoch 28/30\n",
            "719/719 [==============================] - 3s 4ms/step - loss: 0.3887 - accuracy: 0.8143 - val_loss: 0.4762 - val_accuracy: 0.7735\n",
            "Epoch 29/30\n",
            "719/719 [==============================] - 3s 4ms/step - loss: 0.3876 - accuracy: 0.8146 - val_loss: 0.4905 - val_accuracy: 0.7592\n",
            "Epoch 30/30\n",
            "719/719 [==============================] - 3s 4ms/step - loss: 0.3877 - accuracy: 0.8168 - val_loss: 0.4919 - val_accuracy: 0.7579\n"
          ]
        }
      ],
      "source": [
        "num_epochs = 30\n",
        "history = model.fit(training_padded, training_labels, epochs=num_epochs,\n",
        "                    validation_data=(testing_padded, testing_labels))"
      ]
    },
    {
      "cell_type": "code",
      "execution_count": 26,
      "metadata": {
        "id": "Ak4S_2RagBNU",
        "outputId": "55a322a5-f556-4251-9a95-5b4dea362203",
        "colab": {
          "base_uri": "https://localhost:8080/",
          "height": 279
        }
      },
      "outputs": [
        {
          "output_type": "display_data",
          "data": {
            "text/plain": [
              "<Figure size 432x288 with 1 Axes>"
            ],
            "image/png": "[encoded data removed]"
          },
          "metadata": {
            "needs_background": "light"
          }
        }
      ],
      "source": [
        "plt.plot(history.history['accuracy'])\n",
        "plt.plot(history.history['val_accuracy'])\n",
        "plt.xlabel('epochs')\n",
        "plt.ylabel('accuracy')\n",
        "plt.legend(['accuracy', 'val_accuracy'])\n",
        "plt.show()"
      ]
    },
    {
      "cell_type": "code",
      "execution_count": 27,
      "metadata": {
        "scrolled": true,
        "id": "LH8NdWpegBNV",
        "outputId": "9890387a-6957-4b67-fd70-e6a4f2a8bad7",
        "colab": {
          "base_uri": "https://localhost:8080/",
          "height": 279
        }
      },
      "outputs": [
        {
          "output_type": "display_data",
          "data": {
            "text/plain": [
              "<Figure size 432x288 with 1 Axes>"
            ],
            "image/png": "[encoded data removed]"
          },
          "metadata": {
            "needs_background": "light"
          }
        }
      ],
      "source": [
        "plt.plot(history.history['loss'])\n",
        "plt.plot(history.history['val_loss'])\n",
        "plt.xlabel('epochs')\n",
        "plt.ylabel('loss')\n",
        "plt.legend(['loss', 'val_loss'])\n",
        "plt.show()"
      ]
    },
    {
      "cell_type": "markdown",
      "metadata": {
        "id": "ttcUYXWqgBNV"
      },
      "source": [
        "#### 임베딩 차원 바꾸기"
      ]
    },
    {
      "cell_type": "code",
      "execution_count": 28,
      "metadata": {
        "id": "q3XgahVrgBNV"
      },
      "outputs": [],
      "source": [
        "embedding_dim = 7"
      ]
    },
    {
      "cell_type": "code",
      "execution_count": 29,
      "metadata": {
        "id": "2Xt_bIGzgBNV"
      },
      "outputs": [],
      "source": [
        "model = tf.keras.Sequential([\n",
        "    tf.keras.layers.Embedding(vocab_size, embedding_dim),\n",
        "    tf.keras.layers.GlobalAveragePooling1D(),\n",
        "    tf.keras.layers.Dense(24, activation='relu'),\n",
        "    tf.keras.layers.Dense(1, activation='sigmoid')\n",
        "])\n",
        "model.compile(loss='binary_crossentropy',\n",
        "              optimizer='adam',metrics=['accuracy'])"
      ]
    },
    {
      "cell_type": "code",
      "execution_count": 30,
      "metadata": {
        "scrolled": true,
        "id": "4ieuavm0gBNW",
        "outputId": "5dbb1b0c-a2e3-4059-d428-a574f3f24ca3",
        "colab": {
          "base_uri": "https://localhost:8080/"
        }
      },
      "outputs": [
        {
          "output_type": "stream",
          "name": "stdout",
          "text": [
            "Epoch 1/100\n",
            "719/719 [==============================] - 3s 4ms/step - loss: 0.6825 - accuracy: 0.5597 - val_loss: 0.6685 - val_accuracy: 0.5694\n",
            "Epoch 2/100\n",
            "719/719 [==============================] - 3s 4ms/step - loss: 0.6120 - accuracy: 0.6657 - val_loss: 0.5504 - val_accuracy: 0.7301\n",
            "Epoch 3/100\n",
            "719/719 [==============================] - 3s 4ms/step - loss: 0.4963 - accuracy: 0.7582 - val_loss: 0.4870 - val_accuracy: 0.7584\n",
            "Epoch 4/100\n",
            "719/719 [==============================] - 3s 4ms/step - loss: 0.4478 - accuracy: 0.7861 - val_loss: 0.4746 - val_accuracy: 0.7617\n",
            "Epoch 5/100\n",
            "719/719 [==============================] - 3s 4ms/step - loss: 0.4262 - accuracy: 0.7949 - val_loss: 0.4704 - val_accuracy: 0.7654\n",
            "Epoch 6/100\n",
            "719/719 [==============================] - 3s 4ms/step - loss: 0.4150 - accuracy: 0.8012 - val_loss: 0.4622 - val_accuracy: 0.7765\n",
            "Epoch 7/100\n",
            "719/719 [==============================] - 3s 4ms/step - loss: 0.4093 - accuracy: 0.8052 - val_loss: 0.4734 - val_accuracy: 0.7660\n",
            "Epoch 8/100\n",
            "719/719 [==============================] - 3s 4ms/step - loss: 0.4031 - accuracy: 0.8074 - val_loss: 0.4629 - val_accuracy: 0.7778\n",
            "Epoch 9/100\n",
            "719/719 [==============================] - 3s 4ms/step - loss: 0.4015 - accuracy: 0.8072 - val_loss: 0.4643 - val_accuracy: 0.7803\n",
            "Epoch 10/100\n",
            "719/719 [==============================] - 3s 4ms/step - loss: 0.3975 - accuracy: 0.8103 - val_loss: 0.4658 - val_accuracy: 0.7778\n",
            "Epoch 11/100\n",
            "719/719 [==============================] - 3s 4ms/step - loss: 0.3958 - accuracy: 0.8118 - val_loss: 0.4663 - val_accuracy: 0.7778\n",
            "Epoch 12/100\n",
            "719/719 [==============================] - 3s 4ms/step - loss: 0.3949 - accuracy: 0.8117 - val_loss: 0.4683 - val_accuracy: 0.7811\n",
            "Epoch 13/100\n",
            "719/719 [==============================] - 3s 4ms/step - loss: 0.3938 - accuracy: 0.8129 - val_loss: 0.4710 - val_accuracy: 0.7811\n",
            "Epoch 14/100\n",
            "719/719 [==============================] - 3s 4ms/step - loss: 0.3929 - accuracy: 0.8130 - val_loss: 0.4698 - val_accuracy: 0.7751\n",
            "Epoch 15/100\n",
            "719/719 [==============================] - 3s 4ms/step - loss: 0.3921 - accuracy: 0.8129 - val_loss: 0.4788 - val_accuracy: 0.7668\n",
            "Epoch 16/100\n",
            "719/719 [==============================] - 4s 5ms/step - loss: 0.3906 - accuracy: 0.8146 - val_loss: 0.4759 - val_accuracy: 0.7800\n",
            "Epoch 17/100\n",
            "719/719 [==============================] - 3s 4ms/step - loss: 0.3906 - accuracy: 0.8135 - val_loss: 0.4799 - val_accuracy: 0.7665\n",
            "Epoch 18/100\n",
            "719/719 [==============================] - 3s 4ms/step - loss: 0.3893 - accuracy: 0.8151 - val_loss: 0.4729 - val_accuracy: 0.7768\n",
            "Epoch 19/100\n",
            "719/719 [==============================] - 3s 4ms/step - loss: 0.3899 - accuracy: 0.8145 - val_loss: 0.4770 - val_accuracy: 0.7778\n",
            "Epoch 20/100\n",
            "719/719 [==============================] - 3s 4ms/step - loss: 0.3889 - accuracy: 0.8153 - val_loss: 0.4741 - val_accuracy: 0.7754\n",
            "Epoch 21/100\n",
            "719/719 [==============================] - 3s 4ms/step - loss: 0.3886 - accuracy: 0.8149 - val_loss: 0.4747 - val_accuracy: 0.7751\n",
            "Epoch 22/100\n",
            "719/719 [==============================] - 3s 4ms/step - loss: 0.3884 - accuracy: 0.8148 - val_loss: 0.4801 - val_accuracy: 0.7676\n",
            "Epoch 23/100\n",
            "719/719 [==============================] - 3s 4ms/step - loss: 0.3889 - accuracy: 0.8135 - val_loss: 0.4762 - val_accuracy: 0.7746\n",
            "Epoch 24/100\n",
            "719/719 [==============================] - 3s 4ms/step - loss: 0.3883 - accuracy: 0.8157 - val_loss: 0.4853 - val_accuracy: 0.7649\n",
            "Epoch 25/100\n",
            "719/719 [==============================] - 3s 4ms/step - loss: 0.3876 - accuracy: 0.8147 - val_loss: 0.4765 - val_accuracy: 0.7776\n",
            "Epoch 26/100\n",
            "719/719 [==============================] - 5s 7ms/step - loss: 0.3877 - accuracy: 0.8140 - val_loss: 0.4822 - val_accuracy: 0.7773\n",
            "Epoch 27/100\n",
            "719/719 [==============================] - 3s 4ms/step - loss: 0.3874 - accuracy: 0.8147 - val_loss: 0.4809 - val_accuracy: 0.7760\n",
            "Epoch 28/100\n",
            "719/719 [==============================] - 3s 4ms/step - loss: 0.3882 - accuracy: 0.8150 - val_loss: 0.4818 - val_accuracy: 0.7760\n",
            "Epoch 29/100\n",
            "719/719 [==============================] - 3s 4ms/step - loss: 0.3869 - accuracy: 0.8152 - val_loss: 0.4810 - val_accuracy: 0.7689\n",
            "Epoch 30/100\n",
            "719/719 [==============================] - 3s 4ms/step - loss: 0.3879 - accuracy: 0.8153 - val_loss: 0.4797 - val_accuracy: 0.7706\n",
            "Epoch 31/100\n",
            "719/719 [==============================] - 3s 4ms/step - loss: 0.3868 - accuracy: 0.8150 - val_loss: 0.4786 - val_accuracy: 0.7700\n",
            "Epoch 32/100\n",
            "719/719 [==============================] - 3s 4ms/step - loss: 0.3873 - accuracy: 0.8154 - val_loss: 0.4834 - val_accuracy: 0.7679\n",
            "Epoch 33/100\n",
            "719/719 [==============================] - 3s 4ms/step - loss: 0.3871 - accuracy: 0.8155 - val_loss: 0.4791 - val_accuracy: 0.7697\n",
            "Epoch 34/100\n",
            "719/719 [==============================] - 3s 4ms/step - loss: 0.3875 - accuracy: 0.8154 - val_loss: 0.4830 - val_accuracy: 0.7673\n",
            "Epoch 35/100\n",
            "719/719 [==============================] - 3s 4ms/step - loss: 0.3868 - accuracy: 0.8190 - val_loss: 0.4988 - val_accuracy: 0.7517\n",
            "Epoch 36/100\n",
            "719/719 [==============================] - 3s 4ms/step - loss: 0.3872 - accuracy: 0.8170 - val_loss: 0.4791 - val_accuracy: 0.7749\n",
            "Epoch 37/100\n",
            "719/719 [==============================] - 3s 4ms/step - loss: 0.3877 - accuracy: 0.8143 - val_loss: 0.4948 - val_accuracy: 0.7571\n",
            "Epoch 38/100\n",
            "719/719 [==============================] - 3s 4ms/step - loss: 0.3875 - accuracy: 0.8156 - val_loss: 0.4793 - val_accuracy: 0.7692\n",
            "Epoch 39/100\n",
            "719/719 [==============================] - 3s 4ms/step - loss: 0.3869 - accuracy: 0.8142 - val_loss: 0.4811 - val_accuracy: 0.7751\n",
            "Epoch 40/100\n",
            "719/719 [==============================] - 3s 4ms/step - loss: 0.3871 - accuracy: 0.8163 - val_loss: 0.5246 - val_accuracy: 0.7390\n",
            "Epoch 41/100\n",
            "719/719 [==============================] - 3s 4ms/step - loss: 0.3871 - accuracy: 0.8170 - val_loss: 0.4844 - val_accuracy: 0.7662\n",
            "Epoch 42/100\n",
            "719/719 [==============================] - 3s 4ms/step - loss: 0.3863 - accuracy: 0.8149 - val_loss: 0.4811 - val_accuracy: 0.7700\n",
            "Epoch 43/100\n",
            "719/719 [==============================] - 3s 4ms/step - loss: 0.3861 - accuracy: 0.8154 - val_loss: 0.4858 - val_accuracy: 0.7641\n",
            "Epoch 44/100\n",
            "719/719 [==============================] - 3s 4ms/step - loss: 0.3876 - accuracy: 0.8122 - val_loss: 0.4807 - val_accuracy: 0.7687\n",
            "Epoch 45/100\n",
            "719/719 [==============================] - 3s 4ms/step - loss: 0.3862 - accuracy: 0.8158 - val_loss: 0.4806 - val_accuracy: 0.7697\n",
            "Epoch 46/100\n",
            "719/719 [==============================] - 3s 4ms/step - loss: 0.3857 - accuracy: 0.8166 - val_loss: 0.4825 - val_accuracy: 0.7746\n",
            "Epoch 47/100\n",
            "719/719 [==============================] - 3s 4ms/step - loss: 0.3868 - accuracy: 0.8143 - val_loss: 0.4799 - val_accuracy: 0.7741\n",
            "Epoch 48/100\n",
            "719/719 [==============================] - 3s 4ms/step - loss: 0.3852 - accuracy: 0.8156 - val_loss: 0.4821 - val_accuracy: 0.7687\n",
            "Epoch 49/100\n",
            "719/719 [==============================] - 3s 4ms/step - loss: 0.3869 - accuracy: 0.8150 - val_loss: 0.4839 - val_accuracy: 0.7689\n",
            "Epoch 50/100\n",
            "719/719 [==============================] - 3s 4ms/step - loss: 0.3845 - accuracy: 0.8171 - val_loss: 0.4829 - val_accuracy: 0.7695\n",
            "Epoch 51/100\n",
            "719/719 [==============================] - 3s 4ms/step - loss: 0.3859 - accuracy: 0.8157 - val_loss: 0.4832 - val_accuracy: 0.7743\n",
            "Epoch 52/100\n",
            "719/719 [==============================] - 3s 4ms/step - loss: 0.3861 - accuracy: 0.8149 - val_loss: 0.4819 - val_accuracy: 0.7684\n",
            "Epoch 53/100\n",
            "719/719 [==============================] - 3s 4ms/step - loss: 0.3861 - accuracy: 0.8163 - val_loss: 0.4875 - val_accuracy: 0.7665\n",
            "Epoch 54/100\n",
            "719/719 [==============================] - 3s 4ms/step - loss: 0.3854 - accuracy: 0.8170 - val_loss: 0.4819 - val_accuracy: 0.7681\n",
            "Epoch 55/100\n",
            "719/719 [==============================] - 3s 4ms/step - loss: 0.3849 - accuracy: 0.8176 - val_loss: 0.4830 - val_accuracy: 0.7679\n",
            "Epoch 56/100\n",
            "719/719 [==============================] - 3s 4ms/step - loss: 0.3851 - accuracy: 0.8173 - val_loss: 0.4880 - val_accuracy: 0.7654\n",
            "Epoch 57/100\n",
            "719/719 [==============================] - 3s 4ms/step - loss: 0.3857 - accuracy: 0.8152 - val_loss: 0.4812 - val_accuracy: 0.7719\n",
            "Epoch 58/100\n",
            "719/719 [==============================] - 3s 4ms/step - loss: 0.3854 - accuracy: 0.8170 - val_loss: 0.4843 - val_accuracy: 0.7684\n",
            "Epoch 59/100\n",
            "719/719 [==============================] - 3s 4ms/step - loss: 0.3852 - accuracy: 0.8159 - val_loss: 0.4835 - val_accuracy: 0.7724\n",
            "Epoch 60/100\n",
            "719/719 [==============================] - 3s 4ms/step - loss: 0.3863 - accuracy: 0.8152 - val_loss: 0.4826 - val_accuracy: 0.7754\n",
            "Epoch 61/100\n",
            "719/719 [==============================] - 3s 4ms/step - loss: 0.3852 - accuracy: 0.8158 - val_loss: 0.4870 - val_accuracy: 0.7654\n",
            "Epoch 62/100\n",
            "719/719 [==============================] - 3s 4ms/step - loss: 0.3858 - accuracy: 0.8164 - val_loss: 0.4829 - val_accuracy: 0.7689\n",
            "Epoch 63/100\n",
            "719/719 [==============================] - 3s 4ms/step - loss: 0.3852 - accuracy: 0.8170 - val_loss: 0.4825 - val_accuracy: 0.7687\n",
            "Epoch 64/100\n",
            "719/719 [==============================] - 3s 4ms/step - loss: 0.3852 - accuracy: 0.8169 - val_loss: 0.4820 - val_accuracy: 0.7716\n",
            "Epoch 65/100\n",
            "719/719 [==============================] - 3s 4ms/step - loss: 0.3856 - accuracy: 0.8160 - val_loss: 0.4832 - val_accuracy: 0.7738\n",
            "Epoch 66/100\n",
            "719/719 [==============================] - 3s 4ms/step - loss: 0.3851 - accuracy: 0.8163 - val_loss: 0.4853 - val_accuracy: 0.7692\n",
            "Epoch 67/100\n",
            "719/719 [==============================] - 3s 4ms/step - loss: 0.3848 - accuracy: 0.8167 - val_loss: 0.4856 - val_accuracy: 0.7687\n",
            "Epoch 68/100\n",
            "719/719 [==============================] - 3s 4ms/step - loss: 0.3858 - accuracy: 0.8157 - val_loss: 0.4822 - val_accuracy: 0.7730\n",
            "Epoch 69/100\n",
            "719/719 [==============================] - 3s 4ms/step - loss: 0.3854 - accuracy: 0.8162 - val_loss: 0.4894 - val_accuracy: 0.7649\n",
            "Epoch 70/100\n",
            "719/719 [==============================] - 3s 4ms/step - loss: 0.3851 - accuracy: 0.8167 - val_loss: 0.4991 - val_accuracy: 0.7579\n",
            "Epoch 71/100\n",
            "719/719 [==============================] - 3s 4ms/step - loss: 0.3850 - accuracy: 0.8177 - val_loss: 0.4817 - val_accuracy: 0.7730\n",
            "Epoch 72/100\n",
            "719/719 [==============================] - 3s 4ms/step - loss: 0.3845 - accuracy: 0.8174 - val_loss: 0.4839 - val_accuracy: 0.7689\n",
            "Epoch 73/100\n",
            "719/719 [==============================] - 3s 4ms/step - loss: 0.3851 - accuracy: 0.8156 - val_loss: 0.4841 - val_accuracy: 0.7692\n",
            "Epoch 74/100\n",
            "719/719 [==============================] - 3s 4ms/step - loss: 0.3845 - accuracy: 0.8162 - val_loss: 0.4943 - val_accuracy: 0.7606\n",
            "Epoch 75/100\n",
            "719/719 [==============================] - 3s 4ms/step - loss: 0.3849 - accuracy: 0.8157 - val_loss: 0.4906 - val_accuracy: 0.7714\n",
            "Epoch 76/100\n",
            "719/719 [==============================] - 3s 4ms/step - loss: 0.3855 - accuracy: 0.8163 - val_loss: 0.4823 - val_accuracy: 0.7735\n",
            "Epoch 77/100\n",
            "719/719 [==============================] - 3s 4ms/step - loss: 0.3843 - accuracy: 0.8171 - val_loss: 0.4823 - val_accuracy: 0.7727\n",
            "Epoch 78/100\n",
            "719/719 [==============================] - 4s 5ms/step - loss: 0.3841 - accuracy: 0.8160 - val_loss: 0.4872 - val_accuracy: 0.7671\n",
            "Epoch 79/100\n",
            "719/719 [==============================] - 3s 4ms/step - loss: 0.3839 - accuracy: 0.8173 - val_loss: 0.4827 - val_accuracy: 0.7700\n",
            "Epoch 80/100\n",
            "719/719 [==============================] - 3s 4ms/step - loss: 0.3854 - accuracy: 0.8169 - val_loss: 0.4878 - val_accuracy: 0.7657\n",
            "Epoch 81/100\n",
            "719/719 [==============================] - 3s 4ms/step - loss: 0.3839 - accuracy: 0.8171 - val_loss: 0.4878 - val_accuracy: 0.7665\n",
            "Epoch 82/100\n",
            "719/719 [==============================] - 3s 4ms/step - loss: 0.3841 - accuracy: 0.8172 - val_loss: 0.4923 - val_accuracy: 0.7609\n",
            "Epoch 83/100\n",
            "719/719 [==============================] - 3s 4ms/step - loss: 0.3842 - accuracy: 0.8191 - val_loss: 0.4827 - val_accuracy: 0.7714\n",
            "Epoch 84/100\n",
            "719/719 [==============================] - 3s 4ms/step - loss: 0.3843 - accuracy: 0.8173 - val_loss: 0.4870 - val_accuracy: 0.7679\n",
            "Epoch 85/100\n",
            "719/719 [==============================] - 3s 4ms/step - loss: 0.3844 - accuracy: 0.8170 - val_loss: 0.4828 - val_accuracy: 0.7719\n",
            "Epoch 86/100\n",
            "719/719 [==============================] - 3s 4ms/step - loss: 0.3836 - accuracy: 0.8184 - val_loss: 0.4835 - val_accuracy: 0.7711\n",
            "Epoch 87/100\n",
            "719/719 [==============================] - 3s 4ms/step - loss: 0.3855 - accuracy: 0.8174 - val_loss: 0.4848 - val_accuracy: 0.7743\n",
            "Epoch 88/100\n",
            "719/719 [==============================] - 3s 4ms/step - loss: 0.3837 - accuracy: 0.8170 - val_loss: 0.4843 - val_accuracy: 0.7689\n",
            "Epoch 89/100\n",
            "719/719 [==============================] - 3s 4ms/step - loss: 0.3837 - accuracy: 0.8165 - val_loss: 0.4879 - val_accuracy: 0.7757\n",
            "Epoch 90/100\n",
            "719/719 [==============================] - 3s 4ms/step - loss: 0.3846 - accuracy: 0.8162 - val_loss: 0.4856 - val_accuracy: 0.7741\n",
            "Epoch 91/100\n",
            "719/719 [==============================] - 3s 4ms/step - loss: 0.3840 - accuracy: 0.8163 - val_loss: 0.4852 - val_accuracy: 0.7749\n",
            "Epoch 92/100\n",
            "719/719 [==============================] - 3s 4ms/step - loss: 0.3836 - accuracy: 0.8164 - val_loss: 0.4825 - val_accuracy: 0.7749\n",
            "Epoch 93/100\n",
            "719/719 [==============================] - 3s 4ms/step - loss: 0.3843 - accuracy: 0.8177 - val_loss: 0.4823 - val_accuracy: 0.7719\n",
            "Epoch 94/100\n",
            "719/719 [==============================] - 3s 4ms/step - loss: 0.3839 - accuracy: 0.8182 - val_loss: 0.5104 - val_accuracy: 0.7490\n",
            "Epoch 95/100\n",
            "719/719 [==============================] - 3s 4ms/step - loss: 0.3833 - accuracy: 0.8173 - val_loss: 0.4917 - val_accuracy: 0.7625\n",
            "Epoch 96/100\n",
            "719/719 [==============================] - 3s 4ms/step - loss: 0.3836 - accuracy: 0.8181 - val_loss: 0.4973 - val_accuracy: 0.7708\n",
            "Epoch 97/100\n",
            "719/719 [==============================] - 3s 4ms/step - loss: 0.3838 - accuracy: 0.8168 - val_loss: 0.4825 - val_accuracy: 0.7706\n",
            "Epoch 98/100\n",
            "719/719 [==============================] - 3s 4ms/step - loss: 0.3830 - accuracy: 0.8192 - val_loss: 0.4934 - val_accuracy: 0.7600\n",
            "Epoch 99/100\n",
            "719/719 [==============================] - 3s 4ms/step - loss: 0.3824 - accuracy: 0.8187 - val_loss: 0.5011 - val_accuracy: 0.7528\n",
            "Epoch 100/100\n",
            "719/719 [==============================] - 3s 4ms/step - loss: 0.3838 - accuracy: 0.8164 - val_loss: 0.4811 - val_accuracy: 0.7730\n"
          ]
        }
      ],
      "source": [
        "num_epochs = 100\n",
        "history = model.fit(training_padded, training_labels, epochs=num_epochs,\n",
        "                    validation_data=(testing_padded, testing_labels))"
      ]
    },
    {
      "cell_type": "code",
      "execution_count": 31,
      "metadata": {
        "id": "feGjmc1ygBNW",
        "outputId": "c167ebbb-e89a-4414-f655-d328e5821879",
        "colab": {
          "base_uri": "https://localhost:8080/",
          "height": 279
        }
      },
      "outputs": [
        {
          "output_type": "display_data",
          "data": {
            "text/plain": [
              "<Figure size 432x288 with 1 Axes>"
            ],
            "image/png": "[encoded data removed]"
          },
          "metadata": {
            "needs_background": "light"
          }
        }
      ],
      "source": [
        "plt.plot(history.history['accuracy'])\n",
        "plt.plot(history.history['val_accuracy'])\n",
        "plt.xlabel('epochs')\n",
        "plt.ylabel('accuracy')\n",
        "plt.legend(['accuracy', 'val_accuracy'])\n",
        "plt.show()"
      ]
    },
    {
      "cell_type": "code",
      "execution_count": 32,
      "metadata": {
        "scrolled": true,
        "id": "ysd-fqwegBNW",
        "outputId": "559f4aad-b866-460c-a502-4414708ac626",
        "colab": {
          "base_uri": "https://localhost:8080/",
          "height": 279
        }
      },
      "outputs": [
        {
          "output_type": "display_data",
          "data": {
            "text/plain": [
              "<Figure size 432x288 with 1 Axes>"
            ],
            "image/png": "[encoded data removed]"
          },
          "metadata": {
            "needs_background": "light"
          }
        }
      ],
      "source": [
        "plt.plot(history.history['loss'])\n",
        "plt.plot(history.history['val_loss'])\n",
        "plt.xlabel('epochs')\n",
        "plt.ylabel('loss')\n",
        "plt.legend(['loss', 'val_loss'])\n",
        "plt.show()"
      ]
    },
    {
      "cell_type": "markdown",
      "metadata": {
        "id": "4sWL6aiTgBNW"
      },
      "source": [
        "#### 모델 구조 변경하기"
      ]
    },
    {
      "cell_type": "code",
      "execution_count": 33,
      "metadata": {
        "id": "2x9Etg9sgBNX"
      },
      "outputs": [],
      "source": [
        "model = tf.keras.Sequential([\n",
        "    tf.keras.layers.Embedding(vocab_size, embedding_dim),\n",
        "    tf.keras.layers.GlobalAveragePooling1D(),\n",
        "    tf.keras.layers.Dense(8, activation='relu'),\n",
        "    tf.keras.layers.Dense(1, activation='sigmoid')\n",
        "])\n",
        "model.compile(loss='binary_crossentropy',\n",
        "              optimizer='adam',metrics=['accuracy'])"
      ]
    },
    {
      "cell_type": "code",
      "execution_count": 34,
      "metadata": {
        "scrolled": true,
        "id": "-7opF2x1gBNX",
        "outputId": "70a552cd-187c-4b94-9fc7-cae69c0db75f",
        "colab": {
          "base_uri": "https://localhost:8080/"
        }
      },
      "outputs": [
        {
          "output_type": "stream",
          "name": "stdout",
          "text": [
            "Epoch 1/100\n",
            "719/719 [==============================] - 4s 4ms/step - loss: 0.6846 - accuracy: 0.5584 - val_loss: 0.6791 - val_accuracy: 0.5700\n",
            "Epoch 2/100\n",
            "719/719 [==============================] - 3s 4ms/step - loss: 0.6667 - accuracy: 0.5762 - val_loss: 0.6375 - val_accuracy: 0.6727\n",
            "Epoch 3/100\n",
            "719/719 [==============================] - 3s 4ms/step - loss: 0.5890 - accuracy: 0.7009 - val_loss: 0.5622 - val_accuracy: 0.7231\n",
            "Epoch 4/100\n",
            "719/719 [==============================] - 3s 4ms/step - loss: 0.5120 - accuracy: 0.7585 - val_loss: 0.5025 - val_accuracy: 0.7565\n",
            "Epoch 5/100\n",
            "719/719 [==============================] - 3s 4ms/step - loss: 0.4667 - accuracy: 0.7800 - val_loss: 0.4849 - val_accuracy: 0.7590\n",
            "Epoch 6/100\n",
            "719/719 [==============================] - 3s 4ms/step - loss: 0.4422 - accuracy: 0.7913 - val_loss: 0.4803 - val_accuracy: 0.7576\n",
            "Epoch 7/100\n",
            "719/719 [==============================] - 3s 4ms/step - loss: 0.4289 - accuracy: 0.7953 - val_loss: 0.4720 - val_accuracy: 0.7622\n",
            "Epoch 8/100\n",
            "719/719 [==============================] - 3s 4ms/step - loss: 0.4188 - accuracy: 0.8008 - val_loss: 0.4639 - val_accuracy: 0.7724\n",
            "Epoch 9/100\n",
            "719/719 [==============================] - 3s 4ms/step - loss: 0.4116 - accuracy: 0.8043 - val_loss: 0.4629 - val_accuracy: 0.7724\n",
            "Epoch 10/100\n",
            "719/719 [==============================] - 3s 4ms/step - loss: 0.4073 - accuracy: 0.8060 - val_loss: 0.4648 - val_accuracy: 0.7719\n",
            "Epoch 11/100\n",
            "719/719 [==============================] - 3s 4ms/step - loss: 0.4035 - accuracy: 0.8056 - val_loss: 0.4632 - val_accuracy: 0.7749\n",
            "Epoch 12/100\n",
            "719/719 [==============================] - 3s 4ms/step - loss: 0.3999 - accuracy: 0.8080 - val_loss: 0.4665 - val_accuracy: 0.7778\n",
            "Epoch 13/100\n",
            "719/719 [==============================] - 3s 4ms/step - loss: 0.3984 - accuracy: 0.8093 - val_loss: 0.4642 - val_accuracy: 0.7768\n",
            "Epoch 14/100\n",
            "719/719 [==============================] - 3s 4ms/step - loss: 0.3959 - accuracy: 0.8116 - val_loss: 0.4654 - val_accuracy: 0.7805\n",
            "Epoch 15/100\n",
            "719/719 [==============================] - 3s 4ms/step - loss: 0.3950 - accuracy: 0.8124 - val_loss: 0.4665 - val_accuracy: 0.7773\n",
            "Epoch 16/100\n",
            "719/719 [==============================] - 3s 4ms/step - loss: 0.3922 - accuracy: 0.8138 - val_loss: 0.4693 - val_accuracy: 0.7735\n",
            "Epoch 17/100\n",
            "719/719 [==============================] - 3s 4ms/step - loss: 0.3913 - accuracy: 0.8129 - val_loss: 0.4685 - val_accuracy: 0.7805\n",
            "Epoch 18/100\n",
            "719/719 [==============================] - 3s 4ms/step - loss: 0.3907 - accuracy: 0.8158 - val_loss: 0.4705 - val_accuracy: 0.7808\n",
            "Epoch 19/100\n",
            "719/719 [==============================] - 3s 4ms/step - loss: 0.3896 - accuracy: 0.8153 - val_loss: 0.4726 - val_accuracy: 0.7711\n",
            "Epoch 20/100\n",
            "719/719 [==============================] - 4s 6ms/step - loss: 0.3894 - accuracy: 0.8139 - val_loss: 0.4703 - val_accuracy: 0.7786\n",
            "Epoch 21/100\n",
            "719/719 [==============================] - 3s 4ms/step - loss: 0.3887 - accuracy: 0.8141 - val_loss: 0.4706 - val_accuracy: 0.7773\n",
            "Epoch 22/100\n",
            "719/719 [==============================] - 3s 4ms/step - loss: 0.3893 - accuracy: 0.8154 - val_loss: 0.4720 - val_accuracy: 0.7751\n",
            "Epoch 23/100\n",
            "719/719 [==============================] - 3s 4ms/step - loss: 0.3887 - accuracy: 0.8153 - val_loss: 0.4824 - val_accuracy: 0.7635\n",
            "Epoch 24/100\n",
            "719/719 [==============================] - 3s 4ms/step - loss: 0.3872 - accuracy: 0.8153 - val_loss: 0.4728 - val_accuracy: 0.7781\n",
            "Epoch 25/100\n",
            "719/719 [==============================] - 3s 4ms/step - loss: 0.3869 - accuracy: 0.8160 - val_loss: 0.4734 - val_accuracy: 0.7741\n",
            "Epoch 26/100\n",
            "719/719 [==============================] - 3s 4ms/step - loss: 0.3871 - accuracy: 0.8155 - val_loss: 0.4752 - val_accuracy: 0.7741\n",
            "Epoch 27/100\n",
            "719/719 [==============================] - 3s 4ms/step - loss: 0.3860 - accuracy: 0.8149 - val_loss: 0.4743 - val_accuracy: 0.7757\n",
            "Epoch 28/100\n",
            "719/719 [==============================] - 3s 4ms/step - loss: 0.3860 - accuracy: 0.8158 - val_loss: 0.4800 - val_accuracy: 0.7681\n",
            "Epoch 29/100\n",
            "719/719 [==============================] - 3s 4ms/step - loss: 0.3854 - accuracy: 0.8163 - val_loss: 0.4757 - val_accuracy: 0.7738\n",
            "Epoch 30/100\n",
            "719/719 [==============================] - 3s 4ms/step - loss: 0.3860 - accuracy: 0.8160 - val_loss: 0.4757 - val_accuracy: 0.7743\n",
            "Epoch 31/100\n",
            "719/719 [==============================] - 3s 4ms/step - loss: 0.3859 - accuracy: 0.8163 - val_loss: 0.4762 - val_accuracy: 0.7735\n",
            "Epoch 32/100\n",
            "719/719 [==============================] - 3s 4ms/step - loss: 0.3852 - accuracy: 0.8156 - val_loss: 0.4809 - val_accuracy: 0.7684\n",
            "Epoch 33/100\n",
            "719/719 [==============================] - 3s 4ms/step - loss: 0.3858 - accuracy: 0.8148 - val_loss: 0.4782 - val_accuracy: 0.7773\n",
            "Epoch 34/100\n",
            "719/719 [==============================] - 3s 4ms/step - loss: 0.3845 - accuracy: 0.8164 - val_loss: 0.4788 - val_accuracy: 0.7703\n",
            "Epoch 35/100\n",
            "719/719 [==============================] - 3s 4ms/step - loss: 0.3859 - accuracy: 0.8154 - val_loss: 0.4784 - val_accuracy: 0.7768\n",
            "Epoch 36/100\n",
            "719/719 [==============================] - 3s 4ms/step - loss: 0.3851 - accuracy: 0.8174 - val_loss: 0.4814 - val_accuracy: 0.7765\n",
            "Epoch 37/100\n",
            "719/719 [==============================] - 3s 4ms/step - loss: 0.3848 - accuracy: 0.8147 - val_loss: 0.4820 - val_accuracy: 0.7684\n",
            "Epoch 38/100\n",
            "719/719 [==============================] - 3s 4ms/step - loss: 0.3860 - accuracy: 0.8151 - val_loss: 0.4797 - val_accuracy: 0.7778\n",
            "Epoch 39/100\n",
            "719/719 [==============================] - 3s 4ms/step - loss: 0.3848 - accuracy: 0.8164 - val_loss: 0.4801 - val_accuracy: 0.7689\n",
            "Epoch 40/100\n",
            "719/719 [==============================] - 4s 5ms/step - loss: 0.3850 - accuracy: 0.8170 - val_loss: 0.4810 - val_accuracy: 0.7695\n",
            "Epoch 41/100\n",
            "719/719 [==============================] - 3s 4ms/step - loss: 0.3851 - accuracy: 0.8160 - val_loss: 0.4799 - val_accuracy: 0.7735\n",
            "Epoch 42/100\n",
            "719/719 [==============================] - 3s 4ms/step - loss: 0.3846 - accuracy: 0.8180 - val_loss: 0.4934 - val_accuracy: 0.7722\n",
            "Epoch 43/100\n",
            "719/719 [==============================] - 3s 4ms/step - loss: 0.3849 - accuracy: 0.8163 - val_loss: 0.4802 - val_accuracy: 0.7762\n",
            "Epoch 44/100\n",
            "719/719 [==============================] - 3s 4ms/step - loss: 0.3846 - accuracy: 0.8160 - val_loss: 0.4840 - val_accuracy: 0.7738\n",
            "Epoch 45/100\n",
            "719/719 [==============================] - 3s 4ms/step - loss: 0.3843 - accuracy: 0.8163 - val_loss: 0.4849 - val_accuracy: 0.7743\n",
            "Epoch 46/100\n",
            "719/719 [==============================] - 3s 4ms/step - loss: 0.3850 - accuracy: 0.8175 - val_loss: 0.4808 - val_accuracy: 0.7727\n",
            "Epoch 47/100\n",
            "719/719 [==============================] - 3s 4ms/step - loss: 0.3851 - accuracy: 0.8155 - val_loss: 0.4821 - val_accuracy: 0.7697\n",
            "Epoch 48/100\n",
            "719/719 [==============================] - 3s 4ms/step - loss: 0.3843 - accuracy: 0.8189 - val_loss: 0.4811 - val_accuracy: 0.7727\n",
            "Epoch 49/100\n",
            "719/719 [==============================] - 3s 4ms/step - loss: 0.3836 - accuracy: 0.8169 - val_loss: 0.4826 - val_accuracy: 0.7695\n",
            "Epoch 50/100\n",
            "719/719 [==============================] - 3s 4ms/step - loss: 0.3838 - accuracy: 0.8186 - val_loss: 0.4834 - val_accuracy: 0.7687\n",
            "Epoch 51/100\n",
            "719/719 [==============================] - 3s 4ms/step - loss: 0.3848 - accuracy: 0.8160 - val_loss: 0.4823 - val_accuracy: 0.7760\n",
            "Epoch 52/100\n",
            "719/719 [==============================] - 3s 4ms/step - loss: 0.3842 - accuracy: 0.8191 - val_loss: 0.4832 - val_accuracy: 0.7706\n",
            "Epoch 53/100\n",
            "719/719 [==============================] - 3s 4ms/step - loss: 0.3836 - accuracy: 0.8175 - val_loss: 0.4834 - val_accuracy: 0.7692\n",
            "Epoch 54/100\n",
            "719/719 [==============================] - 3s 4ms/step - loss: 0.3841 - accuracy: 0.8160 - val_loss: 0.4823 - val_accuracy: 0.7735\n",
            "Epoch 55/100\n",
            "719/719 [==============================] - 3s 4ms/step - loss: 0.3845 - accuracy: 0.8162 - val_loss: 0.4823 - val_accuracy: 0.7727\n",
            "Epoch 56/100\n",
            "719/719 [==============================] - 3s 4ms/step - loss: 0.3842 - accuracy: 0.8167 - val_loss: 0.4824 - val_accuracy: 0.7724\n",
            "Epoch 57/100\n",
            "719/719 [==============================] - 3s 4ms/step - loss: 0.3830 - accuracy: 0.8183 - val_loss: 0.4832 - val_accuracy: 0.7714\n",
            "Epoch 58/100\n",
            "719/719 [==============================] - 3s 4ms/step - loss: 0.3838 - accuracy: 0.8176 - val_loss: 0.4960 - val_accuracy: 0.7711\n",
            "Epoch 59/100\n",
            "719/719 [==============================] - 3s 4ms/step - loss: 0.3834 - accuracy: 0.8180 - val_loss: 0.4841 - val_accuracy: 0.7689\n",
            "Epoch 60/100\n",
            "719/719 [==============================] - 3s 4ms/step - loss: 0.3830 - accuracy: 0.8180 - val_loss: 0.4835 - val_accuracy: 0.7719\n",
            "Epoch 61/100\n",
            "719/719 [==============================] - 3s 4ms/step - loss: 0.3839 - accuracy: 0.8154 - val_loss: 0.4873 - val_accuracy: 0.7673\n",
            "Epoch 62/100\n",
            "719/719 [==============================] - 3s 4ms/step - loss: 0.3830 - accuracy: 0.8190 - val_loss: 0.4834 - val_accuracy: 0.7724\n",
            "Epoch 63/100\n",
            "719/719 [==============================] - 3s 4ms/step - loss: 0.3840 - accuracy: 0.8163 - val_loss: 0.4867 - val_accuracy: 0.7668\n",
            "Epoch 64/100\n",
            "719/719 [==============================] - 3s 4ms/step - loss: 0.3837 - accuracy: 0.8178 - val_loss: 0.4843 - val_accuracy: 0.7749\n",
            "Epoch 65/100\n",
            "719/719 [==============================] - 3s 4ms/step - loss: 0.3838 - accuracy: 0.8174 - val_loss: 0.4846 - val_accuracy: 0.7679\n",
            "Epoch 66/100\n",
            "719/719 [==============================] - 3s 4ms/step - loss: 0.3832 - accuracy: 0.8176 - val_loss: 0.4891 - val_accuracy: 0.7649\n",
            "Epoch 67/100\n",
            "719/719 [==============================] - 3s 4ms/step - loss: 0.3837 - accuracy: 0.8163 - val_loss: 0.5010 - val_accuracy: 0.7555\n",
            "Epoch 68/100\n",
            "719/719 [==============================] - 3s 4ms/step - loss: 0.3841 - accuracy: 0.8160 - val_loss: 0.4837 - val_accuracy: 0.7716\n",
            "Epoch 69/100\n",
            "719/719 [==============================] - 3s 4ms/step - loss: 0.3843 - accuracy: 0.8154 - val_loss: 0.4967 - val_accuracy: 0.7600\n",
            "Epoch 70/100\n",
            "719/719 [==============================] - 3s 4ms/step - loss: 0.3836 - accuracy: 0.8170 - val_loss: 0.4837 - val_accuracy: 0.7733\n",
            "Epoch 71/100\n",
            "719/719 [==============================] - 3s 4ms/step - loss: 0.3834 - accuracy: 0.8176 - val_loss: 0.4885 - val_accuracy: 0.7654\n",
            "Epoch 72/100\n",
            "719/719 [==============================] - 3s 4ms/step - loss: 0.3833 - accuracy: 0.8158 - val_loss: 0.4851 - val_accuracy: 0.7684\n",
            "Epoch 73/100\n",
            "719/719 [==============================] - 3s 4ms/step - loss: 0.3843 - accuracy: 0.8150 - val_loss: 0.4841 - val_accuracy: 0.7733\n",
            "Epoch 74/100\n",
            "719/719 [==============================] - 3s 4ms/step - loss: 0.3834 - accuracy: 0.8181 - val_loss: 0.4841 - val_accuracy: 0.7716\n",
            "Epoch 75/100\n",
            "719/719 [==============================] - 3s 4ms/step - loss: 0.3833 - accuracy: 0.8170 - val_loss: 0.4927 - val_accuracy: 0.7619\n",
            "Epoch 76/100\n",
            "719/719 [==============================] - 3s 4ms/step - loss: 0.3841 - accuracy: 0.8170 - val_loss: 0.4857 - val_accuracy: 0.7697\n",
            "Epoch 77/100\n",
            "719/719 [==============================] - 3s 4ms/step - loss: 0.3837 - accuracy: 0.8173 - val_loss: 0.4890 - val_accuracy: 0.7635\n",
            "Epoch 78/100\n",
            "719/719 [==============================] - 3s 4ms/step - loss: 0.3831 - accuracy: 0.8170 - val_loss: 0.4842 - val_accuracy: 0.7735\n",
            "Epoch 79/100\n",
            "719/719 [==============================] - 3s 4ms/step - loss: 0.3839 - accuracy: 0.8176 - val_loss: 0.4894 - val_accuracy: 0.7638\n",
            "Epoch 80/100\n",
            "719/719 [==============================] - 3s 4ms/step - loss: 0.3832 - accuracy: 0.8175 - val_loss: 0.4868 - val_accuracy: 0.7671\n",
            "Epoch 81/100\n",
            "719/719 [==============================] - 3s 4ms/step - loss: 0.3846 - accuracy: 0.8177 - val_loss: 0.4845 - val_accuracy: 0.7689\n",
            "Epoch 82/100\n",
            "719/719 [==============================] - 3s 4ms/step - loss: 0.3830 - accuracy: 0.8155 - val_loss: 0.4855 - val_accuracy: 0.7692\n",
            "Epoch 83/100\n",
            "719/719 [==============================] - 3s 4ms/step - loss: 0.3834 - accuracy: 0.8197 - val_loss: 0.4910 - val_accuracy: 0.7638\n",
            "Epoch 84/100\n",
            "719/719 [==============================] - 3s 4ms/step - loss: 0.3836 - accuracy: 0.8159 - val_loss: 0.4844 - val_accuracy: 0.7724\n",
            "Epoch 85/100\n",
            "719/719 [==============================] - 3s 4ms/step - loss: 0.3833 - accuracy: 0.8182 - val_loss: 0.4885 - val_accuracy: 0.7660\n",
            "Epoch 86/100\n",
            "719/719 [==============================] - 3s 4ms/step - loss: 0.3835 - accuracy: 0.8181 - val_loss: 0.4844 - val_accuracy: 0.7722\n",
            "Epoch 87/100\n",
            "719/719 [==============================] - 3s 4ms/step - loss: 0.3834 - accuracy: 0.8160 - val_loss: 0.4844 - val_accuracy: 0.7724\n",
            "Epoch 88/100\n",
            "719/719 [==============================] - 3s 4ms/step - loss: 0.3828 - accuracy: 0.8159 - val_loss: 0.4924 - val_accuracy: 0.7644\n",
            "Epoch 89/100\n",
            "719/719 [==============================] - 3s 4ms/step - loss: 0.3840 - accuracy: 0.8170 - val_loss: 0.4864 - val_accuracy: 0.7689\n",
            "Epoch 90/100\n",
            "719/719 [==============================] - 3s 4ms/step - loss: 0.3827 - accuracy: 0.8179 - val_loss: 0.4856 - val_accuracy: 0.7733\n",
            "Epoch 91/100\n",
            "719/719 [==============================] - 3s 4ms/step - loss: 0.3833 - accuracy: 0.8187 - val_loss: 0.4852 - val_accuracy: 0.7735\n",
            "Epoch 92/100\n",
            "719/719 [==============================] - 3s 4ms/step - loss: 0.3837 - accuracy: 0.8180 - val_loss: 0.4853 - val_accuracy: 0.7741\n",
            "Epoch 93/100\n",
            "719/719 [==============================] - 3s 4ms/step - loss: 0.3835 - accuracy: 0.8176 - val_loss: 0.4853 - val_accuracy: 0.7703\n",
            "Epoch 94/100\n",
            "719/719 [==============================] - 3s 4ms/step - loss: 0.3832 - accuracy: 0.8180 - val_loss: 0.4849 - val_accuracy: 0.7719\n",
            "Epoch 95/100\n",
            "719/719 [==============================] - 3s 4ms/step - loss: 0.3831 - accuracy: 0.8161 - val_loss: 0.4853 - val_accuracy: 0.7741\n",
            "Epoch 96/100\n",
            "719/719 [==============================] - 3s 4ms/step - loss: 0.3835 - accuracy: 0.8183 - val_loss: 0.4894 - val_accuracy: 0.7660\n",
            "Epoch 97/100\n",
            "719/719 [==============================] - 3s 4ms/step - loss: 0.3827 - accuracy: 0.8184 - val_loss: 0.4886 - val_accuracy: 0.7668\n",
            "Epoch 98/100\n",
            "719/719 [==============================] - 3s 4ms/step - loss: 0.3828 - accuracy: 0.8187 - val_loss: 0.4858 - val_accuracy: 0.7743\n",
            "Epoch 99/100\n",
            "719/719 [==============================] - 3s 4ms/step - loss: 0.3840 - accuracy: 0.8177 - val_loss: 0.4889 - val_accuracy: 0.7671\n",
            "Epoch 100/100\n",
            "719/719 [==============================] - 3s 4ms/step - loss: 0.3826 - accuracy: 0.8167 - val_loss: 0.4855 - val_accuracy: 0.7700\n"
          ]
        }
      ],
      "source": [
        "num_epochs = 100\n",
        "history = model.fit(training_padded, training_labels, epochs=num_epochs,\n",
        "                    validation_data=(testing_padded, testing_labels))"
      ]
    },
    {
      "cell_type": "code",
      "execution_count": 35,
      "metadata": {
        "id": "UiHiAhU7gBNX",
        "outputId": "160c6ab4-1705-4408-8fa4-2ab267e060e1",
        "colab": {
          "base_uri": "https://localhost:8080/",
          "height": 279
        }
      },
      "outputs": [
        {
          "output_type": "display_data",
          "data": {
            "text/plain": [
              "<Figure size 432x288 with 1 Axes>"
            ],
            "image/png": "[encoded data removed]"
          },
          "metadata": {
            "needs_background": "light"
          }
        }
      ],
      "source": [
        "plt.plot(history.history['accuracy'])\n",
        "plt.plot(history.history['val_accuracy'])\n",
        "plt.xlabel('epochs')\n",
        "plt.ylabel('accuracy')\n",
        "plt.legend(['accuracy', 'val_accuracy'])\n",
        "plt.show()"
      ]
    },
    {
      "cell_type": "code",
      "execution_count": 36,
      "metadata": {
        "scrolled": true,
        "id": "4RZ3ElWIgBNX",
        "outputId": "f9232cdd-924c-4dfa-e178-7529d4b60d60",
        "colab": {
          "base_uri": "https://localhost:8080/",
          "height": 279
        }
      },
      "outputs": [
        {
          "output_type": "display_data",
          "data": {
            "text/plain": [
              "<Figure size 432x288 with 1 Axes>"
            ],
            "image/png": "[encoded data removed]"
          },
          "metadata": {
            "needs_background": "light"
          }
        }
      ],
      "source": [
        "plt.plot(history.history['loss'])\n",
        "plt.plot(history.history['val_loss'])\n",
        "plt.xlabel('epochs')\n",
        "plt.ylabel('loss')\n",
        "plt.legend(['loss', 'val_loss'])\n",
        "plt.show()"
      ]
    },
    {
      "cell_type": "markdown",
      "metadata": {
        "id": "nYNaNDnsgBNY"
      },
      "source": [
        "#### 드롭아웃 사용하기"
      ]
    },
    {
      "cell_type": "code",
      "execution_count": 37,
      "metadata": {
        "id": "G8J5_ceMgBNY"
      },
      "outputs": [],
      "source": [
        "model = tf.keras.Sequential([\n",
        "    tf.keras.layers.Embedding(vocab_size, embedding_dim),\n",
        "    tf.keras.layers.GlobalAveragePooling1D(),\n",
        "    tf.keras.layers.Dense(8, activation='relu'),\n",
        "    tf.keras.layers.Dropout(.25),\n",
        "    tf.keras.layers.Dense(1, activation='sigmoid')\n",
        "])\n",
        "model.compile(loss='binary_crossentropy',\n",
        "              optimizer='adam',metrics=['accuracy'])"
      ]
    },
    {
      "cell_type": "code",
      "execution_count": 38,
      "metadata": {
        "scrolled": true,
        "id": "ZRD9BVZRgBNY",
        "outputId": "90d42d5d-ff74-4553-a87f-5643b30d75dd",
        "colab": {
          "base_uri": "https://localhost:8080/"
        }
      },
      "outputs": [
        {
          "output_type": "stream",
          "name": "stdout",
          "text": [
            "Epoch 1/100\n",
            "719/719 [==============================] - 4s 4ms/step - loss: 0.6855 - accuracy: 0.5596 - val_loss: 0.6777 - val_accuracy: 0.5700\n",
            "Epoch 2/100\n",
            "719/719 [==============================] - 3s 4ms/step - loss: 0.6525 - accuracy: 0.6224 - val_loss: 0.6168 - val_accuracy: 0.7034\n",
            "Epoch 3/100\n",
            "719/719 [==============================] - 3s 4ms/step - loss: 0.5805 - accuracy: 0.7042 - val_loss: 0.5457 - val_accuracy: 0.7390\n",
            "Epoch 4/100\n",
            "719/719 [==============================] - 3s 4ms/step - loss: 0.5236 - accuracy: 0.7437 - val_loss: 0.5061 - val_accuracy: 0.7573\n",
            "Epoch 5/100\n",
            "719/719 [==============================] - 3s 4ms/step - loss: 0.4874 - accuracy: 0.7635 - val_loss: 0.4811 - val_accuracy: 0.7657\n",
            "Epoch 6/100\n",
            "719/719 [==============================] - 3s 4ms/step - loss: 0.4693 - accuracy: 0.7710 - val_loss: 0.4736 - val_accuracy: 0.7687\n",
            "Epoch 7/100\n",
            "719/719 [==============================] - 3s 4ms/step - loss: 0.4567 - accuracy: 0.7782 - val_loss: 0.4681 - val_accuracy: 0.7733\n",
            "Epoch 8/100\n",
            "719/719 [==============================] - 3s 4ms/step - loss: 0.4488 - accuracy: 0.7822 - val_loss: 0.4648 - val_accuracy: 0.7757\n",
            "Epoch 9/100\n",
            "719/719 [==============================] - 4s 5ms/step - loss: 0.4408 - accuracy: 0.7873 - val_loss: 0.4663 - val_accuracy: 0.7703\n",
            "Epoch 10/100\n",
            "719/719 [==============================] - 4s 5ms/step - loss: 0.4388 - accuracy: 0.7907 - val_loss: 0.4632 - val_accuracy: 0.7751\n",
            "Epoch 11/100\n",
            "719/719 [==============================] - 4s 5ms/step - loss: 0.4327 - accuracy: 0.7926 - val_loss: 0.4651 - val_accuracy: 0.7735\n",
            "Epoch 12/100\n",
            "719/719 [==============================] - 3s 4ms/step - loss: 0.4286 - accuracy: 0.7959 - val_loss: 0.4658 - val_accuracy: 0.7706\n",
            "Epoch 13/100\n",
            "719/719 [==============================] - 3s 4ms/step - loss: 0.4271 - accuracy: 0.8008 - val_loss: 0.4649 - val_accuracy: 0.7784\n",
            "Epoch 14/100\n",
            "719/719 [==============================] - 3s 4ms/step - loss: 0.4214 - accuracy: 0.7997 - val_loss: 0.4642 - val_accuracy: 0.7803\n",
            "Epoch 15/100\n",
            "719/719 [==============================] - 3s 4ms/step - loss: 0.4211 - accuracy: 0.8073 - val_loss: 0.4641 - val_accuracy: 0.7762\n",
            "Epoch 16/100\n",
            "719/719 [==============================] - 3s 4ms/step - loss: 0.4181 - accuracy: 0.8138 - val_loss: 0.4651 - val_accuracy: 0.7784\n",
            "Epoch 17/100\n",
            "719/719 [==============================] - 3s 4ms/step - loss: 0.4153 - accuracy: 0.8140 - val_loss: 0.4683 - val_accuracy: 0.7706\n",
            "Epoch 18/100\n",
            "719/719 [==============================] - 3s 4ms/step - loss: 0.4177 - accuracy: 0.8142 - val_loss: 0.4636 - val_accuracy: 0.7733\n",
            "Epoch 19/100\n",
            "719/719 [==============================] - 3s 4ms/step - loss: 0.4129 - accuracy: 0.8162 - val_loss: 0.4744 - val_accuracy: 0.7803\n",
            "Epoch 20/100\n",
            "719/719 [==============================] - 3s 4ms/step - loss: 0.4146 - accuracy: 0.8163 - val_loss: 0.4915 - val_accuracy: 0.7431\n",
            "Epoch 21/100\n",
            "719/719 [==============================] - 3s 4ms/step - loss: 0.4135 - accuracy: 0.8179 - val_loss: 0.4660 - val_accuracy: 0.7768\n",
            "Epoch 22/100\n",
            "719/719 [==============================] - 3s 4ms/step - loss: 0.4110 - accuracy: 0.8160 - val_loss: 0.4683 - val_accuracy: 0.7757\n",
            "Epoch 23/100\n",
            "719/719 [==============================] - 3s 4ms/step - loss: 0.4092 - accuracy: 0.8202 - val_loss: 0.4732 - val_accuracy: 0.7706\n",
            "Epoch 24/100\n",
            "719/719 [==============================] - 3s 4ms/step - loss: 0.4107 - accuracy: 0.8200 - val_loss: 0.4695 - val_accuracy: 0.7757\n",
            "Epoch 25/100\n",
            "719/719 [==============================] - 3s 4ms/step - loss: 0.4042 - accuracy: 0.8192 - val_loss: 0.4691 - val_accuracy: 0.7716\n",
            "Epoch 26/100\n",
            "719/719 [==============================] - 3s 4ms/step - loss: 0.4053 - accuracy: 0.8189 - val_loss: 0.4866 - val_accuracy: 0.7498\n",
            "Epoch 27/100\n",
            "719/719 [==============================] - 3s 4ms/step - loss: 0.4063 - accuracy: 0.8187 - val_loss: 0.4778 - val_accuracy: 0.7654\n",
            "Epoch 28/100\n",
            "719/719 [==============================] - 3s 4ms/step - loss: 0.4045 - accuracy: 0.8193 - val_loss: 0.4785 - val_accuracy: 0.7681\n",
            "Epoch 29/100\n",
            "719/719 [==============================] - 3s 4ms/step - loss: 0.4025 - accuracy: 0.8208 - val_loss: 0.4766 - val_accuracy: 0.7638\n",
            "Epoch 30/100\n",
            "719/719 [==============================] - 3s 4ms/step - loss: 0.4000 - accuracy: 0.8197 - val_loss: 0.4744 - val_accuracy: 0.7719\n",
            "Epoch 31/100\n",
            "719/719 [==============================] - 3s 4ms/step - loss: 0.4012 - accuracy: 0.8203 - val_loss: 0.4761 - val_accuracy: 0.7738\n",
            "Epoch 32/100\n",
            "719/719 [==============================] - 3s 4ms/step - loss: 0.3990 - accuracy: 0.8204 - val_loss: 0.4749 - val_accuracy: 0.7722\n",
            "Epoch 33/100\n",
            "719/719 [==============================] - 3s 4ms/step - loss: 0.3949 - accuracy: 0.8217 - val_loss: 0.4792 - val_accuracy: 0.7641\n",
            "Epoch 34/100\n",
            "719/719 [==============================] - 3s 4ms/step - loss: 0.3960 - accuracy: 0.8182 - val_loss: 0.4783 - val_accuracy: 0.7644\n",
            "Epoch 35/100\n",
            "719/719 [==============================] - 3s 4ms/step - loss: 0.3914 - accuracy: 0.8233 - val_loss: 0.4812 - val_accuracy: 0.7714\n",
            "Epoch 36/100\n",
            "719/719 [==============================] - 3s 4ms/step - loss: 0.3927 - accuracy: 0.8202 - val_loss: 0.4904 - val_accuracy: 0.7635\n",
            "Epoch 37/100\n",
            "719/719 [==============================] - 3s 4ms/step - loss: 0.3899 - accuracy: 0.8213 - val_loss: 0.4797 - val_accuracy: 0.7689\n",
            "Epoch 38/100\n",
            "719/719 [==============================] - 3s 4ms/step - loss: 0.3860 - accuracy: 0.8214 - val_loss: 0.4839 - val_accuracy: 0.7660\n",
            "Epoch 39/100\n",
            "719/719 [==============================] - 3s 4ms/step - loss: 0.3862 - accuracy: 0.8229 - val_loss: 0.4866 - val_accuracy: 0.7730\n",
            "Epoch 40/100\n",
            "719/719 [==============================] - 3s 4ms/step - loss: 0.3840 - accuracy: 0.8224 - val_loss: 0.4886 - val_accuracy: 0.7641\n",
            "Epoch 41/100\n",
            "719/719 [==============================] - 3s 4ms/step - loss: 0.3800 - accuracy: 0.8211 - val_loss: 0.4905 - val_accuracy: 0.7538\n",
            "Epoch 42/100\n",
            "719/719 [==============================] - 3s 4ms/step - loss: 0.3812 - accuracy: 0.8201 - val_loss: 0.4980 - val_accuracy: 0.7498\n",
            "Epoch 43/100\n",
            "719/719 [==============================] - 3s 4ms/step - loss: 0.3778 - accuracy: 0.8217 - val_loss: 0.4912 - val_accuracy: 0.7649\n",
            "Epoch 44/100\n",
            "719/719 [==============================] - 3s 4ms/step - loss: 0.3768 - accuracy: 0.8228 - val_loss: 0.5055 - val_accuracy: 0.7498\n",
            "Epoch 45/100\n",
            "719/719 [==============================] - 3s 4ms/step - loss: 0.3744 - accuracy: 0.8220 - val_loss: 0.5019 - val_accuracy: 0.7649\n",
            "Epoch 46/100\n",
            "719/719 [==============================] - 3s 4ms/step - loss: 0.3733 - accuracy: 0.8212 - val_loss: 0.5004 - val_accuracy: 0.7552\n",
            "Epoch 47/100\n",
            "719/719 [==============================] - 3s 4ms/step - loss: 0.3724 - accuracy: 0.8233 - val_loss: 0.5098 - val_accuracy: 0.7573\n",
            "Epoch 48/100\n",
            "719/719 [==============================] - 3s 4ms/step - loss: 0.3709 - accuracy: 0.8205 - val_loss: 0.4991 - val_accuracy: 0.7630\n",
            "Epoch 49/100\n",
            "719/719 [==============================] - 3s 4ms/step - loss: 0.3686 - accuracy: 0.8200 - val_loss: 0.5192 - val_accuracy: 0.7385\n",
            "Epoch 50/100\n",
            "719/719 [==============================] - 3s 4ms/step - loss: 0.3698 - accuracy: 0.8203 - val_loss: 0.5086 - val_accuracy: 0.7649\n",
            "Epoch 51/100\n",
            "719/719 [==============================] - 3s 4ms/step - loss: 0.3653 - accuracy: 0.8229 - val_loss: 0.5213 - val_accuracy: 0.7549\n",
            "Epoch 52/100\n",
            "719/719 [==============================] - 3s 4ms/step - loss: 0.3647 - accuracy: 0.8223 - val_loss: 0.5171 - val_accuracy: 0.7654\n",
            "Epoch 53/100\n",
            "719/719 [==============================] - 3s 4ms/step - loss: 0.3628 - accuracy: 0.8192 - val_loss: 0.5105 - val_accuracy: 0.7547\n",
            "Epoch 54/100\n",
            "719/719 [==============================] - 3s 4ms/step - loss: 0.3626 - accuracy: 0.8173 - val_loss: 0.5132 - val_accuracy: 0.7595\n",
            "Epoch 55/100\n",
            "719/719 [==============================] - 3s 4ms/step - loss: 0.3595 - accuracy: 0.8156 - val_loss: 0.5352 - val_accuracy: 0.7722\n",
            "Epoch 56/100\n",
            "719/719 [==============================] - 3s 4ms/step - loss: 0.3596 - accuracy: 0.8143 - val_loss: 0.5245 - val_accuracy: 0.7684\n",
            "Epoch 57/100\n",
            "719/719 [==============================] - 3s 4ms/step - loss: 0.3591 - accuracy: 0.8162 - val_loss: 0.5275 - val_accuracy: 0.7708\n",
            "Epoch 58/100\n",
            "719/719 [==============================] - 3s 4ms/step - loss: 0.3564 - accuracy: 0.8153 - val_loss: 0.5298 - val_accuracy: 0.7573\n",
            "Epoch 59/100\n",
            "719/719 [==============================] - 3s 4ms/step - loss: 0.3544 - accuracy: 0.8152 - val_loss: 0.5296 - val_accuracy: 0.7727\n",
            "Epoch 60/100\n",
            "719/719 [==============================] - 3s 4ms/step - loss: 0.3552 - accuracy: 0.8167 - val_loss: 0.5408 - val_accuracy: 0.7706\n",
            "Epoch 61/100\n",
            "719/719 [==============================] - 3s 4ms/step - loss: 0.3534 - accuracy: 0.8150 - val_loss: 0.5313 - val_accuracy: 0.7695\n",
            "Epoch 62/100\n",
            "719/719 [==============================] - 3s 4ms/step - loss: 0.3505 - accuracy: 0.8170 - val_loss: 0.5488 - val_accuracy: 0.7697\n",
            "Epoch 63/100\n",
            "719/719 [==============================] - 3s 4ms/step - loss: 0.3500 - accuracy: 0.8167 - val_loss: 0.5633 - val_accuracy: 0.7657\n",
            "Epoch 64/100\n",
            "719/719 [==============================] - 3s 4ms/step - loss: 0.3492 - accuracy: 0.8160 - val_loss: 0.5439 - val_accuracy: 0.7671\n",
            "Epoch 65/100\n",
            "719/719 [==============================] - 3s 4ms/step - loss: 0.3493 - accuracy: 0.8191 - val_loss: 0.5479 - val_accuracy: 0.7644\n",
            "Epoch 66/100\n",
            "719/719 [==============================] - 3s 4ms/step - loss: 0.3486 - accuracy: 0.8166 - val_loss: 0.5552 - val_accuracy: 0.7649\n",
            "Epoch 67/100\n",
            "719/719 [==============================] - 3s 4ms/step - loss: 0.3451 - accuracy: 0.8203 - val_loss: 0.5610 - val_accuracy: 0.7641\n",
            "Epoch 68/100\n",
            "719/719 [==============================] - 3s 4ms/step - loss: 0.3453 - accuracy: 0.8195 - val_loss: 0.5562 - val_accuracy: 0.7671\n",
            "Epoch 69/100\n",
            "719/719 [==============================] - 3s 4ms/step - loss: 0.3420 - accuracy: 0.8200 - val_loss: 0.5683 - val_accuracy: 0.7603\n",
            "Epoch 70/100\n",
            "719/719 [==============================] - 3s 4ms/step - loss: 0.3433 - accuracy: 0.8188 - val_loss: 0.5767 - val_accuracy: 0.7625\n",
            "Epoch 71/100\n",
            "719/719 [==============================] - 3s 4ms/step - loss: 0.3422 - accuracy: 0.8187 - val_loss: 0.5646 - val_accuracy: 0.7611\n",
            "Epoch 72/100\n",
            "719/719 [==============================] - 3s 4ms/step - loss: 0.3428 - accuracy: 0.8192 - val_loss: 0.5827 - val_accuracy: 0.7617\n",
            "Epoch 73/100\n",
            "719/719 [==============================] - 3s 4ms/step - loss: 0.3416 - accuracy: 0.8188 - val_loss: 0.5726 - val_accuracy: 0.7619\n",
            "Epoch 74/100\n",
            "719/719 [==============================] - 3s 4ms/step - loss: 0.3407 - accuracy: 0.8180 - val_loss: 0.5560 - val_accuracy: 0.7590\n",
            "Epoch 75/100\n",
            "719/719 [==============================] - 3s 5ms/step - loss: 0.3416 - accuracy: 0.8204 - val_loss: 0.5757 - val_accuracy: 0.7592\n",
            "Epoch 76/100\n",
            "719/719 [==============================] - 3s 5ms/step - loss: 0.3368 - accuracy: 0.8211 - val_loss: 0.5767 - val_accuracy: 0.7582\n",
            "Epoch 77/100\n",
            "719/719 [==============================] - 3s 4ms/step - loss: 0.3386 - accuracy: 0.8203 - val_loss: 0.5868 - val_accuracy: 0.7625\n",
            "Epoch 78/100\n",
            "719/719 [==============================] - 3s 4ms/step - loss: 0.3382 - accuracy: 0.8211 - val_loss: 0.5625 - val_accuracy: 0.7525\n",
            "Epoch 79/100\n",
            "719/719 [==============================] - 3s 4ms/step - loss: 0.3373 - accuracy: 0.8191 - val_loss: 0.5840 - val_accuracy: 0.7560\n",
            "Epoch 80/100\n",
            "719/719 [==============================] - 3s 4ms/step - loss: 0.3362 - accuracy: 0.8227 - val_loss: 0.5808 - val_accuracy: 0.7573\n",
            "Epoch 81/100\n",
            "719/719 [==============================] - 3s 4ms/step - loss: 0.3375 - accuracy: 0.8207 - val_loss: 0.5983 - val_accuracy: 0.7563\n",
            "Epoch 82/100\n",
            "719/719 [==============================] - 3s 4ms/step - loss: 0.3355 - accuracy: 0.8223 - val_loss: 0.6000 - val_accuracy: 0.7590\n",
            "Epoch 83/100\n",
            "719/719 [==============================] - 3s 4ms/step - loss: 0.3323 - accuracy: 0.8225 - val_loss: 0.6114 - val_accuracy: 0.7598\n",
            "Epoch 84/100\n",
            "719/719 [==============================] - 3s 4ms/step - loss: 0.3300 - accuracy: 0.8237 - val_loss: 0.5965 - val_accuracy: 0.7573\n",
            "Epoch 85/100\n",
            "719/719 [==============================] - 3s 4ms/step - loss: 0.3321 - accuracy: 0.8228 - val_loss: 0.6150 - val_accuracy: 0.7595\n",
            "Epoch 86/100\n",
            "719/719 [==============================] - 3s 4ms/step - loss: 0.3304 - accuracy: 0.8219 - val_loss: 0.6202 - val_accuracy: 0.7592\n",
            "Epoch 87/100\n",
            "719/719 [==============================] - 3s 4ms/step - loss: 0.3292 - accuracy: 0.8237 - val_loss: 0.6291 - val_accuracy: 0.7606\n",
            "Epoch 88/100\n",
            "719/719 [==============================] - 3s 4ms/step - loss: 0.3336 - accuracy: 0.8203 - val_loss: 0.6124 - val_accuracy: 0.7592\n",
            "Epoch 89/100\n",
            "719/719 [==============================] - 3s 4ms/step - loss: 0.3306 - accuracy: 0.8226 - val_loss: 0.5874 - val_accuracy: 0.7382\n",
            "Epoch 90/100\n",
            "719/719 [==============================] - 3s 4ms/step - loss: 0.3313 - accuracy: 0.8238 - val_loss: 0.6038 - val_accuracy: 0.7557\n",
            "Epoch 91/100\n",
            "719/719 [==============================] - 3s 4ms/step - loss: 0.3297 - accuracy: 0.8237 - val_loss: 0.6216 - val_accuracy: 0.7584\n",
            "Epoch 92/100\n",
            "719/719 [==============================] - 3s 4ms/step - loss: 0.3274 - accuracy: 0.8238 - val_loss: 0.6194 - val_accuracy: 0.7565\n",
            "Epoch 93/100\n",
            "719/719 [==============================] - 3s 4ms/step - loss: 0.3264 - accuracy: 0.8243 - val_loss: 0.6238 - val_accuracy: 0.7549\n",
            "Epoch 94/100\n",
            "719/719 [==============================] - 3s 4ms/step - loss: 0.3264 - accuracy: 0.8226 - val_loss: 0.6068 - val_accuracy: 0.7439\n",
            "Epoch 95/100\n",
            "719/719 [==============================] - 3s 4ms/step - loss: 0.3260 - accuracy: 0.8228 - val_loss: 0.6517 - val_accuracy: 0.7609\n",
            "Epoch 96/100\n",
            "719/719 [==============================] - 3s 4ms/step - loss: 0.3272 - accuracy: 0.8219 - val_loss: 0.6275 - val_accuracy: 0.7557\n",
            "Epoch 97/100\n",
            "719/719 [==============================] - 3s 4ms/step - loss: 0.3253 - accuracy: 0.8234 - val_loss: 0.6476 - val_accuracy: 0.7582\n",
            "Epoch 98/100\n",
            "719/719 [==============================] - 3s 4ms/step - loss: 0.3293 - accuracy: 0.8225 - val_loss: 0.6189 - val_accuracy: 0.7350\n",
            "Epoch 99/100\n",
            "719/719 [==============================] - 3s 4ms/step - loss: 0.3261 - accuracy: 0.8248 - val_loss: 0.6503 - val_accuracy: 0.7587\n",
            "Epoch 100/100\n",
            "719/719 [==============================] - 3s 4ms/step - loss: 0.3264 - accuracy: 0.8227 - val_loss: 0.6760 - val_accuracy: 0.7590\n"
          ]
        }
      ],
      "source": [
        "num_epochs = 100\n",
        "history = model.fit(training_padded, training_labels, epochs=num_epochs,\n",
        "                    validation_data=(testing_padded, testing_labels))"
      ]
    },
    {
      "cell_type": "code",
      "execution_count": 39,
      "metadata": {
        "id": "f1pkZDaRgBNY",
        "outputId": "886a7e34-78d3-4c8e-cdc4-c1e59eb40586",
        "colab": {
          "base_uri": "https://localhost:8080/",
          "height": 279
        }
      },
      "outputs": [
        {
          "output_type": "display_data",
          "data": {
            "text/plain": [
              "<Figure size 432x288 with 1 Axes>"
            ],
            "image/png": "[encoded data removed]"
          },
          "metadata": {
            "needs_background": "light"
          }
        }
      ],
      "source": [
        "plt.plot(history.history['accuracy'])\n",
        "plt.plot(history.history['val_accuracy'])\n",
        "plt.xlabel('epochs')\n",
        "plt.ylabel('accuracy')\n",
        "plt.legend(['accuracy', 'val_accuracy'])\n",
        "plt.show()"
      ]
    },
    {
      "cell_type": "code",
      "execution_count": 40,
      "metadata": {
        "scrolled": true,
        "id": "duUoqjk1gBNY",
        "outputId": "5fa389a6-8e33-435c-c5d9-cc538c5e9e3d",
        "colab": {
          "base_uri": "https://localhost:8080/",
          "height": 281
        }
      },
      "outputs": [
        {
          "output_type": "display_data",
          "data": {
            "text/plain": [
              "<Figure size 432x288 with 1 Axes>"
            ],
            "image/png": "[encoded data removed]"
          },
          "metadata": {
            "needs_background": "light"
          }
        }
      ],
      "source": [
        "plt.plot(history.history['loss'])\n",
        "plt.plot(history.history['val_loss'])\n",
        "plt.xlabel('epochs')\n",
        "plt.ylabel('loss')\n",
        "plt.legend(['loss', 'val_loss'])\n",
        "plt.show()"
      ]
    },
    {
      "cell_type": "markdown",
      "metadata": {
        "id": "I2dWCw6YgBNZ"
      },
      "source": [
        "#### 규제 사용하기"
      ]
    },
    {
      "cell_type": "code",
      "execution_count": 41,
      "metadata": {
        "id": "aVpJV95jgBNZ"
      },
      "outputs": [],
      "source": [
        "model = tf.keras.Sequential([\n",
        "    tf.keras.layers.Embedding(vocab_size, embedding_dim),\n",
        "    tf.keras.layers.GlobalAveragePooling1D(),\n",
        "    tf.keras.layers.Dense(8, activation='relu', \n",
        "                          kernel_regularizer = tf.keras.regularizers.l2(0.01)),\n",
        "    tf.keras.layers.Dense(1, activation='sigmoid')\n",
        "])\n",
        "model.compile(loss='binary_crossentropy',\n",
        "              optimizer='adam',metrics=['accuracy'])"
      ]
    },
    {
      "cell_type": "code",
      "execution_count": 42,
      "metadata": {
        "scrolled": true,
        "id": "DtPG52_0gBNZ",
        "outputId": "62388b48-3a05-4f51-f3a5-d53590e8f7e0",
        "colab": {
          "base_uri": "https://localhost:8080/"
        }
      },
      "outputs": [
        {
          "output_type": "stream",
          "name": "stdout",
          "text": [
            "Epoch 1/100\n",
            "719/719 [==============================] - 4s 4ms/step - loss: 0.7085 - accuracy: 0.5600 - val_loss: 0.6847 - val_accuracy: 0.5700\n",
            "Epoch 2/100\n",
            "719/719 [==============================] - 3s 4ms/step - loss: 0.6860 - accuracy: 0.5596 - val_loss: 0.6829 - val_accuracy: 0.5700\n",
            "Epoch 3/100\n",
            "719/719 [==============================] - 3s 4ms/step - loss: 0.6852 - accuracy: 0.5596 - val_loss: 0.6822 - val_accuracy: 0.5700\n",
            "Epoch 4/100\n",
            "719/719 [==============================] - 3s 4ms/step - loss: 0.6828 - accuracy: 0.5596 - val_loss: 0.6785 - val_accuracy: 0.5700\n",
            "Epoch 5/100\n",
            "719/719 [==============================] - 3s 4ms/step - loss: 0.6737 - accuracy: 0.5614 - val_loss: 0.6644 - val_accuracy: 0.5923\n",
            "Epoch 6/100\n",
            "719/719 [==============================] - 4s 6ms/step - loss: 0.6542 - accuracy: 0.6207 - val_loss: 0.6437 - val_accuracy: 0.6576\n",
            "Epoch 7/100\n",
            "719/719 [==============================] - 4s 5ms/step - loss: 0.6298 - accuracy: 0.6812 - val_loss: 0.6218 - val_accuracy: 0.6856\n",
            "Epoch 8/100\n",
            "719/719 [==============================] - 3s 4ms/step - loss: 0.6053 - accuracy: 0.7179 - val_loss: 0.6009 - val_accuracy: 0.7226\n",
            "Epoch 9/100\n",
            "719/719 [==============================] - 3s 4ms/step - loss: 0.5829 - accuracy: 0.7399 - val_loss: 0.5841 - val_accuracy: 0.7379\n",
            "Epoch 10/100\n",
            "719/719 [==============================] - 3s 4ms/step - loss: 0.5631 - accuracy: 0.7560 - val_loss: 0.5685 - val_accuracy: 0.7484\n",
            "Epoch 11/100\n",
            "719/719 [==============================] - 3s 4ms/step - loss: 0.5464 - accuracy: 0.7667 - val_loss: 0.5592 - val_accuracy: 0.7476\n",
            "Epoch 12/100\n",
            "719/719 [==============================] - 3s 4ms/step - loss: 0.5317 - accuracy: 0.7747 - val_loss: 0.5496 - val_accuracy: 0.7552\n",
            "Epoch 13/100\n",
            "719/719 [==============================] - 3s 4ms/step - loss: 0.5198 - accuracy: 0.7807 - val_loss: 0.5373 - val_accuracy: 0.7603\n",
            "Epoch 14/100\n",
            "719/719 [==============================] - 3s 4ms/step - loss: 0.5089 - accuracy: 0.7855 - val_loss: 0.5287 - val_accuracy: 0.7627\n",
            "Epoch 15/100\n",
            "719/719 [==============================] - 3s 4ms/step - loss: 0.4995 - accuracy: 0.7873 - val_loss: 0.5253 - val_accuracy: 0.7582\n",
            "Epoch 16/100\n",
            "719/719 [==============================] - 3s 4ms/step - loss: 0.4911 - accuracy: 0.7914 - val_loss: 0.5171 - val_accuracy: 0.7662\n",
            "Epoch 17/100\n",
            "719/719 [==============================] - 3s 4ms/step - loss: 0.4836 - accuracy: 0.7933 - val_loss: 0.5135 - val_accuracy: 0.7687\n",
            "Epoch 18/100\n",
            "719/719 [==============================] - 3s 4ms/step - loss: 0.4776 - accuracy: 0.7961 - val_loss: 0.5085 - val_accuracy: 0.7689\n",
            "Epoch 19/100\n",
            "719/719 [==============================] - 3s 4ms/step - loss: 0.4720 - accuracy: 0.7965 - val_loss: 0.5052 - val_accuracy: 0.7681\n",
            "Epoch 20/100\n",
            "719/719 [==============================] - 3s 4ms/step - loss: 0.4666 - accuracy: 0.8000 - val_loss: 0.5039 - val_accuracy: 0.7703\n",
            "Epoch 21/100\n",
            "719/719 [==============================] - 3s 4ms/step - loss: 0.4620 - accuracy: 0.8003 - val_loss: 0.5002 - val_accuracy: 0.7733\n",
            "Epoch 22/100\n",
            "719/719 [==============================] - 3s 4ms/step - loss: 0.4578 - accuracy: 0.8017 - val_loss: 0.4971 - val_accuracy: 0.7727\n",
            "Epoch 23/100\n",
            "719/719 [==============================] - 3s 4ms/step - loss: 0.4542 - accuracy: 0.8043 - val_loss: 0.4953 - val_accuracy: 0.7738\n",
            "Epoch 24/100\n",
            "719/719 [==============================] - 3s 4ms/step - loss: 0.4504 - accuracy: 0.8048 - val_loss: 0.4928 - val_accuracy: 0.7741\n",
            "Epoch 25/100\n",
            "719/719 [==============================] - 3s 4ms/step - loss: 0.4474 - accuracy: 0.8040 - val_loss: 0.4915 - val_accuracy: 0.7751\n",
            "Epoch 26/100\n",
            "719/719 [==============================] - 3s 4ms/step - loss: 0.4443 - accuracy: 0.8057 - val_loss: 0.4895 - val_accuracy: 0.7741\n",
            "Epoch 27/100\n",
            "719/719 [==============================] - 3s 4ms/step - loss: 0.4415 - accuracy: 0.8067 - val_loss: 0.4938 - val_accuracy: 0.7733\n",
            "Epoch 28/100\n",
            "719/719 [==============================] - 3s 4ms/step - loss: 0.4388 - accuracy: 0.8063 - val_loss: 0.4901 - val_accuracy: 0.7700\n",
            "Epoch 29/100\n",
            "719/719 [==============================] - 3s 4ms/step - loss: 0.4367 - accuracy: 0.8073 - val_loss: 0.4873 - val_accuracy: 0.7800\n",
            "Epoch 30/100\n",
            "719/719 [==============================] - 3s 4ms/step - loss: 0.4342 - accuracy: 0.8103 - val_loss: 0.4858 - val_accuracy: 0.7773\n",
            "Epoch 31/100\n",
            "719/719 [==============================] - 3s 4ms/step - loss: 0.4322 - accuracy: 0.8101 - val_loss: 0.4879 - val_accuracy: 0.7719\n",
            "Epoch 32/100\n",
            "719/719 [==============================] - 3s 4ms/step - loss: 0.4304 - accuracy: 0.8097 - val_loss: 0.4857 - val_accuracy: 0.7816\n",
            "Epoch 33/100\n",
            "719/719 [==============================] - 3s 4ms/step - loss: 0.4292 - accuracy: 0.8089 - val_loss: 0.4832 - val_accuracy: 0.7773\n",
            "Epoch 34/100\n",
            "719/719 [==============================] - 3s 4ms/step - loss: 0.4271 - accuracy: 0.8101 - val_loss: 0.4819 - val_accuracy: 0.7762\n",
            "Epoch 35/100\n",
            "719/719 [==============================] - 3s 4ms/step - loss: 0.4254 - accuracy: 0.8115 - val_loss: 0.4819 - val_accuracy: 0.7765\n",
            "Epoch 36/100\n",
            "719/719 [==============================] - 3s 4ms/step - loss: 0.4238 - accuracy: 0.8113 - val_loss: 0.4869 - val_accuracy: 0.7803\n",
            "Epoch 37/100\n",
            "719/719 [==============================] - 3s 5ms/step - loss: 0.4224 - accuracy: 0.8121 - val_loss: 0.4808 - val_accuracy: 0.7768\n",
            "Epoch 38/100\n",
            "719/719 [==============================] - 3s 4ms/step - loss: 0.4210 - accuracy: 0.8110 - val_loss: 0.4814 - val_accuracy: 0.7765\n",
            "Epoch 39/100\n",
            "719/719 [==============================] - 3s 4ms/step - loss: 0.4198 - accuracy: 0.8119 - val_loss: 0.4800 - val_accuracy: 0.7760\n",
            "Epoch 40/100\n",
            "719/719 [==============================] - 3s 4ms/step - loss: 0.4183 - accuracy: 0.8146 - val_loss: 0.4818 - val_accuracy: 0.7803\n",
            "Epoch 41/100\n",
            "719/719 [==============================] - 3s 4ms/step - loss: 0.4175 - accuracy: 0.8134 - val_loss: 0.4799 - val_accuracy: 0.7803\n",
            "Epoch 42/100\n",
            "719/719 [==============================] - 3s 4ms/step - loss: 0.4169 - accuracy: 0.8115 - val_loss: 0.4797 - val_accuracy: 0.7762\n",
            "Epoch 43/100\n",
            "719/719 [==============================] - 3s 4ms/step - loss: 0.4153 - accuracy: 0.8137 - val_loss: 0.4794 - val_accuracy: 0.7762\n",
            "Epoch 44/100\n",
            "719/719 [==============================] - 3s 4ms/step - loss: 0.4148 - accuracy: 0.8140 - val_loss: 0.4783 - val_accuracy: 0.7770\n",
            "Epoch 45/100\n",
            "719/719 [==============================] - 3s 4ms/step - loss: 0.4139 - accuracy: 0.8130 - val_loss: 0.4787 - val_accuracy: 0.7768\n",
            "Epoch 46/100\n",
            "719/719 [==============================] - 3s 4ms/step - loss: 0.4129 - accuracy: 0.8143 - val_loss: 0.4789 - val_accuracy: 0.7789\n",
            "Epoch 47/100\n",
            "719/719 [==============================] - 3s 4ms/step - loss: 0.4125 - accuracy: 0.8135 - val_loss: 0.4799 - val_accuracy: 0.7741\n",
            "Epoch 48/100\n",
            "719/719 [==============================] - 3s 4ms/step - loss: 0.4116 - accuracy: 0.8136 - val_loss: 0.4794 - val_accuracy: 0.7768\n",
            "Epoch 49/100\n",
            "719/719 [==============================] - 3s 4ms/step - loss: 0.4102 - accuracy: 0.8150 - val_loss: 0.4790 - val_accuracy: 0.7765\n",
            "Epoch 50/100\n",
            "719/719 [==============================] - 3s 4ms/step - loss: 0.4100 - accuracy: 0.8153 - val_loss: 0.4780 - val_accuracy: 0.7784\n",
            "Epoch 51/100\n",
            "719/719 [==============================] - 5s 7ms/step - loss: 0.4095 - accuracy: 0.8158 - val_loss: 0.4787 - val_accuracy: 0.7776\n",
            "Epoch 52/100\n",
            "719/719 [==============================] - 5s 7ms/step - loss: 0.4084 - accuracy: 0.8160 - val_loss: 0.4785 - val_accuracy: 0.7773\n",
            "Epoch 53/100\n",
            "719/719 [==============================] - 3s 4ms/step - loss: 0.4077 - accuracy: 0.8157 - val_loss: 0.4784 - val_accuracy: 0.7778\n",
            "Epoch 54/100\n",
            "719/719 [==============================] - 3s 4ms/step - loss: 0.4079 - accuracy: 0.8150 - val_loss: 0.4783 - val_accuracy: 0.7773\n",
            "Epoch 55/100\n",
            "719/719 [==============================] - 3s 4ms/step - loss: 0.4067 - accuracy: 0.8160 - val_loss: 0.4781 - val_accuracy: 0.7768\n",
            "Epoch 56/100\n",
            "719/719 [==============================] - 3s 4ms/step - loss: 0.4063 - accuracy: 0.8160 - val_loss: 0.4776 - val_accuracy: 0.7773\n",
            "Epoch 57/100\n",
            "719/719 [==============================] - 3s 4ms/step - loss: 0.4054 - accuracy: 0.8159 - val_loss: 0.4776 - val_accuracy: 0.7760\n",
            "Epoch 58/100\n",
            "719/719 [==============================] - 3s 4ms/step - loss: 0.4046 - accuracy: 0.8164 - val_loss: 0.4789 - val_accuracy: 0.7760\n",
            "Epoch 59/100\n",
            "719/719 [==============================] - 3s 4ms/step - loss: 0.4043 - accuracy: 0.8160 - val_loss: 0.4782 - val_accuracy: 0.7803\n",
            "Epoch 60/100\n",
            "719/719 [==============================] - 3s 4ms/step - loss: 0.4043 - accuracy: 0.8174 - val_loss: 0.4797 - val_accuracy: 0.7808\n",
            "Epoch 61/100\n",
            "719/719 [==============================] - 3s 4ms/step - loss: 0.4036 - accuracy: 0.8167 - val_loss: 0.4776 - val_accuracy: 0.7762\n",
            "Epoch 62/100\n",
            "719/719 [==============================] - 3s 4ms/step - loss: 0.4031 - accuracy: 0.8176 - val_loss: 0.4786 - val_accuracy: 0.7735\n",
            "Epoch 63/100\n",
            "719/719 [==============================] - 3s 4ms/step - loss: 0.4027 - accuracy: 0.8162 - val_loss: 0.4782 - val_accuracy: 0.7797\n",
            "Epoch 64/100\n",
            "719/719 [==============================] - 3s 4ms/step - loss: 0.4020 - accuracy: 0.8166 - val_loss: 0.4785 - val_accuracy: 0.7773\n",
            "Epoch 65/100\n",
            "719/719 [==============================] - 3s 4ms/step - loss: 0.4020 - accuracy: 0.8169 - val_loss: 0.4788 - val_accuracy: 0.7797\n",
            "Epoch 66/100\n",
            "719/719 [==============================] - 3s 4ms/step - loss: 0.4020 - accuracy: 0.8167 - val_loss: 0.4858 - val_accuracy: 0.7668\n",
            "Epoch 67/100\n",
            "719/719 [==============================] - 3s 4ms/step - loss: 0.4012 - accuracy: 0.8175 - val_loss: 0.4783 - val_accuracy: 0.7746\n",
            "Epoch 68/100\n",
            "719/719 [==============================] - 3s 4ms/step - loss: 0.4010 - accuracy: 0.8164 - val_loss: 0.4787 - val_accuracy: 0.7778\n",
            "Epoch 69/100\n",
            "719/719 [==============================] - 3s 4ms/step - loss: 0.4003 - accuracy: 0.8165 - val_loss: 0.4801 - val_accuracy: 0.7714\n",
            "Epoch 70/100\n",
            "719/719 [==============================] - 3s 4ms/step - loss: 0.4000 - accuracy: 0.8166 - val_loss: 0.4836 - val_accuracy: 0.7697\n",
            "Epoch 71/100\n",
            "719/719 [==============================] - 3s 4ms/step - loss: 0.3999 - accuracy: 0.8163 - val_loss: 0.4780 - val_accuracy: 0.7773\n",
            "Epoch 72/100\n",
            "719/719 [==============================] - 3s 4ms/step - loss: 0.3995 - accuracy: 0.8154 - val_loss: 0.4781 - val_accuracy: 0.7754\n",
            "Epoch 73/100\n",
            "719/719 [==============================] - 3s 4ms/step - loss: 0.3988 - accuracy: 0.8167 - val_loss: 0.4801 - val_accuracy: 0.7743\n",
            "Epoch 74/100\n",
            "719/719 [==============================] - 3s 4ms/step - loss: 0.3987 - accuracy: 0.8169 - val_loss: 0.4818 - val_accuracy: 0.7719\n",
            "Epoch 75/100\n",
            "719/719 [==============================] - 3s 4ms/step - loss: 0.3988 - accuracy: 0.8170 - val_loss: 0.4776 - val_accuracy: 0.7743\n",
            "Epoch 76/100\n",
            "719/719 [==============================] - 3s 4ms/step - loss: 0.3987 - accuracy: 0.8159 - val_loss: 0.4798 - val_accuracy: 0.7749\n",
            "Epoch 77/100\n",
            "719/719 [==============================] - 3s 4ms/step - loss: 0.3985 - accuracy: 0.8161 - val_loss: 0.4799 - val_accuracy: 0.7722\n",
            "Epoch 78/100\n",
            "719/719 [==============================] - 3s 4ms/step - loss: 0.3977 - accuracy: 0.8182 - val_loss: 0.4781 - val_accuracy: 0.7741\n",
            "Epoch 79/100\n",
            "719/719 [==============================] - 3s 4ms/step - loss: 0.3974 - accuracy: 0.8160 - val_loss: 0.4800 - val_accuracy: 0.7735\n",
            "Epoch 80/100\n",
            "719/719 [==============================] - 3s 4ms/step - loss: 0.3975 - accuracy: 0.8183 - val_loss: 0.4779 - val_accuracy: 0.7746\n",
            "Epoch 81/100\n",
            "719/719 [==============================] - 3s 4ms/step - loss: 0.3970 - accuracy: 0.8169 - val_loss: 0.4810 - val_accuracy: 0.7789\n",
            "Epoch 82/100\n",
            "719/719 [==============================] - 3s 4ms/step - loss: 0.3967 - accuracy: 0.8187 - val_loss: 0.4794 - val_accuracy: 0.7741\n",
            "Epoch 83/100\n",
            "719/719 [==============================] - 3s 4ms/step - loss: 0.3976 - accuracy: 0.8179 - val_loss: 0.4783 - val_accuracy: 0.7792\n",
            "Epoch 84/100\n",
            "719/719 [==============================] - 3s 4ms/step - loss: 0.3963 - accuracy: 0.8183 - val_loss: 0.4792 - val_accuracy: 0.7803\n",
            "Epoch 85/100\n",
            "719/719 [==============================] - 3s 4ms/step - loss: 0.3962 - accuracy: 0.8176 - val_loss: 0.4806 - val_accuracy: 0.7749\n",
            "Epoch 86/100\n",
            "719/719 [==============================] - 4s 5ms/step - loss: 0.3958 - accuracy: 0.8180 - val_loss: 0.4796 - val_accuracy: 0.7800\n",
            "Epoch 87/100\n",
            "719/719 [==============================] - 3s 4ms/step - loss: 0.3960 - accuracy: 0.8184 - val_loss: 0.4776 - val_accuracy: 0.7762\n",
            "Epoch 88/100\n",
            "719/719 [==============================] - 3s 4ms/step - loss: 0.3952 - accuracy: 0.8182 - val_loss: 0.4790 - val_accuracy: 0.7749\n",
            "Epoch 89/100\n",
            "719/719 [==============================] - 3s 4ms/step - loss: 0.3952 - accuracy: 0.8181 - val_loss: 0.4797 - val_accuracy: 0.7743\n",
            "Epoch 90/100\n",
            "719/719 [==============================] - 3s 4ms/step - loss: 0.3950 - accuracy: 0.8170 - val_loss: 0.4783 - val_accuracy: 0.7760\n",
            "Epoch 91/100\n",
            "719/719 [==============================] - 3s 4ms/step - loss: 0.3953 - accuracy: 0.8162 - val_loss: 0.4792 - val_accuracy: 0.7733\n",
            "Epoch 92/100\n",
            "719/719 [==============================] - 3s 4ms/step - loss: 0.3944 - accuracy: 0.8174 - val_loss: 0.4873 - val_accuracy: 0.7638\n",
            "Epoch 93/100\n",
            "719/719 [==============================] - 3s 4ms/step - loss: 0.3945 - accuracy: 0.8188 - val_loss: 0.4818 - val_accuracy: 0.7716\n",
            "Epoch 94/100\n",
            "719/719 [==============================] - 3s 4ms/step - loss: 0.3943 - accuracy: 0.8179 - val_loss: 0.4781 - val_accuracy: 0.7751\n",
            "Epoch 95/100\n",
            "719/719 [==============================] - 3s 4ms/step - loss: 0.3938 - accuracy: 0.8179 - val_loss: 0.4804 - val_accuracy: 0.7776\n",
            "Epoch 96/100\n",
            "719/719 [==============================] - 3s 4ms/step - loss: 0.3942 - accuracy: 0.8170 - val_loss: 0.4802 - val_accuracy: 0.7741\n",
            "Epoch 97/100\n",
            "719/719 [==============================] - 3s 4ms/step - loss: 0.3936 - accuracy: 0.8180 - val_loss: 0.4831 - val_accuracy: 0.7727\n",
            "Epoch 98/100\n",
            "719/719 [==============================] - 3s 4ms/step - loss: 0.3936 - accuracy: 0.8184 - val_loss: 0.4803 - val_accuracy: 0.7754\n",
            "Epoch 99/100\n",
            "719/719 [==============================] - 3s 4ms/step - loss: 0.3934 - accuracy: 0.8190 - val_loss: 0.4833 - val_accuracy: 0.7714\n",
            "Epoch 100/100\n",
            "719/719 [==============================] - 4s 6ms/step - loss: 0.3928 - accuracy: 0.8168 - val_loss: 0.4821 - val_accuracy: 0.7746\n"
          ]
        }
      ],
      "source": [
        "num_epochs = 100\n",
        "history = model.fit(training_padded, training_labels, epochs=num_epochs,\n",
        "                    validation_data=(testing_padded, testing_labels))"
      ]
    },
    {
      "cell_type": "code",
      "execution_count": 43,
      "metadata": {
        "id": "nr6wB6CsgBNZ",
        "outputId": "f77a4ea9-8ca3-41cd-fd63-9f7af077df2b",
        "colab": {
          "base_uri": "https://localhost:8080/",
          "height": 279
        }
      },
      "outputs": [
        {
          "output_type": "display_data",
          "data": {
            "text/plain": [
              "<Figure size 432x288 with 1 Axes>"
            ],
            "image/png": "[encoded data removed]"
          },
          "metadata": {
            "needs_background": "light"
          }
        }
      ],
      "source": [
        "plt.plot(history.history['accuracy'])\n",
        "plt.plot(history.history['val_accuracy'])\n",
        "plt.xlabel('epochs')\n",
        "plt.ylabel('accuracy')\n",
        "plt.legend(['accuracy', 'val_accuracy'])\n",
        "plt.show()"
      ]
    },
    {
      "cell_type": "code",
      "execution_count": 44,
      "metadata": {
        "scrolled": true,
        "id": "IKXMSMipgBNZ",
        "outputId": "9cc0b29b-c6f8-480a-9cf2-36d1191c195e",
        "colab": {
          "base_uri": "https://localhost:8080/",
          "height": 279
        }
      },
      "outputs": [
        {
          "output_type": "display_data",
          "data": {
            "text/plain": [
              "<Figure size 432x288 with 1 Axes>"
            ],
            "image/png": "[encoded data removed]"
          },
          "metadata": {
            "needs_background": "light"
          }
        }
      ],
      "source": [
        "plt.plot(history.history['loss'])\n",
        "plt.plot(history.history['val_loss'])\n",
        "plt.xlabel('epochs')\n",
        "plt.ylabel('loss')\n",
        "plt.legend(['loss', 'val_loss'])\n",
        "plt.show()"
      ]
    },
    {
      "cell_type": "markdown",
      "metadata": {
        "id": "SVDnN8W3gBNa"
      },
      "source": [
        "#### 다른 고려 사항"
      ]
    },
    {
      "cell_type": "code",
      "execution_count": 45,
      "metadata": {
        "id": "wuiGmlqsgBNa",
        "outputId": "a974beda-5955-4b0e-834a-ca7584a13594",
        "colab": {
          "base_uri": "https://localhost:8080/",
          "height": 265
        }
      },
      "outputs": [
        {
          "output_type": "display_data",
          "data": {
            "text/plain": [
              "<Figure size 432x288 with 1 Axes>"
            ],
            "image/png": "[encoded data removed]"
          },
          "metadata": {
            "needs_background": "light"
          }
        }
      ],
      "source": [
        "xs=[]\n",
        "ys=[]\n",
        "current_item=1\n",
        "for item in sentences:\n",
        "    xs.append(current_item)\n",
        "    current_item=current_item+1\n",
        "    ys.append(len(item))\n",
        "newys = sorted(ys)\n",
        "\n",
        "plt.plot(xs,newys)\n",
        "plt.show()"
      ]
    },
    {
      "cell_type": "markdown",
      "metadata": {
        "id": "e3cXRe2igBNa"
      },
      "source": [
        "### 모델을 사용해 문장 분류하기"
      ]
    },
    {
      "cell_type": "code",
      "execution_count": 46,
      "metadata": {
        "id": "kVqC84ekgBNa"
      },
      "outputs": [],
      "source": [
        "sentences = [\"granny starting to fear spiders in the garden might be real\", \n",
        "             \"game of thrones season finale showing this sunday night\", \n",
        "             \"TensorFlow book will be a best seller\"]"
      ]
    },
    {
      "cell_type": "code",
      "execution_count": 47,
      "metadata": {
        "id": "j61KpoTTgBNb",
        "outputId": "716f5341-ddb6-4b79-c3d3-72eff980cad3",
        "colab": {
          "base_uri": "https://localhost:8080/"
        }
      },
      "outputs": [
        {
          "output_type": "stream",
          "name": "stdout",
          "text": [
            "[[1, 803, 1, 753, 1, 1, 1, 1, 312, 1, 97], [123, 1, 1183, 160, 1, 1, 1, 1543, 152], [1, 235, 7, 1, 1, 47, 1]]\n"
          ]
        }
      ],
      "source": [
        "sequences = tokenizer.texts_to_sequences(sentences)\n",
        "print(sequences)"
      ]
    },
    {
      "cell_type": "code",
      "execution_count": 48,
      "metadata": {
        "id": "40dHBuA2gBNb",
        "outputId": "da2877c3-ccab-4a90-e69e-ae3fe885ba77",
        "colab": {
          "base_uri": "https://localhost:8080/"
        }
      },
      "outputs": [
        {
          "output_type": "stream",
          "name": "stdout",
          "text": [
            "[[   1  803    1  753    1    1    1    1  312    1   97    0    0    0\n",
            "     0    0    0    0    0    0    0    0    0    0    0    0    0    0\n",
            "     0    0    0    0    0    0    0    0    0    0    0    0    0    0\n",
            "     0    0    0    0    0    0    0    0    0    0    0    0    0    0\n",
            "     0    0    0    0    0    0    0    0    0    0    0    0    0    0\n",
            "     0    0    0    0    0    0    0    0    0    0    0    0    0    0\n",
            "     0    0    0    0    0    0    0    0    0    0    0    0    0    0\n",
            "     0    0]\n",
            " [ 123    1 1183  160    1    1    1 1543  152    0    0    0    0    0\n",
            "     0    0    0    0    0    0    0    0    0    0    0    0    0    0\n",
            "     0    0    0    0    0    0    0    0    0    0    0    0    0    0\n",
            "     0    0    0    0    0    0    0    0    0    0    0    0    0    0\n",
            "     0    0    0    0    0    0    0    0    0    0    0    0    0    0\n",
            "     0    0    0    0    0    0    0    0    0    0    0    0    0    0\n",
            "     0    0    0    0    0    0    0    0    0    0    0    0    0    0\n",
            "     0    0]\n",
            " [   1  235    7    1    1   47    1    0    0    0    0    0    0    0\n",
            "     0    0    0    0    0    0    0    0    0    0    0    0    0    0\n",
            "     0    0    0    0    0    0    0    0    0    0    0    0    0    0\n",
            "     0    0    0    0    0    0    0    0    0    0    0    0    0    0\n",
            "     0    0    0    0    0    0    0    0    0    0    0    0    0    0\n",
            "     0    0    0    0    0    0    0    0    0    0    0    0    0    0\n",
            "     0    0    0    0    0    0    0    0    0    0    0    0    0    0\n",
            "     0    0]]\n"
          ]
        }
      ],
      "source": [
        "padded = pad_sequences(sequences, maxlen=max_length, \n",
        "                       padding=padding_type, truncating=trunc_type)\n",
        "print(padded)"
      ]
    },
    {
      "cell_type": "code",
      "execution_count": 49,
      "metadata": {
        "id": "i8iME1OMgBNb",
        "outputId": "9442d9ed-1860-40f1-a36c-d6496e6dcfbf",
        "colab": {
          "base_uri": "https://localhost:8080/"
        }
      },
      "outputs": [
        {
          "output_type": "stream",
          "name": "stdout",
          "text": [
            "1/1 [==============================] - 0s 171ms/step\n",
            "[[0.73394644]\n",
            " [0.03061298]\n",
            " [0.15492353]]\n"
          ]
        }
      ],
      "source": [
        "print(model.predict(padded))"
      ]
    },
    {
      "cell_type": "markdown",
      "metadata": {
        "id": "3oPj-k7xgBNb"
      },
      "source": [
        "## 임베딩 시각화"
      ]
    },
    {
      "cell_type": "code",
      "execution_count": 50,
      "metadata": {
        "id": "HWvcAC84gBNb",
        "outputId": "6a2606f2-7f2a-4133-d974-3f71920acd39",
        "colab": {
          "base_uri": "https://localhost:8080/"
        }
      },
      "outputs": [
        {
          "output_type": "stream",
          "name": "stdout",
          "text": [
            "(2000, 7)\n"
          ]
        }
      ],
      "source": [
        "e = model.layers[0]\n",
        "weights = e.get_weights()[0]\n",
        "print(weights.shape)"
      ]
    },
    {
      "cell_type": "code",
      "execution_count": 51,
      "metadata": {
        "id": "_Agw5laagBNc",
        "outputId": "c85715ba-18ad-4cdf-bb42-3b75ff40ce79",
        "colab": {
          "base_uri": "https://localhost:8080/"
        }
      },
      "outputs": [
        {
          "output_type": "stream",
          "name": "stdout",
          "text": [
            "new\n",
            "[ 0.6022285 -0.8475791  0.8939301  0.7452286  0.8627297 -0.8690545\n",
            " -0.8533438]\n"
          ]
        }
      ],
      "source": [
        "print(tokenizer.index_word[2])\n",
        "print(weights[2])"
      ]
    },
    {
      "cell_type": "code",
      "execution_count": 52,
      "metadata": {
        "id": "HUrpL_KUgBNc"
      },
      "outputs": [],
      "source": [
        "import io\n",
        "\n",
        "out_v = io.open('vecs.tsv', 'w', encoding='utf-8')\n",
        "out_m = io.open('meta.tsv', 'w', encoding='utf-8')\n",
        "for word_num in range(1, vocab_size):\n",
        "    word = tokenizer.index_word[word_num]\n",
        "    embeddings = weights[word_num]\n",
        "    out_m.write(word + \"\\n\")\n",
        "    out_v.write('\\t'.join([str(x) for x in embeddings]) + \"\\n\")\n",
        "out_v.close()\n",
        "out_m.close()"
      ]
    },
    {
      "cell_type": "markdown",
      "metadata": {
        "id": "3LY46JahgBNc"
      },
      "source": [
        "## 텐서플로 허브에서 사전 훈련된 임베딩 사용하기"
      ]
    },
    {
      "cell_type": "code",
      "execution_count": 53,
      "metadata": {
        "id": "eWXruSfOgBNc"
      },
      "outputs": [],
      "source": [
        "import tensorflow_hub as hub\n",
        "\n",
        "hub_layer = hub.KerasLayer(\n",
        "    \"https://tfhub.dev/google/tf2-preview/gnews-swivel-20dim/1\", \n",
        "    output_shape=[20], input_shape=[], \n",
        "    dtype=tf.string, trainable=False\n",
        ")"
      ]
    },
    {
      "cell_type": "code",
      "execution_count": 54,
      "metadata": {
        "id": "vy-vB2QJgBNc"
      },
      "outputs": [],
      "source": [
        "model = tf.keras.Sequential([\n",
        "    hub_layer,\n",
        "    tf.keras.layers.Dense(16, activation='relu'),\n",
        "    tf.keras.layers.Dense(1, activation='sigmoid')\n",
        "])\n",
        "\n",
        "adam = tf.keras.optimizers.Adam(learning_rate=0.0001, beta_1=0.9, \n",
        "                                beta_2=0.999, amsgrad=False)\n",
        "\n",
        "model.compile(loss='binary_crossentropy',optimizer=adam, \n",
        "              metrics=['accuracy'])"
      ]
    },
    {
      "cell_type": "code",
      "execution_count": 55,
      "metadata": {
        "id": "pCuVs9OKgBNd",
        "outputId": "dc3cc2cf-fe22-4a9a-c2bb-ffc093ad919b",
        "colab": {
          "base_uri": "https://localhost:8080/"
        }
      },
      "outputs": [
        {
          "output_type": "stream",
          "name": "stdout",
          "text": [
            "Model: \"sequential_7\"\n",
            "_________________________________________________________________\n",
            " Layer (type)                Output Shape              Param #   \n",
            "=================================================================\n",
            " keras_layer (KerasLayer)    (None, 20)                400020    \n",
            "                                                                 \n",
            " dense_14 (Dense)            (None, 16)                336       \n",
            "                                                                 \n",
            " dense_15 (Dense)            (None, 1)                 17        \n",
            "                                                                 \n",
            "=================================================================\n",
            "Total params: 400,373\n",
            "Trainable params: 353\n",
            "Non-trainable params: 400,020\n",
            "_________________________________________________________________\n"
          ]
        }
      ],
      "source": [
        "model.summary()"
      ]
    },
    {
      "cell_type": "code",
      "execution_count": 56,
      "metadata": {
        "id": "8Y3MKhTlgBNd"
      },
      "outputs": [],
      "source": [
        "# 넘파이 배열로 바뀐 레이블을 다시 리스트로 변경합니다.\n",
        "training_labels = training_labels.tolist()\n",
        "testing_labels = testing_labels.tolist()"
      ]
    },
    {
      "cell_type": "code",
      "execution_count": 57,
      "metadata": {
        "id": "-Z7Gqtp6gBNd",
        "outputId": "2b997b02-b497-4ed7-ec38-ccceb29902e0",
        "colab": {
          "base_uri": "https://localhost:8080/"
        }
      },
      "outputs": [
        {
          "output_type": "stream",
          "name": "stdout",
          "text": [
            "Epoch 1/50\n",
            "719/719 [==============================] - 3s 4ms/step - loss: 0.6834 - accuracy: 0.5500 - val_loss: 0.6735 - val_accuracy: 0.5748\n",
            "Epoch 2/50\n",
            "719/719 [==============================] - 3s 4ms/step - loss: 0.6694 - accuracy: 0.5862 - val_loss: 0.6648 - val_accuracy: 0.5967\n",
            "Epoch 3/50\n",
            "719/719 [==============================] - 3s 4ms/step - loss: 0.6624 - accuracy: 0.6064 - val_loss: 0.6598 - val_accuracy: 0.6085\n",
            "Epoch 4/50\n",
            "719/719 [==============================] - 3s 4ms/step - loss: 0.6577 - accuracy: 0.6156 - val_loss: 0.6557 - val_accuracy: 0.6120\n",
            "Epoch 5/50\n",
            "719/719 [==============================] - 3s 4ms/step - loss: 0.6540 - accuracy: 0.6212 - val_loss: 0.6521 - val_accuracy: 0.6169\n",
            "Epoch 6/50\n",
            "719/719 [==============================] - 3s 4ms/step - loss: 0.6509 - accuracy: 0.6259 - val_loss: 0.6490 - val_accuracy: 0.6223\n",
            "Epoch 7/50\n",
            "719/719 [==============================] - 3s 4ms/step - loss: 0.6482 - accuracy: 0.6294 - val_loss: 0.6462 - val_accuracy: 0.6239\n",
            "Epoch 8/50\n",
            "719/719 [==============================] - 3s 4ms/step - loss: 0.6458 - accuracy: 0.6337 - val_loss: 0.6437 - val_accuracy: 0.6312\n",
            "Epoch 9/50\n",
            "719/719 [==============================] - 3s 4ms/step - loss: 0.6436 - accuracy: 0.6374 - val_loss: 0.6416 - val_accuracy: 0.6322\n",
            "Epoch 10/50\n",
            "719/719 [==============================] - 3s 4ms/step - loss: 0.6415 - accuracy: 0.6400 - val_loss: 0.6395 - val_accuracy: 0.6366\n",
            "Epoch 11/50\n",
            "719/719 [==============================] - 3s 4ms/step - loss: 0.6396 - accuracy: 0.6431 - val_loss: 0.6378 - val_accuracy: 0.6401\n",
            "Epoch 12/50\n",
            "719/719 [==============================] - 3s 4ms/step - loss: 0.6378 - accuracy: 0.6448 - val_loss: 0.6361 - val_accuracy: 0.6411\n",
            "Epoch 13/50\n",
            "719/719 [==============================] - 3s 4ms/step - loss: 0.6362 - accuracy: 0.6471 - val_loss: 0.6346 - val_accuracy: 0.6428\n",
            "Epoch 14/50\n",
            "719/719 [==============================] - 3s 4ms/step - loss: 0.6346 - accuracy: 0.6488 - val_loss: 0.6331 - val_accuracy: 0.6457\n",
            "Epoch 15/50\n",
            "719/719 [==============================] - 3s 4ms/step - loss: 0.6331 - accuracy: 0.6496 - val_loss: 0.6319 - val_accuracy: 0.6468\n",
            "Epoch 16/50\n",
            "719/719 [==============================] - 3s 4ms/step - loss: 0.6317 - accuracy: 0.6518 - val_loss: 0.6303 - val_accuracy: 0.6476\n",
            "Epoch 17/50\n",
            "719/719 [==============================] - 3s 4ms/step - loss: 0.6304 - accuracy: 0.6530 - val_loss: 0.6292 - val_accuracy: 0.6479\n",
            "Epoch 18/50\n",
            "719/719 [==============================] - 3s 4ms/step - loss: 0.6291 - accuracy: 0.6541 - val_loss: 0.6280 - val_accuracy: 0.6490\n",
            "Epoch 19/50\n",
            "719/719 [==============================] - 3s 4ms/step - loss: 0.6278 - accuracy: 0.6544 - val_loss: 0.6272 - val_accuracy: 0.6482\n",
            "Epoch 20/50\n",
            "719/719 [==============================] - 3s 4ms/step - loss: 0.6267 - accuracy: 0.6547 - val_loss: 0.6263 - val_accuracy: 0.6495\n",
            "Epoch 21/50\n",
            "719/719 [==============================] - 3s 4ms/step - loss: 0.6256 - accuracy: 0.6574 - val_loss: 0.6253 - val_accuracy: 0.6498\n",
            "Epoch 22/50\n",
            "719/719 [==============================] - 3s 4ms/step - loss: 0.6246 - accuracy: 0.6586 - val_loss: 0.6240 - val_accuracy: 0.6503\n",
            "Epoch 23/50\n",
            "719/719 [==============================] - 3s 4ms/step - loss: 0.6236 - accuracy: 0.6586 - val_loss: 0.6232 - val_accuracy: 0.6527\n",
            "Epoch 24/50\n",
            "719/719 [==============================] - 3s 4ms/step - loss: 0.6227 - accuracy: 0.6586 - val_loss: 0.6221 - val_accuracy: 0.6552\n",
            "Epoch 25/50\n",
            "719/719 [==============================] - 3s 4ms/step - loss: 0.6219 - accuracy: 0.6599 - val_loss: 0.6216 - val_accuracy: 0.6552\n",
            "Epoch 26/50\n",
            "719/719 [==============================] - 3s 4ms/step - loss: 0.6211 - accuracy: 0.6611 - val_loss: 0.6204 - val_accuracy: 0.6557\n",
            "Epoch 27/50\n",
            "719/719 [==============================] - 3s 4ms/step - loss: 0.6203 - accuracy: 0.6607 - val_loss: 0.6202 - val_accuracy: 0.6579\n",
            "Epoch 28/50\n",
            "719/719 [==============================] - 3s 4ms/step - loss: 0.6197 - accuracy: 0.6611 - val_loss: 0.6193 - val_accuracy: 0.6573\n",
            "Epoch 29/50\n",
            "719/719 [==============================] - 3s 4ms/step - loss: 0.6190 - accuracy: 0.6603 - val_loss: 0.6188 - val_accuracy: 0.6573\n",
            "Epoch 30/50\n",
            "719/719 [==============================] - 3s 4ms/step - loss: 0.6184 - accuracy: 0.6614 - val_loss: 0.6179 - val_accuracy: 0.6565\n",
            "Epoch 31/50\n",
            "719/719 [==============================] - 3s 4ms/step - loss: 0.6178 - accuracy: 0.6622 - val_loss: 0.6175 - val_accuracy: 0.6557\n",
            "Epoch 32/50\n",
            "719/719 [==============================] - 3s 4ms/step - loss: 0.6173 - accuracy: 0.6622 - val_loss: 0.6171 - val_accuracy: 0.6576\n",
            "Epoch 33/50\n",
            "719/719 [==============================] - 3s 4ms/step - loss: 0.6168 - accuracy: 0.6631 - val_loss: 0.6168 - val_accuracy: 0.6584\n",
            "Epoch 34/50\n",
            "719/719 [==============================] - 3s 4ms/step - loss: 0.6163 - accuracy: 0.6643 - val_loss: 0.6166 - val_accuracy: 0.6600\n",
            "Epoch 35/50\n",
            "719/719 [==============================] - 3s 4ms/step - loss: 0.6159 - accuracy: 0.6633 - val_loss: 0.6155 - val_accuracy: 0.6587\n",
            "Epoch 36/50\n",
            "719/719 [==============================] - 3s 4ms/step - loss: 0.6154 - accuracy: 0.6645 - val_loss: 0.6150 - val_accuracy: 0.6581\n",
            "Epoch 37/50\n",
            "719/719 [==============================] - 3s 4ms/step - loss: 0.6150 - accuracy: 0.6631 - val_loss: 0.6149 - val_accuracy: 0.6595\n",
            "Epoch 38/50\n",
            "719/719 [==============================] - 3s 4ms/step - loss: 0.6146 - accuracy: 0.6649 - val_loss: 0.6146 - val_accuracy: 0.6595\n",
            "Epoch 39/50\n",
            "719/719 [==============================] - 3s 4ms/step - loss: 0.6142 - accuracy: 0.6645 - val_loss: 0.6141 - val_accuracy: 0.6611\n",
            "Epoch 40/50\n",
            "719/719 [==============================] - 3s 4ms/step - loss: 0.6139 - accuracy: 0.6651 - val_loss: 0.6136 - val_accuracy: 0.6597\n",
            "Epoch 41/50\n",
            "719/719 [==============================] - 3s 4ms/step - loss: 0.6135 - accuracy: 0.6656 - val_loss: 0.6137 - val_accuracy: 0.6624\n",
            "Epoch 42/50\n",
            "719/719 [==============================] - 3s 4ms/step - loss: 0.6131 - accuracy: 0.6653 - val_loss: 0.6131 - val_accuracy: 0.6600\n",
            "Epoch 43/50\n",
            "719/719 [==============================] - 3s 4ms/step - loss: 0.6128 - accuracy: 0.6667 - val_loss: 0.6128 - val_accuracy: 0.6627\n",
            "Epoch 44/50\n",
            "719/719 [==============================] - 3s 4ms/step - loss: 0.6125 - accuracy: 0.6660 - val_loss: 0.6126 - val_accuracy: 0.6630\n",
            "Epoch 45/50\n",
            "719/719 [==============================] - 3s 4ms/step - loss: 0.6121 - accuracy: 0.6670 - val_loss: 0.6126 - val_accuracy: 0.6635\n",
            "Epoch 46/50\n",
            "719/719 [==============================] - 3s 4ms/step - loss: 0.6119 - accuracy: 0.6674 - val_loss: 0.6121 - val_accuracy: 0.6633\n",
            "Epoch 47/50\n",
            "719/719 [==============================] - 3s 4ms/step - loss: 0.6115 - accuracy: 0.6677 - val_loss: 0.6124 - val_accuracy: 0.6627\n",
            "Epoch 48/50\n",
            "719/719 [==============================] - 3s 4ms/step - loss: 0.6113 - accuracy: 0.6681 - val_loss: 0.6115 - val_accuracy: 0.6646\n",
            "Epoch 49/50\n",
            "719/719 [==============================] - 3s 4ms/step - loss: 0.6110 - accuracy: 0.6687 - val_loss: 0.6109 - val_accuracy: 0.6627\n",
            "Epoch 50/50\n",
            "719/719 [==============================] - 3s 4ms/step - loss: 0.6107 - accuracy: 0.6694 - val_loss: 0.6113 - val_accuracy: 0.6651\n"
          ]
        }
      ],
      "source": [
        "num_epochs = 50\n",
        "history = model.fit(training_sentences, training_labels, epochs=num_epochs,\n",
        "                    validation_data=(testing_sentences, testing_labels))"
      ]
    },
    {
      "cell_type": "code",
      "execution_count": 58,
      "metadata": {
        "id": "kLPe8qwQgBNd",
        "outputId": "5a42784f-ab06-4abc-e857-bd548f35c935",
        "colab": {
          "base_uri": "https://localhost:8080/",
          "height": 279
        }
      },
      "outputs": [
        {
          "output_type": "display_data",
          "data": {
            "text/plain": [
              "<Figure size 432x288 with 1 Axes>"
            ],
            "image/png": "[encoded data removed]"
          },
          "metadata": {
            "needs_background": "light"
          }
        }
      ],
      "source": [
        "plt.plot(history.history['accuracy'])\n",
        "plt.plot(history.history['val_accuracy'])\n",
        "plt.xlabel('epochs')\n",
        "plt.ylabel('accuracy')\n",
        "plt.legend(['accuracy', 'val_accuracy'])\n",
        "plt.show()"
      ]
    },
    {
      "cell_type": "code",
      "execution_count": 59,
      "metadata": {
        "id": "X85U0-NZgBNd",
        "outputId": "cd8cfcd6-9a89-4ad2-cd63-9fa000b7f494",
        "colab": {
          "base_uri": "https://localhost:8080/",
          "height": 279
        }
      },
      "outputs": [
        {
          "output_type": "display_data",
          "data": {
            "text/plain": [
              "<Figure size 432x288 with 1 Axes>"
            ],
            "image/png": "[encoded data removed]"
          },
          "metadata": {
            "needs_background": "light"
          }
        }
      ],
      "source": [
        "plt.plot(history.history['loss'])\n",
        "plt.plot(history.history['val_loss'])\n",
        "plt.xlabel('epochs')\n",
        "plt.ylabel('loss')\n",
        "plt.legend(['loss', 'val_loss'])\n",
        "plt.show()"
      ]
    }
  ],
  "metadata": {
    "kernelspec": {
      "display_name": "default:Python",
      "language": "python",
      "name": "conda-env-default-py"
    },
    "language_info": {
      "codemirror_mode": {
        "name": "ipython",
        "version": 3
      },
      "file_extension": ".py",
      "mimetype": "text/x-python",
      "name": "python",
      "nbconvert_exporter": "python",
      "pygments_lexer": "ipython3",
      "version": "3.9.12"
    },
    "colab": {
      "provenance": []
    },
    "accelerator": "GPU",
    "gpuClass": "standard"
  },
  "nbformat": 4,
  "nbformat_minor": 0
}