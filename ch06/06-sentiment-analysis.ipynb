{
 "cells": [
  {
   "cell_type": "markdown",
   "metadata": {},
   "source": [
    "# 6장. 임베딩을 사용한 감성 프로그래밍"
   ]
  },
  {
   "cell_type": "markdown",
   "metadata": {},
   "source": [
    "<table class=\"tfo-notebook-buttons\" align=\"left\">\n",
    "  <td>\n",
    "    <a target=\"_blank\" href=\"https://nbviewer.jupyter.org/github/rickiepark/aiml4coders/blob/main/ch06/06-sentiment-analysis.ipynb\"><img src=\"https://jupyter.org/assets/share.png\" width=\"61\" />주피터 노트북 뷰어로 보기</a>\n",
    "  </td>\n",
    "  <td>\n",
    "    <a target=\"_blank\" href=\"https://colab.research.google.com/github/rickiepark/aiml4coders/blob/main/ch06/06-sentiment-analysis.ipynb\"><img src=\"https://www.tensorflow.org/images/colab_logo_32px.png\" />구글 코랩(Colab)에서 실행하기</a>\n",
    "  </td>\n",
    "</table>"
   ]
  },
  {
   "cell_type": "code",
   "execution_count": null,
   "metadata": {},
   "outputs": [],
   "source": [
    "# 노트북이 코랩에서 실행 중인지 체크합니다.\n",
    "import sys\n",
    "if 'google.colab' in sys.modules:\n",
    "    !wget -q https://github.com/rickiepark/aiml4coders/raw/main/ch05/sarcasm.json\n",
    "    !mkdir ../ch05\n",
    "    !mv sarcasm.json ../ch05"
   ]
  },
  {
   "cell_type": "markdown",
   "metadata": {},
   "source": [
    "## Sarcasm 데이터셋 로딩 및 전처리"
   ]
  },
  {
   "cell_type": "code",
   "execution_count": 1,
   "metadata": {},
   "outputs": [],
   "source": [
    "import json\n",
    "from tensorflow.keras.preprocessing.text import Tokenizer\n",
    "from tensorflow.keras.preprocessing.sequence import pad_sequences\n",
    "from bs4 import BeautifulSoup\n",
    "import string\n",
    "import tensorflow as tf"
   ]
  },
  {
   "cell_type": "code",
   "execution_count": 2,
   "metadata": {},
   "outputs": [],
   "source": [
    "stopwords = [\"a\", \"about\", \"above\", \"after\", \"again\", \"against\", \"all\", \"am\", \"an\", \"and\", \"any\", \"are\", \"as\", \"at\",\n",
    "             \"be\", \"because\", \"been\", \"before\", \"being\", \"below\", \"between\", \"both\", \"but\", \"by\", \"could\", \"did\", \"do\",\n",
    "             \"does\", \"doing\", \"down\", \"during\", \"each\", \"few\", \"for\", \"from\", \"further\", \"had\", \"has\", \"have\", \"having\",\n",
    "             \"he\", \"hed\", \"hes\", \"her\", \"here\", \"heres\", \"hers\", \"herself\", \"him\", \"himself\", \"his\", \"how\",\n",
    "             \"hows\", \"i\", \"id\", \"ill\", \"im\", \"ive\", \"if\", \"in\", \"into\", \"is\", \"it\", \"its\", \"itself\",\n",
    "             \"lets\", \"me\", \"more\", \"most\", \"my\", \"myself\", \"nor\", \"of\", \"on\", \"once\", \"only\", \"or\", \"other\", \"ought\",\n",
    "             \"our\", \"ours\", \"ourselves\", \"out\", \"over\", \"own\", \"same\", \"she\", \"shed\", \"shell\", \"shes\", \"should\",\n",
    "             \"so\", \"some\", \"such\", \"than\", \"that\", \"thats\", \"the\", \"their\", \"theirs\", \"them\", \"themselves\", \"then\",\n",
    "             \"there\", \"theres\", \"these\", \"they\", \"theyd\", \"theyll\", \"theyre\", \"theyve\", \"this\", \"those\", \"through\",\n",
    "             \"to\", \"too\", \"under\", \"until\", \"up\", \"very\", \"was\", \"we\", \"wed\", \"well\", \"were\", \"weve\", \"were\",\n",
    "             \"what\", \"whats\", \"when\", \"whens\", \"where\", \"wheres\", \"which\", \"while\", \"who\", \"whos\", \"whom\", \"why\",\n",
    "             \"whys\", \"with\", \"would\", \"you\", \"youd\", \"youll\", \"youre\", \"youve\", \"your\", \"yours\", \"yourself\",\n",
    "             \"yourselves\"]\n",
    "\n",
    "table = str.maketrans('', '', string.punctuation)"
   ]
  },
  {
   "cell_type": "code",
   "execution_count": 3,
   "metadata": {},
   "outputs": [],
   "source": [
    "with open(\"../ch05/sarcasm.json\", 'r') as f:\n",
    "    datastore = json.load(f)\n",
    "\n",
    "sentences = [] \n",
    "labels = []\n",
    "urls = []\n",
    "for item in datastore:\n",
    "    sentence = item['headline'].lower()\n",
    "    sentence = sentence.replace(\",\", \" , \")\n",
    "    sentence = sentence.replace(\".\", \" . \")\n",
    "    sentence = sentence.replace(\"-\", \" - \")\n",
    "    sentence = sentence.replace(\"/\", \" / \")\n",
    "    soup = BeautifulSoup(sentence)\n",
    "    sentence = soup.get_text()\n",
    "    words = sentence.split()\n",
    "    filtered_sentence = \"\"\n",
    "    for word in words:\n",
    "        word = word.translate(table)\n",
    "        if word not in stopwords:\n",
    "            filtered_sentence = filtered_sentence + word + \" \"\n",
    "    sentences.append(filtered_sentence)\n",
    "    labels.append(item['is_sarcastic'])\n",
    "    urls.append(item['article_link'])"
   ]
  },
  {
   "cell_type": "code",
   "execution_count": 4,
   "metadata": {},
   "outputs": [],
   "source": [
    "vocab_size = 10000\n",
    "embedding_dim = 16\n",
    "max_length = 100\n",
    "trunc_type='post'\n",
    "padding_type='post'\n",
    "oov_tok = \"<OOV>\"\n",
    "training_size = 23000"
   ]
  },
  {
   "cell_type": "code",
   "execution_count": 5,
   "metadata": {},
   "outputs": [],
   "source": [
    "training_sentences = sentences[0:training_size]\n",
    "testing_sentences = sentences[training_size:]\n",
    "training_labels = labels[0:training_size]\n",
    "testing_labels = labels[training_size:]"
   ]
  },
  {
   "cell_type": "code",
   "execution_count": 6,
   "metadata": {},
   "outputs": [],
   "source": [
    "tokenizer = Tokenizer(num_words=vocab_size, oov_token=oov_tok)\n",
    "tokenizer.fit_on_texts(training_sentences)\n",
    "\n",
    "word_index = tokenizer.word_index\n",
    "\n",
    "training_sequences = tokenizer.texts_to_sequences(training_sentences)\n",
    "training_padded = pad_sequences(training_sequences, maxlen=max_length, padding=padding_type, truncating=trunc_type)\n",
    "\n",
    "testing_sequences = tokenizer.texts_to_sequences(testing_sentences)\n",
    "testing_padded = pad_sequences(testing_sequences, maxlen=max_length, padding=padding_type, truncating=trunc_type)"
   ]
  },
  {
   "cell_type": "markdown",
   "metadata": {},
   "source": [
    "## 텐서플로의 임베딩\n",
    "\n",
    "### 임베딩을 사용해 빈정거림 감지기 만들기"
   ]
  },
  {
   "cell_type": "code",
   "execution_count": 8,
   "metadata": {},
   "outputs": [],
   "source": [
    "import numpy as np\n",
    "\n",
    "training_padded = np.array(training_padded)\n",
    "training_labels = np.array(training_labels)\n",
    "testing_padded = np.array(testing_padded)\n",
    "testing_labels = np.array(testing_labels)"
   ]
  },
  {
   "cell_type": "code",
   "execution_count": 9,
   "metadata": {},
   "outputs": [],
   "source": [
    "model = tf.keras.Sequential([\n",
    "    tf.keras.layers.Embedding(vocab_size, embedding_dim),\n",
    "    tf.keras.layers.GlobalAveragePooling1D(),\n",
    "    tf.keras.layers.Dense(24, activation='relu'),\n",
    "    tf.keras.layers.Dense(1, activation='sigmoid')\n",
    "])\n",
    "model.compile(loss='binary_crossentropy',\n",
    "              optimizer='adam',metrics=['accuracy'])"
   ]
  },
  {
   "cell_type": "code",
   "execution_count": 10,
   "metadata": {},
   "outputs": [
    {
     "name": "stdout",
     "output_type": "stream",
     "text": [
      "Model: \"sequential\"\n",
      "_________________________________________________________________\n",
      " Layer (type)                Output Shape              Param #   \n",
      "=================================================================\n",
      " embedding (Embedding)       (None, None, 16)          160000    \n",
      "                                                                 \n",
      " global_average_pooling1d (G  (None, 16)               0         \n",
      " lobalAveragePooling1D)                                          \n",
      "                                                                 \n",
      " dense (Dense)               (None, 24)                408       \n",
      "                                                                 \n",
      " dense_1 (Dense)             (None, 1)                 25        \n",
      "                                                                 \n",
      "=================================================================\n",
      "Total params: 160,433\n",
      "Trainable params: 160,433\n",
      "Non-trainable params: 0\n",
      "_________________________________________________________________\n"
     ]
    }
   ],
   "source": [
    "model.summary()"
   ]
  },
  {
   "cell_type": "code",
   "execution_count": 11,
   "metadata": {
    "scrolled": true
   },
   "outputs": [
    {
     "name": "stdout",
     "output_type": "stream",
     "text": [
      "Epoch 1/30\n",
      "719/719 [==============================] - 2s 2ms/step - loss: 0.6794 - accuracy: 0.5627 - val_loss: 0.6482 - val_accuracy: 0.5958\n",
      "Epoch 2/30\n",
      "719/719 [==============================] - 2s 2ms/step - loss: 0.5394 - accuracy: 0.7441 - val_loss: 0.4723 - val_accuracy: 0.7743\n",
      "Epoch 3/30\n",
      "719/719 [==============================] - 1s 2ms/step - loss: 0.3864 - accuracy: 0.8352 - val_loss: 0.4345 - val_accuracy: 0.7970\n",
      "Epoch 4/30\n",
      "719/719 [==============================] - 1s 2ms/step - loss: 0.3234 - accuracy: 0.8623 - val_loss: 0.4206 - val_accuracy: 0.8016\n",
      "Epoch 5/30\n",
      "719/719 [==============================] - 2s 2ms/step - loss: 0.2849 - accuracy: 0.8812 - val_loss: 0.4239 - val_accuracy: 0.8078\n",
      "Epoch 6/30\n",
      "719/719 [==============================] - 2s 2ms/step - loss: 0.2603 - accuracy: 0.8928 - val_loss: 0.4479 - val_accuracy: 0.7948\n",
      "Epoch 7/30\n",
      "719/719 [==============================] - 2s 2ms/step - loss: 0.2381 - accuracy: 0.9027 - val_loss: 0.4553 - val_accuracy: 0.8067\n",
      "Epoch 8/30\n",
      "719/719 [==============================] - 1s 2ms/step - loss: 0.2213 - accuracy: 0.9095 - val_loss: 0.4756 - val_accuracy: 0.7983\n",
      "Epoch 9/30\n",
      "719/719 [==============================] - 1s 2ms/step - loss: 0.2059 - accuracy: 0.9174 - val_loss: 0.4922 - val_accuracy: 0.8040\n",
      "Epoch 10/30\n",
      "719/719 [==============================] - 2s 2ms/step - loss: 0.1961 - accuracy: 0.9218 - val_loss: 0.5057 - val_accuracy: 0.8008\n",
      "Epoch 11/30\n",
      "719/719 [==============================] - 2s 2ms/step - loss: 0.1838 - accuracy: 0.9271 - val_loss: 0.5391 - val_accuracy: 0.8002\n",
      "Epoch 12/30\n",
      "719/719 [==============================] - 2s 2ms/step - loss: 0.1750 - accuracy: 0.9301 - val_loss: 0.5574 - val_accuracy: 0.7916\n",
      "Epoch 13/30\n",
      "719/719 [==============================] - 2s 2ms/step - loss: 0.1667 - accuracy: 0.9330 - val_loss: 0.5896 - val_accuracy: 0.7889\n",
      "Epoch 14/30\n",
      "719/719 [==============================] - 2s 2ms/step - loss: 0.1584 - accuracy: 0.9385 - val_loss: 0.6446 - val_accuracy: 0.7770\n",
      "Epoch 15/30\n",
      "719/719 [==============================] - 2s 2ms/step - loss: 0.1546 - accuracy: 0.9397 - val_loss: 0.6341 - val_accuracy: 0.7905\n",
      "Epoch 16/30\n",
      "719/719 [==============================] - 2s 2ms/step - loss: 0.1437 - accuracy: 0.9445 - val_loss: 0.6629 - val_accuracy: 0.7894\n",
      "Epoch 17/30\n",
      "719/719 [==============================] - 2s 2ms/step - loss: 0.1386 - accuracy: 0.9482 - val_loss: 0.6949 - val_accuracy: 0.7830\n",
      "Epoch 18/30\n",
      "719/719 [==============================] - 1s 2ms/step - loss: 0.1323 - accuracy: 0.9497 - val_loss: 0.7362 - val_accuracy: 0.7913\n",
      "Epoch 19/30\n",
      "719/719 [==============================] - 1s 2ms/step - loss: 0.1290 - accuracy: 0.9514 - val_loss: 0.7577 - val_accuracy: 0.7822\n",
      "Epoch 20/30\n",
      "719/719 [==============================] - 1s 2ms/step - loss: 0.1236 - accuracy: 0.9549 - val_loss: 0.7869 - val_accuracy: 0.7824\n",
      "Epoch 21/30\n",
      "719/719 [==============================] - 1s 2ms/step - loss: 0.1205 - accuracy: 0.9547 - val_loss: 0.8142 - val_accuracy: 0.7784\n",
      "Epoch 22/30\n",
      "719/719 [==============================] - 1s 2ms/step - loss: 0.1153 - accuracy: 0.9574 - val_loss: 0.9413 - val_accuracy: 0.7819\n",
      "Epoch 23/30\n",
      "719/719 [==============================] - 2s 2ms/step - loss: 0.1137 - accuracy: 0.9594 - val_loss: 0.8726 - val_accuracy: 0.7786\n",
      "Epoch 24/30\n",
      "719/719 [==============================] - 2s 2ms/step - loss: 0.1088 - accuracy: 0.9595 - val_loss: 0.9496 - val_accuracy: 0.7830\n",
      "Epoch 25/30\n",
      "719/719 [==============================] - 2s 2ms/step - loss: 0.1041 - accuracy: 0.9629 - val_loss: 0.9460 - val_accuracy: 0.7803\n",
      "Epoch 26/30\n",
      "719/719 [==============================] - 2s 2ms/step - loss: 0.1003 - accuracy: 0.9642 - val_loss: 0.9885 - val_accuracy: 0.7792\n",
      "Epoch 27/30\n",
      "719/719 [==============================] - 2s 2ms/step - loss: 0.0991 - accuracy: 0.9626 - val_loss: 1.0086 - val_accuracy: 0.7808\n",
      "Epoch 28/30\n",
      "719/719 [==============================] - 2s 2ms/step - loss: 0.0951 - accuracy: 0.9660 - val_loss: 1.0575 - val_accuracy: 0.7786\n",
      "Epoch 29/30\n",
      "719/719 [==============================] - 2s 2ms/step - loss: 0.0940 - accuracy: 0.9667 - val_loss: 1.0778 - val_accuracy: 0.7789\n",
      "Epoch 30/30\n",
      "719/719 [==============================] - 2s 2ms/step - loss: 0.0915 - accuracy: 0.9667 - val_loss: 1.0739 - val_accuracy: 0.7706\n"
     ]
    }
   ],
   "source": [
    "num_epochs = 30\n",
    "history = model.fit(training_padded, training_labels, epochs=num_epochs,\n",
    "                    validation_data=(testing_padded, testing_labels))"
   ]
  },
  {
   "cell_type": "code",
   "execution_count": 12,
   "metadata": {},
   "outputs": [
    {
     "data": {
      "image/png": "[encoded data removed]",
      "text/plain": [
       "<Figure size 432x288 with 1 Axes>"
      ]
     },
     "metadata": {
      "needs_background": "light"
     },
     "output_type": "display_data"
    }
   ],
   "source": [
    "import matplotlib.pyplot as plt\n",
    "\n",
    "plt.plot(history.history['accuracy'])\n",
    "plt.plot(history.history['val_accuracy'])\n",
    "plt.xlabel('epochs')\n",
    "plt.ylabel('accuracy')\n",
    "plt.legend(['accuracy', 'val_accuracy'])\n",
    "plt.show()"
   ]
  },
  {
   "cell_type": "code",
   "execution_count": 13,
   "metadata": {},
   "outputs": [
    {
     "data": {
      "image/png": "[encoded data removed]",
      "text/plain": [
       "<Figure size 432x288 with 1 Axes>"
      ]
     },
     "metadata": {
      "needs_background": "light"
     },
     "output_type": "display_data"
    }
   ],
   "source": [
    "plt.plot(history.history['loss'])\n",
    "plt.plot(history.history['val_loss'])\n",
    "plt.xlabel('epochs')\n",
    "plt.ylabel('loss')\n",
    "plt.legend(['loss', 'val_loss'])\n",
    "plt.show()"
   ]
  },
  {
   "cell_type": "markdown",
   "metadata": {},
   "source": [
    "### 언어 모델의 과대적합 줄이기\n",
    "\n",
    "#### 학습률 조정하기"
   ]
  },
  {
   "cell_type": "code",
   "execution_count": 14,
   "metadata": {},
   "outputs": [
    {
     "name": "stdout",
     "output_type": "stream",
     "text": [
      "Epoch 1/100\n",
      "719/719 [==============================] - 2s 2ms/step - loss: 0.6900 - accuracy: 0.5558 - val_loss: 0.6857 - val_accuracy: 0.5700\n",
      "Epoch 2/100\n",
      "719/719 [==============================] - 1s 2ms/step - loss: 0.6860 - accuracy: 0.5596 - val_loss: 0.6831 - val_accuracy: 0.5700\n",
      "Epoch 3/100\n",
      "719/719 [==============================] - 1s 2ms/step - loss: 0.6849 - accuracy: 0.5596 - val_loss: 0.6823 - val_accuracy: 0.5700\n",
      "Epoch 4/100\n",
      "719/719 [==============================] - 2s 2ms/step - loss: 0.6844 - accuracy: 0.5596 - val_loss: 0.6816 - val_accuracy: 0.5700\n",
      "Epoch 5/100\n",
      "719/719 [==============================] - 2s 2ms/step - loss: 0.6836 - accuracy: 0.5596 - val_loss: 0.6809 - val_accuracy: 0.5700\n",
      "Epoch 6/100\n",
      "719/719 [==============================] - 2s 2ms/step - loss: 0.6823 - accuracy: 0.5596 - val_loss: 0.6792 - val_accuracy: 0.5700\n",
      "Epoch 7/100\n",
      "719/719 [==============================] - 2s 2ms/step - loss: 0.6803 - accuracy: 0.5596 - val_loss: 0.6770 - val_accuracy: 0.5700\n",
      "Epoch 8/100\n",
      "719/719 [==============================] - 2s 2ms/step - loss: 0.6774 - accuracy: 0.5596 - val_loss: 0.6739 - val_accuracy: 0.5700\n",
      "Epoch 9/100\n",
      "719/719 [==============================] - 2s 2ms/step - loss: 0.6733 - accuracy: 0.5597 - val_loss: 0.6700 - val_accuracy: 0.5700\n",
      "Epoch 10/100\n",
      "719/719 [==============================] - 2s 2ms/step - loss: 0.6675 - accuracy: 0.5600 - val_loss: 0.6638 - val_accuracy: 0.5716\n",
      "Epoch 11/100\n",
      "719/719 [==============================] - 2s 2ms/step - loss: 0.6598 - accuracy: 0.5650 - val_loss: 0.6563 - val_accuracy: 0.5905\n",
      "Epoch 12/100\n",
      "719/719 [==============================] - 2s 2ms/step - loss: 0.6499 - accuracy: 0.5872 - val_loss: 0.6464 - val_accuracy: 0.6188\n",
      "Epoch 13/100\n",
      "719/719 [==============================] - 2s 2ms/step - loss: 0.6379 - accuracy: 0.6194 - val_loss: 0.6353 - val_accuracy: 0.6606\n",
      "Epoch 14/100\n",
      "719/719 [==============================] - 2s 2ms/step - loss: 0.6236 - accuracy: 0.6564 - val_loss: 0.6219 - val_accuracy: 0.6913\n",
      "Epoch 15/100\n",
      "719/719 [==============================] - 1s 2ms/step - loss: 0.6064 - accuracy: 0.6949 - val_loss: 0.6066 - val_accuracy: 0.6916\n",
      "Epoch 16/100\n",
      "719/719 [==============================] - 1s 2ms/step - loss: 0.5893 - accuracy: 0.7157 - val_loss: 0.5943 - val_accuracy: 0.7377\n",
      "Epoch 17/100\n",
      "719/719 [==============================] - 2s 2ms/step - loss: 0.5718 - accuracy: 0.7393 - val_loss: 0.5784 - val_accuracy: 0.7347\n",
      "Epoch 18/100\n",
      "719/719 [==============================] - 1s 2ms/step - loss: 0.5540 - accuracy: 0.7590 - val_loss: 0.5637 - val_accuracy: 0.7396\n",
      "Epoch 19/100\n",
      "719/719 [==============================] - 2s 2ms/step - loss: 0.5361 - accuracy: 0.7702 - val_loss: 0.5520 - val_accuracy: 0.7606\n",
      "Epoch 20/100\n",
      "719/719 [==============================] - 2s 2ms/step - loss: 0.5179 - accuracy: 0.7846 - val_loss: 0.5360 - val_accuracy: 0.7587\n",
      "Epoch 21/100\n",
      "719/719 [==============================] - 2s 2ms/step - loss: 0.5006 - accuracy: 0.7944 - val_loss: 0.5231 - val_accuracy: 0.7673\n",
      "Epoch 22/100\n",
      "719/719 [==============================] - 2s 2ms/step - loss: 0.4840 - accuracy: 0.8033 - val_loss: 0.5113 - val_accuracy: 0.7695\n",
      "Epoch 23/100\n",
      "719/719 [==============================] - 2s 2ms/step - loss: 0.4684 - accuracy: 0.8118 - val_loss: 0.5022 - val_accuracy: 0.7735\n",
      "Epoch 24/100\n",
      "719/719 [==============================] - 2s 2ms/step - loss: 0.4535 - accuracy: 0.8189 - val_loss: 0.4905 - val_accuracy: 0.7819\n",
      "Epoch 25/100\n",
      "719/719 [==============================] - 2s 2ms/step - loss: 0.4396 - accuracy: 0.8237 - val_loss: 0.4817 - val_accuracy: 0.7851\n",
      "Epoch 26/100\n",
      "719/719 [==============================] - 2s 2ms/step - loss: 0.4265 - accuracy: 0.8308 - val_loss: 0.4726 - val_accuracy: 0.7873\n",
      "Epoch 27/100\n",
      "719/719 [==============================] - 2s 2ms/step - loss: 0.4143 - accuracy: 0.8352 - val_loss: 0.4668 - val_accuracy: 0.7905\n",
      "Epoch 28/100\n",
      "719/719 [==============================] - 2s 2ms/step - loss: 0.4029 - accuracy: 0.8397 - val_loss: 0.4585 - val_accuracy: 0.7929\n",
      "Epoch 29/100\n",
      "719/719 [==============================] - 2s 2ms/step - loss: 0.3924 - accuracy: 0.8440 - val_loss: 0.4549 - val_accuracy: 0.7927\n",
      "Epoch 30/100\n",
      "719/719 [==============================] - 2s 2ms/step - loss: 0.3827 - accuracy: 0.8477 - val_loss: 0.4474 - val_accuracy: 0.7943\n",
      "Epoch 31/100\n",
      "719/719 [==============================] - 2s 2ms/step - loss: 0.3738 - accuracy: 0.8492 - val_loss: 0.4469 - val_accuracy: 0.7948\n",
      "Epoch 32/100\n",
      "719/719 [==============================] - 2s 2ms/step - loss: 0.3654 - accuracy: 0.8524 - val_loss: 0.4396 - val_accuracy: 0.7975\n",
      "Epoch 33/100\n",
      "719/719 [==============================] - 2s 2ms/step - loss: 0.3573 - accuracy: 0.8560 - val_loss: 0.4356 - val_accuracy: 0.7970\n",
      "Epoch 34/100\n",
      "719/719 [==============================] - 2s 2ms/step - loss: 0.3497 - accuracy: 0.8586 - val_loss: 0.4345 - val_accuracy: 0.7997\n",
      "Epoch 35/100\n",
      "719/719 [==============================] - 2s 2ms/step - loss: 0.3427 - accuracy: 0.8624 - val_loss: 0.4301 - val_accuracy: 0.8005\n",
      "Epoch 36/100\n",
      "719/719 [==============================] - 2s 2ms/step - loss: 0.3362 - accuracy: 0.8638 - val_loss: 0.4285 - val_accuracy: 0.8026\n",
      "Epoch 37/100\n",
      "719/719 [==============================] - 2s 2ms/step - loss: 0.3300 - accuracy: 0.8665 - val_loss: 0.4273 - val_accuracy: 0.8018\n",
      "Epoch 38/100\n",
      "719/719 [==============================] - 2s 2ms/step - loss: 0.3237 - accuracy: 0.8699 - val_loss: 0.4242 - val_accuracy: 0.8040\n",
      "Epoch 39/100\n",
      "719/719 [==============================] - 2s 2ms/step - loss: 0.3183 - accuracy: 0.8714 - val_loss: 0.4240 - val_accuracy: 0.8021\n",
      "Epoch 40/100\n",
      "719/719 [==============================] - 2s 2ms/step - loss: 0.3129 - accuracy: 0.8747 - val_loss: 0.4219 - val_accuracy: 0.8026\n",
      "Epoch 41/100\n",
      "719/719 [==============================] - 1s 2ms/step - loss: 0.3077 - accuracy: 0.8750 - val_loss: 0.4217 - val_accuracy: 0.8035\n",
      "Epoch 42/100\n",
      "719/719 [==============================] - 2s 2ms/step - loss: 0.3028 - accuracy: 0.8774 - val_loss: 0.4196 - val_accuracy: 0.8059\n",
      "Epoch 43/100\n",
      "719/719 [==============================] - 2s 2ms/step - loss: 0.2981 - accuracy: 0.8792 - val_loss: 0.4203 - val_accuracy: 0.8045\n",
      "Epoch 44/100\n",
      "719/719 [==============================] - 2s 2ms/step - loss: 0.2935 - accuracy: 0.8818 - val_loss: 0.4197 - val_accuracy: 0.8056\n",
      "Epoch 45/100\n",
      "719/719 [==============================] - 2s 2ms/step - loss: 0.2891 - accuracy: 0.8831 - val_loss: 0.4182 - val_accuracy: 0.8051\n",
      "Epoch 46/100\n",
      "719/719 [==============================] - 2s 2ms/step - loss: 0.2849 - accuracy: 0.8862 - val_loss: 0.4195 - val_accuracy: 0.8053\n",
      "Epoch 47/100\n",
      "719/719 [==============================] - 2s 2ms/step - loss: 0.2808 - accuracy: 0.8870 - val_loss: 0.4198 - val_accuracy: 0.8061\n",
      "Epoch 48/100\n",
      "719/719 [==============================] - 2s 2ms/step - loss: 0.2767 - accuracy: 0.8894 - val_loss: 0.4189 - val_accuracy: 0.8072\n",
      "Epoch 49/100\n",
      "719/719 [==============================] - 2s 2ms/step - loss: 0.2730 - accuracy: 0.8907 - val_loss: 0.4200 - val_accuracy: 0.8056\n",
      "Epoch 50/100\n",
      "719/719 [==============================] - 2s 2ms/step - loss: 0.2693 - accuracy: 0.8927 - val_loss: 0.4189 - val_accuracy: 0.8091\n",
      "Epoch 51/100\n",
      "719/719 [==============================] - 2s 2ms/step - loss: 0.2658 - accuracy: 0.8940 - val_loss: 0.4194 - val_accuracy: 0.8097\n",
      "Epoch 52/100\n",
      "719/719 [==============================] - 2s 2ms/step - loss: 0.2625 - accuracy: 0.8960 - val_loss: 0.4204 - val_accuracy: 0.8118\n",
      "Epoch 53/100\n",
      "719/719 [==============================] - 2s 2ms/step - loss: 0.2589 - accuracy: 0.8976 - val_loss: 0.4237 - val_accuracy: 0.8064\n",
      "Epoch 54/100\n",
      "719/719 [==============================] - 2s 2ms/step - loss: 0.2558 - accuracy: 0.8987 - val_loss: 0.4212 - val_accuracy: 0.8097\n",
      "Epoch 55/100\n",
      "719/719 [==============================] - 2s 2ms/step - loss: 0.2528 - accuracy: 0.8994 - val_loss: 0.4226 - val_accuracy: 0.8072\n",
      "Epoch 56/100\n",
      "719/719 [==============================] - 2s 2ms/step - loss: 0.2498 - accuracy: 0.9013 - val_loss: 0.4228 - val_accuracy: 0.8113\n",
      "Epoch 57/100\n",
      "719/719 [==============================] - 2s 2ms/step - loss: 0.2464 - accuracy: 0.9023 - val_loss: 0.4245 - val_accuracy: 0.8080\n",
      "Epoch 58/100\n",
      "719/719 [==============================] - 2s 2ms/step - loss: 0.2436 - accuracy: 0.9044 - val_loss: 0.4265 - val_accuracy: 0.8113\n",
      "Epoch 59/100\n",
      "719/719 [==============================] - 2s 2ms/step - loss: 0.2408 - accuracy: 0.9050 - val_loss: 0.4265 - val_accuracy: 0.8072\n",
      "Epoch 60/100\n",
      "719/719 [==============================] - 2s 2ms/step - loss: 0.2382 - accuracy: 0.9063 - val_loss: 0.4286 - val_accuracy: 0.8064\n",
      "Epoch 61/100\n",
      "719/719 [==============================] - 2s 2ms/step - loss: 0.2353 - accuracy: 0.9074 - val_loss: 0.4291 - val_accuracy: 0.8099\n",
      "Epoch 62/100\n",
      "719/719 [==============================] - 2s 2ms/step - loss: 0.2328 - accuracy: 0.9080 - val_loss: 0.4316 - val_accuracy: 0.8043\n",
      "Epoch 63/100\n",
      "719/719 [==============================] - 2s 2ms/step - loss: 0.2304 - accuracy: 0.9093 - val_loss: 0.4315 - val_accuracy: 0.8088\n",
      "Epoch 64/100\n",
      "719/719 [==============================] - 2s 2ms/step - loss: 0.2278 - accuracy: 0.9100 - val_loss: 0.4331 - val_accuracy: 0.8086\n",
      "Epoch 65/100\n",
      "719/719 [==============================] - 2s 2ms/step - loss: 0.2256 - accuracy: 0.9111 - val_loss: 0.4345 - val_accuracy: 0.8080\n",
      "Epoch 66/100\n",
      "719/719 [==============================] - 2s 2ms/step - loss: 0.2232 - accuracy: 0.9120 - val_loss: 0.4369 - val_accuracy: 0.8059\n",
      "Epoch 67/100\n",
      "719/719 [==============================] - 2s 2ms/step - loss: 0.2206 - accuracy: 0.9127 - val_loss: 0.4396 - val_accuracy: 0.8045\n",
      "Epoch 68/100\n",
      "719/719 [==============================] - 2s 2ms/step - loss: 0.2189 - accuracy: 0.9134 - val_loss: 0.4399 - val_accuracy: 0.8072\n",
      "Epoch 69/100\n",
      "719/719 [==============================] - 2s 2ms/step - loss: 0.2163 - accuracy: 0.9142 - val_loss: 0.4413 - val_accuracy: 0.8070\n",
      "Epoch 70/100\n",
      "719/719 [==============================] - 2s 2ms/step - loss: 0.2139 - accuracy: 0.9157 - val_loss: 0.4447 - val_accuracy: 0.8086\n",
      "Epoch 71/100\n",
      "719/719 [==============================] - 2s 2ms/step - loss: 0.2118 - accuracy: 0.9169 - val_loss: 0.4452 - val_accuracy: 0.8048\n",
      "Epoch 72/100\n",
      "719/719 [==============================] - 2s 2ms/step - loss: 0.2098 - accuracy: 0.9180 - val_loss: 0.4480 - val_accuracy: 0.8088\n",
      "Epoch 73/100\n",
      "719/719 [==============================] - 2s 2ms/step - loss: 0.2078 - accuracy: 0.9185 - val_loss: 0.4493 - val_accuracy: 0.8056\n",
      "Epoch 74/100\n",
      "719/719 [==============================] - 2s 2ms/step - loss: 0.2058 - accuracy: 0.9201 - val_loss: 0.4514 - val_accuracy: 0.8045\n",
      "Epoch 75/100\n",
      "719/719 [==============================] - 2s 2ms/step - loss: 0.2039 - accuracy: 0.9212 - val_loss: 0.4539 - val_accuracy: 0.8053\n",
      "Epoch 76/100\n",
      "719/719 [==============================] - 2s 2ms/step - loss: 0.2020 - accuracy: 0.9212 - val_loss: 0.4558 - val_accuracy: 0.8045\n",
      "Epoch 77/100\n",
      "719/719 [==============================] - 2s 2ms/step - loss: 0.2000 - accuracy: 0.9226 - val_loss: 0.4580 - val_accuracy: 0.8048\n",
      "Epoch 78/100\n",
      "719/719 [==============================] - 2s 2ms/step - loss: 0.1983 - accuracy: 0.9233 - val_loss: 0.4605 - val_accuracy: 0.8035\n",
      "Epoch 79/100\n",
      "719/719 [==============================] - 2s 2ms/step - loss: 0.1963 - accuracy: 0.9242 - val_loss: 0.4626 - val_accuracy: 0.8056\n",
      "Epoch 80/100\n",
      "719/719 [==============================] - 2s 2ms/step - loss: 0.1943 - accuracy: 0.9252 - val_loss: 0.4652 - val_accuracy: 0.8053\n",
      "Epoch 81/100\n",
      "719/719 [==============================] - 2s 2ms/step - loss: 0.1929 - accuracy: 0.9257 - val_loss: 0.4674 - val_accuracy: 0.8035\n",
      "Epoch 82/100\n",
      "719/719 [==============================] - 2s 2ms/step - loss: 0.1911 - accuracy: 0.9269 - val_loss: 0.4710 - val_accuracy: 0.8032\n",
      "Epoch 83/100\n",
      "719/719 [==============================] - 2s 2ms/step - loss: 0.1894 - accuracy: 0.9267 - val_loss: 0.4725 - val_accuracy: 0.8035\n",
      "Epoch 84/100\n",
      "719/719 [==============================] - 2s 2ms/step - loss: 0.1877 - accuracy: 0.9274 - val_loss: 0.4756 - val_accuracy: 0.8035\n",
      "Epoch 85/100\n",
      "719/719 [==============================] - 2s 2ms/step - loss: 0.1861 - accuracy: 0.9283 - val_loss: 0.4782 - val_accuracy: 0.8048\n",
      "Epoch 86/100\n",
      "719/719 [==============================] - 2s 2ms/step - loss: 0.1843 - accuracy: 0.9295 - val_loss: 0.4806 - val_accuracy: 0.8029\n",
      "Epoch 87/100\n",
      "719/719 [==============================] - 2s 2ms/step - loss: 0.1830 - accuracy: 0.9298 - val_loss: 0.4833 - val_accuracy: 0.8024\n",
      "Epoch 88/100\n",
      "719/719 [==============================] - 2s 2ms/step - loss: 0.1815 - accuracy: 0.9309 - val_loss: 0.4859 - val_accuracy: 0.8016\n",
      "Epoch 89/100\n",
      "719/719 [==============================] - 2s 2ms/step - loss: 0.1797 - accuracy: 0.9314 - val_loss: 0.4895 - val_accuracy: 0.8008\n",
      "Epoch 90/100\n",
      "719/719 [==============================] - 2s 2ms/step - loss: 0.1781 - accuracy: 0.9325 - val_loss: 0.4955 - val_accuracy: 0.8059\n",
      "Epoch 91/100\n",
      "719/719 [==============================] - 2s 2ms/step - loss: 0.1768 - accuracy: 0.9320 - val_loss: 0.4956 - val_accuracy: 0.8035\n",
      "Epoch 92/100\n",
      "719/719 [==============================] - 2s 2ms/step - loss: 0.1755 - accuracy: 0.9338 - val_loss: 0.4980 - val_accuracy: 0.8016\n",
      "Epoch 93/100\n",
      "719/719 [==============================] - 2s 2ms/step - loss: 0.1739 - accuracy: 0.9347 - val_loss: 0.5029 - val_accuracy: 0.7999\n",
      "Epoch 94/100\n",
      "719/719 [==============================] - 2s 2ms/step - loss: 0.1725 - accuracy: 0.9342 - val_loss: 0.5036 - val_accuracy: 0.8005\n",
      "Epoch 95/100\n",
      "719/719 [==============================] - 2s 2ms/step - loss: 0.1712 - accuracy: 0.9350 - val_loss: 0.5068 - val_accuracy: 0.8005\n",
      "Epoch 96/100\n",
      "719/719 [==============================] - 2s 2ms/step - loss: 0.1698 - accuracy: 0.9360 - val_loss: 0.5109 - val_accuracy: 0.8010\n",
      "Epoch 97/100\n",
      "719/719 [==============================] - 2s 2ms/step - loss: 0.1685 - accuracy: 0.9370 - val_loss: 0.5173 - val_accuracy: 0.8053\n",
      "Epoch 98/100\n",
      "719/719 [==============================] - 2s 2ms/step - loss: 0.1671 - accuracy: 0.9372 - val_loss: 0.5161 - val_accuracy: 0.7975\n",
      "Epoch 99/100\n",
      "719/719 [==============================] - 2s 2ms/step - loss: 0.1659 - accuracy: 0.9372 - val_loss: 0.5201 - val_accuracy: 0.7989\n",
      "Epoch 100/100\n",
      "719/719 [==============================] - 2s 2ms/step - loss: 0.1644 - accuracy: 0.9386 - val_loss: 0.5225 - val_accuracy: 0.7989\n"
     ]
    }
   ],
   "source": [
    "model = tf.keras.Sequential([\n",
    "    tf.keras.layers.Embedding(vocab_size, embedding_dim),\n",
    "    tf.keras.layers.GlobalAveragePooling1D(),\n",
    "    tf.keras.layers.Dense(24, activation='relu'),\n",
    "    tf.keras.layers.Dense(1, activation='sigmoid')\n",
    "])\n",
    "\n",
    "adam = tf.keras.optimizers.Adam(learning_rate=0.0001, \n",
    "                               beta_1=0.9, beta_2=0.999, amsgrad=False)\n",
    "model.compile(loss='binary_crossentropy',\n",
    "              optimizer=adam, metrics=['accuracy'])\n",
    "\n",
    "history = model.fit(training_padded, training_labels, epochs=100,\n",
    "                    validation_data=(testing_padded, testing_labels))"
   ]
  },
  {
   "cell_type": "code",
   "execution_count": 15,
   "metadata": {},
   "outputs": [
    {
     "data": {
      "image/png": "[encoded data removed]",
      "text/plain": [
       "<Figure size 432x288 with 1 Axes>"
      ]
     },
     "metadata": {
      "needs_background": "light"
     },
     "output_type": "display_data"
    }
   ],
   "source": [
    "plt.plot(history.history['accuracy'])\n",
    "plt.plot(history.history['val_accuracy'])\n",
    "plt.xlabel('epochs')\n",
    "plt.ylabel('accuracy')\n",
    "plt.legend(['accuracy', 'val_accuracy'])\n",
    "plt.show()"
   ]
  },
  {
   "cell_type": "code",
   "execution_count": 16,
   "metadata": {},
   "outputs": [
    {
     "data": {
      "image/png": "[encoded data removed]",
      "text/plain": [
       "<Figure size 432x288 with 1 Axes>"
      ]
     },
     "metadata": {
      "needs_background": "light"
     },
     "output_type": "display_data"
    }
   ],
   "source": [
    "plt.plot(history.history['loss'])\n",
    "plt.plot(history.history['val_loss'])\n",
    "plt.xlabel('epochs')\n",
    "plt.ylabel('loss')\n",
    "plt.legend(['loss', 'val_loss'])\n",
    "plt.show()"
   ]
  },
  {
   "cell_type": "markdown",
   "metadata": {},
   "source": [
    "#### 어휘 사전 크기 바꾸기"
   ]
  },
  {
   "cell_type": "code",
   "execution_count": null,
   "metadata": {},
   "outputs": [],
   "source": [
    "wc=tokenizer.word_counts\n",
    "# 출력이 길어 노트북에서 제외함\n",
    "print(wc)"
   ]
  },
  {
   "cell_type": "code",
   "execution_count": null,
   "metadata": {},
   "outputs": [],
   "source": [
    "from collections import OrderedDict\n",
    "newlist = (OrderedDict(sorted(wc.items(), key=lambda t: t[1], reverse=True)))\n",
    "# 출력이 길어 노트북에서 제외함\n",
    "print(newlist)"
   ]
  },
  {
   "cell_type": "code",
   "execution_count": 19,
   "metadata": {},
   "outputs": [
    {
     "data": {
      "image/png": "[encoded data removed]",
      "text/plain": [
       "<Figure size 432x288 with 1 Axes>"
      ]
     },
     "metadata": {
      "needs_background": "light"
     },
     "output_type": "display_data"
    }
   ],
   "source": [
    "xs=[]\n",
    "ys=[]\n",
    "curr_x = 1\n",
    "for item in newlist:\n",
    "  xs.append(curr_x)\n",
    "  curr_x=curr_x+1\n",
    "  ys.append(newlist[item])\n",
    "\n",
    "plt.plot(xs,ys)\n",
    "plt.show()"
   ]
  },
  {
   "cell_type": "code",
   "execution_count": 20,
   "metadata": {
    "scrolled": true
   },
   "outputs": [
    {
     "data": {
      "image/png": "[encoded data removed]",
      "text/plain": [
       "<Figure size 432x288 with 1 Axes>"
      ]
     },
     "metadata": {
      "needs_background": "light"
     },
     "output_type": "display_data"
    }
   ],
   "source": [
    "plt.plot(xs,ys)\n",
    "plt.axis([300,10000,0,100])\n",
    "plt.show()"
   ]
  },
  {
   "cell_type": "code",
   "execution_count": 21,
   "metadata": {},
   "outputs": [],
   "source": [
    "vocab_size = 2000"
   ]
  },
  {
   "cell_type": "code",
   "execution_count": 22,
   "metadata": {},
   "outputs": [],
   "source": [
    "tokenizer = Tokenizer(num_words=vocab_size, oov_token=oov_tok)\n",
    "tokenizer.fit_on_texts(training_sentences)\n",
    "\n",
    "word_index = tokenizer.word_index\n",
    "\n",
    "training_sequences = tokenizer.texts_to_sequences(training_sentences)\n",
    "training_padded = pad_sequences(training_sequences, maxlen=max_length, padding=padding_type, truncating=trunc_type)\n",
    "\n",
    "testing_sequences = tokenizer.texts_to_sequences(testing_sentences)\n",
    "testing_padded = pad_sequences(testing_sequences, maxlen=max_length, padding=padding_type, truncating=trunc_type)"
   ]
  },
  {
   "cell_type": "code",
   "execution_count": 23,
   "metadata": {},
   "outputs": [],
   "source": [
    "training_padded = np.array(training_padded)\n",
    "training_labels = np.array(training_labels)\n",
    "testing_padded = np.array(testing_padded)\n",
    "testing_labels = np.array(testing_labels)"
   ]
  },
  {
   "cell_type": "code",
   "execution_count": 24,
   "metadata": {},
   "outputs": [],
   "source": [
    "model = tf.keras.Sequential([\n",
    "    tf.keras.layers.Embedding(vocab_size, embedding_dim),\n",
    "    tf.keras.layers.GlobalAveragePooling1D(),\n",
    "    tf.keras.layers.Dense(24, activation='relu'),\n",
    "    tf.keras.layers.Dense(1, activation='sigmoid')\n",
    "])\n",
    "model.compile(loss='binary_crossentropy',\n",
    "              optimizer='adam',metrics=['accuracy'])"
   ]
  },
  {
   "cell_type": "code",
   "execution_count": 25,
   "metadata": {
    "scrolled": true
   },
   "outputs": [
    {
     "name": "stdout",
     "output_type": "stream",
     "text": [
      "Epoch 1/30\n",
      "719/719 [==============================] - 2s 2ms/step - loss: 0.6776 - accuracy: 0.5663 - val_loss: 0.6418 - val_accuracy: 0.6188\n",
      "Epoch 2/30\n",
      "719/719 [==============================] - 1s 2ms/step - loss: 0.5621 - accuracy: 0.7137 - val_loss: 0.5053 - val_accuracy: 0.7563\n",
      "Epoch 3/30\n",
      "719/719 [==============================] - 1s 2ms/step - loss: 0.4648 - accuracy: 0.7776 - val_loss: 0.4750 - val_accuracy: 0.7627\n",
      "Epoch 4/30\n",
      "719/719 [==============================] - 1s 2ms/step - loss: 0.4328 - accuracy: 0.7925 - val_loss: 0.4650 - val_accuracy: 0.7708\n",
      "Epoch 5/30\n",
      "719/719 [==============================] - 1s 2ms/step - loss: 0.4181 - accuracy: 0.8018 - val_loss: 0.4624 - val_accuracy: 0.7749\n",
      "Epoch 6/30\n",
      "719/719 [==============================] - 1s 2ms/step - loss: 0.4101 - accuracy: 0.8034 - val_loss: 0.4624 - val_accuracy: 0.7768\n",
      "Epoch 7/30\n",
      "719/719 [==============================] - 1s 2ms/step - loss: 0.4040 - accuracy: 0.8069 - val_loss: 0.4681 - val_accuracy: 0.7816\n",
      "Epoch 8/30\n",
      "719/719 [==============================] - 1s 2ms/step - loss: 0.4010 - accuracy: 0.8087 - val_loss: 0.5168 - val_accuracy: 0.7369\n",
      "Epoch 9/30\n",
      "719/719 [==============================] - 1s 2ms/step - loss: 0.3994 - accuracy: 0.8100 - val_loss: 0.4667 - val_accuracy: 0.7749\n",
      "Epoch 10/30\n",
      "719/719 [==============================] - 1s 2ms/step - loss: 0.3964 - accuracy: 0.8109 - val_loss: 0.4699 - val_accuracy: 0.7816\n",
      "Epoch 11/30\n",
      "719/719 [==============================] - 1s 2ms/step - loss: 0.3952 - accuracy: 0.8113 - val_loss: 0.4703 - val_accuracy: 0.7797\n",
      "Epoch 12/30\n",
      "719/719 [==============================] - 1s 2ms/step - loss: 0.3935 - accuracy: 0.8123 - val_loss: 0.4744 - val_accuracy: 0.7697\n",
      "Epoch 13/30\n",
      "719/719 [==============================] - 1s 2ms/step - loss: 0.3935 - accuracy: 0.8122 - val_loss: 0.4738 - val_accuracy: 0.7719\n",
      "Epoch 14/30\n",
      "719/719 [==============================] - 1s 2ms/step - loss: 0.3924 - accuracy: 0.8148 - val_loss: 0.4710 - val_accuracy: 0.7751\n",
      "Epoch 15/30\n",
      "719/719 [==============================] - 1s 2ms/step - loss: 0.3914 - accuracy: 0.8127 - val_loss: 0.4748 - val_accuracy: 0.7727\n",
      "Epoch 16/30\n",
      "719/719 [==============================] - 1s 2ms/step - loss: 0.3909 - accuracy: 0.8145 - val_loss: 0.4880 - val_accuracy: 0.7751\n",
      "Epoch 17/30\n",
      "719/719 [==============================] - 1s 2ms/step - loss: 0.3925 - accuracy: 0.8133 - val_loss: 0.4742 - val_accuracy: 0.7722\n",
      "Epoch 18/30\n",
      "719/719 [==============================] - 1s 2ms/step - loss: 0.3916 - accuracy: 0.8108 - val_loss: 0.4768 - val_accuracy: 0.7751\n",
      "Epoch 19/30\n",
      "719/719 [==============================] - 1s 2ms/step - loss: 0.3912 - accuracy: 0.8135 - val_loss: 0.4750 - val_accuracy: 0.7786\n",
      "Epoch 20/30\n",
      "719/719 [==============================] - 1s 2ms/step - loss: 0.3895 - accuracy: 0.8145 - val_loss: 0.4767 - val_accuracy: 0.7708\n",
      "Epoch 21/30\n",
      "719/719 [==============================] - 1s 2ms/step - loss: 0.3896 - accuracy: 0.8133 - val_loss: 0.4793 - val_accuracy: 0.7770\n",
      "Epoch 22/30\n",
      "719/719 [==============================] - 1s 2ms/step - loss: 0.3898 - accuracy: 0.8140 - val_loss: 0.4771 - val_accuracy: 0.7770\n",
      "Epoch 23/30\n",
      "719/719 [==============================] - 1s 2ms/step - loss: 0.3892 - accuracy: 0.8127 - val_loss: 0.5117 - val_accuracy: 0.7455\n",
      "Epoch 24/30\n",
      "719/719 [==============================] - 1s 2ms/step - loss: 0.3893 - accuracy: 0.8152 - val_loss: 0.4779 - val_accuracy: 0.7754\n",
      "Epoch 25/30\n",
      "719/719 [==============================] - 1s 2ms/step - loss: 0.3904 - accuracy: 0.8137 - val_loss: 0.4900 - val_accuracy: 0.7611\n",
      "Epoch 26/30\n",
      "719/719 [==============================] - 1s 2ms/step - loss: 0.3885 - accuracy: 0.8130 - val_loss: 0.4807 - val_accuracy: 0.7697\n",
      "Epoch 27/30\n",
      "719/719 [==============================] - 1s 2ms/step - loss: 0.3888 - accuracy: 0.8139 - val_loss: 0.4784 - val_accuracy: 0.7724\n",
      "Epoch 28/30\n",
      "719/719 [==============================] - 1s 2ms/step - loss: 0.3885 - accuracy: 0.8145 - val_loss: 0.4787 - val_accuracy: 0.7695\n",
      "Epoch 29/30\n",
      "719/719 [==============================] - 1s 2ms/step - loss: 0.3894 - accuracy: 0.8155 - val_loss: 0.4869 - val_accuracy: 0.7741\n",
      "Epoch 30/30\n",
      "719/719 [==============================] - 1s 2ms/step - loss: 0.3894 - accuracy: 0.8142 - val_loss: 0.4799 - val_accuracy: 0.7716\n"
     ]
    }
   ],
   "source": [
    "num_epochs = 30\n",
    "history = model.fit(training_padded, training_labels, epochs=num_epochs,\n",
    "                    validation_data=(testing_padded, testing_labels))"
   ]
  },
  {
   "cell_type": "code",
   "execution_count": 26,
   "metadata": {},
   "outputs": [
    {
     "data": {
      "image/png": "[encoded data removed]",
      "text/plain": [
       "<Figure size 432x288 with 1 Axes>"
      ]
     },
     "metadata": {
      "needs_background": "light"
     },
     "output_type": "display_data"
    }
   ],
   "source": [
    "plt.plot(history.history['accuracy'])\n",
    "plt.plot(history.history['val_accuracy'])\n",
    "plt.xlabel('epochs')\n",
    "plt.ylabel('accuracy')\n",
    "plt.legend(['accuracy', 'val_accuracy'])\n",
    "plt.show()"
   ]
  },
  {
   "cell_type": "code",
   "execution_count": 27,
   "metadata": {
    "scrolled": true
   },
   "outputs": [
    {
     "data": {
      "image/png": "[encoded data removed]",
      "text/plain": [
       "<Figure size 432x288 with 1 Axes>"
      ]
     },
     "metadata": {
      "needs_background": "light"
     },
     "output_type": "display_data"
    }
   ],
   "source": [
    "plt.plot(history.history['loss'])\n",
    "plt.plot(history.history['val_loss'])\n",
    "plt.xlabel('epochs')\n",
    "plt.ylabel('loss')\n",
    "plt.legend(['loss', 'val_loss'])\n",
    "plt.show()"
   ]
  },
  {
   "cell_type": "markdown",
   "metadata": {},
   "source": [
    "#### 임베딩 차원 바꾸기"
   ]
  },
  {
   "cell_type": "code",
   "execution_count": 28,
   "metadata": {},
   "outputs": [],
   "source": [
    "embedding_dim = 7"
   ]
  },
  {
   "cell_type": "code",
   "execution_count": 29,
   "metadata": {},
   "outputs": [],
   "source": [
    "model = tf.keras.Sequential([\n",
    "    tf.keras.layers.Embedding(vocab_size, embedding_dim),\n",
    "    tf.keras.layers.GlobalAveragePooling1D(),\n",
    "    tf.keras.layers.Dense(24, activation='relu'),\n",
    "    tf.keras.layers.Dense(1, activation='sigmoid')\n",
    "])\n",
    "model.compile(loss='binary_crossentropy',\n",
    "              optimizer='adam',metrics=['accuracy'])"
   ]
  },
  {
   "cell_type": "code",
   "execution_count": 30,
   "metadata": {
    "scrolled": true
   },
   "outputs": [
    {
     "name": "stdout",
     "output_type": "stream",
     "text": [
      "Epoch 1/100\n",
      "719/719 [==============================] - 2s 2ms/step - loss: 0.6831 - accuracy: 0.5592 - val_loss: 0.6734 - val_accuracy: 0.5700\n",
      "Epoch 2/100\n",
      "719/719 [==============================] - 1s 2ms/step - loss: 0.6134 - accuracy: 0.6600 - val_loss: 0.5460 - val_accuracy: 0.7296\n",
      "Epoch 3/100\n",
      "719/719 [==============================] - 1s 1ms/step - loss: 0.4935 - accuracy: 0.7649 - val_loss: 0.4834 - val_accuracy: 0.7627\n",
      "Epoch 4/100\n",
      "719/719 [==============================] - 1s 2ms/step - loss: 0.4457 - accuracy: 0.7863 - val_loss: 0.4803 - val_accuracy: 0.7582\n",
      "Epoch 5/100\n",
      "719/719 [==============================] - 1s 2ms/step - loss: 0.4257 - accuracy: 0.7970 - val_loss: 0.4630 - val_accuracy: 0.7741\n",
      "Epoch 6/100\n",
      "719/719 [==============================] - 1s 2ms/step - loss: 0.4154 - accuracy: 0.8011 - val_loss: 0.4620 - val_accuracy: 0.7749\n",
      "Epoch 7/100\n",
      "719/719 [==============================] - 1s 2ms/step - loss: 0.4090 - accuracy: 0.8056 - val_loss: 0.4618 - val_accuracy: 0.7768\n",
      "Epoch 8/100\n",
      "719/719 [==============================] - 1s 2ms/step - loss: 0.4039 - accuracy: 0.8070 - val_loss: 0.4645 - val_accuracy: 0.7773\n",
      "Epoch 9/100\n",
      "719/719 [==============================] - 1s 2ms/step - loss: 0.3997 - accuracy: 0.8086 - val_loss: 0.4787 - val_accuracy: 0.7733\n",
      "Epoch 10/100\n",
      "719/719 [==============================] - 1s 2ms/step - loss: 0.3974 - accuracy: 0.8105 - val_loss: 0.4731 - val_accuracy: 0.7795\n",
      "Epoch 11/100\n",
      "719/719 [==============================] - 1s 2ms/step - loss: 0.3958 - accuracy: 0.8105 - val_loss: 0.4814 - val_accuracy: 0.7622\n",
      "Epoch 12/100\n",
      "719/719 [==============================] - 1s 2ms/step - loss: 0.3960 - accuracy: 0.8098 - val_loss: 0.4888 - val_accuracy: 0.7738\n",
      "Epoch 13/100\n",
      "719/719 [==============================] - 1s 2ms/step - loss: 0.3944 - accuracy: 0.8125 - val_loss: 0.4782 - val_accuracy: 0.7654\n",
      "Epoch 14/100\n",
      "719/719 [==============================] - 1s 2ms/step - loss: 0.3926 - accuracy: 0.8126 - val_loss: 0.4690 - val_accuracy: 0.7768\n",
      "Epoch 15/100\n",
      "719/719 [==============================] - 1s 1ms/step - loss: 0.3923 - accuracy: 0.8133 - val_loss: 0.4710 - val_accuracy: 0.7795\n",
      "Epoch 16/100\n",
      "719/719 [==============================] - 1s 1ms/step - loss: 0.3917 - accuracy: 0.8119 - val_loss: 0.4732 - val_accuracy: 0.7786\n",
      "Epoch 17/100\n",
      "719/719 [==============================] - 1s 2ms/step - loss: 0.3905 - accuracy: 0.8146 - val_loss: 0.4736 - val_accuracy: 0.7738\n",
      "Epoch 18/100\n",
      "719/719 [==============================] - 1s 2ms/step - loss: 0.3898 - accuracy: 0.8145 - val_loss: 0.4794 - val_accuracy: 0.7668\n",
      "Epoch 19/100\n",
      "719/719 [==============================] - 1s 2ms/step - loss: 0.3887 - accuracy: 0.8144 - val_loss: 0.4791 - val_accuracy: 0.7687\n",
      "Epoch 20/100\n",
      "719/719 [==============================] - 1s 2ms/step - loss: 0.3889 - accuracy: 0.8145 - val_loss: 0.4834 - val_accuracy: 0.7638\n",
      "Epoch 21/100\n",
      "719/719 [==============================] - 1s 2ms/step - loss: 0.3894 - accuracy: 0.8133 - val_loss: 0.4820 - val_accuracy: 0.7644\n",
      "Epoch 22/100\n",
      "719/719 [==============================] - 1s 2ms/step - loss: 0.3880 - accuracy: 0.8162 - val_loss: 0.4965 - val_accuracy: 0.7528\n",
      "Epoch 23/100\n",
      "719/719 [==============================] - 1s 2ms/step - loss: 0.3892 - accuracy: 0.8151 - val_loss: 0.4796 - val_accuracy: 0.7681\n",
      "Epoch 24/100\n",
      "719/719 [==============================] - 1s 2ms/step - loss: 0.3887 - accuracy: 0.8149 - val_loss: 0.4769 - val_accuracy: 0.7711\n",
      "Epoch 25/100\n",
      "719/719 [==============================] - 1s 2ms/step - loss: 0.3875 - accuracy: 0.8143 - val_loss: 0.4766 - val_accuracy: 0.7768\n",
      "Epoch 26/100\n",
      "719/719 [==============================] - 1s 2ms/step - loss: 0.3880 - accuracy: 0.8152 - val_loss: 0.4785 - val_accuracy: 0.7708\n",
      "Epoch 27/100\n",
      "719/719 [==============================] - 1s 2ms/step - loss: 0.3872 - accuracy: 0.8151 - val_loss: 0.4807 - val_accuracy: 0.7703\n",
      "Epoch 28/100\n",
      "719/719 [==============================] - 1s 2ms/step - loss: 0.3882 - accuracy: 0.8142 - val_loss: 0.5013 - val_accuracy: 0.7498\n",
      "Epoch 29/100\n",
      "719/719 [==============================] - 1s 2ms/step - loss: 0.3880 - accuracy: 0.8138 - val_loss: 0.4855 - val_accuracy: 0.7625\n",
      "Epoch 30/100\n",
      "719/719 [==============================] - 1s 2ms/step - loss: 0.3897 - accuracy: 0.8149 - val_loss: 0.4768 - val_accuracy: 0.7727\n",
      "Epoch 31/100\n",
      "719/719 [==============================] - 1s 2ms/step - loss: 0.3873 - accuracy: 0.8148 - val_loss: 0.4775 - val_accuracy: 0.7751\n",
      "Epoch 32/100\n",
      "719/719 [==============================] - 1s 2ms/step - loss: 0.3874 - accuracy: 0.8130 - val_loss: 0.4779 - val_accuracy: 0.7733\n",
      "Epoch 33/100\n",
      "719/719 [==============================] - 1s 2ms/step - loss: 0.3873 - accuracy: 0.8153 - val_loss: 0.4791 - val_accuracy: 0.7751\n",
      "Epoch 34/100\n",
      "719/719 [==============================] - 1s 1ms/step - loss: 0.3872 - accuracy: 0.8162 - val_loss: 0.4805 - val_accuracy: 0.7751\n",
      "Epoch 35/100\n",
      "719/719 [==============================] - 1s 2ms/step - loss: 0.3867 - accuracy: 0.8159 - val_loss: 0.4791 - val_accuracy: 0.7719\n",
      "Epoch 36/100\n",
      "719/719 [==============================] - 1s 2ms/step - loss: 0.3872 - accuracy: 0.8151 - val_loss: 0.4823 - val_accuracy: 0.7751\n",
      "Epoch 37/100\n",
      "719/719 [==============================] - 1s 2ms/step - loss: 0.3869 - accuracy: 0.8153 - val_loss: 0.4792 - val_accuracy: 0.7730\n",
      "Epoch 38/100\n",
      "719/719 [==============================] - 1s 2ms/step - loss: 0.3865 - accuracy: 0.8152 - val_loss: 0.4848 - val_accuracy: 0.7665\n",
      "Epoch 39/100\n",
      "719/719 [==============================] - 1s 2ms/step - loss: 0.3859 - accuracy: 0.8142 - val_loss: 0.4911 - val_accuracy: 0.7622\n",
      "Epoch 40/100\n",
      "719/719 [==============================] - 1s 2ms/step - loss: 0.3871 - accuracy: 0.8153 - val_loss: 0.4985 - val_accuracy: 0.7544\n",
      "Epoch 41/100\n",
      "719/719 [==============================] - 1s 2ms/step - loss: 0.3870 - accuracy: 0.8152 - val_loss: 0.4794 - val_accuracy: 0.7722\n",
      "Epoch 42/100\n",
      "719/719 [==============================] - 1s 2ms/step - loss: 0.3866 - accuracy: 0.8168 - val_loss: 0.4853 - val_accuracy: 0.7649\n",
      "Epoch 43/100\n",
      "719/719 [==============================] - 1s 2ms/step - loss: 0.3855 - accuracy: 0.8164 - val_loss: 0.4897 - val_accuracy: 0.7622\n",
      "Epoch 44/100\n",
      "719/719 [==============================] - 1s 2ms/step - loss: 0.3866 - accuracy: 0.8173 - val_loss: 0.4811 - val_accuracy: 0.7743\n",
      "Epoch 45/100\n",
      "719/719 [==============================] - 1s 2ms/step - loss: 0.3860 - accuracy: 0.8160 - val_loss: 0.4822 - val_accuracy: 0.7676\n",
      "Epoch 46/100\n",
      "719/719 [==============================] - 1s 2ms/step - loss: 0.3862 - accuracy: 0.8150 - val_loss: 0.4830 - val_accuracy: 0.7695\n",
      "Epoch 47/100\n",
      "719/719 [==============================] - 1s 2ms/step - loss: 0.3867 - accuracy: 0.8160 - val_loss: 0.4808 - val_accuracy: 0.7706\n",
      "Epoch 48/100\n",
      "719/719 [==============================] - 1s 2ms/step - loss: 0.3858 - accuracy: 0.8165 - val_loss: 0.4825 - val_accuracy: 0.7697\n",
      "Epoch 49/100\n",
      "719/719 [==============================] - 1s 2ms/step - loss: 0.3862 - accuracy: 0.8149 - val_loss: 0.4814 - val_accuracy: 0.7743\n",
      "Epoch 50/100\n",
      "719/719 [==============================] - 1s 2ms/step - loss: 0.3857 - accuracy: 0.8160 - val_loss: 0.4816 - val_accuracy: 0.7727\n",
      "Epoch 51/100\n",
      "719/719 [==============================] - 1s 2ms/step - loss: 0.3855 - accuracy: 0.8160 - val_loss: 0.4894 - val_accuracy: 0.7630\n",
      "Epoch 52/100\n",
      "719/719 [==============================] - 1s 2ms/step - loss: 0.3859 - accuracy: 0.8154 - val_loss: 0.5122 - val_accuracy: 0.7468\n",
      "Epoch 53/100\n",
      "719/719 [==============================] - 1s 2ms/step - loss: 0.3853 - accuracy: 0.8157 - val_loss: 0.4859 - val_accuracy: 0.7668\n",
      "Epoch 54/100\n",
      "719/719 [==============================] - 1s 2ms/step - loss: 0.3862 - accuracy: 0.8166 - val_loss: 0.4854 - val_accuracy: 0.7668\n",
      "Epoch 55/100\n",
      "719/719 [==============================] - 1s 2ms/step - loss: 0.3851 - accuracy: 0.8154 - val_loss: 0.5080 - val_accuracy: 0.7479\n",
      "Epoch 56/100\n",
      "719/719 [==============================] - 1s 2ms/step - loss: 0.3855 - accuracy: 0.8165 - val_loss: 0.4916 - val_accuracy: 0.7619\n",
      "Epoch 57/100\n",
      "719/719 [==============================] - 1s 2ms/step - loss: 0.3865 - accuracy: 0.8155 - val_loss: 0.4853 - val_accuracy: 0.7751\n",
      "Epoch 58/100\n",
      "719/719 [==============================] - 1s 2ms/step - loss: 0.3861 - accuracy: 0.8159 - val_loss: 0.4854 - val_accuracy: 0.7673\n",
      "Epoch 59/100\n",
      "719/719 [==============================] - 1s 2ms/step - loss: 0.3848 - accuracy: 0.8192 - val_loss: 0.4852 - val_accuracy: 0.7668\n",
      "Epoch 60/100\n",
      "719/719 [==============================] - 1s 2ms/step - loss: 0.3860 - accuracy: 0.8154 - val_loss: 0.4815 - val_accuracy: 0.7733\n",
      "Epoch 61/100\n",
      "719/719 [==============================] - 1s 2ms/step - loss: 0.3856 - accuracy: 0.8172 - val_loss: 0.4816 - val_accuracy: 0.7735\n",
      "Epoch 62/100\n",
      "719/719 [==============================] - 1s 2ms/step - loss: 0.3851 - accuracy: 0.8163 - val_loss: 0.4871 - val_accuracy: 0.7660\n",
      "Epoch 63/100\n",
      "719/719 [==============================] - 1s 2ms/step - loss: 0.3854 - accuracy: 0.8155 - val_loss: 0.4883 - val_accuracy: 0.7724\n",
      "Epoch 64/100\n",
      "719/719 [==============================] - 1s 2ms/step - loss: 0.3856 - accuracy: 0.8155 - val_loss: 0.4819 - val_accuracy: 0.7727\n",
      "Epoch 65/100\n",
      "719/719 [==============================] - 1s 2ms/step - loss: 0.3849 - accuracy: 0.8181 - val_loss: 0.4850 - val_accuracy: 0.7738\n",
      "Epoch 66/100\n",
      "719/719 [==============================] - 1s 2ms/step - loss: 0.3844 - accuracy: 0.8158 - val_loss: 0.4849 - val_accuracy: 0.7684\n",
      "Epoch 67/100\n",
      "719/719 [==============================] - 1s 2ms/step - loss: 0.3851 - accuracy: 0.8165 - val_loss: 0.4912 - val_accuracy: 0.7633\n",
      "Epoch 68/100\n",
      "719/719 [==============================] - 1s 2ms/step - loss: 0.3844 - accuracy: 0.8178 - val_loss: 0.4856 - val_accuracy: 0.7697\n",
      "Epoch 69/100\n",
      "719/719 [==============================] - 1s 2ms/step - loss: 0.3844 - accuracy: 0.8173 - val_loss: 0.4821 - val_accuracy: 0.7724\n",
      "Epoch 70/100\n",
      "719/719 [==============================] - 1s 2ms/step - loss: 0.3861 - accuracy: 0.8181 - val_loss: 0.4843 - val_accuracy: 0.7743\n",
      "Epoch 71/100\n",
      "719/719 [==============================] - 1s 2ms/step - loss: 0.3848 - accuracy: 0.8177 - val_loss: 0.4828 - val_accuracy: 0.7733\n",
      "Epoch 72/100\n",
      "719/719 [==============================] - 1s 2ms/step - loss: 0.3860 - accuracy: 0.8151 - val_loss: 0.5033 - val_accuracy: 0.7520\n",
      "Epoch 73/100\n",
      "719/719 [==============================] - 1s 2ms/step - loss: 0.3856 - accuracy: 0.8175 - val_loss: 0.4840 - val_accuracy: 0.7687\n",
      "Epoch 74/100\n",
      "719/719 [==============================] - 1s 2ms/step - loss: 0.3851 - accuracy: 0.8171 - val_loss: 0.4839 - val_accuracy: 0.7730\n",
      "Epoch 75/100\n",
      "719/719 [==============================] - 1s 2ms/step - loss: 0.3848 - accuracy: 0.8167 - val_loss: 0.4831 - val_accuracy: 0.7697\n",
      "Epoch 76/100\n",
      "719/719 [==============================] - 1s 2ms/step - loss: 0.3847 - accuracy: 0.8163 - val_loss: 0.4824 - val_accuracy: 0.7722\n",
      "Epoch 77/100\n",
      "719/719 [==============================] - 1s 2ms/step - loss: 0.3854 - accuracy: 0.8181 - val_loss: 0.4822 - val_accuracy: 0.7708\n",
      "Epoch 78/100\n",
      "719/719 [==============================] - 1s 2ms/step - loss: 0.3853 - accuracy: 0.8174 - val_loss: 0.4868 - val_accuracy: 0.7660\n",
      "Epoch 79/100\n",
      "719/719 [==============================] - 1s 2ms/step - loss: 0.3848 - accuracy: 0.8165 - val_loss: 0.4830 - val_accuracy: 0.7714\n",
      "Epoch 80/100\n",
      "719/719 [==============================] - 1s 2ms/step - loss: 0.3846 - accuracy: 0.8177 - val_loss: 0.4831 - val_accuracy: 0.7706\n",
      "Epoch 81/100\n",
      "719/719 [==============================] - 1s 2ms/step - loss: 0.3848 - accuracy: 0.8170 - val_loss: 0.4842 - val_accuracy: 0.7746\n",
      "Epoch 82/100\n",
      "719/719 [==============================] - 1s 2ms/step - loss: 0.3858 - accuracy: 0.8173 - val_loss: 0.4873 - val_accuracy: 0.7743\n",
      "Epoch 83/100\n",
      "719/719 [==============================] - 1s 2ms/step - loss: 0.3842 - accuracy: 0.8177 - val_loss: 0.4827 - val_accuracy: 0.7708\n",
      "Epoch 84/100\n",
      "719/719 [==============================] - 1s 2ms/step - loss: 0.3849 - accuracy: 0.8163 - val_loss: 0.4856 - val_accuracy: 0.7695\n",
      "Epoch 85/100\n",
      "719/719 [==============================] - 1s 2ms/step - loss: 0.3848 - accuracy: 0.8170 - val_loss: 0.4851 - val_accuracy: 0.7689\n",
      "Epoch 86/100\n",
      "719/719 [==============================] - 1s 2ms/step - loss: 0.3844 - accuracy: 0.8181 - val_loss: 0.4828 - val_accuracy: 0.7719\n",
      "Epoch 87/100\n",
      "719/719 [==============================] - 1s 2ms/step - loss: 0.3842 - accuracy: 0.8186 - val_loss: 0.4843 - val_accuracy: 0.7681\n",
      "Epoch 88/100\n",
      "719/719 [==============================] - 1s 2ms/step - loss: 0.3850 - accuracy: 0.8144 - val_loss: 0.4859 - val_accuracy: 0.7668\n",
      "Epoch 89/100\n",
      "719/719 [==============================] - 1s 2ms/step - loss: 0.3836 - accuracy: 0.8181 - val_loss: 0.4850 - val_accuracy: 0.7730\n",
      "Epoch 90/100\n",
      "719/719 [==============================] - 1s 2ms/step - loss: 0.3842 - accuracy: 0.8168 - val_loss: 0.4942 - val_accuracy: 0.7692\n",
      "Epoch 91/100\n",
      "719/719 [==============================] - 1s 2ms/step - loss: 0.3842 - accuracy: 0.8176 - val_loss: 0.4831 - val_accuracy: 0.7716\n",
      "Epoch 92/100\n",
      "719/719 [==============================] - 1s 2ms/step - loss: 0.3841 - accuracy: 0.8163 - val_loss: 0.4835 - val_accuracy: 0.7738\n",
      "Epoch 93/100\n",
      "719/719 [==============================] - 1s 2ms/step - loss: 0.3840 - accuracy: 0.8183 - val_loss: 0.4989 - val_accuracy: 0.7571\n",
      "Epoch 94/100\n",
      "719/719 [==============================] - 1s 2ms/step - loss: 0.3840 - accuracy: 0.8173 - val_loss: 0.4872 - val_accuracy: 0.7681\n",
      "Epoch 95/100\n",
      "719/719 [==============================] - 1s 2ms/step - loss: 0.3855 - accuracy: 0.8180 - val_loss: 0.4876 - val_accuracy: 0.7662\n",
      "Epoch 96/100\n",
      "719/719 [==============================] - 1s 2ms/step - loss: 0.3840 - accuracy: 0.8176 - val_loss: 0.4854 - val_accuracy: 0.7692\n",
      "Epoch 97/100\n",
      "719/719 [==============================] - 1s 2ms/step - loss: 0.3843 - accuracy: 0.8167 - val_loss: 0.4834 - val_accuracy: 0.7738\n",
      "Epoch 98/100\n",
      "719/719 [==============================] - 1s 2ms/step - loss: 0.3843 - accuracy: 0.8185 - val_loss: 0.4843 - val_accuracy: 0.7697\n",
      "Epoch 99/100\n",
      "719/719 [==============================] - 1s 2ms/step - loss: 0.3837 - accuracy: 0.8170 - val_loss: 0.4846 - val_accuracy: 0.7681\n",
      "Epoch 100/100\n",
      "719/719 [==============================] - 1s 2ms/step - loss: 0.3842 - accuracy: 0.8184 - val_loss: 0.4887 - val_accuracy: 0.7724\n"
     ]
    }
   ],
   "source": [
    "num_epochs = 100\n",
    "history = model.fit(training_padded, training_labels, epochs=num_epochs,\n",
    "                    validation_data=(testing_padded, testing_labels))"
   ]
  },
  {
   "cell_type": "code",
   "execution_count": 31,
   "metadata": {},
   "outputs": [
    {
     "data": {
      "image/png": "[encoded data removed]",
      "text/plain": [
       "<Figure size 432x288 with 1 Axes>"
      ]
     },
     "metadata": {
      "needs_background": "light"
     },
     "output_type": "display_data"
    }
   ],
   "source": [
    "plt.plot(history.history['accuracy'])\n",
    "plt.plot(history.history['val_accuracy'])\n",
    "plt.xlabel('epochs')\n",
    "plt.ylabel('accuracy')\n",
    "plt.legend(['accuracy', 'val_accuracy'])\n",
    "plt.show()"
   ]
  },
  {
   "cell_type": "code",
   "execution_count": 32,
   "metadata": {
    "scrolled": true
   },
   "outputs": [
    {
     "data": {
      "image/png": "[encoded data removed]",
      "text/plain": [
       "<Figure size 432x288 with 1 Axes>"
      ]
     },
     "metadata": {
      "needs_background": "light"
     },
     "output_type": "display_data"
    }
   ],
   "source": [
    "plt.plot(history.history['loss'])\n",
    "plt.plot(history.history['val_loss'])\n",
    "plt.xlabel('epochs')\n",
    "plt.ylabel('loss')\n",
    "plt.legend(['loss', 'val_loss'])\n",
    "plt.show()"
   ]
  },
  {
   "cell_type": "markdown",
   "metadata": {},
   "source": [
    "#### 모델 구조 변경하기"
   ]
  },
  {
   "cell_type": "code",
   "execution_count": 33,
   "metadata": {},
   "outputs": [],
   "source": [
    "model = tf.keras.Sequential([\n",
    "    tf.keras.layers.Embedding(vocab_size, embedding_dim),\n",
    "    tf.keras.layers.GlobalAveragePooling1D(),\n",
    "    tf.keras.layers.Dense(8, activation='relu'),\n",
    "    tf.keras.layers.Dense(1, activation='sigmoid')\n",
    "])\n",
    "model.compile(loss='binary_crossentropy',\n",
    "              optimizer='adam',metrics=['accuracy'])"
   ]
  },
  {
   "cell_type": "code",
   "execution_count": 34,
   "metadata": {
    "scrolled": true
   },
   "outputs": [
    {
     "name": "stdout",
     "output_type": "stream",
     "text": [
      "Epoch 1/100\n",
      "719/719 [==============================] - 2s 2ms/step - loss: 0.6834 - accuracy: 0.5596 - val_loss: 0.6741 - val_accuracy: 0.5700\n",
      "Epoch 2/100\n",
      "719/719 [==============================] - 1s 2ms/step - loss: 0.6485 - accuracy: 0.6126 - val_loss: 0.6092 - val_accuracy: 0.6813\n",
      "Epoch 3/100\n",
      "719/719 [==============================] - 1s 2ms/step - loss: 0.5629 - accuracy: 0.7216 - val_loss: 0.5360 - val_accuracy: 0.7385\n",
      "Epoch 4/100\n",
      "719/719 [==============================] - 1s 2ms/step - loss: 0.4941 - accuracy: 0.7677 - val_loss: 0.4929 - val_accuracy: 0.7603\n",
      "Epoch 5/100\n",
      "719/719 [==============================] - 1s 2ms/step - loss: 0.4577 - accuracy: 0.7863 - val_loss: 0.4752 - val_accuracy: 0.7660\n",
      "Epoch 6/100\n",
      "719/719 [==============================] - 1s 2ms/step - loss: 0.4371 - accuracy: 0.7934 - val_loss: 0.4772 - val_accuracy: 0.7611\n",
      "Epoch 7/100\n",
      "719/719 [==============================] - 1s 2ms/step - loss: 0.4242 - accuracy: 0.7986 - val_loss: 0.4632 - val_accuracy: 0.7735\n",
      "Epoch 8/100\n",
      "719/719 [==============================] - 1s 2ms/step - loss: 0.4162 - accuracy: 0.8028 - val_loss: 0.4621 - val_accuracy: 0.7735\n",
      "Epoch 9/100\n",
      "719/719 [==============================] - 1s 2ms/step - loss: 0.4099 - accuracy: 0.8051 - val_loss: 0.4610 - val_accuracy: 0.7751\n",
      "Epoch 10/100\n",
      "719/719 [==============================] - 1s 2ms/step - loss: 0.4045 - accuracy: 0.8073 - val_loss: 0.4615 - val_accuracy: 0.7776\n",
      "Epoch 11/100\n",
      "719/719 [==============================] - 1s 2ms/step - loss: 0.4009 - accuracy: 0.8103 - val_loss: 0.4697 - val_accuracy: 0.7700\n",
      "Epoch 12/100\n",
      "719/719 [==============================] - 1s 2ms/step - loss: 0.3988 - accuracy: 0.8102 - val_loss: 0.4652 - val_accuracy: 0.7727\n",
      "Epoch 13/100\n",
      "719/719 [==============================] - 1s 2ms/step - loss: 0.3964 - accuracy: 0.8117 - val_loss: 0.4641 - val_accuracy: 0.7805\n",
      "Epoch 14/100\n",
      "719/719 [==============================] - 1s 2ms/step - loss: 0.3946 - accuracy: 0.8126 - val_loss: 0.4689 - val_accuracy: 0.7805\n",
      "Epoch 15/100\n",
      "719/719 [==============================] - 1s 2ms/step - loss: 0.3945 - accuracy: 0.8124 - val_loss: 0.4771 - val_accuracy: 0.7668\n",
      "Epoch 16/100\n",
      "719/719 [==============================] - 1s 2ms/step - loss: 0.3922 - accuracy: 0.8130 - val_loss: 0.4696 - val_accuracy: 0.7811\n",
      "Epoch 17/100\n",
      "719/719 [==============================] - 1s 2ms/step - loss: 0.3918 - accuracy: 0.8125 - val_loss: 0.4703 - val_accuracy: 0.7733\n",
      "Epoch 18/100\n",
      "719/719 [==============================] - 1s 2ms/step - loss: 0.3906 - accuracy: 0.8130 - val_loss: 0.4688 - val_accuracy: 0.7781\n",
      "Epoch 19/100\n",
      "719/719 [==============================] - 1s 2ms/step - loss: 0.3898 - accuracy: 0.8139 - val_loss: 0.4708 - val_accuracy: 0.7797\n",
      "Epoch 20/100\n",
      "719/719 [==============================] - 1s 2ms/step - loss: 0.3892 - accuracy: 0.8136 - val_loss: 0.4760 - val_accuracy: 0.7813\n",
      "Epoch 21/100\n",
      "719/719 [==============================] - 1s 2ms/step - loss: 0.3889 - accuracy: 0.8158 - val_loss: 0.4755 - val_accuracy: 0.7708\n",
      "Epoch 22/100\n",
      "719/719 [==============================] - 1s 2ms/step - loss: 0.3881 - accuracy: 0.8171 - val_loss: 0.4727 - val_accuracy: 0.7735\n",
      "Epoch 23/100\n",
      "719/719 [==============================] - 1s 2ms/step - loss: 0.3881 - accuracy: 0.8150 - val_loss: 0.4727 - val_accuracy: 0.7770\n",
      "Epoch 24/100\n",
      "719/719 [==============================] - 1s 2ms/step - loss: 0.3876 - accuracy: 0.8159 - val_loss: 0.4754 - val_accuracy: 0.7730\n",
      "Epoch 25/100\n",
      "719/719 [==============================] - 1s 2ms/step - loss: 0.3879 - accuracy: 0.8159 - val_loss: 0.4799 - val_accuracy: 0.7665\n",
      "Epoch 26/100\n",
      "719/719 [==============================] - 1s 2ms/step - loss: 0.3869 - accuracy: 0.8141 - val_loss: 0.4772 - val_accuracy: 0.7792\n",
      "Epoch 27/100\n",
      "719/719 [==============================] - 1s 2ms/step - loss: 0.3877 - accuracy: 0.8141 - val_loss: 0.4759 - val_accuracy: 0.7770\n",
      "Epoch 28/100\n",
      "719/719 [==============================] - 1s 2ms/step - loss: 0.3869 - accuracy: 0.8153 - val_loss: 0.4760 - val_accuracy: 0.7757\n",
      "Epoch 29/100\n",
      "719/719 [==============================] - 1s 2ms/step - loss: 0.3884 - accuracy: 0.8148 - val_loss: 0.4772 - val_accuracy: 0.7776\n",
      "Epoch 30/100\n",
      "719/719 [==============================] - 1s 2ms/step - loss: 0.3861 - accuracy: 0.8160 - val_loss: 0.4785 - val_accuracy: 0.7716\n",
      "Epoch 31/100\n",
      "719/719 [==============================] - 1s 2ms/step - loss: 0.3858 - accuracy: 0.8166 - val_loss: 0.4777 - val_accuracy: 0.7776\n",
      "Epoch 32/100\n",
      "719/719 [==============================] - 1s 2ms/step - loss: 0.3860 - accuracy: 0.8167 - val_loss: 0.4780 - val_accuracy: 0.7700\n",
      "Epoch 33/100\n",
      "719/719 [==============================] - 1s 2ms/step - loss: 0.3860 - accuracy: 0.8172 - val_loss: 0.4798 - val_accuracy: 0.7714\n",
      "Epoch 34/100\n",
      "719/719 [==============================] - 1s 2ms/step - loss: 0.3852 - accuracy: 0.8164 - val_loss: 0.4785 - val_accuracy: 0.7749\n",
      "Epoch 35/100\n",
      "719/719 [==============================] - 1s 2ms/step - loss: 0.3856 - accuracy: 0.8161 - val_loss: 0.4794 - val_accuracy: 0.7770\n",
      "Epoch 36/100\n",
      "719/719 [==============================] - 1s 2ms/step - loss: 0.3851 - accuracy: 0.8170 - val_loss: 0.4807 - val_accuracy: 0.7719\n",
      "Epoch 37/100\n",
      "719/719 [==============================] - 1s 2ms/step - loss: 0.3853 - accuracy: 0.8164 - val_loss: 0.4820 - val_accuracy: 0.7773\n",
      "Epoch 38/100\n",
      "719/719 [==============================] - 1s 2ms/step - loss: 0.3863 - accuracy: 0.8164 - val_loss: 0.4837 - val_accuracy: 0.7668\n",
      "Epoch 39/100\n",
      "719/719 [==============================] - 1s 2ms/step - loss: 0.3855 - accuracy: 0.8172 - val_loss: 0.4817 - val_accuracy: 0.7711\n",
      "Epoch 40/100\n",
      "719/719 [==============================] - 1s 2ms/step - loss: 0.3856 - accuracy: 0.8154 - val_loss: 0.4808 - val_accuracy: 0.7708\n",
      "Epoch 41/100\n",
      "719/719 [==============================] - 1s 2ms/step - loss: 0.3858 - accuracy: 0.8163 - val_loss: 0.4832 - val_accuracy: 0.7765\n",
      "Epoch 42/100\n",
      "719/719 [==============================] - 1s 2ms/step - loss: 0.3855 - accuracy: 0.8162 - val_loss: 0.4809 - val_accuracy: 0.7757\n",
      "Epoch 43/100\n",
      "719/719 [==============================] - 1s 2ms/step - loss: 0.3844 - accuracy: 0.8170 - val_loss: 0.4859 - val_accuracy: 0.7660\n",
      "Epoch 44/100\n",
      "719/719 [==============================] - 1s 2ms/step - loss: 0.3868 - accuracy: 0.8166 - val_loss: 0.4812 - val_accuracy: 0.7733\n",
      "Epoch 45/100\n",
      "719/719 [==============================] - 1s 2ms/step - loss: 0.3846 - accuracy: 0.8158 - val_loss: 0.4833 - val_accuracy: 0.7700\n",
      "Epoch 46/100\n",
      "719/719 [==============================] - 1s 2ms/step - loss: 0.3853 - accuracy: 0.8169 - val_loss: 0.4841 - val_accuracy: 0.7700\n",
      "Epoch 47/100\n",
      "719/719 [==============================] - 1s 2ms/step - loss: 0.3847 - accuracy: 0.8174 - val_loss: 0.4821 - val_accuracy: 0.7724\n",
      "Epoch 48/100\n",
      "719/719 [==============================] - 1s 2ms/step - loss: 0.3850 - accuracy: 0.8157 - val_loss: 0.4823 - val_accuracy: 0.7741\n",
      "Epoch 49/100\n",
      "719/719 [==============================] - 1s 2ms/step - loss: 0.3844 - accuracy: 0.8174 - val_loss: 0.4835 - val_accuracy: 0.7689\n",
      "Epoch 50/100\n",
      "719/719 [==============================] - 1s 2ms/step - loss: 0.3851 - accuracy: 0.8153 - val_loss: 0.4850 - val_accuracy: 0.7700\n",
      "Epoch 51/100\n",
      "719/719 [==============================] - 1s 2ms/step - loss: 0.3847 - accuracy: 0.8169 - val_loss: 0.4983 - val_accuracy: 0.7571\n",
      "Epoch 52/100\n",
      "719/719 [==============================] - 1s 2ms/step - loss: 0.3843 - accuracy: 0.8183 - val_loss: 0.4838 - val_accuracy: 0.7765\n",
      "Epoch 53/100\n",
      "719/719 [==============================] - 1s 2ms/step - loss: 0.3844 - accuracy: 0.8171 - val_loss: 0.4829 - val_accuracy: 0.7738\n",
      "Epoch 54/100\n",
      "719/719 [==============================] - 1s 2ms/step - loss: 0.3844 - accuracy: 0.8160 - val_loss: 0.4837 - val_accuracy: 0.7708\n",
      "Epoch 55/100\n",
      "719/719 [==============================] - 1s 2ms/step - loss: 0.3838 - accuracy: 0.8191 - val_loss: 0.4850 - val_accuracy: 0.7760\n",
      "Epoch 56/100\n",
      "719/719 [==============================] - 1s 2ms/step - loss: 0.3848 - accuracy: 0.8173 - val_loss: 0.4843 - val_accuracy: 0.7692\n",
      "Epoch 57/100\n",
      "719/719 [==============================] - 1s 2ms/step - loss: 0.3853 - accuracy: 0.8143 - val_loss: 0.4856 - val_accuracy: 0.7706\n",
      "Epoch 58/100\n",
      "719/719 [==============================] - 1s 2ms/step - loss: 0.3841 - accuracy: 0.8168 - val_loss: 0.4871 - val_accuracy: 0.7681\n",
      "Epoch 59/100\n",
      "719/719 [==============================] - 1s 2ms/step - loss: 0.3849 - accuracy: 0.8162 - val_loss: 0.4879 - val_accuracy: 0.7668\n",
      "Epoch 60/100\n",
      "719/719 [==============================] - 1s 2ms/step - loss: 0.3842 - accuracy: 0.8186 - val_loss: 0.5000 - val_accuracy: 0.7714\n",
      "Epoch 61/100\n",
      "719/719 [==============================] - 1s 2ms/step - loss: 0.3851 - accuracy: 0.8155 - val_loss: 0.4890 - val_accuracy: 0.7638\n",
      "Epoch 62/100\n",
      "719/719 [==============================] - 1s 2ms/step - loss: 0.3844 - accuracy: 0.8168 - val_loss: 0.4844 - val_accuracy: 0.7703\n",
      "Epoch 63/100\n",
      "719/719 [==============================] - 1s 2ms/step - loss: 0.3842 - accuracy: 0.8169 - val_loss: 0.4874 - val_accuracy: 0.7692\n",
      "Epoch 64/100\n",
      "719/719 [==============================] - 1s 1ms/step - loss: 0.3842 - accuracy: 0.8167 - val_loss: 0.4884 - val_accuracy: 0.7646\n",
      "Epoch 65/100\n",
      "719/719 [==============================] - 1s 2ms/step - loss: 0.3842 - accuracy: 0.8163 - val_loss: 0.4900 - val_accuracy: 0.7738\n",
      "Epoch 66/100\n",
      "719/719 [==============================] - 1s 2ms/step - loss: 0.3841 - accuracy: 0.8177 - val_loss: 0.4865 - val_accuracy: 0.7692\n",
      "Epoch 67/100\n",
      "719/719 [==============================] - 1s 2ms/step - loss: 0.3853 - accuracy: 0.8156 - val_loss: 0.4873 - val_accuracy: 0.7673\n",
      "Epoch 68/100\n",
      "719/719 [==============================] - 1s 2ms/step - loss: 0.3836 - accuracy: 0.8177 - val_loss: 0.4861 - val_accuracy: 0.7760\n",
      "Epoch 69/100\n",
      "719/719 [==============================] - 1s 2ms/step - loss: 0.3838 - accuracy: 0.8183 - val_loss: 0.4851 - val_accuracy: 0.7692\n",
      "Epoch 70/100\n",
      "719/719 [==============================] - 1s 2ms/step - loss: 0.3840 - accuracy: 0.8173 - val_loss: 0.4912 - val_accuracy: 0.7625\n",
      "Epoch 71/100\n",
      "719/719 [==============================] - 1s 2ms/step - loss: 0.3839 - accuracy: 0.8176 - val_loss: 0.4925 - val_accuracy: 0.7724\n",
      "Epoch 72/100\n",
      "719/719 [==============================] - 1s 2ms/step - loss: 0.3841 - accuracy: 0.8167 - val_loss: 0.4849 - val_accuracy: 0.7722\n",
      "Epoch 73/100\n",
      "719/719 [==============================] - 1s 2ms/step - loss: 0.3839 - accuracy: 0.8163 - val_loss: 0.4853 - val_accuracy: 0.7727\n",
      "Epoch 74/100\n",
      "719/719 [==============================] - 1s 2ms/step - loss: 0.3837 - accuracy: 0.8171 - val_loss: 0.5312 - val_accuracy: 0.7393\n",
      "Epoch 75/100\n",
      "719/719 [==============================] - 1s 2ms/step - loss: 0.3847 - accuracy: 0.8156 - val_loss: 0.4853 - val_accuracy: 0.7716\n",
      "Epoch 76/100\n",
      "719/719 [==============================] - 1s 2ms/step - loss: 0.3838 - accuracy: 0.8186 - val_loss: 0.4877 - val_accuracy: 0.7684\n",
      "Epoch 77/100\n",
      "719/719 [==============================] - 1s 2ms/step - loss: 0.3843 - accuracy: 0.8177 - val_loss: 0.4891 - val_accuracy: 0.7654\n",
      "Epoch 78/100\n",
      "719/719 [==============================] - 1s 2ms/step - loss: 0.3830 - accuracy: 0.8176 - val_loss: 0.4860 - val_accuracy: 0.7689\n",
      "Epoch 79/100\n",
      "719/719 [==============================] - 1s 2ms/step - loss: 0.3841 - accuracy: 0.8169 - val_loss: 0.4887 - val_accuracy: 0.7673\n",
      "Epoch 80/100\n",
      "719/719 [==============================] - 1s 2ms/step - loss: 0.3845 - accuracy: 0.8164 - val_loss: 0.4933 - val_accuracy: 0.7727\n",
      "Epoch 81/100\n",
      "719/719 [==============================] - 1s 2ms/step - loss: 0.3839 - accuracy: 0.8163 - val_loss: 0.4990 - val_accuracy: 0.7708\n",
      "Epoch 82/100\n",
      "719/719 [==============================] - 1s 2ms/step - loss: 0.3846 - accuracy: 0.8163 - val_loss: 0.4858 - val_accuracy: 0.7708\n",
      "Epoch 83/100\n",
      "719/719 [==============================] - 1s 2ms/step - loss: 0.3843 - accuracy: 0.8171 - val_loss: 0.4867 - val_accuracy: 0.7681\n",
      "Epoch 84/100\n",
      "719/719 [==============================] - 1s 2ms/step - loss: 0.3841 - accuracy: 0.8173 - val_loss: 0.4883 - val_accuracy: 0.7738\n",
      "Epoch 85/100\n",
      "719/719 [==============================] - 1s 2ms/step - loss: 0.3831 - accuracy: 0.8177 - val_loss: 0.4855 - val_accuracy: 0.7722\n",
      "Epoch 86/100\n",
      "719/719 [==============================] - 1s 2ms/step - loss: 0.3846 - accuracy: 0.8162 - val_loss: 0.4855 - val_accuracy: 0.7724\n",
      "Epoch 87/100\n",
      "719/719 [==============================] - 1s 2ms/step - loss: 0.3838 - accuracy: 0.8182 - val_loss: 0.4859 - val_accuracy: 0.7697\n",
      "Epoch 88/100\n",
      "719/719 [==============================] - 1s 2ms/step - loss: 0.3838 - accuracy: 0.8177 - val_loss: 0.4978 - val_accuracy: 0.7592\n",
      "Epoch 89/100\n",
      "719/719 [==============================] - 1s 2ms/step - loss: 0.3832 - accuracy: 0.8185 - val_loss: 0.4863 - val_accuracy: 0.7741\n",
      "Epoch 90/100\n",
      "719/719 [==============================] - 1s 2ms/step - loss: 0.3836 - accuracy: 0.8182 - val_loss: 0.4896 - val_accuracy: 0.7660\n",
      "Epoch 91/100\n",
      "719/719 [==============================] - 1s 2ms/step - loss: 0.3838 - accuracy: 0.8172 - val_loss: 0.4869 - val_accuracy: 0.7684\n",
      "Epoch 92/100\n",
      "719/719 [==============================] - 1s 2ms/step - loss: 0.3835 - accuracy: 0.8170 - val_loss: 0.4933 - val_accuracy: 0.7733\n",
      "Epoch 93/100\n",
      "719/719 [==============================] - 1s 1ms/step - loss: 0.3832 - accuracy: 0.8163 - val_loss: 0.4886 - val_accuracy: 0.7738\n",
      "Epoch 94/100\n",
      "719/719 [==============================] - 1s 2ms/step - loss: 0.3840 - accuracy: 0.8173 - val_loss: 0.4870 - val_accuracy: 0.7676\n",
      "Epoch 95/100\n",
      "719/719 [==============================] - 1s 2ms/step - loss: 0.3837 - accuracy: 0.8177 - val_loss: 0.4921 - val_accuracy: 0.7644\n",
      "Epoch 96/100\n",
      "719/719 [==============================] - 1s 2ms/step - loss: 0.3837 - accuracy: 0.8169 - val_loss: 0.4862 - val_accuracy: 0.7719\n",
      "Epoch 97/100\n",
      "719/719 [==============================] - 1s 2ms/step - loss: 0.3833 - accuracy: 0.8187 - val_loss: 0.4882 - val_accuracy: 0.7751\n",
      "Epoch 98/100\n",
      "719/719 [==============================] - 1s 2ms/step - loss: 0.3836 - accuracy: 0.8175 - val_loss: 0.4868 - val_accuracy: 0.7695\n",
      "Epoch 99/100\n",
      "719/719 [==============================] - 1s 2ms/step - loss: 0.3830 - accuracy: 0.8176 - val_loss: 0.4878 - val_accuracy: 0.7684\n",
      "Epoch 100/100\n",
      "719/719 [==============================] - 1s 2ms/step - loss: 0.3833 - accuracy: 0.8162 - val_loss: 0.4923 - val_accuracy: 0.7641\n"
     ]
    }
   ],
   "source": [
    "num_epochs = 100\n",
    "history = model.fit(training_padded, training_labels, epochs=num_epochs,\n",
    "                    validation_data=(testing_padded, testing_labels))"
   ]
  },
  {
   "cell_type": "code",
   "execution_count": 35,
   "metadata": {},
   "outputs": [
    {
     "data": {
      "image/png": "[encoded data removed]",
      "text/plain": [
       "<Figure size 432x288 with 1 Axes>"
      ]
     },
     "metadata": {
      "needs_background": "light"
     },
     "output_type": "display_data"
    }
   ],
   "source": [
    "plt.plot(history.history['accuracy'])\n",
    "plt.plot(history.history['val_accuracy'])\n",
    "plt.xlabel('epochs')\n",
    "plt.ylabel('accuracy')\n",
    "plt.legend(['accuracy', 'val_accuracy'])\n",
    "plt.show()"
   ]
  },
  {
   "cell_type": "code",
   "execution_count": 36,
   "metadata": {
    "scrolled": true
   },
   "outputs": [
    {
     "data": {
      "image/png": "[encoded data removed]",
      "text/plain": [
       "<Figure size 432x288 with 1 Axes>"
      ]
     },
     "metadata": {
      "needs_background": "light"
     },
     "output_type": "display_data"
    }
   ],
   "source": [
    "plt.plot(history.history['loss'])\n",
    "plt.plot(history.history['val_loss'])\n",
    "plt.xlabel('epochs')\n",
    "plt.ylabel('loss')\n",
    "plt.legend(['loss', 'val_loss'])\n",
    "plt.show()"
   ]
  },
  {
   "cell_type": "markdown",
   "metadata": {},
   "source": [
    "#### 드롭아웃 사용하기"
   ]
  },
  {
   "cell_type": "code",
   "execution_count": 37,
   "metadata": {},
   "outputs": [],
   "source": [
    "model = tf.keras.Sequential([\n",
    "    tf.keras.layers.Embedding(vocab_size, embedding_dim),\n",
    "    tf.keras.layers.GlobalAveragePooling1D(),\n",
    "    tf.keras.layers.Dense(8, activation='relu'),\n",
    "    tf.keras.layers.Dropout(.25),\n",
    "    tf.keras.layers.Dense(1, activation='sigmoid')\n",
    "])\n",
    "model.compile(loss='binary_crossentropy',\n",
    "              optimizer='adam',metrics=['accuracy'])"
   ]
  },
  {
   "cell_type": "code",
   "execution_count": 38,
   "metadata": {
    "scrolled": true
   },
   "outputs": [
    {
     "name": "stdout",
     "output_type": "stream",
     "text": [
      "Epoch 1/100\n",
      "719/719 [==============================] - 2s 2ms/step - loss: 0.6847 - accuracy: 0.5591 - val_loss: 0.6767 - val_accuracy: 0.5700\n",
      "Epoch 2/100\n",
      "719/719 [==============================] - 1s 2ms/step - loss: 0.6602 - accuracy: 0.6019 - val_loss: 0.6307 - val_accuracy: 0.6840\n",
      "Epoch 3/100\n",
      "719/719 [==============================] - 1s 2ms/step - loss: 0.5991 - accuracy: 0.6742 - val_loss: 0.5627 - val_accuracy: 0.7358\n",
      "Epoch 4/100\n",
      "719/719 [==============================] - 1s 2ms/step - loss: 0.5404 - accuracy: 0.7264 - val_loss: 0.5154 - val_accuracy: 0.7563\n",
      "Epoch 5/100\n",
      "719/719 [==============================] - 1s 2ms/step - loss: 0.5074 - accuracy: 0.7557 - val_loss: 0.4923 - val_accuracy: 0.7662\n",
      "Epoch 6/100\n",
      "719/719 [==============================] - 1s 2ms/step - loss: 0.4826 - accuracy: 0.7750 - val_loss: 0.4812 - val_accuracy: 0.7671\n",
      "Epoch 7/100\n",
      "719/719 [==============================] - 1s 2ms/step - loss: 0.4700 - accuracy: 0.7833 - val_loss: 0.4765 - val_accuracy: 0.7724\n",
      "Epoch 8/100\n",
      "719/719 [==============================] - 1s 2ms/step - loss: 0.4591 - accuracy: 0.7876 - val_loss: 0.4697 - val_accuracy: 0.7776\n",
      "Epoch 9/100\n",
      "719/719 [==============================] - 1s 2ms/step - loss: 0.4529 - accuracy: 0.7943 - val_loss: 0.4682 - val_accuracy: 0.7727\n",
      "Epoch 10/100\n",
      "719/719 [==============================] - 1s 2ms/step - loss: 0.4466 - accuracy: 0.7985 - val_loss: 0.4666 - val_accuracy: 0.7795\n",
      "Epoch 11/100\n",
      "719/719 [==============================] - 1s 2ms/step - loss: 0.4437 - accuracy: 0.8004 - val_loss: 0.4681 - val_accuracy: 0.7706\n",
      "Epoch 12/100\n",
      "719/719 [==============================] - 1s 2ms/step - loss: 0.4383 - accuracy: 0.8035 - val_loss: 0.4705 - val_accuracy: 0.7800\n",
      "Epoch 13/100\n",
      "719/719 [==============================] - 1s 2ms/step - loss: 0.4377 - accuracy: 0.8052 - val_loss: 0.4816 - val_accuracy: 0.7600\n",
      "Epoch 14/100\n",
      "719/719 [==============================] - 1s 2ms/step - loss: 0.4333 - accuracy: 0.8063 - val_loss: 0.4688 - val_accuracy: 0.7805\n",
      "Epoch 15/100\n",
      "719/719 [==============================] - 1s 2ms/step - loss: 0.4353 - accuracy: 0.8074 - val_loss: 0.4656 - val_accuracy: 0.7795\n",
      "Epoch 16/100\n",
      "719/719 [==============================] - 1s 2ms/step - loss: 0.4291 - accuracy: 0.8087 - val_loss: 0.4692 - val_accuracy: 0.7706\n",
      "Epoch 17/100\n",
      "719/719 [==============================] - 1s 2ms/step - loss: 0.4290 - accuracy: 0.8107 - val_loss: 0.4779 - val_accuracy: 0.7641\n",
      "Epoch 18/100\n",
      "719/719 [==============================] - 1s 2ms/step - loss: 0.4293 - accuracy: 0.8125 - val_loss: 0.4668 - val_accuracy: 0.7789\n",
      "Epoch 19/100\n",
      "719/719 [==============================] - 1s 2ms/step - loss: 0.4277 - accuracy: 0.8120 - val_loss: 0.4682 - val_accuracy: 0.7738\n",
      "Epoch 20/100\n",
      "719/719 [==============================] - 1s 2ms/step - loss: 0.4252 - accuracy: 0.8127 - val_loss: 0.4790 - val_accuracy: 0.7630\n",
      "Epoch 21/100\n",
      "719/719 [==============================] - 1s 2ms/step - loss: 0.4236 - accuracy: 0.8120 - val_loss: 0.4696 - val_accuracy: 0.7792\n",
      "Epoch 22/100\n",
      "719/719 [==============================] - 1s 2ms/step - loss: 0.4210 - accuracy: 0.8161 - val_loss: 0.4704 - val_accuracy: 0.7797\n",
      "Epoch 23/100\n",
      "719/719 [==============================] - 1s 2ms/step - loss: 0.4224 - accuracy: 0.8130 - val_loss: 0.4702 - val_accuracy: 0.7724\n",
      "Epoch 24/100\n",
      "719/719 [==============================] - 1s 2ms/step - loss: 0.4228 - accuracy: 0.8119 - val_loss: 0.4714 - val_accuracy: 0.7786\n",
      "Epoch 25/100\n",
      "719/719 [==============================] - 1s 2ms/step - loss: 0.4229 - accuracy: 0.8141 - val_loss: 0.4719 - val_accuracy: 0.7743\n",
      "Epoch 26/100\n",
      "719/719 [==============================] - 1s 2ms/step - loss: 0.4222 - accuracy: 0.8122 - val_loss: 0.4721 - val_accuracy: 0.7776\n",
      "Epoch 27/100\n",
      "719/719 [==============================] - 1s 2ms/step - loss: 0.4215 - accuracy: 0.8122 - val_loss: 0.4738 - val_accuracy: 0.7676\n",
      "Epoch 28/100\n",
      "719/719 [==============================] - 1s 2ms/step - loss: 0.4188 - accuracy: 0.8143 - val_loss: 0.4767 - val_accuracy: 0.7627\n",
      "Epoch 29/100\n",
      "719/719 [==============================] - 1s 2ms/step - loss: 0.4186 - accuracy: 0.8142 - val_loss: 0.4797 - val_accuracy: 0.7765\n",
      "Epoch 30/100\n",
      "719/719 [==============================] - 1s 2ms/step - loss: 0.4175 - accuracy: 0.8146 - val_loss: 0.4756 - val_accuracy: 0.7611\n",
      "Epoch 31/100\n",
      "719/719 [==============================] - 1s 2ms/step - loss: 0.4194 - accuracy: 0.8121 - val_loss: 0.4775 - val_accuracy: 0.7735\n",
      "Epoch 32/100\n",
      "719/719 [==============================] - 1s 2ms/step - loss: 0.4172 - accuracy: 0.8143 - val_loss: 0.4775 - val_accuracy: 0.7673\n",
      "Epoch 33/100\n",
      "719/719 [==============================] - 1s 2ms/step - loss: 0.4168 - accuracy: 0.8157 - val_loss: 0.4775 - val_accuracy: 0.7722\n",
      "Epoch 34/100\n",
      "719/719 [==============================] - 1s 2ms/step - loss: 0.4132 - accuracy: 0.8171 - val_loss: 0.4781 - val_accuracy: 0.7711\n",
      "Epoch 35/100\n",
      "719/719 [==============================] - 1s 2ms/step - loss: 0.4158 - accuracy: 0.8144 - val_loss: 0.4798 - val_accuracy: 0.7751\n",
      "Epoch 36/100\n",
      "719/719 [==============================] - 1s 2ms/step - loss: 0.4162 - accuracy: 0.8167 - val_loss: 0.4804 - val_accuracy: 0.7697\n",
      "Epoch 37/100\n",
      "719/719 [==============================] - 1s 2ms/step - loss: 0.4134 - accuracy: 0.8135 - val_loss: 0.4808 - val_accuracy: 0.7724\n",
      "Epoch 38/100\n",
      "719/719 [==============================] - 1s 2ms/step - loss: 0.4129 - accuracy: 0.8161 - val_loss: 0.4914 - val_accuracy: 0.7511\n",
      "Epoch 39/100\n",
      "719/719 [==============================] - 1s 2ms/step - loss: 0.4132 - accuracy: 0.8137 - val_loss: 0.4821 - val_accuracy: 0.7706\n",
      "Epoch 40/100\n",
      "719/719 [==============================] - 1s 2ms/step - loss: 0.4103 - accuracy: 0.8165 - val_loss: 0.4863 - val_accuracy: 0.7765\n",
      "Epoch 41/100\n",
      "719/719 [==============================] - 1s 2ms/step - loss: 0.4117 - accuracy: 0.8175 - val_loss: 0.4877 - val_accuracy: 0.7533\n",
      "Epoch 42/100\n",
      "719/719 [==============================] - 1s 2ms/step - loss: 0.4098 - accuracy: 0.8180 - val_loss: 0.4906 - val_accuracy: 0.7738\n",
      "Epoch 43/100\n",
      "719/719 [==============================] - 1s 2ms/step - loss: 0.4084 - accuracy: 0.8156 - val_loss: 0.4882 - val_accuracy: 0.7757\n",
      "Epoch 44/100\n",
      "719/719 [==============================] - 1s 2ms/step - loss: 0.4045 - accuracy: 0.8152 - val_loss: 0.4845 - val_accuracy: 0.7617\n",
      "Epoch 45/100\n",
      "719/719 [==============================] - 1s 2ms/step - loss: 0.4049 - accuracy: 0.8170 - val_loss: 0.4870 - val_accuracy: 0.7644\n",
      "Epoch 46/100\n",
      "719/719 [==============================] - 1s 2ms/step - loss: 0.4064 - accuracy: 0.8160 - val_loss: 0.4901 - val_accuracy: 0.7676\n",
      "Epoch 47/100\n",
      "719/719 [==============================] - 1s 2ms/step - loss: 0.4040 - accuracy: 0.8162 - val_loss: 0.4889 - val_accuracy: 0.7692\n",
      "Epoch 48/100\n",
      "719/719 [==============================] - 1s 2ms/step - loss: 0.4007 - accuracy: 0.8203 - val_loss: 0.4980 - val_accuracy: 0.7743\n",
      "Epoch 49/100\n",
      "719/719 [==============================] - 1s 2ms/step - loss: 0.3997 - accuracy: 0.8202 - val_loss: 0.4948 - val_accuracy: 0.7711\n",
      "Epoch 50/100\n",
      "719/719 [==============================] - 1s 2ms/step - loss: 0.3994 - accuracy: 0.8205 - val_loss: 0.4963 - val_accuracy: 0.7530\n",
      "Epoch 51/100\n",
      "719/719 [==============================] - 1s 2ms/step - loss: 0.4002 - accuracy: 0.8175 - val_loss: 0.5020 - val_accuracy: 0.7738\n",
      "Epoch 52/100\n",
      "719/719 [==============================] - 1s 2ms/step - loss: 0.3967 - accuracy: 0.8205 - val_loss: 0.4944 - val_accuracy: 0.7673\n",
      "Epoch 53/100\n",
      "719/719 [==============================] - 1s 2ms/step - loss: 0.3920 - accuracy: 0.8215 - val_loss: 0.5070 - val_accuracy: 0.7417\n",
      "Epoch 54/100\n",
      "719/719 [==============================] - 1s 2ms/step - loss: 0.3942 - accuracy: 0.8219 - val_loss: 0.4971 - val_accuracy: 0.7474\n",
      "Epoch 55/100\n",
      "719/719 [==============================] - 1s 2ms/step - loss: 0.3929 - accuracy: 0.8217 - val_loss: 0.5061 - val_accuracy: 0.7458\n",
      "Epoch 56/100\n",
      "719/719 [==============================] - 1s 2ms/step - loss: 0.3892 - accuracy: 0.8206 - val_loss: 0.5019 - val_accuracy: 0.7711\n",
      "Epoch 57/100\n",
      "719/719 [==============================] - 1s 2ms/step - loss: 0.3901 - accuracy: 0.8202 - val_loss: 0.5151 - val_accuracy: 0.7730\n",
      "Epoch 58/100\n",
      "719/719 [==============================] - 1s 2ms/step - loss: 0.3902 - accuracy: 0.8210 - val_loss: 0.5011 - val_accuracy: 0.7641\n",
      "Epoch 59/100\n",
      "719/719 [==============================] - 1s 2ms/step - loss: 0.3886 - accuracy: 0.8232 - val_loss: 0.5183 - val_accuracy: 0.7716\n",
      "Epoch 60/100\n",
      "719/719 [==============================] - 1s 2ms/step - loss: 0.3892 - accuracy: 0.8220 - val_loss: 0.5036 - val_accuracy: 0.7630\n",
      "Epoch 61/100\n",
      "719/719 [==============================] - 1s 2ms/step - loss: 0.3875 - accuracy: 0.8215 - val_loss: 0.5031 - val_accuracy: 0.7592\n",
      "Epoch 62/100\n",
      "719/719 [==============================] - 1s 2ms/step - loss: 0.3883 - accuracy: 0.8220 - val_loss: 0.5066 - val_accuracy: 0.7635\n",
      "Epoch 63/100\n",
      "719/719 [==============================] - 1s 2ms/step - loss: 0.3836 - accuracy: 0.8240 - val_loss: 0.5103 - val_accuracy: 0.7641\n",
      "Epoch 64/100\n",
      "719/719 [==============================] - 1s 2ms/step - loss: 0.3827 - accuracy: 0.8233 - val_loss: 0.5088 - val_accuracy: 0.7598\n",
      "Epoch 65/100\n",
      "719/719 [==============================] - 1s 2ms/step - loss: 0.3828 - accuracy: 0.8232 - val_loss: 0.5198 - val_accuracy: 0.7692\n",
      "Epoch 66/100\n",
      "719/719 [==============================] - 1s 2ms/step - loss: 0.3831 - accuracy: 0.8252 - val_loss: 0.5130 - val_accuracy: 0.7644\n",
      "Epoch 67/100\n",
      "719/719 [==============================] - 1s 2ms/step - loss: 0.3800 - accuracy: 0.8243 - val_loss: 0.5150 - val_accuracy: 0.7555\n",
      "Epoch 68/100\n",
      "719/719 [==============================] - 1s 2ms/step - loss: 0.3815 - accuracy: 0.8250 - val_loss: 0.5148 - val_accuracy: 0.7611\n",
      "Epoch 69/100\n",
      "719/719 [==============================] - 1s 2ms/step - loss: 0.3789 - accuracy: 0.8252 - val_loss: 0.5146 - val_accuracy: 0.7565\n",
      "Epoch 70/100\n",
      "719/719 [==============================] - 1s 2ms/step - loss: 0.3799 - accuracy: 0.8241 - val_loss: 0.5204 - val_accuracy: 0.7590\n",
      "Epoch 71/100\n",
      "719/719 [==============================] - 1s 2ms/step - loss: 0.3780 - accuracy: 0.8237 - val_loss: 0.5217 - val_accuracy: 0.7638\n",
      "Epoch 72/100\n",
      "719/719 [==============================] - 1s 2ms/step - loss: 0.3796 - accuracy: 0.8251 - val_loss: 0.5193 - val_accuracy: 0.7552\n",
      "Epoch 73/100\n",
      "719/719 [==============================] - 1s 2ms/step - loss: 0.3793 - accuracy: 0.8244 - val_loss: 0.5167 - val_accuracy: 0.7522\n",
      "Epoch 74/100\n",
      "719/719 [==============================] - 1s 2ms/step - loss: 0.3760 - accuracy: 0.8262 - val_loss: 0.5248 - val_accuracy: 0.7638\n",
      "Epoch 75/100\n",
      "719/719 [==============================] - 1s 2ms/step - loss: 0.3763 - accuracy: 0.8260 - val_loss: 0.5265 - val_accuracy: 0.7522\n",
      "Epoch 76/100\n",
      "719/719 [==============================] - 1s 2ms/step - loss: 0.3737 - accuracy: 0.8246 - val_loss: 0.5255 - val_accuracy: 0.7495\n",
      "Epoch 77/100\n",
      "719/719 [==============================] - 1s 2ms/step - loss: 0.3767 - accuracy: 0.8264 - val_loss: 0.5325 - val_accuracy: 0.7484\n",
      "Epoch 78/100\n",
      "719/719 [==============================] - 1s 2ms/step - loss: 0.3741 - accuracy: 0.8261 - val_loss: 0.5355 - val_accuracy: 0.7387\n",
      "Epoch 79/100\n",
      "719/719 [==============================] - 1s 2ms/step - loss: 0.3747 - accuracy: 0.8262 - val_loss: 0.5313 - val_accuracy: 0.7538\n",
      "Epoch 80/100\n",
      "719/719 [==============================] - 1s 2ms/step - loss: 0.3750 - accuracy: 0.8258 - val_loss: 0.5372 - val_accuracy: 0.7433\n",
      "Epoch 81/100\n",
      "719/719 [==============================] - 1s 2ms/step - loss: 0.3751 - accuracy: 0.8244 - val_loss: 0.5448 - val_accuracy: 0.7614\n",
      "Epoch 82/100\n",
      "719/719 [==============================] - 1s 2ms/step - loss: 0.3753 - accuracy: 0.8252 - val_loss: 0.5316 - val_accuracy: 0.7584\n",
      "Epoch 83/100\n",
      "719/719 [==============================] - 1s 2ms/step - loss: 0.3723 - accuracy: 0.8278 - val_loss: 0.5409 - val_accuracy: 0.7598\n",
      "Epoch 84/100\n",
      "719/719 [==============================] - 1s 2ms/step - loss: 0.3711 - accuracy: 0.8282 - val_loss: 0.5378 - val_accuracy: 0.7522\n",
      "Epoch 85/100\n",
      "719/719 [==============================] - 1s 2ms/step - loss: 0.3691 - accuracy: 0.8285 - val_loss: 0.5356 - val_accuracy: 0.7509\n",
      "Epoch 86/100\n",
      "719/719 [==============================] - 1s 2ms/step - loss: 0.3686 - accuracy: 0.8265 - val_loss: 0.5490 - val_accuracy: 0.7533\n",
      "Epoch 87/100\n",
      "719/719 [==============================] - 1s 2ms/step - loss: 0.3693 - accuracy: 0.8281 - val_loss: 0.5511 - val_accuracy: 0.7511\n",
      "Epoch 88/100\n",
      "719/719 [==============================] - 1s 2ms/step - loss: 0.3704 - accuracy: 0.8283 - val_loss: 0.5489 - val_accuracy: 0.7614\n",
      "Epoch 89/100\n",
      "719/719 [==============================] - 1s 2ms/step - loss: 0.3694 - accuracy: 0.8285 - val_loss: 0.5524 - val_accuracy: 0.7617\n",
      "Epoch 90/100\n",
      "719/719 [==============================] - 1s 2ms/step - loss: 0.3700 - accuracy: 0.8274 - val_loss: 0.5417 - val_accuracy: 0.7525\n",
      "Epoch 91/100\n",
      "719/719 [==============================] - 1s 2ms/step - loss: 0.3686 - accuracy: 0.8279 - val_loss: 0.5501 - val_accuracy: 0.7563\n",
      "Epoch 92/100\n",
      "719/719 [==============================] - 1s 2ms/step - loss: 0.3695 - accuracy: 0.8246 - val_loss: 0.5449 - val_accuracy: 0.7538\n",
      "Epoch 93/100\n",
      "719/719 [==============================] - 1s 2ms/step - loss: 0.3675 - accuracy: 0.8274 - val_loss: 0.5451 - val_accuracy: 0.7471\n",
      "Epoch 94/100\n",
      "719/719 [==============================] - 1s 2ms/step - loss: 0.3661 - accuracy: 0.8287 - val_loss: 0.5585 - val_accuracy: 0.7617\n",
      "Epoch 95/100\n",
      "719/719 [==============================] - 1s 2ms/step - loss: 0.3688 - accuracy: 0.8277 - val_loss: 0.5561 - val_accuracy: 0.7587\n",
      "Epoch 96/100\n",
      "719/719 [==============================] - 1s 2ms/step - loss: 0.3669 - accuracy: 0.8281 - val_loss: 0.5526 - val_accuracy: 0.7490\n",
      "Epoch 97/100\n",
      "719/719 [==============================] - 1s 2ms/step - loss: 0.3670 - accuracy: 0.8287 - val_loss: 0.5804 - val_accuracy: 0.7468\n",
      "Epoch 98/100\n",
      "719/719 [==============================] - 1s 2ms/step - loss: 0.3677 - accuracy: 0.8277 - val_loss: 0.5588 - val_accuracy: 0.7503\n",
      "Epoch 99/100\n",
      "719/719 [==============================] - 1s 2ms/step - loss: 0.3651 - accuracy: 0.8286 - val_loss: 0.5561 - val_accuracy: 0.7533\n",
      "Epoch 100/100\n",
      "719/719 [==============================] - 1s 2ms/step - loss: 0.3675 - accuracy: 0.8276 - val_loss: 0.5607 - val_accuracy: 0.7511\n"
     ]
    }
   ],
   "source": [
    "num_epochs = 100\n",
    "history = model.fit(training_padded, training_labels, epochs=num_epochs,\n",
    "                    validation_data=(testing_padded, testing_labels))"
   ]
  },
  {
   "cell_type": "code",
   "execution_count": 39,
   "metadata": {},
   "outputs": [
    {
     "data": {
      "image/png": "[encoded data removed]",
      "text/plain": [
       "<Figure size 432x288 with 1 Axes>"
      ]
     },
     "metadata": {
      "needs_background": "light"
     },
     "output_type": "display_data"
    }
   ],
   "source": [
    "plt.plot(history.history['accuracy'])\n",
    "plt.plot(history.history['val_accuracy'])\n",
    "plt.xlabel('epochs')\n",
    "plt.ylabel('accuracy')\n",
    "plt.legend(['accuracy', 'val_accuracy'])\n",
    "plt.show()"
   ]
  },
  {
   "cell_type": "code",
   "execution_count": 40,
   "metadata": {
    "scrolled": true
   },
   "outputs": [
    {
     "data": {
      "image/png": "[encoded data removed]",
      "text/plain": [
       "<Figure size 432x288 with 1 Axes>"
      ]
     },
     "metadata": {
      "needs_background": "light"
     },
     "output_type": "display_data"
    }
   ],
   "source": [
    "plt.plot(history.history['loss'])\n",
    "plt.plot(history.history['val_loss'])\n",
    "plt.xlabel('epochs')\n",
    "plt.ylabel('loss')\n",
    "plt.legend(['loss', 'val_loss'])\n",
    "plt.show()"
   ]
  },
  {
   "cell_type": "markdown",
   "metadata": {},
   "source": [
    "#### 규제 사용하기"
   ]
  },
  {
   "cell_type": "code",
   "execution_count": 41,
   "metadata": {},
   "outputs": [],
   "source": [
    "model = tf.keras.Sequential([\n",
    "    tf.keras.layers.Embedding(vocab_size, embedding_dim),\n",
    "    tf.keras.layers.GlobalAveragePooling1D(),\n",
    "    tf.keras.layers.Dense(8, activation='relu', \n",
    "                          kernel_regularizer = tf.keras.regularizers.l2(0.01)),\n",
    "    tf.keras.layers.Dense(1, activation='sigmoid')\n",
    "])\n",
    "model.compile(loss='binary_crossentropy',\n",
    "              optimizer='adam',metrics=['accuracy'])"
   ]
  },
  {
   "cell_type": "code",
   "execution_count": 42,
   "metadata": {
    "scrolled": true
   },
   "outputs": [
    {
     "name": "stdout",
     "output_type": "stream",
     "text": [
      "Epoch 1/100\n",
      "719/719 [==============================] - 2s 2ms/step - loss: 0.7037 - accuracy: 0.5591 - val_loss: 0.6845 - val_accuracy: 0.5700\n",
      "Epoch 2/100\n",
      "719/719 [==============================] - 1s 2ms/step - loss: 0.6860 - accuracy: 0.5596 - val_loss: 0.6832 - val_accuracy: 0.5700\n",
      "Epoch 3/100\n",
      "719/719 [==============================] - 1s 2ms/step - loss: 0.6854 - accuracy: 0.5596 - val_loss: 0.6825 - val_accuracy: 0.5700\n",
      "Epoch 4/100\n",
      "719/719 [==============================] - 1s 2ms/step - loss: 0.6834 - accuracy: 0.5596 - val_loss: 0.6787 - val_accuracy: 0.5700\n",
      "Epoch 5/100\n",
      "719/719 [==============================] - 1s 2ms/step - loss: 0.6749 - accuracy: 0.5596 - val_loss: 0.6654 - val_accuracy: 0.5700\n",
      "Epoch 6/100\n",
      "719/719 [==============================] - 1s 2ms/step - loss: 0.6550 - accuracy: 0.6152 - val_loss: 0.6441 - val_accuracy: 0.6525\n",
      "Epoch 7/100\n",
      "719/719 [==============================] - 1s 2ms/step - loss: 0.6300 - accuracy: 0.6780 - val_loss: 0.6225 - val_accuracy: 0.7050\n",
      "Epoch 8/100\n",
      "719/719 [==============================] - 1s 2ms/step - loss: 0.6051 - accuracy: 0.7140 - val_loss: 0.6009 - val_accuracy: 0.7196\n",
      "Epoch 9/100\n",
      "719/719 [==============================] - 1s 2ms/step - loss: 0.5828 - accuracy: 0.7374 - val_loss: 0.5825 - val_accuracy: 0.7374\n",
      "Epoch 10/100\n",
      "719/719 [==============================] - 1s 2ms/step - loss: 0.5626 - accuracy: 0.7551 - val_loss: 0.5691 - val_accuracy: 0.7441\n",
      "Epoch 11/100\n",
      "719/719 [==============================] - 1s 2ms/step - loss: 0.5457 - accuracy: 0.7661 - val_loss: 0.5548 - val_accuracy: 0.7573\n",
      "Epoch 12/100\n",
      "719/719 [==============================] - 1s 2ms/step - loss: 0.5310 - accuracy: 0.7736 - val_loss: 0.5442 - val_accuracy: 0.7563\n",
      "Epoch 13/100\n",
      "719/719 [==============================] - 1s 2ms/step - loss: 0.5189 - accuracy: 0.7784 - val_loss: 0.5356 - val_accuracy: 0.7606\n",
      "Epoch 14/100\n",
      "719/719 [==============================] - 1s 2ms/step - loss: 0.5080 - accuracy: 0.7844 - val_loss: 0.5280 - val_accuracy: 0.7622\n",
      "Epoch 15/100\n",
      "719/719 [==============================] - 1s 2ms/step - loss: 0.4987 - accuracy: 0.7881 - val_loss: 0.5227 - val_accuracy: 0.7638\n",
      "Epoch 16/100\n",
      "719/719 [==============================] - 1s 2ms/step - loss: 0.4902 - accuracy: 0.7922 - val_loss: 0.5185 - val_accuracy: 0.7619\n",
      "Epoch 17/100\n",
      "719/719 [==============================] - 1s 2ms/step - loss: 0.4835 - accuracy: 0.7943 - val_loss: 0.5134 - val_accuracy: 0.7638\n",
      "Epoch 18/100\n",
      "719/719 [==============================] - 1s 2ms/step - loss: 0.4769 - accuracy: 0.7971 - val_loss: 0.5079 - val_accuracy: 0.7703\n",
      "Epoch 19/100\n",
      "719/719 [==============================] - 1s 2ms/step - loss: 0.4714 - accuracy: 0.7965 - val_loss: 0.5044 - val_accuracy: 0.7708\n",
      "Epoch 20/100\n",
      "719/719 [==============================] - 1s 2ms/step - loss: 0.4662 - accuracy: 0.7990 - val_loss: 0.5014 - val_accuracy: 0.7703\n",
      "Epoch 21/100\n",
      "719/719 [==============================] - 1s 2ms/step - loss: 0.4616 - accuracy: 0.8003 - val_loss: 0.4988 - val_accuracy: 0.7724\n",
      "Epoch 22/100\n",
      "719/719 [==============================] - 1s 2ms/step - loss: 0.4575 - accuracy: 0.8022 - val_loss: 0.4966 - val_accuracy: 0.7708\n",
      "Epoch 23/100\n",
      "719/719 [==============================] - 1s 2ms/step - loss: 0.4542 - accuracy: 0.8019 - val_loss: 0.4948 - val_accuracy: 0.7735\n",
      "Epoch 24/100\n",
      "719/719 [==============================] - 1s 2ms/step - loss: 0.4498 - accuracy: 0.8041 - val_loss: 0.4947 - val_accuracy: 0.7695\n",
      "Epoch 25/100\n",
      "719/719 [==============================] - 1s 2ms/step - loss: 0.4469 - accuracy: 0.8037 - val_loss: 0.4909 - val_accuracy: 0.7733\n",
      "Epoch 26/100\n",
      "719/719 [==============================] - 1s 2ms/step - loss: 0.4441 - accuracy: 0.8053 - val_loss: 0.4896 - val_accuracy: 0.7757\n",
      "Epoch 27/100\n",
      "719/719 [==============================] - 1s 2ms/step - loss: 0.4415 - accuracy: 0.8057 - val_loss: 0.4889 - val_accuracy: 0.7757\n",
      "Epoch 28/100\n",
      "719/719 [==============================] - 1s 2ms/step - loss: 0.4387 - accuracy: 0.8077 - val_loss: 0.4882 - val_accuracy: 0.7724\n",
      "Epoch 29/100\n",
      "719/719 [==============================] - 1s 2ms/step - loss: 0.4364 - accuracy: 0.8083 - val_loss: 0.4861 - val_accuracy: 0.7751\n",
      "Epoch 30/100\n",
      "719/719 [==============================] - 1s 2ms/step - loss: 0.4341 - accuracy: 0.8063 - val_loss: 0.4871 - val_accuracy: 0.7706\n",
      "Epoch 31/100\n",
      "719/719 [==============================] - 1s 2ms/step - loss: 0.4324 - accuracy: 0.8087 - val_loss: 0.4853 - val_accuracy: 0.7808\n",
      "Epoch 32/100\n",
      "719/719 [==============================] - 1s 2ms/step - loss: 0.4303 - accuracy: 0.8095 - val_loss: 0.4894 - val_accuracy: 0.7681\n",
      "Epoch 33/100\n",
      "719/719 [==============================] - 1s 2ms/step - loss: 0.4281 - accuracy: 0.8107 - val_loss: 0.4826 - val_accuracy: 0.7754\n",
      "Epoch 34/100\n",
      "719/719 [==============================] - 1s 2ms/step - loss: 0.4265 - accuracy: 0.8121 - val_loss: 0.4823 - val_accuracy: 0.7746\n",
      "Epoch 35/100\n",
      "719/719 [==============================] - 1s 2ms/step - loss: 0.4256 - accuracy: 0.8111 - val_loss: 0.4819 - val_accuracy: 0.7760\n",
      "Epoch 36/100\n",
      "719/719 [==============================] - 1s 2ms/step - loss: 0.4239 - accuracy: 0.8106 - val_loss: 0.4862 - val_accuracy: 0.7722\n",
      "Epoch 37/100\n",
      "719/719 [==============================] - 1s 2ms/step - loss: 0.4226 - accuracy: 0.8120 - val_loss: 0.4799 - val_accuracy: 0.7768\n",
      "Epoch 38/100\n",
      "719/719 [==============================] - 1s 2ms/step - loss: 0.4214 - accuracy: 0.8111 - val_loss: 0.4798 - val_accuracy: 0.7762\n",
      "Epoch 39/100\n",
      "719/719 [==============================] - 1s 2ms/step - loss: 0.4197 - accuracy: 0.8127 - val_loss: 0.4804 - val_accuracy: 0.7765\n",
      "Epoch 40/100\n",
      "719/719 [==============================] - 1s 2ms/step - loss: 0.4187 - accuracy: 0.8118 - val_loss: 0.4807 - val_accuracy: 0.7800\n",
      "Epoch 41/100\n",
      "719/719 [==============================] - 1s 2ms/step - loss: 0.4174 - accuracy: 0.8126 - val_loss: 0.4799 - val_accuracy: 0.7765\n",
      "Epoch 42/100\n",
      "719/719 [==============================] - 1s 2ms/step - loss: 0.4164 - accuracy: 0.8138 - val_loss: 0.4787 - val_accuracy: 0.7762\n",
      "Epoch 43/100\n",
      "719/719 [==============================] - 1s 2ms/step - loss: 0.4153 - accuracy: 0.8127 - val_loss: 0.4796 - val_accuracy: 0.7792\n",
      "Epoch 44/100\n",
      "719/719 [==============================] - 1s 2ms/step - loss: 0.4147 - accuracy: 0.8128 - val_loss: 0.4804 - val_accuracy: 0.7749\n",
      "Epoch 45/100\n",
      "719/719 [==============================] - 1s 2ms/step - loss: 0.4140 - accuracy: 0.8146 - val_loss: 0.4779 - val_accuracy: 0.7762\n",
      "Epoch 46/100\n",
      "719/719 [==============================] - 1s 2ms/step - loss: 0.4131 - accuracy: 0.8130 - val_loss: 0.4795 - val_accuracy: 0.7768\n",
      "Epoch 47/100\n",
      "719/719 [==============================] - 1s 2ms/step - loss: 0.4115 - accuracy: 0.8146 - val_loss: 0.4769 - val_accuracy: 0.7797\n",
      "Epoch 48/100\n",
      "719/719 [==============================] - 1s 2ms/step - loss: 0.4112 - accuracy: 0.8147 - val_loss: 0.4769 - val_accuracy: 0.7781\n",
      "Epoch 49/100\n",
      "719/719 [==============================] - 1s 2ms/step - loss: 0.4106 - accuracy: 0.8151 - val_loss: 0.4797 - val_accuracy: 0.7824\n",
      "Epoch 50/100\n",
      "719/719 [==============================] - 1s 2ms/step - loss: 0.4094 - accuracy: 0.8139 - val_loss: 0.4810 - val_accuracy: 0.7719\n",
      "Epoch 51/100\n",
      "719/719 [==============================] - 1s 2ms/step - loss: 0.4090 - accuracy: 0.8151 - val_loss: 0.4781 - val_accuracy: 0.7786\n",
      "Epoch 52/100\n",
      "719/719 [==============================] - 1s 2ms/step - loss: 0.4084 - accuracy: 0.8155 - val_loss: 0.4775 - val_accuracy: 0.7768\n",
      "Epoch 53/100\n",
      "719/719 [==============================] - 1s 2ms/step - loss: 0.4077 - accuracy: 0.8160 - val_loss: 0.4778 - val_accuracy: 0.7770\n",
      "Epoch 54/100\n",
      "719/719 [==============================] - 1s 2ms/step - loss: 0.4074 - accuracy: 0.8164 - val_loss: 0.4780 - val_accuracy: 0.7765\n",
      "Epoch 55/100\n",
      "719/719 [==============================] - 1s 2ms/step - loss: 0.4066 - accuracy: 0.8160 - val_loss: 0.4853 - val_accuracy: 0.7684\n",
      "Epoch 56/100\n",
      "719/719 [==============================] - 1s 2ms/step - loss: 0.4061 - accuracy: 0.8147 - val_loss: 0.4817 - val_accuracy: 0.7692\n",
      "Epoch 57/100\n",
      "719/719 [==============================] - 1s 2ms/step - loss: 0.4053 - accuracy: 0.8163 - val_loss: 0.4775 - val_accuracy: 0.7800\n",
      "Epoch 58/100\n",
      "719/719 [==============================] - 1s 2ms/step - loss: 0.4051 - accuracy: 0.8160 - val_loss: 0.4801 - val_accuracy: 0.7722\n",
      "Epoch 59/100\n",
      "719/719 [==============================] - 1s 2ms/step - loss: 0.4046 - accuracy: 0.8147 - val_loss: 0.4765 - val_accuracy: 0.7800\n",
      "Epoch 60/100\n",
      "719/719 [==============================] - 1s 2ms/step - loss: 0.4042 - accuracy: 0.8165 - val_loss: 0.4763 - val_accuracy: 0.7792\n",
      "Epoch 61/100\n",
      "719/719 [==============================] - 1s 2ms/step - loss: 0.4040 - accuracy: 0.8155 - val_loss: 0.4794 - val_accuracy: 0.7719\n",
      "Epoch 62/100\n",
      "719/719 [==============================] - 1s 2ms/step - loss: 0.4027 - accuracy: 0.8171 - val_loss: 0.4776 - val_accuracy: 0.7792\n",
      "Epoch 63/100\n",
      "719/719 [==============================] - 1s 2ms/step - loss: 0.4028 - accuracy: 0.8152 - val_loss: 0.4852 - val_accuracy: 0.7681\n",
      "Epoch 64/100\n",
      "719/719 [==============================] - 1s 2ms/step - loss: 0.4024 - accuracy: 0.8146 - val_loss: 0.4767 - val_accuracy: 0.7781\n",
      "Epoch 65/100\n",
      "719/719 [==============================] - 1s 2ms/step - loss: 0.4019 - accuracy: 0.8164 - val_loss: 0.4772 - val_accuracy: 0.7746\n",
      "Epoch 66/100\n",
      "719/719 [==============================] - 1s 2ms/step - loss: 0.4013 - accuracy: 0.8170 - val_loss: 0.4779 - val_accuracy: 0.7749\n",
      "Epoch 67/100\n",
      "719/719 [==============================] - 1s 2ms/step - loss: 0.4010 - accuracy: 0.8164 - val_loss: 0.4781 - val_accuracy: 0.7751\n",
      "Epoch 68/100\n",
      "719/719 [==============================] - 1s 2ms/step - loss: 0.4006 - accuracy: 0.8158 - val_loss: 0.4780 - val_accuracy: 0.7800\n",
      "Epoch 69/100\n",
      "719/719 [==============================] - 1s 2ms/step - loss: 0.4004 - accuracy: 0.8155 - val_loss: 0.4783 - val_accuracy: 0.7789\n",
      "Epoch 70/100\n",
      "719/719 [==============================] - 1s 2ms/step - loss: 0.3998 - accuracy: 0.8174 - val_loss: 0.4771 - val_accuracy: 0.7813\n",
      "Epoch 71/100\n",
      "719/719 [==============================] - 1s 2ms/step - loss: 0.3996 - accuracy: 0.8179 - val_loss: 0.4794 - val_accuracy: 0.7746\n",
      "Epoch 72/100\n",
      "719/719 [==============================] - 1s 2ms/step - loss: 0.3990 - accuracy: 0.8186 - val_loss: 0.4778 - val_accuracy: 0.7786\n",
      "Epoch 73/100\n",
      "719/719 [==============================] - 1s 2ms/step - loss: 0.3986 - accuracy: 0.8170 - val_loss: 0.4798 - val_accuracy: 0.7743\n",
      "Epoch 74/100\n",
      "719/719 [==============================] - 1s 2ms/step - loss: 0.3996 - accuracy: 0.8152 - val_loss: 0.4778 - val_accuracy: 0.7800\n",
      "Epoch 75/100\n",
      "719/719 [==============================] - 1s 2ms/step - loss: 0.3983 - accuracy: 0.8161 - val_loss: 0.4774 - val_accuracy: 0.7751\n",
      "Epoch 76/100\n",
      "719/719 [==============================] - 1s 2ms/step - loss: 0.3985 - accuracy: 0.8158 - val_loss: 0.4817 - val_accuracy: 0.7711\n",
      "Epoch 77/100\n",
      "719/719 [==============================] - 1s 2ms/step - loss: 0.3983 - accuracy: 0.8169 - val_loss: 0.4780 - val_accuracy: 0.7803\n",
      "Epoch 78/100\n",
      "719/719 [==============================] - 1s 2ms/step - loss: 0.3978 - accuracy: 0.8167 - val_loss: 0.4778 - val_accuracy: 0.7800\n",
      "Epoch 79/100\n",
      "719/719 [==============================] - 1s 2ms/step - loss: 0.3980 - accuracy: 0.8173 - val_loss: 0.4815 - val_accuracy: 0.7714\n",
      "Epoch 80/100\n",
      "719/719 [==============================] - 1s 2ms/step - loss: 0.3973 - accuracy: 0.8167 - val_loss: 0.4781 - val_accuracy: 0.7746\n",
      "Epoch 81/100\n",
      "719/719 [==============================] - 1s 2ms/step - loss: 0.3968 - accuracy: 0.8178 - val_loss: 0.4782 - val_accuracy: 0.7751\n",
      "Epoch 82/100\n",
      "719/719 [==============================] - 1s 2ms/step - loss: 0.3967 - accuracy: 0.8183 - val_loss: 0.4788 - val_accuracy: 0.7733\n",
      "Epoch 83/100\n",
      "719/719 [==============================] - 1s 2ms/step - loss: 0.3963 - accuracy: 0.8173 - val_loss: 0.4799 - val_accuracy: 0.7738\n",
      "Epoch 84/100\n",
      "719/719 [==============================] - 1s 2ms/step - loss: 0.3964 - accuracy: 0.8173 - val_loss: 0.4780 - val_accuracy: 0.7751\n",
      "Epoch 85/100\n",
      "719/719 [==============================] - 1s 2ms/step - loss: 0.3963 - accuracy: 0.8165 - val_loss: 0.4774 - val_accuracy: 0.7778\n",
      "Epoch 86/100\n",
      "719/719 [==============================] - 1s 2ms/step - loss: 0.3956 - accuracy: 0.8193 - val_loss: 0.4800 - val_accuracy: 0.7738\n",
      "Epoch 87/100\n",
      "719/719 [==============================] - 1s 2ms/step - loss: 0.3956 - accuracy: 0.8160 - val_loss: 0.4806 - val_accuracy: 0.7735\n",
      "Epoch 88/100\n",
      "719/719 [==============================] - 1s 2ms/step - loss: 0.3955 - accuracy: 0.8166 - val_loss: 0.4799 - val_accuracy: 0.7730\n",
      "Epoch 89/100\n",
      "719/719 [==============================] - 1s 2ms/step - loss: 0.3948 - accuracy: 0.8190 - val_loss: 0.4783 - val_accuracy: 0.7735\n",
      "Epoch 90/100\n",
      "719/719 [==============================] - 1s 2ms/step - loss: 0.3947 - accuracy: 0.8173 - val_loss: 0.4804 - val_accuracy: 0.7781\n",
      "Epoch 91/100\n",
      "719/719 [==============================] - 1s 2ms/step - loss: 0.3952 - accuracy: 0.8172 - val_loss: 0.4826 - val_accuracy: 0.7789\n",
      "Epoch 92/100\n",
      "719/719 [==============================] - 1s 2ms/step - loss: 0.3950 - accuracy: 0.8186 - val_loss: 0.4808 - val_accuracy: 0.7738\n",
      "Epoch 93/100\n",
      "719/719 [==============================] - 1s 2ms/step - loss: 0.3946 - accuracy: 0.8177 - val_loss: 0.4793 - val_accuracy: 0.7784\n",
      "Epoch 94/100\n",
      "719/719 [==============================] - 1s 2ms/step - loss: 0.3936 - accuracy: 0.8183 - val_loss: 0.4793 - val_accuracy: 0.7784\n",
      "Epoch 95/100\n",
      "719/719 [==============================] - 1s 2ms/step - loss: 0.3941 - accuracy: 0.8167 - val_loss: 0.4820 - val_accuracy: 0.7724\n",
      "Epoch 96/100\n",
      "719/719 [==============================] - 1s 2ms/step - loss: 0.3935 - accuracy: 0.8188 - val_loss: 0.4847 - val_accuracy: 0.7697\n",
      "Epoch 97/100\n",
      "719/719 [==============================] - 1s 2ms/step - loss: 0.3945 - accuracy: 0.8174 - val_loss: 0.4803 - val_accuracy: 0.7757\n",
      "Epoch 98/100\n",
      "719/719 [==============================] - 1s 2ms/step - loss: 0.3937 - accuracy: 0.8160 - val_loss: 0.4800 - val_accuracy: 0.7733\n",
      "Epoch 99/100\n",
      "719/719 [==============================] - 1s 2ms/step - loss: 0.3933 - accuracy: 0.8192 - val_loss: 0.4790 - val_accuracy: 0.7738\n",
      "Epoch 100/100\n",
      "719/719 [==============================] - 1s 2ms/step - loss: 0.3932 - accuracy: 0.8173 - val_loss: 0.4808 - val_accuracy: 0.7741\n"
     ]
    }
   ],
   "source": [
    "num_epochs = 100\n",
    "history = model.fit(training_padded, training_labels, epochs=num_epochs,\n",
    "                    validation_data=(testing_padded, testing_labels))"
   ]
  },
  {
   "cell_type": "code",
   "execution_count": 43,
   "metadata": {},
   "outputs": [
    {
     "data": {
      "image/png": "[encoded data removed]",
      "text/plain": [
       "<Figure size 432x288 with 1 Axes>"
      ]
     },
     "metadata": {
      "needs_background": "light"
     },
     "output_type": "display_data"
    }
   ],
   "source": [
    "plt.plot(history.history['accuracy'])\n",
    "plt.plot(history.history['val_accuracy'])\n",
    "plt.xlabel('epochs')\n",
    "plt.ylabel('accuracy')\n",
    "plt.legend(['accuracy', 'val_accuracy'])\n",
    "plt.show()"
   ]
  },
  {
   "cell_type": "code",
   "execution_count": 44,
   "metadata": {
    "scrolled": true
   },
   "outputs": [
    {
     "data": {
      "image/png": "[encoded data removed]",
      "text/plain": [
       "<Figure size 432x288 with 1 Axes>"
      ]
     },
     "metadata": {
      "needs_background": "light"
     },
     "output_type": "display_data"
    }
   ],
   "source": [
    "plt.plot(history.history['loss'])\n",
    "plt.plot(history.history['val_loss'])\n",
    "plt.xlabel('epochs')\n",
    "plt.ylabel('loss')\n",
    "plt.legend(['loss', 'val_loss'])\n",
    "plt.show()"
   ]
  },
  {
   "cell_type": "markdown",
   "metadata": {},
   "source": [
    "#### 다른 고려 사항"
   ]
  },
  {
   "cell_type": "code",
   "execution_count": 45,
   "metadata": {},
   "outputs": [
    {
     "data": {
      "image/png": "[encoded data removed]",
      "text/plain": [
       "<Figure size 432x288 with 1 Axes>"
      ]
     },
     "metadata": {
      "needs_background": "light"
     },
     "output_type": "display_data"
    }
   ],
   "source": [
    "xs=[]\n",
    "ys=[]\n",
    "current_item=1\n",
    "for item in sentences:\n",
    "    xs.append(current_item)\n",
    "    current_item=current_item+1\n",
    "    ys.append(len(item))\n",
    "newys = sorted(ys)\n",
    "\n",
    "plt.plot(xs,newys)\n",
    "plt.show()"
   ]
  },
  {
   "cell_type": "markdown",
   "metadata": {},
   "source": [
    "### 모델을 사용해 문장 분류하기"
   ]
  },
  {
   "cell_type": "code",
   "execution_count": 46,
   "metadata": {},
   "outputs": [],
   "source": [
    "sentences = [\"granny starting to fear spiders in the garden might be real\", \n",
    "             \"game of thrones season finale showing this sunday night\", \n",
    "             \"TensorFlow book will be a best seller\"]"
   ]
  },
  {
   "cell_type": "code",
   "execution_count": 47,
   "metadata": {},
   "outputs": [
    {
     "name": "stdout",
     "output_type": "stream",
     "text": [
      "[[1, 803, 1, 753, 1, 1, 1, 1, 312, 1, 97], [123, 1, 1183, 160, 1, 1, 1, 1543, 152], [1, 235, 7, 1, 1, 47, 1]]\n"
     ]
    }
   ],
   "source": [
    "sequences = tokenizer.texts_to_sequences(sentences)\n",
    "print(sequences)"
   ]
  },
  {
   "cell_type": "code",
   "execution_count": 48,
   "metadata": {},
   "outputs": [
    {
     "name": "stdout",
     "output_type": "stream",
     "text": [
      "[[   1  803    1  753    1    1    1    1  312    1   97    0    0    0\n",
      "     0    0    0    0    0    0    0    0    0    0    0    0    0    0\n",
      "     0    0    0    0    0    0    0    0    0    0    0    0    0    0\n",
      "     0    0    0    0    0    0    0    0    0    0    0    0    0    0\n",
      "     0    0    0    0    0    0    0    0    0    0    0    0    0    0\n",
      "     0    0    0    0    0    0    0    0    0    0    0    0    0    0\n",
      "     0    0    0    0    0    0    0    0    0    0    0    0    0    0\n",
      "     0    0]\n",
      " [ 123    1 1183  160    1    1    1 1543  152    0    0    0    0    0\n",
      "     0    0    0    0    0    0    0    0    0    0    0    0    0    0\n",
      "     0    0    0    0    0    0    0    0    0    0    0    0    0    0\n",
      "     0    0    0    0    0    0    0    0    0    0    0    0    0    0\n",
      "     0    0    0    0    0    0    0    0    0    0    0    0    0    0\n",
      "     0    0    0    0    0    0    0    0    0    0    0    0    0    0\n",
      "     0    0    0    0    0    0    0    0    0    0    0    0    0    0\n",
      "     0    0]\n",
      " [   1  235    7    1    1   47    1    0    0    0    0    0    0    0\n",
      "     0    0    0    0    0    0    0    0    0    0    0    0    0    0\n",
      "     0    0    0    0    0    0    0    0    0    0    0    0    0    0\n",
      "     0    0    0    0    0    0    0    0    0    0    0    0    0    0\n",
      "     0    0    0    0    0    0    0    0    0    0    0    0    0    0\n",
      "     0    0    0    0    0    0    0    0    0    0    0    0    0    0\n",
      "     0    0    0    0    0    0    0    0    0    0    0    0    0    0\n",
      "     0    0]]\n"
     ]
    }
   ],
   "source": [
    "padded = pad_sequences(sequences, maxlen=max_length, \n",
    "                       padding=padding_type, truncating=trunc_type)\n",
    "print(padded)"
   ]
  },
  {
   "cell_type": "code",
   "execution_count": 49,
   "metadata": {},
   "outputs": [
    {
     "name": "stdout",
     "output_type": "stream",
     "text": [
      "[[0.74510473]\n",
      " [0.03688553]\n",
      " [0.17497352]]\n"
     ]
    }
   ],
   "source": [
    "print(model.predict(padded))"
   ]
  },
  {
   "cell_type": "markdown",
   "metadata": {},
   "source": [
    "## 임베딩 시각화"
   ]
  },
  {
   "cell_type": "code",
   "execution_count": 50,
   "metadata": {},
   "outputs": [
    {
     "name": "stdout",
     "output_type": "stream",
     "text": [
      "(2000, 7)\n"
     ]
    }
   ],
   "source": [
    "e = model.layers[0]\n",
    "weights = e.get_weights()[0]\n",
    "print(weights.shape)"
   ]
  },
  {
   "cell_type": "code",
   "execution_count": 51,
   "metadata": {},
   "outputs": [
    {
     "name": "stdout",
     "output_type": "stream",
     "text": [
      "new\n",
      "[-0.91460747 -0.64408696  1.123625    0.5669758   0.7248215   1.0291427\n",
      " -0.7931584 ]\n"
     ]
    }
   ],
   "source": [
    "print(tokenizer.index_word[2])\n",
    "print(weights[2])"
   ]
  },
  {
   "cell_type": "code",
   "execution_count": 52,
   "metadata": {},
   "outputs": [],
   "source": [
    "import io\n",
    "\n",
    "out_v = io.open('vecs.tsv', 'w', encoding='utf-8')\n",
    "out_m = io.open('meta.tsv', 'w', encoding='utf-8')\n",
    "for word_num in range(1, vocab_size):\n",
    "    word = tokenizer.index_word[word_num]\n",
    "    embeddings = weights[word_num]\n",
    "    out_m.write(word + \"\\n\")\n",
    "    out_v.write('\\t'.join([str(x) for x in embeddings]) + \"\\n\")\n",
    "out_v.close()\n",
    "out_m.close()"
   ]
  },
  {
   "cell_type": "markdown",
   "metadata": {},
   "source": [
    "## 텐서플로 허브에서 사전 훈련된 임베딩 사용하기"
   ]
  },
  {
   "cell_type": "code",
   "execution_count": 53,
   "metadata": {},
   "outputs": [],
   "source": [
    "import tensorflow_hub as hub\n",
    "\n",
    "hub_layer = hub.KerasLayer(\n",
    "    \"https://tfhub.dev/google/tf2-preview/gnews-swivel-20dim/1\", \n",
    "    output_shape=[20], input_shape=[], \n",
    "    dtype=tf.string, trainable=False\n",
    ")"
   ]
  },
  {
   "cell_type": "code",
   "execution_count": 54,
   "metadata": {},
   "outputs": [],
   "source": [
    "model = tf.keras.Sequential([\n",
    "    hub_layer,\n",
    "    tf.keras.layers.Dense(16, activation='relu'),\n",
    "    tf.keras.layers.Dense(1, activation='sigmoid')\n",
    "])\n",
    "\n",
    "adam = tf.keras.optimizers.Adam(learning_rate=0.0001, beta_1=0.9, \n",
    "                                beta_2=0.999, amsgrad=False)\n",
    "\n",
    "model.compile(loss='binary_crossentropy',optimizer=adam, \n",
    "              metrics=['accuracy'])"
   ]
  },
  {
   "cell_type": "code",
   "execution_count": 55,
   "metadata": {},
   "outputs": [
    {
     "name": "stdout",
     "output_type": "stream",
     "text": [
      "Model: \"sequential_7\"\n",
      "_________________________________________________________________\n",
      " Layer (type)                Output Shape              Param #   \n",
      "=================================================================\n",
      " keras_layer (KerasLayer)    (None, 20)                400020    \n",
      "                                                                 \n",
      " dense_14 (Dense)            (None, 16)                336       \n",
      "                                                                 \n",
      " dense_15 (Dense)            (None, 1)                 17        \n",
      "                                                                 \n",
      "=================================================================\n",
      "Total params: 400,373\n",
      "Trainable params: 353\n",
      "Non-trainable params: 400,020\n",
      "_________________________________________________________________\n"
     ]
    }
   ],
   "source": [
    "model.summary()"
   ]
  },
  {
   "cell_type": "code",
   "execution_count": 60,
   "metadata": {},
   "outputs": [],
   "source": [
    "# 넘파이 배열로 바뀐 레이블을 다시 리스트로 변경합니다.\n",
    "training_labels = training_labels.tolist()\n",
    "testing_labels = testing_labels.tolist()"
   ]
  },
  {
   "cell_type": "code",
   "execution_count": 61,
   "metadata": {},
   "outputs": [
    {
     "name": "stdout",
     "output_type": "stream",
     "text": [
      "Epoch 1/50\n",
      "719/719 [==============================] - 1s 2ms/step - loss: 0.7092 - accuracy: 0.5475 - val_loss: 0.6812 - val_accuracy: 0.5829\n",
      "Epoch 2/50\n",
      "719/719 [==============================] - 1s 1ms/step - loss: 0.6737 - accuracy: 0.5930 - val_loss: 0.6632 - val_accuracy: 0.6134\n",
      "Epoch 3/50\n",
      "719/719 [==============================] - 1s 2ms/step - loss: 0.6608 - accuracy: 0.6136 - val_loss: 0.6547 - val_accuracy: 0.6263\n",
      "Epoch 4/50\n",
      "719/719 [==============================] - 1s 1ms/step - loss: 0.6540 - accuracy: 0.6262 - val_loss: 0.6495 - val_accuracy: 0.6360\n",
      "Epoch 5/50\n",
      "719/719 [==============================] - 1s 2ms/step - loss: 0.6493 - accuracy: 0.6308 - val_loss: 0.6455 - val_accuracy: 0.6446\n",
      "Epoch 6/50\n",
      "719/719 [==============================] - 1s 2ms/step - loss: 0.6457 - accuracy: 0.6363 - val_loss: 0.6422 - val_accuracy: 0.6498\n",
      "Epoch 7/50\n",
      "719/719 [==============================] - 1s 2ms/step - loss: 0.6426 - accuracy: 0.6393 - val_loss: 0.6395 - val_accuracy: 0.6527\n",
      "Epoch 8/50\n",
      "719/719 [==============================] - 1s 1ms/step - loss: 0.6400 - accuracy: 0.6426 - val_loss: 0.6375 - val_accuracy: 0.6522\n",
      "Epoch 9/50\n",
      "719/719 [==============================] - 1s 2ms/step - loss: 0.6377 - accuracy: 0.6451 - val_loss: 0.6353 - val_accuracy: 0.6541\n",
      "Epoch 10/50\n",
      "719/719 [==============================] - 1s 2ms/step - loss: 0.6356 - accuracy: 0.6477 - val_loss: 0.6337 - val_accuracy: 0.6552\n",
      "Epoch 11/50\n",
      "719/719 [==============================] - 1s 1ms/step - loss: 0.6338 - accuracy: 0.6501 - val_loss: 0.6314 - val_accuracy: 0.6584\n",
      "Epoch 12/50\n",
      "719/719 [==============================] - 1s 2ms/step - loss: 0.6321 - accuracy: 0.6517 - val_loss: 0.6298 - val_accuracy: 0.6606\n",
      "Epoch 13/50\n",
      "719/719 [==============================] - 1s 2ms/step - loss: 0.6305 - accuracy: 0.6539 - val_loss: 0.6288 - val_accuracy: 0.6624\n",
      "Epoch 14/50\n",
      "719/719 [==============================] - 1s 2ms/step - loss: 0.6291 - accuracy: 0.6553 - val_loss: 0.6276 - val_accuracy: 0.6616\n",
      "Epoch 15/50\n",
      "719/719 [==============================] - 1s 2ms/step - loss: 0.6278 - accuracy: 0.6549 - val_loss: 0.6267 - val_accuracy: 0.6619\n",
      "Epoch 16/50\n",
      "719/719 [==============================] - 1s 2ms/step - loss: 0.6266 - accuracy: 0.6573 - val_loss: 0.6248 - val_accuracy: 0.6619\n",
      "Epoch 17/50\n",
      "719/719 [==============================] - 1s 2ms/step - loss: 0.6256 - accuracy: 0.6581 - val_loss: 0.6247 - val_accuracy: 0.6614\n",
      "Epoch 18/50\n",
      "719/719 [==============================] - 1s 2ms/step - loss: 0.6247 - accuracy: 0.6566 - val_loss: 0.6236 - val_accuracy: 0.6638\n",
      "Epoch 19/50\n",
      "719/719 [==============================] - 1s 2ms/step - loss: 0.6238 - accuracy: 0.6587 - val_loss: 0.6227 - val_accuracy: 0.6635\n",
      "Epoch 20/50\n",
      "719/719 [==============================] - 1s 2ms/step - loss: 0.6229 - accuracy: 0.6589 - val_loss: 0.6217 - val_accuracy: 0.6641\n",
      "Epoch 21/50\n",
      "719/719 [==============================] - 1s 2ms/step - loss: 0.6222 - accuracy: 0.6604 - val_loss: 0.6218 - val_accuracy: 0.6643\n",
      "Epoch 22/50\n",
      "719/719 [==============================] - 1s 1ms/step - loss: 0.6214 - accuracy: 0.6617 - val_loss: 0.6208 - val_accuracy: 0.6635\n",
      "Epoch 23/50\n",
      "719/719 [==============================] - 1s 1ms/step - loss: 0.6208 - accuracy: 0.6609 - val_loss: 0.6203 - val_accuracy: 0.6646\n",
      "Epoch 24/50\n",
      "719/719 [==============================] - 1s 1ms/step - loss: 0.6201 - accuracy: 0.6617 - val_loss: 0.6200 - val_accuracy: 0.6638\n",
      "Epoch 25/50\n",
      "719/719 [==============================] - 1s 1ms/step - loss: 0.6196 - accuracy: 0.6624 - val_loss: 0.6194 - val_accuracy: 0.6649\n",
      "Epoch 26/50\n",
      "719/719 [==============================] - 1s 1ms/step - loss: 0.6190 - accuracy: 0.6633 - val_loss: 0.6191 - val_accuracy: 0.6651\n",
      "Epoch 27/50\n",
      "719/719 [==============================] - 1s 2ms/step - loss: 0.6185 - accuracy: 0.6635 - val_loss: 0.6188 - val_accuracy: 0.6635\n",
      "Epoch 28/50\n",
      "719/719 [==============================] - 1s 2ms/step - loss: 0.6180 - accuracy: 0.6640 - val_loss: 0.6180 - val_accuracy: 0.6646\n",
      "Epoch 29/50\n",
      "719/719 [==============================] - 1s 2ms/step - loss: 0.6175 - accuracy: 0.6643 - val_loss: 0.6183 - val_accuracy: 0.6633\n",
      "Epoch 30/50\n",
      "719/719 [==============================] - 1s 2ms/step - loss: 0.6171 - accuracy: 0.6644 - val_loss: 0.6179 - val_accuracy: 0.6624\n",
      "Epoch 31/50\n",
      "719/719 [==============================] - 1s 2ms/step - loss: 0.6167 - accuracy: 0.6664 - val_loss: 0.6166 - val_accuracy: 0.6633\n",
      "Epoch 32/50\n",
      "719/719 [==============================] - 1s 2ms/step - loss: 0.6163 - accuracy: 0.6664 - val_loss: 0.6168 - val_accuracy: 0.6611\n",
      "Epoch 33/50\n",
      "719/719 [==============================] - 1s 2ms/step - loss: 0.6159 - accuracy: 0.6663 - val_loss: 0.6164 - val_accuracy: 0.6630\n",
      "Epoch 34/50\n",
      "719/719 [==============================] - 1s 2ms/step - loss: 0.6155 - accuracy: 0.6674 - val_loss: 0.6162 - val_accuracy: 0.6622\n",
      "Epoch 35/50\n",
      "719/719 [==============================] - 1s 2ms/step - loss: 0.6152 - accuracy: 0.6670 - val_loss: 0.6164 - val_accuracy: 0.6633\n",
      "Epoch 36/50\n",
      "719/719 [==============================] - 1s 2ms/step - loss: 0.6148 - accuracy: 0.6677 - val_loss: 0.6152 - val_accuracy: 0.6633\n",
      "Epoch 37/50\n",
      "719/719 [==============================] - 1s 2ms/step - loss: 0.6146 - accuracy: 0.6689 - val_loss: 0.6155 - val_accuracy: 0.6646\n",
      "Epoch 38/50\n",
      "719/719 [==============================] - 1s 2ms/step - loss: 0.6142 - accuracy: 0.6691 - val_loss: 0.6150 - val_accuracy: 0.6654\n",
      "Epoch 39/50\n",
      "719/719 [==============================] - 1s 2ms/step - loss: 0.6140 - accuracy: 0.6690 - val_loss: 0.6148 - val_accuracy: 0.6654\n",
      "Epoch 40/50\n",
      "719/719 [==============================] - 1s 2ms/step - loss: 0.6137 - accuracy: 0.6700 - val_loss: 0.6148 - val_accuracy: 0.6622\n",
      "Epoch 41/50\n",
      "719/719 [==============================] - 1s 2ms/step - loss: 0.6135 - accuracy: 0.6702 - val_loss: 0.6147 - val_accuracy: 0.6622\n",
      "Epoch 42/50\n",
      "719/719 [==============================] - 1s 2ms/step - loss: 0.6132 - accuracy: 0.6704 - val_loss: 0.6142 - val_accuracy: 0.6676\n",
      "Epoch 43/50\n",
      "719/719 [==============================] - 1s 2ms/step - loss: 0.6130 - accuracy: 0.6695 - val_loss: 0.6140 - val_accuracy: 0.6668\n",
      "Epoch 44/50\n",
      "719/719 [==============================] - 1s 2ms/step - loss: 0.6127 - accuracy: 0.6694 - val_loss: 0.6142 - val_accuracy: 0.6635\n",
      "Epoch 45/50\n",
      "719/719 [==============================] - 1s 2ms/step - loss: 0.6124 - accuracy: 0.6717 - val_loss: 0.6135 - val_accuracy: 0.6665\n",
      "Epoch 46/50\n",
      "719/719 [==============================] - 1s 2ms/step - loss: 0.6122 - accuracy: 0.6693 - val_loss: 0.6134 - val_accuracy: 0.6649\n",
      "Epoch 47/50\n",
      "719/719 [==============================] - 1s 2ms/step - loss: 0.6120 - accuracy: 0.6709 - val_loss: 0.6133 - val_accuracy: 0.6676\n",
      "Epoch 48/50\n",
      "719/719 [==============================] - 1s 2ms/step - loss: 0.6118 - accuracy: 0.6709 - val_loss: 0.6134 - val_accuracy: 0.6676\n",
      "Epoch 49/50\n",
      "719/719 [==============================] - 1s 2ms/step - loss: 0.6115 - accuracy: 0.6713 - val_loss: 0.6134 - val_accuracy: 0.6643\n",
      "Epoch 50/50\n",
      "719/719 [==============================] - 1s 2ms/step - loss: 0.6113 - accuracy: 0.6721 - val_loss: 0.6125 - val_accuracy: 0.6678\n"
     ]
    }
   ],
   "source": [
    "num_epochs = 50\n",
    "history = model.fit(training_sentences, training_labels, epochs=num_epochs,\n",
    "                    validation_data=(testing_sentences, testing_labels))"
   ]
  },
  {
   "cell_type": "code",
   "execution_count": 62,
   "metadata": {},
   "outputs": [
    {
     "data": {
      "image/png": "[encoded data removed]",
      "text/plain": [
       "<Figure size 432x288 with 1 Axes>"
      ]
     },
     "metadata": {
      "needs_background": "light"
     },
     "output_type": "display_data"
    }
   ],
   "source": [
    "plt.plot(history.history['accuracy'])\n",
    "plt.plot(history.history['val_accuracy'])\n",
    "plt.xlabel('epochs')\n",
    "plt.ylabel('accuracy')\n",
    "plt.legend(['accuracy', 'val_accuracy'])\n",
    "plt.show()"
   ]
  },
  {
   "cell_type": "code",
   "execution_count": 63,
   "metadata": {},
   "outputs": [
    {
     "data": {
      "image/png": "[encoded data removed]",
      "text/plain": [
       "<Figure size 432x288 with 1 Axes>"
      ]
     },
     "metadata": {
      "needs_background": "light"
     },
     "output_type": "display_data"
    }
   ],
   "source": [
    "plt.plot(history.history['loss'])\n",
    "plt.plot(history.history['val_loss'])\n",
    "plt.xlabel('epochs')\n",
    "plt.ylabel('loss')\n",
    "plt.legend(['loss', 'val_loss'])\n",
    "plt.show()"
   ]
  }
 ],
 "metadata": {
  "kernelspec": {
   "display_name": "default:Python",
   "language": "python",
   "name": "conda-env-default-py"
  },
  "language_info": {
   "codemirror_mode": {
    "name": "ipython",
    "version": 3
   },
   "file_extension": ".py",
   "mimetype": "text/x-python",
   "name": "python",
   "nbconvert_exporter": "python",
   "pygments_lexer": "ipython3",
   "version": "3.9.12"
  }
 },
 "nbformat": 4,
 "nbformat_minor": 4
}
