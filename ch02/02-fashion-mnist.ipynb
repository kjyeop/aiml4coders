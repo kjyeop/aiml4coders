{
 "cells": [
  {
   "cell_type": "markdown",
   "id": "1c73274e",
   "metadata": {},
   "source": [
    "# 2장. 컴퓨터 비전 소개"
   ]
  },
  {
   "cell_type": "markdown",
   "id": "f3d9f93f",
   "metadata": {},
   "source": [
    "<table class=\"tfo-notebook-buttons\" align=\"left\">\n",
    "  <td>\n",
    "    <a target=\"_blank\" href=\"https://nbviewer.jupyter.org/github/rickiepark/aiml4coders/blob/main/ch02/02-fashion-mnist.ipynb\"><img src=\"https://jupyter.org/assets/share.png\" width=\"61\" />주피터 노트북 뷰어로 보기</a>\n",
    "  </td>\n",
    "  <td>\n",
    "    <a target=\"_blank\" href=\"https://colab.research.google.com/github/rickiepark/aiml4coders/blob/main/ch02/02-fashion-mnist.ipynb\"><img src=\"https://www.tensorflow.org/images/colab_logo_32px.png\" />구글 코랩(Colab)에서 실행하기</a>\n",
    "  </td>\n",
    "</table>"
   ]
  },
  {
   "cell_type": "markdown",
   "id": "ec82eae7",
   "metadata": {},
   "source": [
    "## 의류 아이템 인식하기"
   ]
  },
  {
   "cell_type": "code",
   "execution_count": 1,
   "id": "c0502170",
   "metadata": {},
   "outputs": [],
   "source": [
    "import tensorflow as tf\n",
    "\n",
    "data = tf.keras.datasets.fashion_mnist\n",
    "(training_images, training_labels), (test_images, test_labels) = data.load_data()"
   ]
  },
  {
   "cell_type": "code",
   "execution_count": 2,
   "id": "ecd7ce11",
   "metadata": {},
   "outputs": [],
   "source": [
    "training_images  = training_images / 255.0\n",
    "test_images = test_images / 255.0"
   ]
  },
  {
   "cell_type": "code",
   "execution_count": 3,
   "id": "dfdd88eb",
   "metadata": {},
   "outputs": [
    {
     "name": "stderr",
     "output_type": "stream",
     "text": [
      "2022-02-17 23:42:54.309440: I tensorflow/core/platform/cpu_feature_guard.cc:151] This TensorFlow binary is optimized with oneAPI Deep Neural Network Library (oneDNN) to use the following CPU instructions in performance-critical operations:  AVX2 FMA\n",
      "To enable them in other operations, rebuild TensorFlow with the appropriate compiler flags.\n"
     ]
    }
   ],
   "source": [
    "model = tf.keras.models.Sequential([\n",
    "            tf.keras.layers.Flatten(input_shape=(28, 28)),\n",
    "            tf.keras.layers.Dense(128, activation=tf.nn.relu),\n",
    "            tf.keras.layers.Dense(10, activation=tf.nn.softmax)\n",
    "        ])"
   ]
  },
  {
   "cell_type": "code",
   "execution_count": 4,
   "id": "12a4c959",
   "metadata": {},
   "outputs": [],
   "source": [
    "model.compile(optimizer='adam',\n",
    "              loss='sparse_categorical_crossentropy',\n",
    "              metrics=['accuracy'])"
   ]
  },
  {
   "cell_type": "code",
   "execution_count": 5,
   "id": "2e9dfd2f",
   "metadata": {
    "scrolled": true
   },
   "outputs": [
    {
     "name": "stdout",
     "output_type": "stream",
     "text": [
      "Epoch 1/5\n",
      "1875/1875 [==============================] - 2s 720us/step - loss: 0.5016 - accuracy: 0.8217\n",
      "Epoch 2/5\n",
      "1875/1875 [==============================] - 1s 709us/step - loss: 0.3747 - accuracy: 0.8645\n",
      "Epoch 3/5\n",
      "1875/1875 [==============================] - 1s 720us/step - loss: 0.3343 - accuracy: 0.8788\n",
      "Epoch 4/5\n",
      "1875/1875 [==============================] - 1s 741us/step - loss: 0.3124 - accuracy: 0.8852\n",
      "Epoch 5/5\n",
      "1875/1875 [==============================] - 1s 732us/step - loss: 0.2949 - accuracy: 0.8917\n"
     ]
    },
    {
     "data": {
      "text/plain": [
       "<keras.callbacks.History at 0x7fa6c8b98b38>"
      ]
     },
     "execution_count": 5,
     "metadata": {},
     "output_type": "execute_result"
    }
   ],
   "source": [
    "model.fit(training_images, training_labels, epochs=5)"
   ]
  },
  {
   "cell_type": "code",
   "execution_count": 6,
   "id": "9818ba53",
   "metadata": {},
   "outputs": [
    {
     "name": "stdout",
     "output_type": "stream",
     "text": [
      "313/313 [==============================] - 0s 552us/step - loss: 0.3426 - accuracy: 0.8745\n"
     ]
    },
    {
     "data": {
      "text/plain": [
       "[0.3426033556461334, 0.8744999766349792]"
      ]
     },
     "execution_count": 6,
     "metadata": {},
     "output_type": "execute_result"
    }
   ],
   "source": [
    "model.evaluate(test_images, test_labels)"
   ]
  },
  {
   "cell_type": "markdown",
   "id": "9f5d0aa2",
   "metadata": {},
   "source": [
    "## 모델 출력 살펴보기"
   ]
  },
  {
   "cell_type": "code",
   "execution_count": 7,
   "id": "d19eeb12",
   "metadata": {},
   "outputs": [
    {
     "name": "stdout",
     "output_type": "stream",
     "text": [
      "[2.8138800e-06 6.0830253e-08 1.2472253e-05 7.4556802e-08 2.4585358e-06\n",
      " 1.8577455e-02 6.4699952e-06 2.9534560e-02 5.2778953e-04 9.5133579e-01]\n",
      "9\n"
     ]
    }
   ],
   "source": [
    "classifications = model.predict(test_images)\n",
    "print(classifications[0])\n",
    "print(test_labels[0])"
   ]
  },
  {
   "cell_type": "markdown",
   "id": "6348be03",
   "metadata": {},
   "source": [
    "## 더 오래 훈련하기 - 과대적합"
   ]
  },
  {
   "cell_type": "code",
   "execution_count": 8,
   "id": "e3eb07ef",
   "metadata": {},
   "outputs": [
    {
     "name": "stdout",
     "output_type": "stream",
     "text": [
      "Epoch 1/50\n",
      "1875/1875 [==============================] - 2s 717us/step - loss: 0.4998 - accuracy: 0.8227\n",
      "Epoch 2/50\n",
      "1875/1875 [==============================] - 2s 891us/step - loss: 0.3745 - accuracy: 0.8644\n",
      "Epoch 3/50\n",
      "1875/1875 [==============================] - 1s 745us/step - loss: 0.3345 - accuracy: 0.8782\n",
      "Epoch 4/50\n",
      "1875/1875 [==============================] - 1s 736us/step - loss: 0.3104 - accuracy: 0.8862\n",
      "Epoch 5/50\n",
      "1875/1875 [==============================] - 1s 727us/step - loss: 0.2945 - accuracy: 0.8908\n",
      "Epoch 6/50\n",
      "1875/1875 [==============================] - 1s 718us/step - loss: 0.2802 - accuracy: 0.8953\n",
      "Epoch 7/50\n",
      "1875/1875 [==============================] - 1s 727us/step - loss: 0.2665 - accuracy: 0.9016\n",
      "Epoch 8/50\n",
      "1875/1875 [==============================] - 1s 729us/step - loss: 0.2573 - accuracy: 0.9041\n",
      "Epoch 9/50\n",
      "1875/1875 [==============================] - 1s 708us/step - loss: 0.2465 - accuracy: 0.9075\n",
      "Epoch 10/50\n",
      "1875/1875 [==============================] - 1s 740us/step - loss: 0.2386 - accuracy: 0.9111\n",
      "Epoch 11/50\n",
      "1875/1875 [==============================] - 1s 731us/step - loss: 0.2315 - accuracy: 0.9133\n",
      "Epoch 12/50\n",
      "1875/1875 [==============================] - 1s 706us/step - loss: 0.2228 - accuracy: 0.9161\n",
      "Epoch 13/50\n",
      "1875/1875 [==============================] - 1s 712us/step - loss: 0.2158 - accuracy: 0.9197\n",
      "Epoch 14/50\n",
      "1875/1875 [==============================] - 1s 709us/step - loss: 0.2093 - accuracy: 0.9202\n",
      "Epoch 15/50\n",
      "1875/1875 [==============================] - 1s 723us/step - loss: 0.2044 - accuracy: 0.9231\n",
      "Epoch 16/50\n",
      "1875/1875 [==============================] - 1s 729us/step - loss: 0.1992 - accuracy: 0.9255\n",
      "Epoch 17/50\n",
      "1875/1875 [==============================] - 1s 728us/step - loss: 0.1949 - accuracy: 0.9272\n",
      "Epoch 18/50\n",
      "1875/1875 [==============================] - 1s 708us/step - loss: 0.1886 - accuracy: 0.9300\n",
      "Epoch 19/50\n",
      "1875/1875 [==============================] - 1s 711us/step - loss: 0.1851 - accuracy: 0.9294\n",
      "Epoch 20/50\n",
      "1875/1875 [==============================] - 1s 723us/step - loss: 0.1805 - accuracy: 0.9318\n",
      "Epoch 21/50\n",
      "1875/1875 [==============================] - 1s 751us/step - loss: 0.1765 - accuracy: 0.9334\n",
      "Epoch 22/50\n",
      "1875/1875 [==============================] - 1s 746us/step - loss: 0.1709 - accuracy: 0.9355\n",
      "Epoch 23/50\n",
      "1875/1875 [==============================] - 1s 724us/step - loss: 0.1691 - accuracy: 0.9367\n",
      "Epoch 24/50\n",
      "1875/1875 [==============================] - 1s 744us/step - loss: 0.1638 - accuracy: 0.9389\n",
      "Epoch 25/50\n",
      "1875/1875 [==============================] - 1s 745us/step - loss: 0.1616 - accuracy: 0.9381\n",
      "Epoch 26/50\n",
      "1875/1875 [==============================] - 1s 751us/step - loss: 0.1589 - accuracy: 0.9399\n",
      "Epoch 27/50\n",
      "1875/1875 [==============================] - 1s 733us/step - loss: 0.1552 - accuracy: 0.9415\n",
      "Epoch 28/50\n",
      "1875/1875 [==============================] - 1s 719us/step - loss: 0.1518 - accuracy: 0.9427\n",
      "Epoch 29/50\n",
      "1875/1875 [==============================] - 1s 727us/step - loss: 0.1494 - accuracy: 0.9434\n",
      "Epoch 30/50\n",
      "1875/1875 [==============================] - 1s 726us/step - loss: 0.1453 - accuracy: 0.9452\n",
      "Epoch 31/50\n",
      "1875/1875 [==============================] - 1s 744us/step - loss: 0.1424 - accuracy: 0.9465\n",
      "Epoch 32/50\n",
      "1875/1875 [==============================] - 1s 759us/step - loss: 0.1388 - accuracy: 0.9483\n",
      "Epoch 33/50\n",
      "1875/1875 [==============================] - 1s 737us/step - loss: 0.1355 - accuracy: 0.9490\n",
      "Epoch 34/50\n",
      "1875/1875 [==============================] - 1s 743us/step - loss: 0.1347 - accuracy: 0.9491\n",
      "Epoch 35/50\n",
      "1875/1875 [==============================] - 1s 750us/step - loss: 0.1312 - accuracy: 0.9507\n",
      "Epoch 36/50\n",
      "1875/1875 [==============================] - 1s 770us/step - loss: 0.1281 - accuracy: 0.9508\n",
      "Epoch 37/50\n",
      "1875/1875 [==============================] - 1s 736us/step - loss: 0.1266 - accuracy: 0.9521\n",
      "Epoch 38/50\n",
      "1875/1875 [==============================] - 1s 714us/step - loss: 0.1236 - accuracy: 0.9532\n",
      "Epoch 39/50\n",
      "1875/1875 [==============================] - 1s 725us/step - loss: 0.1202 - accuracy: 0.9539\n",
      "Epoch 40/50\n",
      "1875/1875 [==============================] - 1s 750us/step - loss: 0.1200 - accuracy: 0.9543\n",
      "Epoch 41/50\n",
      "1875/1875 [==============================] - 1s 749us/step - loss: 0.1175 - accuracy: 0.9549\n",
      "Epoch 42/50\n",
      "1875/1875 [==============================] - 1s 751us/step - loss: 0.1172 - accuracy: 0.9558\n",
      "Epoch 43/50\n",
      "1875/1875 [==============================] - 1s 761us/step - loss: 0.1153 - accuracy: 0.9568\n",
      "Epoch 44/50\n",
      "1875/1875 [==============================] - 1s 729us/step - loss: 0.1112 - accuracy: 0.9575\n",
      "Epoch 45/50\n",
      "1875/1875 [==============================] - 1s 721us/step - loss: 0.1111 - accuracy: 0.9581\n",
      "Epoch 46/50\n",
      "1875/1875 [==============================] - 1s 734us/step - loss: 0.1093 - accuracy: 0.9587\n",
      "Epoch 47/50\n",
      "1875/1875 [==============================] - 1s 760us/step - loss: 0.1070 - accuracy: 0.9593\n",
      "Epoch 48/50\n",
      "1875/1875 [==============================] - 1s 750us/step - loss: 0.1047 - accuracy: 0.9608\n",
      "Epoch 49/50\n",
      "1875/1875 [==============================] - 1s 743us/step - loss: 0.1023 - accuracy: 0.9617\n",
      "Epoch 50/50\n",
      "1875/1875 [==============================] - 1s 731us/step - loss: 0.1026 - accuracy: 0.9611\n"
     ]
    },
    {
     "data": {
      "text/plain": [
       "<keras.callbacks.History at 0x7fa6b98f0ef0>"
      ]
     },
     "execution_count": 8,
     "metadata": {},
     "output_type": "execute_result"
    }
   ],
   "source": [
    "model = tf.keras.models.Sequential([\n",
    "            tf.keras.layers.Flatten(input_shape=(28, 28)),\n",
    "            tf.keras.layers.Dense(128, activation=tf.nn.relu),\n",
    "            tf.keras.layers.Dense(10, activation=tf.nn.softmax)\n",
    "        ])\n",
    "\n",
    "model.compile(optimizer='adam',\n",
    "              loss='sparse_categorical_crossentropy',\n",
    "              metrics=['accuracy'])\n",
    "\n",
    "model.fit(training_images, training_labels, epochs=50)"
   ]
  },
  {
   "cell_type": "code",
   "execution_count": 9,
   "id": "e19caca4",
   "metadata": {},
   "outputs": [
    {
     "name": "stdout",
     "output_type": "stream",
     "text": [
      "313/313 [==============================] - 0s 580us/step - loss: 0.5016 - accuracy: 0.8908\n"
     ]
    },
    {
     "data": {
      "text/plain": [
       "[0.501603364944458, 0.8907999992370605]"
      ]
     },
     "execution_count": 9,
     "metadata": {},
     "output_type": "execute_result"
    }
   ],
   "source": [
    "model.evaluate(test_images, test_labels)"
   ]
  },
  {
   "cell_type": "markdown",
   "id": "c0b7a18b",
   "metadata": {},
   "source": [
    "## 훈련 조기 종료"
   ]
  },
  {
   "cell_type": "code",
   "execution_count": 10,
   "id": "9a8427e6",
   "metadata": {},
   "outputs": [],
   "source": [
    "class myCallback(tf.keras.callbacks.Callback):\n",
    "  def on_epoch_end(self, epoch, logs={}):\n",
    "    if(logs.get('accuracy')>0.95):\n",
    "      print(\"\\n정확도 95%에 도달하여 훈련을 멈춥니다!\")\n",
    "      self.model.stop_training = True"
   ]
  },
  {
   "cell_type": "code",
   "execution_count": 11,
   "id": "bc344090",
   "metadata": {},
   "outputs": [],
   "source": [
    "callbacks = myCallback()"
   ]
  },
  {
   "cell_type": "code",
   "execution_count": 12,
   "id": "407a2426",
   "metadata": {},
   "outputs": [
    {
     "name": "stdout",
     "output_type": "stream",
     "text": [
      "Epoch 1/50\n",
      "1875/1875 [==============================] - 2s 730us/step - loss: 0.4992 - accuracy: 0.8232\n",
      "Epoch 2/50\n",
      "1875/1875 [==============================] - 1s 719us/step - loss: 0.3728 - accuracy: 0.8655\n",
      "Epoch 3/50\n",
      "1875/1875 [==============================] - 1s 718us/step - loss: 0.3358 - accuracy: 0.8781\n",
      "Epoch 4/50\n",
      "1875/1875 [==============================] - 1s 729us/step - loss: 0.3126 - accuracy: 0.8864\n",
      "Epoch 5/50\n",
      "1875/1875 [==============================] - 1s 736us/step - loss: 0.2930 - accuracy: 0.8914\n",
      "Epoch 6/50\n",
      "1875/1875 [==============================] - 1s 760us/step - loss: 0.2808 - accuracy: 0.8949\n",
      "Epoch 7/50\n",
      "1875/1875 [==============================] - 1s 725us/step - loss: 0.2678 - accuracy: 0.9008\n",
      "Epoch 8/50\n",
      "1875/1875 [==============================] - 1s 748us/step - loss: 0.2585 - accuracy: 0.9027\n",
      "Epoch 9/50\n",
      "1875/1875 [==============================] - 1s 761us/step - loss: 0.2470 - accuracy: 0.9077\n",
      "Epoch 10/50\n",
      "1875/1875 [==============================] - 1s 740us/step - loss: 0.2396 - accuracy: 0.9098\n",
      "Epoch 11/50\n",
      "1875/1875 [==============================] - 1s 722us/step - loss: 0.2312 - accuracy: 0.9128\n",
      "Epoch 12/50\n",
      "1875/1875 [==============================] - 1s 723us/step - loss: 0.2238 - accuracy: 0.9162\n",
      "Epoch 13/50\n",
      "1875/1875 [==============================] - 1s 752us/step - loss: 0.2158 - accuracy: 0.9190\n",
      "Epoch 14/50\n",
      "1875/1875 [==============================] - 1s 744us/step - loss: 0.2101 - accuracy: 0.9216\n",
      "Epoch 15/50\n",
      "1875/1875 [==============================] - 1s 745us/step - loss: 0.2057 - accuracy: 0.9231\n",
      "Epoch 16/50\n",
      "1875/1875 [==============================] - 1s 738us/step - loss: 0.1984 - accuracy: 0.9255\n",
      "Epoch 17/50\n",
      "1875/1875 [==============================] - 1s 783us/step - loss: 0.1958 - accuracy: 0.9259\n",
      "Epoch 18/50\n",
      "1875/1875 [==============================] - 1s 769us/step - loss: 0.1895 - accuracy: 0.9285\n",
      "Epoch 19/50\n",
      "1875/1875 [==============================] - 1s 796us/step - loss: 0.1845 - accuracy: 0.9304\n",
      "Epoch 20/50\n",
      "1875/1875 [==============================] - 1s 744us/step - loss: 0.1813 - accuracy: 0.9317\n",
      "Epoch 21/50\n",
      "1875/1875 [==============================] - 1s 738us/step - loss: 0.1755 - accuracy: 0.9331\n",
      "Epoch 22/50\n",
      "1875/1875 [==============================] - 1s 791us/step - loss: 0.1712 - accuracy: 0.9358\n",
      "Epoch 23/50\n",
      "1875/1875 [==============================] - 1s 749us/step - loss: 0.1686 - accuracy: 0.9366\n",
      "Epoch 24/50\n",
      "1875/1875 [==============================] - 1s 754us/step - loss: 0.1639 - accuracy: 0.9370\n",
      "Epoch 25/50\n",
      "1875/1875 [==============================] - 1s 759us/step - loss: 0.1576 - accuracy: 0.9402\n",
      "Epoch 26/50\n",
      "1875/1875 [==============================] - 1s 765us/step - loss: 0.1561 - accuracy: 0.9410\n",
      "Epoch 27/50\n",
      "1875/1875 [==============================] - 1s 736us/step - loss: 0.1525 - accuracy: 0.9428\n",
      "Epoch 28/50\n",
      "1875/1875 [==============================] - 1s 740us/step - loss: 0.1473 - accuracy: 0.9445\n",
      "Epoch 29/50\n",
      "1875/1875 [==============================] - 1s 752us/step - loss: 0.1468 - accuracy: 0.9449\n",
      "Epoch 30/50\n",
      "1875/1875 [==============================] - 1s 745us/step - loss: 0.1410 - accuracy: 0.9473\n",
      "Epoch 31/50\n",
      "1875/1875 [==============================] - 1s 746us/step - loss: 0.1411 - accuracy: 0.9463\n",
      "Epoch 32/50\n",
      "1875/1875 [==============================] - 1s 740us/step - loss: 0.1369 - accuracy: 0.9482\n",
      "Epoch 33/50\n",
      "1863/1875 [============================>.] - ETA: 0s - loss: 0.1336 - accuracy: 0.9501\n",
      "정확도 95%에 도달하여 훈련을 멈춥니다!\n",
      "1875/1875 [==============================] - 1s 759us/step - loss: 0.1338 - accuracy: 0.9500\n"
     ]
    },
    {
     "data": {
      "text/plain": [
       "<keras.callbacks.History at 0x7fa6b9940c88>"
      ]
     },
     "execution_count": 12,
     "metadata": {},
     "output_type": "execute_result"
    }
   ],
   "source": [
    "model = tf.keras.models.Sequential([\n",
    "            tf.keras.layers.Flatten(input_shape=(28, 28)),\n",
    "            tf.keras.layers.Dense(128, activation=tf.nn.relu),\n",
    "            tf.keras.layers.Dense(10, activation=tf.nn.softmax)\n",
    "        ])\n",
    "\n",
    "model.compile(optimizer='adam', \n",
    "               loss='sparse_categorical_crossentropy', \n",
    "               metrics=['accuracy'])\n",
    "\n",
    "model.fit(training_images, training_labels, epochs=50, \n",
    "          callbacks=[callbacks])"
   ]
  }
 ],
 "metadata": {
  "kernelspec": {
   "display_name": "Python 3 (ipykernel)",
   "language": "python",
   "name": "python3"
  },
  "language_info": {
   "codemirror_mode": {
    "name": "ipython",
    "version": 3
   },
   "file_extension": ".py",
   "mimetype": "text/x-python",
   "name": "python",
   "nbconvert_exporter": "python",
   "pygments_lexer": "ipython3",
   "version": "3.7.3"
  }
 },
 "nbformat": 4,
 "nbformat_minor": 5
}
