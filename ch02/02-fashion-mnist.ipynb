{
 "cells": [
  {
   "cell_type": "markdown",
   "id": "1c73274e",
   "metadata": {},
   "source": [
    "# 2장. 컴퓨터 비전 소개"
   ]
  },
  {
   "cell_type": "markdown",
   "id": "f3d9f93f",
   "metadata": {},
   "source": [
    "<table align=\"left\">\n",
    "    <tr>\n",
    "        <td>\n",
    "            <a href=\"https://colab.research.google.com/github/rickiepark/aiml4coders/blob/main/ch02/02-fashion-mnist.ipynb\" target=\"_parent\"><img src=\"https://colab.research.google.com/assets/colab-badge.svg\" alt=\"Open In Colab\"/></a>\n",
    "        </td>\n",
    "    </tr>\n",
    "</table>"
   ]
  },
  {
   "cell_type": "markdown",
   "id": "ec82eae7",
   "metadata": {},
   "source": [
    "## 의류 아이템 인식하기"
   ]
  },
  {
   "cell_type": "code",
   "execution_count": 1,
   "id": "c0502170",
   "metadata": {},
   "outputs": [
    {
     "name": "stdout",
     "output_type": "stream",
     "text": [
      "Downloading data from https://storage.googleapis.com/tensorflow/tf-keras-datasets/train-labels-idx1-ubyte.gz\n",
      "29515/29515 [==============================] - 0s 1us/step\n",
      "Downloading data from https://storage.googleapis.com/tensorflow/tf-keras-datasets/train-images-idx3-ubyte.gz\n",
      "26421880/26421880 [==============================] - 0s 0us/step\n",
      "Downloading data from https://storage.googleapis.com/tensorflow/tf-keras-datasets/t10k-labels-idx1-ubyte.gz\n",
      "5148/5148 [==============================] - 0s 0us/step\n",
      "Downloading data from https://storage.googleapis.com/tensorflow/tf-keras-datasets/t10k-images-idx3-ubyte.gz\n",
      "4422102/4422102 [==============================] - 0s 0us/step\n"
     ]
    }
   ],
   "source": [
    "import tensorflow as tf\n",
    "\n",
    "data = tf.keras.datasets.fashion_mnist\n",
    "(training_images, training_labels), (test_images, test_labels) = data.load_data()"
   ]
  },
  {
   "cell_type": "code",
   "execution_count": 2,
   "id": "ecd7ce11",
   "metadata": {},
   "outputs": [],
   "source": [
    "training_images  = training_images / 255.0\n",
    "test_images = test_images / 255.0"
   ]
  },
  {
   "cell_type": "code",
   "execution_count": 3,
   "id": "dfdd88eb",
   "metadata": {},
   "outputs": [
    {
     "name": "stderr",
     "output_type": "stream",
     "text": [
      "2022-05-21 03:39:30.473357: I tensorflow/core/platform/cpu_feature_guard.cc:193] This TensorFlow binary is optimized with oneAPI Deep Neural Network Library (oneDNN) to use the following CPU instructions in performance-critical operations:  AVX2 AVX512F FMA\n",
      "To enable them in other operations, rebuild TensorFlow with the appropriate compiler flags.\n"
     ]
    }
   ],
   "source": [
    "model = tf.keras.models.Sequential([\n",
    "    tf.keras.layers.Flatten(input_shape=(28, 28)),\n",
    "    tf.keras.layers.Dense(128, activation=tf.nn.relu),\n",
    "    tf.keras.layers.Dense(10, activation=tf.nn.softmax)\n",
    "])"
   ]
  },
  {
   "cell_type": "code",
   "execution_count": 4,
   "id": "12a4c959",
   "metadata": {},
   "outputs": [],
   "source": [
    "model.compile(optimizer='adam',\n",
    "              loss='sparse_categorical_crossentropy',\n",
    "              metrics=['accuracy'])"
   ]
  },
  {
   "cell_type": "code",
   "execution_count": 5,
   "id": "2e9dfd2f",
   "metadata": {
    "scrolled": true
   },
   "outputs": [
    {
     "name": "stdout",
     "output_type": "stream",
     "text": [
      "Epoch 1/5\n",
      "1875/1875 [==============================] - 4s 2ms/step - loss: 0.5008 - accuracy: 0.8239\n",
      "Epoch 2/5\n",
      "1875/1875 [==============================] - 3s 2ms/step - loss: 0.3798 - accuracy: 0.8629\n",
      "Epoch 3/5\n",
      "1875/1875 [==============================] - 3s 2ms/step - loss: 0.3443 - accuracy: 0.8758\n",
      "Epoch 4/5\n",
      "1875/1875 [==============================] - 3s 2ms/step - loss: 0.3195 - accuracy: 0.8836\n",
      "Epoch 5/5\n",
      "1875/1875 [==============================] - 3s 2ms/step - loss: 0.2996 - accuracy: 0.8889\n"
     ]
    },
    {
     "data": {
      "text/plain": [
       "<keras.callbacks.History at 0x7fa79a5b0280>"
      ]
     },
     "execution_count": 5,
     "metadata": {},
     "output_type": "execute_result"
    }
   ],
   "source": [
    "model.fit(training_images, training_labels, epochs=5)"
   ]
  },
  {
   "cell_type": "code",
   "execution_count": 6,
   "id": "9818ba53",
   "metadata": {},
   "outputs": [
    {
     "name": "stdout",
     "output_type": "stream",
     "text": [
      "313/313 [==============================] - 1s 1ms/step - loss: 0.3792 - accuracy: 0.8665\n"
     ]
    },
    {
     "data": {
      "text/plain": [
       "[0.37915733456611633, 0.8665000200271606]"
      ]
     },
     "execution_count": 6,
     "metadata": {},
     "output_type": "execute_result"
    }
   ],
   "source": [
    "model.evaluate(test_images, test_labels)"
   ]
  },
  {
   "cell_type": "markdown",
   "id": "9f5d0aa2",
   "metadata": {},
   "source": [
    "## 모델 출력 살펴보기"
   ]
  },
  {
   "cell_type": "code",
   "execution_count": 7,
   "id": "d19eeb12",
   "metadata": {},
   "outputs": [
    {
     "name": "stdout",
     "output_type": "stream",
     "text": [
      "313/313 [==============================] - 0s 1ms/step\n",
      "[1.0992162e-04 8.1963192e-09 5.3604271e-07 3.2062022e-08 6.4693762e-07\n",
      " 5.7567987e-03 2.5254378e-05 4.0504426e-02 8.6476335e-05 9.5351589e-01]\n",
      "9\n"
     ]
    }
   ],
   "source": [
    "classifications = model.predict(test_images)\n",
    "print(classifications[0])\n",
    "print(test_labels[0])"
   ]
  },
  {
   "cell_type": "markdown",
   "id": "6348be03",
   "metadata": {},
   "source": [
    "## 더 오래 훈련하기 - 과대적합"
   ]
  },
  {
   "cell_type": "code",
   "execution_count": 8,
   "id": "e3eb07ef",
   "metadata": {},
   "outputs": [
    {
     "name": "stdout",
     "output_type": "stream",
     "text": [
      "Epoch 1/50\n",
      "1875/1875 [==============================] - 3s 2ms/step - loss: 0.5008 - accuracy: 0.8243\n",
      "Epoch 2/50\n",
      "1875/1875 [==============================] - 3s 2ms/step - loss: 0.3737 - accuracy: 0.8655\n",
      "Epoch 3/50\n",
      "1875/1875 [==============================] - 3s 2ms/step - loss: 0.3362 - accuracy: 0.8783\n",
      "Epoch 4/50\n",
      "1875/1875 [==============================] - 3s 2ms/step - loss: 0.3136 - accuracy: 0.8863\n",
      "Epoch 5/50\n",
      "1875/1875 [==============================] - 3s 2ms/step - loss: 0.2945 - accuracy: 0.8907\n",
      "Epoch 6/50\n",
      "1875/1875 [==============================] - 3s 2ms/step - loss: 0.2802 - accuracy: 0.8964\n",
      "Epoch 7/50\n",
      "1875/1875 [==============================] - 3s 2ms/step - loss: 0.2677 - accuracy: 0.9007\n",
      "Epoch 8/50\n",
      "1875/1875 [==============================] - 3s 2ms/step - loss: 0.2563 - accuracy: 0.9033\n",
      "Epoch 9/50\n",
      "1875/1875 [==============================] - 3s 2ms/step - loss: 0.2475 - accuracy: 0.9088\n",
      "Epoch 10/50\n",
      "1875/1875 [==============================] - 3s 2ms/step - loss: 0.2391 - accuracy: 0.9103\n",
      "Epoch 11/50\n",
      "1875/1875 [==============================] - 3s 2ms/step - loss: 0.2309 - accuracy: 0.9139\n",
      "Epoch 12/50\n",
      "1875/1875 [==============================] - 3s 2ms/step - loss: 0.2230 - accuracy: 0.9166\n",
      "Epoch 13/50\n",
      "1875/1875 [==============================] - 3s 2ms/step - loss: 0.2170 - accuracy: 0.9187\n",
      "Epoch 14/50\n",
      "1875/1875 [==============================] - 3s 2ms/step - loss: 0.2083 - accuracy: 0.9215\n",
      "Epoch 15/50\n",
      "1875/1875 [==============================] - 3s 2ms/step - loss: 0.2028 - accuracy: 0.9236\n",
      "Epoch 16/50\n",
      "1875/1875 [==============================] - 3s 2ms/step - loss: 0.1987 - accuracy: 0.9255\n",
      "Epoch 17/50\n",
      "1875/1875 [==============================] - 3s 2ms/step - loss: 0.1921 - accuracy: 0.9281\n",
      "Epoch 18/50\n",
      "1875/1875 [==============================] - 3s 2ms/step - loss: 0.1862 - accuracy: 0.9312\n",
      "Epoch 19/50\n",
      "1875/1875 [==============================] - 3s 2ms/step - loss: 0.1813 - accuracy: 0.9318\n",
      "Epoch 20/50\n",
      "1875/1875 [==============================] - 3s 2ms/step - loss: 0.1767 - accuracy: 0.9335\n",
      "Epoch 21/50\n",
      "1875/1875 [==============================] - 3s 2ms/step - loss: 0.1727 - accuracy: 0.9345\n",
      "Epoch 22/50\n",
      "1875/1875 [==============================] - 3s 2ms/step - loss: 0.1695 - accuracy: 0.9359\n",
      "Epoch 23/50\n",
      "1875/1875 [==============================] - 3s 2ms/step - loss: 0.1636 - accuracy: 0.9384\n",
      "Epoch 24/50\n",
      "1875/1875 [==============================] - 3s 2ms/step - loss: 0.1613 - accuracy: 0.9402\n",
      "Epoch 25/50\n",
      "1875/1875 [==============================] - 3s 2ms/step - loss: 0.1552 - accuracy: 0.9424\n",
      "Epoch 26/50\n",
      "1875/1875 [==============================] - 3s 2ms/step - loss: 0.1517 - accuracy: 0.9431\n",
      "Epoch 27/50\n",
      "1875/1875 [==============================] - 3s 2ms/step - loss: 0.1473 - accuracy: 0.9461\n",
      "Epoch 28/50\n",
      "1875/1875 [==============================] - 3s 2ms/step - loss: 0.1461 - accuracy: 0.9446\n",
      "Epoch 29/50\n",
      "1875/1875 [==============================] - 3s 2ms/step - loss: 0.1427 - accuracy: 0.9470\n",
      "Epoch 30/50\n",
      "1875/1875 [==============================] - 3s 2ms/step - loss: 0.1392 - accuracy: 0.9469\n",
      "Epoch 31/50\n",
      "1875/1875 [==============================] - 3s 2ms/step - loss: 0.1386 - accuracy: 0.9482\n",
      "Epoch 32/50\n",
      "1875/1875 [==============================] - 3s 2ms/step - loss: 0.1360 - accuracy: 0.9493\n",
      "Epoch 33/50\n",
      "1875/1875 [==============================] - 3s 2ms/step - loss: 0.1322 - accuracy: 0.9506\n",
      "Epoch 34/50\n",
      "1875/1875 [==============================] - 3s 2ms/step - loss: 0.1297 - accuracy: 0.9523\n",
      "Epoch 35/50\n",
      "1875/1875 [==============================] - 3s 2ms/step - loss: 0.1268 - accuracy: 0.9526\n",
      "Epoch 36/50\n",
      "1875/1875 [==============================] - 3s 2ms/step - loss: 0.1237 - accuracy: 0.9538\n",
      "Epoch 37/50\n",
      "1875/1875 [==============================] - 4s 2ms/step - loss: 0.1241 - accuracy: 0.9532\n",
      "Epoch 38/50\n",
      "1875/1875 [==============================] - 6s 3ms/step - loss: 0.1181 - accuracy: 0.9558\n",
      "Epoch 39/50\n",
      "1875/1875 [==============================] - 6s 3ms/step - loss: 0.1182 - accuracy: 0.9561\n",
      "Epoch 40/50\n",
      "1875/1875 [==============================] - 6s 3ms/step - loss: 0.1146 - accuracy: 0.9575\n",
      "Epoch 41/50\n",
      "1875/1875 [==============================] - 6s 3ms/step - loss: 0.1137 - accuracy: 0.9564\n",
      "Epoch 42/50\n",
      "1875/1875 [==============================] - 6s 3ms/step - loss: 0.1124 - accuracy: 0.9578\n",
      "Epoch 43/50\n",
      "1875/1875 [==============================] - 6s 3ms/step - loss: 0.1087 - accuracy: 0.9595\n",
      "Epoch 44/50\n",
      "1875/1875 [==============================] - 6s 3ms/step - loss: 0.1077 - accuracy: 0.9592\n",
      "Epoch 45/50\n",
      "1875/1875 [==============================] - 6s 3ms/step - loss: 0.1072 - accuracy: 0.9597\n",
      "Epoch 46/50\n",
      "1875/1875 [==============================] - 6s 3ms/step - loss: 0.1036 - accuracy: 0.9611\n",
      "Epoch 47/50\n",
      "1875/1875 [==============================] - 6s 3ms/step - loss: 0.1031 - accuracy: 0.9616\n",
      "Epoch 48/50\n",
      "1875/1875 [==============================] - 6s 3ms/step - loss: 0.1019 - accuracy: 0.9619\n",
      "Epoch 49/50\n",
      "1875/1875 [==============================] - 6s 3ms/step - loss: 0.1005 - accuracy: 0.9619\n",
      "Epoch 50/50\n",
      "1875/1875 [==============================] - 6s 3ms/step - loss: 0.0964 - accuracy: 0.9633\n"
     ]
    },
    {
     "data": {
      "text/plain": [
       "<keras.callbacks.History at 0x7fa76e78b130>"
      ]
     },
     "execution_count": 8,
     "metadata": {},
     "output_type": "execute_result"
    }
   ],
   "source": [
    "model = tf.keras.models.Sequential([\n",
    "    tf.keras.layers.Flatten(input_shape=(28, 28)),\n",
    "    tf.keras.layers.Dense(128, activation=tf.nn.relu),\n",
    "    tf.keras.layers.Dense(10, activation=tf.nn.softmax)\n",
    "])\n",
    "\n",
    "model.compile(optimizer='adam',\n",
    "              loss='sparse_categorical_crossentropy',\n",
    "              metrics=['accuracy'])\n",
    "\n",
    "model.fit(training_images, training_labels, epochs=50)"
   ]
  },
  {
   "cell_type": "code",
   "execution_count": 9,
   "id": "e19caca4",
   "metadata": {},
   "outputs": [
    {
     "name": "stdout",
     "output_type": "stream",
     "text": [
      "313/313 [==============================] - 1s 2ms/step - loss: 0.5216 - accuracy: 0.8822\n"
     ]
    },
    {
     "data": {
      "text/plain": [
       "[0.521612823009491, 0.8822000026702881]"
      ]
     },
     "execution_count": 9,
     "metadata": {},
     "output_type": "execute_result"
    }
   ],
   "source": [
    "model.evaluate(test_images, test_labels)"
   ]
  },
  {
   "cell_type": "markdown",
   "id": "c0b7a18b",
   "metadata": {},
   "source": [
    "## 훈련 조기 종료"
   ]
  },
  {
   "cell_type": "code",
   "execution_count": 10,
   "id": "9a8427e6",
   "metadata": {},
   "outputs": [],
   "source": [
    "class myCallback(tf.keras.callbacks.Callback):\n",
    "    def on_epoch_end(self, epoch, logs={}):\n",
    "        if(logs.get('accuracy')>0.95):\n",
    "            print(\"\\n정확도 95%에 도달하여 훈련을 멈춥니다!\")\n",
    "            self.model.stop_training = True"
   ]
  },
  {
   "cell_type": "code",
   "execution_count": 11,
   "id": "bc344090",
   "metadata": {},
   "outputs": [],
   "source": [
    "callbacks = myCallback()"
   ]
  },
  {
   "cell_type": "code",
   "execution_count": 12,
   "id": "407a2426",
   "metadata": {},
   "outputs": [
    {
     "name": "stdout",
     "output_type": "stream",
     "text": [
      "Epoch 1/50\n",
      "1875/1875 [==============================] - 7s 3ms/step - loss: 0.4980 - accuracy: 0.8240\n",
      "Epoch 2/50\n",
      "1875/1875 [==============================] - 6s 3ms/step - loss: 0.3729 - accuracy: 0.8657\n",
      "Epoch 3/50\n",
      "1875/1875 [==============================] - 6s 3ms/step - loss: 0.3378 - accuracy: 0.8764\n",
      "Epoch 4/50\n",
      "1875/1875 [==============================] - 6s 3ms/step - loss: 0.3153 - accuracy: 0.8842\n",
      "Epoch 5/50\n",
      "1875/1875 [==============================] - 6s 3ms/step - loss: 0.2979 - accuracy: 0.8891\n",
      "Epoch 6/50\n",
      "1875/1875 [==============================] - 6s 3ms/step - loss: 0.2852 - accuracy: 0.8944\n",
      "Epoch 7/50\n",
      "1875/1875 [==============================] - 6s 3ms/step - loss: 0.2716 - accuracy: 0.8992\n",
      "Epoch 8/50\n",
      "1875/1875 [==============================] - 6s 3ms/step - loss: 0.2605 - accuracy: 0.9028\n",
      "Epoch 9/50\n",
      "1875/1875 [==============================] - 6s 3ms/step - loss: 0.2512 - accuracy: 0.9066\n",
      "Epoch 10/50\n",
      "1875/1875 [==============================] - 6s 3ms/step - loss: 0.2423 - accuracy: 0.9100\n",
      "Epoch 11/50\n",
      "1875/1875 [==============================] - 6s 3ms/step - loss: 0.2330 - accuracy: 0.9124\n",
      "Epoch 12/50\n",
      "1875/1875 [==============================] - 6s 3ms/step - loss: 0.2261 - accuracy: 0.9151\n",
      "Epoch 13/50\n",
      "1875/1875 [==============================] - 6s 3ms/step - loss: 0.2200 - accuracy: 0.9180\n",
      "Epoch 14/50\n",
      "1875/1875 [==============================] - 6s 3ms/step - loss: 0.2131 - accuracy: 0.9209\n",
      "Epoch 15/50\n",
      "1875/1875 [==============================] - 6s 3ms/step - loss: 0.2055 - accuracy: 0.9233\n",
      "Epoch 16/50\n",
      "1875/1875 [==============================] - 6s 3ms/step - loss: 0.2002 - accuracy: 0.9254\n",
      "Epoch 17/50\n",
      "1875/1875 [==============================] - 6s 3ms/step - loss: 0.1956 - accuracy: 0.9274\n",
      "Epoch 18/50\n",
      "1875/1875 [==============================] - 6s 3ms/step - loss: 0.1902 - accuracy: 0.9275\n",
      "Epoch 19/50\n",
      "1875/1875 [==============================] - 6s 3ms/step - loss: 0.1837 - accuracy: 0.9311\n",
      "Epoch 20/50\n",
      "1875/1875 [==============================] - 6s 3ms/step - loss: 0.1812 - accuracy: 0.9317\n",
      "Epoch 21/50\n",
      "1875/1875 [==============================] - 6s 3ms/step - loss: 0.1766 - accuracy: 0.9335\n",
      "Epoch 22/50\n",
      "1875/1875 [==============================] - 6s 3ms/step - loss: 0.1722 - accuracy: 0.9358\n",
      "Epoch 23/50\n",
      "1875/1875 [==============================] - 6s 3ms/step - loss: 0.1705 - accuracy: 0.9361\n",
      "Epoch 24/50\n",
      "1875/1875 [==============================] - 6s 3ms/step - loss: 0.1649 - accuracy: 0.9384\n",
      "Epoch 25/50\n",
      "1875/1875 [==============================] - 6s 3ms/step - loss: 0.1608 - accuracy: 0.9400\n",
      "Epoch 26/50\n",
      "1875/1875 [==============================] - 6s 3ms/step - loss: 0.1566 - accuracy: 0.9410\n",
      "Epoch 27/50\n",
      "1875/1875 [==============================] - 6s 3ms/step - loss: 0.1525 - accuracy: 0.9431\n",
      "Epoch 28/50\n",
      "1875/1875 [==============================] - 6s 3ms/step - loss: 0.1514 - accuracy: 0.9435\n",
      "Epoch 29/50\n",
      "1875/1875 [==============================] - 6s 3ms/step - loss: 0.1465 - accuracy: 0.9456\n",
      "Epoch 30/50\n",
      "1875/1875 [==============================] - 6s 3ms/step - loss: 0.1438 - accuracy: 0.9461\n",
      "Epoch 31/50\n",
      "1875/1875 [==============================] - 6s 3ms/step - loss: 0.1406 - accuracy: 0.9472\n",
      "Epoch 32/50\n",
      "1875/1875 [==============================] - 6s 3ms/step - loss: 0.1382 - accuracy: 0.9480\n",
      "Epoch 33/50\n",
      "1875/1875 [==============================] - 6s 3ms/step - loss: 0.1350 - accuracy: 0.9496\n",
      "Epoch 34/50\n",
      "1865/1875 [============================>.] - ETA: 0s - loss: 0.1323 - accuracy: 0.9508\n",
      "정확도 95%에 도달하여 훈련을 멈춥니다!\n",
      "1875/1875 [==============================] - 6s 3ms/step - loss: 0.1325 - accuracy: 0.9507\n"
     ]
    },
    {
     "data": {
      "text/plain": [
       "<keras.callbacks.History at 0x7fa76df06e80>"
      ]
     },
     "execution_count": 12,
     "metadata": {},
     "output_type": "execute_result"
    }
   ],
   "source": [
    "model = tf.keras.models.Sequential([\n",
    "    tf.keras.layers.Flatten(input_shape=(28, 28)),\n",
    "    tf.keras.layers.Dense(128, activation=tf.nn.relu),\n",
    "    tf.keras.layers.Dense(10, activation=tf.nn.softmax)\n",
    "])\n",
    "\n",
    "model.compile(optimizer='adam', \n",
    "               loss='sparse_categorical_crossentropy', \n",
    "               metrics=['accuracy'])\n",
    "\n",
    "model.fit(training_images, training_labels, epochs=50, \n",
    "          callbacks=[callbacks])"
   ]
  }
 ],
 "metadata": {
  "kernelspec": {
   "display_name": "default:Python",
   "language": "python",
   "name": "conda-env-default-py"
  },
  "language_info": {
   "codemirror_mode": {
    "name": "ipython",
    "version": 3
   },
   "file_extension": ".py",
   "mimetype": "text/x-python",
   "name": "python",
   "nbconvert_exporter": "python",
   "pygments_lexer": "ipython3",
   "version": "3.9.12"
  }
 },
 "nbformat": 4,
 "nbformat_minor": 5
}
