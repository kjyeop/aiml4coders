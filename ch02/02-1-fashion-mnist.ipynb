{
 "cells": [
  {
   "cell_type": "markdown",
   "id": "1c73274e",
   "metadata": {},
   "source": [
    "# 2장. 컴퓨터 비전 소개"
   ]
  },
  {
   "cell_type": "markdown",
   "id": "f3d9f93f",
   "metadata": {},
   "source": [
    "<table class=\"tfo-notebook-buttons\" align=\"left\">\n",
    "  <td>\n",
    "    <a target=\"_blank\" href=\"https://nbviewer.jupyter.org/github/rickiepark/aiml4coders/blob/main/ch02/02-1-fashion-mnist.ipynb\"><img src=\"https://jupyter.org/assets/share.png\" width=\"61\" />주피터 노트북 뷰어로 보기</a>\n",
    "  </td>\n",
    "  <td>\n",
    "    <a target=\"_blank\" href=\"https://colab.research.google.com/github/rickiepark/aiml4coders/blob/main/ch02/02-1-fashion-mnist.ipynb\"><img src=\"https://www.tensorflow.org/images/colab_logo_32px.png\" />구글 코랩(Colab)에서 실행하기</a>\n",
    "  </td>\n",
    "</table>"
   ]
  },
  {
   "cell_type": "markdown",
   "id": "ec82eae7",
   "metadata": {},
   "source": [
    "## 의류 아이템 인식하기"
   ]
  },
  {
   "cell_type": "code",
   "execution_count": 1,
   "id": "c0502170",
   "metadata": {},
   "outputs": [],
   "source": [
    "import tensorflow as tf\n",
    "\n",
    "data = tf.keras.datasets.fashion_mnist\n",
    "(training_images, training_labels), (test_images, test_labels) = data.load_data()"
   ]
  },
  {
   "cell_type": "code",
   "execution_count": 2,
   "id": "ecd7ce11",
   "metadata": {},
   "outputs": [],
   "source": [
    "training_images  = training_images / 255.0\n",
    "test_images = test_images / 255.0"
   ]
  },
  {
   "cell_type": "code",
   "execution_count": 3,
   "id": "dfdd88eb",
   "metadata": {},
   "outputs": [
    {
     "name": "stderr",
     "output_type": "stream",
     "text": [
      "2022-02-16 20:36:39.381760: I tensorflow/core/platform/cpu_feature_guard.cc:151] This TensorFlow binary is optimized with oneAPI Deep Neural Network Library (oneDNN) to use the following CPU instructions in performance-critical operations:  AVX2 FMA\n",
      "To enable them in other operations, rebuild TensorFlow with the appropriate compiler flags.\n"
     ]
    }
   ],
   "source": [
    "model = tf.keras.models.Sequential([\n",
    "            tf.keras.layers.Flatten(input_shape=(28, 28)),\n",
    "            tf.keras.layers.Dense(128, activation=tf.nn.relu),\n",
    "            tf.keras.layers.Dense(10, activation=tf.nn.softmax)\n",
    "        ])"
   ]
  },
  {
   "cell_type": "code",
   "execution_count": 4,
   "id": "12a4c959",
   "metadata": {},
   "outputs": [],
   "source": [
    "model.compile(optimizer='adam',\n",
    "              loss='sparse_categorical_crossentropy',\n",
    "              metrics=['accuracy'])"
   ]
  },
  {
   "cell_type": "code",
   "execution_count": 5,
   "id": "2e9dfd2f",
   "metadata": {},
   "outputs": [
    {
     "name": "stdout",
     "output_type": "stream",
     "text": [
      "Epoch 1/5\n",
      "1875/1875 [==============================] - 2s 708us/step - loss: 0.4999 - accuracy: 0.8220\n",
      "Epoch 2/5\n",
      "1875/1875 [==============================] - 1s 761us/step - loss: 0.3777 - accuracy: 0.8627\n",
      "Epoch 3/5\n",
      "1875/1875 [==============================] - 1s 746us/step - loss: 0.3402 - accuracy: 0.8745\n",
      "Epoch 4/5\n",
      "1875/1875 [==============================] - 1s 732us/step - loss: 0.3130 - accuracy: 0.8854\n",
      "Epoch 5/5\n",
      "1875/1875 [==============================] - 1s 756us/step - loss: 0.2980 - accuracy: 0.8894\n"
     ]
    },
    {
     "data": {
      "text/plain": [
       "<keras.callbacks.History at 0x7fe8f86b7eb8>"
      ]
     },
     "execution_count": 5,
     "metadata": {},
     "output_type": "execute_result"
    }
   ],
   "source": [
    "model.fit(training_images, training_labels, epochs=5)"
   ]
  },
  {
   "cell_type": "code",
   "execution_count": 6,
   "id": "9818ba53",
   "metadata": {},
   "outputs": [
    {
     "name": "stdout",
     "output_type": "stream",
     "text": [
      "313/313 [==============================] - 0s 617us/step - loss: 0.3592 - accuracy: 0.8703\n"
     ]
    },
    {
     "data": {
      "text/plain": [
       "[0.35924091935157776, 0.8702999949455261]"
      ]
     },
     "execution_count": 6,
     "metadata": {},
     "output_type": "execute_result"
    }
   ],
   "source": [
    "model.evaluate(test_images, test_labels)"
   ]
  },
  {
   "cell_type": "markdown",
   "id": "1b0c4a0e",
   "metadata": {},
   "source": [
    "## 훈련 조기 종료"
   ]
  },
  {
   "cell_type": "code",
   "execution_count": 7,
   "id": "0df339f0",
   "metadata": {},
   "outputs": [],
   "source": [
    "class myCallback(tf.keras.callbacks.Callback):\n",
    "  def on_epoch_end(self, epoch, logs={}):\n",
    "    if(logs.get('accuracy')>0.95):\n",
    "      print(\"\\n정확도 95%에 도달하여 훈련을 멈춥니다!\")\n",
    "      self.model.stop_training = True"
   ]
  },
  {
   "cell_type": "code",
   "execution_count": 8,
   "id": "6348f766",
   "metadata": {},
   "outputs": [],
   "source": [
    "callbacks = myCallback()"
   ]
  },
  {
   "cell_type": "code",
   "execution_count": 9,
   "id": "d2599299",
   "metadata": {},
   "outputs": [],
   "source": [
    "model.compile(optimizer='adam', \n",
    "               loss='sparse_categorical_crossentropy', \n",
    "               metrics=['accuracy'])"
   ]
  },
  {
   "cell_type": "code",
   "execution_count": 10,
   "id": "121ff542",
   "metadata": {},
   "outputs": [
    {
     "name": "stdout",
     "output_type": "stream",
     "text": [
      "Epoch 1/50\n",
      "1875/1875 [==============================] - 2s 733us/step - loss: 0.2834 - accuracy: 0.8959\n",
      "Epoch 2/50\n",
      "1875/1875 [==============================] - 1s 730us/step - loss: 0.2694 - accuracy: 0.8999\n",
      "Epoch 3/50\n",
      "1875/1875 [==============================] - 1s 789us/step - loss: 0.2606 - accuracy: 0.9026\n",
      "Epoch 4/50\n",
      "1875/1875 [==============================] - 1s 717us/step - loss: 0.2486 - accuracy: 0.9079\n",
      "Epoch 5/50\n",
      "1875/1875 [==============================] - 1s 777us/step - loss: 0.2418 - accuracy: 0.9100\n",
      "Epoch 6/50\n",
      "1875/1875 [==============================] - 1s 736us/step - loss: 0.2344 - accuracy: 0.9119\n",
      "Epoch 7/50\n",
      "1875/1875 [==============================] - 1s 772us/step - loss: 0.2262 - accuracy: 0.9151\n",
      "Epoch 8/50\n",
      "1875/1875 [==============================] - 1s 720us/step - loss: 0.2182 - accuracy: 0.9184\n",
      "Epoch 9/50\n",
      "1875/1875 [==============================] - 1s 781us/step - loss: 0.2120 - accuracy: 0.9213\n",
      "Epoch 10/50\n",
      "1875/1875 [==============================] - 2s 813us/step - loss: 0.2062 - accuracy: 0.9225\n",
      "Epoch 11/50\n",
      "1875/1875 [==============================] - 1s 732us/step - loss: 0.1993 - accuracy: 0.9252\n",
      "Epoch 12/50\n",
      "1875/1875 [==============================] - 1s 732us/step - loss: 0.1948 - accuracy: 0.9269\n",
      "Epoch 13/50\n",
      "1875/1875 [==============================] - 1s 745us/step - loss: 0.1887 - accuracy: 0.9289\n",
      "Epoch 14/50\n",
      "1875/1875 [==============================] - 2s 835us/step - loss: 0.1845 - accuracy: 0.9309\n",
      "Epoch 15/50\n",
      "1875/1875 [==============================] - 2s 865us/step - loss: 0.1778 - accuracy: 0.9344\n",
      "Epoch 16/50\n",
      "1875/1875 [==============================] - 1s 772us/step - loss: 0.1760 - accuracy: 0.9345\n",
      "Epoch 17/50\n",
      "1875/1875 [==============================] - 2s 862us/step - loss: 0.1711 - accuracy: 0.9361\n",
      "Epoch 18/50\n",
      "1875/1875 [==============================] - 2s 846us/step - loss: 0.1673 - accuracy: 0.9373\n",
      "Epoch 19/50\n",
      "1875/1875 [==============================] - 1s 796us/step - loss: 0.1621 - accuracy: 0.9389\n",
      "Epoch 20/50\n",
      "1875/1875 [==============================] - 2s 809us/step - loss: 0.1594 - accuracy: 0.9397\n",
      "Epoch 21/50\n",
      "1875/1875 [==============================] - 1s 796us/step - loss: 0.1574 - accuracy: 0.9399\n",
      "Epoch 22/50\n",
      "1875/1875 [==============================] - 2s 808us/step - loss: 0.1527 - accuracy: 0.9421\n",
      "Epoch 23/50\n",
      "1875/1875 [==============================] - 2s 841us/step - loss: 0.1488 - accuracy: 0.9445\n",
      "Epoch 24/50\n",
      "1875/1875 [==============================] - 2s 843us/step - loss: 0.1462 - accuracy: 0.9456\n",
      "Epoch 25/50\n",
      "1875/1875 [==============================] - 2s 924us/step - loss: 0.1429 - accuracy: 0.9470\n",
      "Epoch 26/50\n",
      "1875/1875 [==============================] - 1s 796us/step - loss: 0.1410 - accuracy: 0.9471\n",
      "Epoch 27/50\n",
      "1875/1875 [==============================] - 1s 760us/step - loss: 0.1369 - accuracy: 0.9492\n",
      "Epoch 28/50\n",
      "1875/1875 [==============================] - 1s 789us/step - loss: 0.1335 - accuracy: 0.9493\n",
      "Epoch 29/50\n",
      "1812/1875 [===========================>..] - ETA: 0s - loss: 0.1336 - accuracy: 0.9505\n",
      "정확도 95%에 도달하여 훈련을 멈춥니다!\n",
      "1875/1875 [==============================] - 1s 777us/step - loss: 0.1337 - accuracy: 0.9505\n"
     ]
    },
    {
     "data": {
      "text/plain": [
       "<keras.callbacks.History at 0x7fe8d8324630>"
      ]
     },
     "execution_count": 10,
     "metadata": {},
     "output_type": "execute_result"
    }
   ],
   "source": [
    "model.fit(training_images, training_labels, epochs=50, \n",
    "          callbacks=[callbacks])"
   ]
  }
 ],
 "metadata": {
  "kernelspec": {
   "display_name": "Python 3 (ipykernel)",
   "language": "python",
   "name": "python3"
  },
  "language_info": {
   "codemirror_mode": {
    "name": "ipython",
    "version": 3
   },
   "file_extension": ".py",
   "mimetype": "text/x-python",
   "name": "python",
   "nbconvert_exporter": "python",
   "pygments_lexer": "ipython3",
   "version": "3.7.3"
  }
 },
 "nbformat": 4,
 "nbformat_minor": 5
}
